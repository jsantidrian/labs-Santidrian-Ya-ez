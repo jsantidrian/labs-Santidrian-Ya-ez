{
  "cells": [
    {
      "cell_type": "markdown",
      "source": [
        "<h1><center>Laboratorio 7: La desperación de Mr. Lepin 🐼</center></h1>\n",
        "\n",
        "<center><strong>MDS7202: Laboratorio de Programación Científica para Ciencia de Datos</strong></center>"
      ],
      "metadata": {
        "id": "XUZ1dFPHzAHl",
        "cell_id": "8dd9b572c805487a9fb430fdc4ab12bb",
        "deepnote_cell_height": 156.26666259765625,
        "deepnote_cell_type": "markdown"
      }
    },
    {
      "cell_type": "markdown",
      "source": [
        "### Cuerpo Docente:\n",
        "\n",
        "- Profesor: Pablo Badilla, Ignacio Meza\n",
        "- Auxiliar: Sebastián Tinoco\n",
        "- Ayudante: Felipe Arias, Diego Cortez"
      ],
      "metadata": {
        "id": "UD8X1uhGzAHq",
        "cell_id": "d65413cd8566460dbceffcd13ca236e7",
        "deepnote_cell_type": "markdown"
      }
    },
    {
      "cell_type": "markdown",
      "source": [
        "### Equipo: SUPER IMPORTANTE - notebooks sin nombre no serán revisados\n",
        "\n",
        "- Nombre de alumno 1: Javier Santidrián Salas\n",
        "- Nombre de alumno 2: Patricio Yáñez Alarcón\n"
      ],
      "metadata": {
        "id": "tXflExjqzAHr",
        "cell_id": "8e9217d02d124830a9b86046600a1605",
        "deepnote_cell_height": 172.13333129882812,
        "deepnote_cell_type": "markdown"
      }
    },
    {
      "cell_type": "markdown",
      "source": [
        "### **Link de repositorio de GitHub:** https://github.com/jsantidrian/labs-Santidrian-Yanez"
      ],
      "metadata": {
        "id": "AD-V0bbZzAHr",
        "cell_id": "010402b6d5f743b885a80d2e1c6ae11a",
        "deepnote_cell_height": 62.19999694824219,
        "deepnote_cell_type": "markdown"
      }
    },
    {
      "cell_type": "markdown",
      "source": [
        "### Indice \n",
        "\n",
        "1. [Temas a tratar](#Temas-a-tratar:)\n",
        "3. [Descripción del laboratorio](#Descripción-del-laboratorio.)\n",
        "4. [Desarrollo](#Desarrollo)"
      ],
      "metadata": {
        "id": "EcnsiQMkzAHr",
        "cell_id": "3abfe63b97c946e5ba1d4061b08e7913",
        "deepnote_cell_height": 165.06666564941406,
        "deepnote_cell_type": "markdown"
      }
    },
    {
      "cell_type": "markdown",
      "source": [
        "# Temas a tratar\n",
        "\n",
        "- Aplicar Pandas para obtener características de un DataFrame.\n",
        "- Aplicar Pipelines.\n",
        "- Aplicar Clusters sobre un conjunto de datos.\n",
        "\n",
        "## Reglas:\n",
        "\n",
        "- **Grupos de 2 personas**\n",
        "- Asistencia **obligatoria** a instrucciones del lab (viernes 16.15). Luego, pueden quedarse trabajando en las salas o irse.\n",
        "- **No se revisarán entregas de personas ausentes**. \n",
        "- Cualquier duda fuera del horario de clases al foro. Mensajes al equipo docente serán respondidos por este medio.\n",
        "- Prohibidas las copias. \n",
        "- Pueden usar cualquer matrial del curso que estimen conveniente.\n",
        "- Código que no se pueda ejecutar, no será revisado.\n",
        "\n",
        "### Objetivos principales del laboratorio\n",
        "\n",
        "- Comprender y aprovechar las ventajas que nos ofrece la librería `pandas` con respecto a trabajar en Python 'puro'.\n",
        "- Crear nuevas características para entrenar un modelo de clustering.\n",
        "- Comprender como aplicar pipelines de Scikit-Learn para generar procesos más limpios.\n",
        "\n",
        "El laboratorio deberá ser desarrollado sin el uso indiscriminado de iteradores nativos de python (aka \"for\", \"while\"). La idea es que aprendan a exprimir al máximo las funciones optimizadas que nos entrega `numpy`, las cuales vale mencionar, son bastante más eficientes que los iteradores nativos sobre arreglos (*o tensores*)."
      ],
      "metadata": {
        "id": "6uBLPj1PzAHs",
        "cell_id": "ef0224c7a99e4b718b55493b0a1e99c4",
        "deepnote_cell_height": 724.9000244140625,
        "deepnote_cell_type": "markdown"
      }
    },
    {
      "cell_type": "markdown",
      "source": [
        "## Descripción del laboratorio."
      ],
      "metadata": {
        "id": "wrG4gYabzAHs",
        "cell_id": "59664481c26f4ac4a753765269b1db6a",
        "deepnote_cell_height": 69.86666870117188,
        "deepnote_cell_type": "markdown"
      }
    },
    {
      "cell_type": "markdown",
      "source": [
        "### Importamos librerias utiles 😸"
      ],
      "metadata": {
        "id": "MhISwri4zAHy",
        "cell_id": "8c7bf8ea553d44c7a2efd61106a0bac2",
        "deepnote_cell_height": 61.866668701171875,
        "deepnote_cell_type": "markdown"
      }
    },
    {
      "cell_type": "code",
      "source": [
        "# Libreria Core del lab.\n",
        "import numpy as np\n",
        "import pandas as pd\n",
        "import datetime\n",
        "from IPython.display import HTML\n",
        "\n",
        "# Libreria para plotear (En colab esta desactualizado plotly)\n",
        "!pip install --upgrade plotly\n",
        "import plotly.express as px\n",
        "import plotly.graph_objects as go\n",
        "\n",
        "# Librerias utiles\n",
        "from sklearn.manifold import TSNE\n",
        "from sklearn.cluster import KMeans\n",
        "from sklearn.base import BaseEstimator, TransformerMixin\n",
        "from sklearn.model_selection import train_test_split \n",
        "from sklearn.pipeline import Pipeline\n",
        "from sklearn.compose import ColumnTransformer\n",
        "from sklearn.preprocessing import FunctionTransformer"
      ],
      "metadata": {
        "id": "uyc33dKdzAHy",
        "colab": {
          "base_uri": "https://localhost:8080/"
        },
        "cell_id": "67b4b29f0e6b48719b58d579276f2b19",
        "outputId": "2b985f96-1904-4da5-919c-0e82321eb997",
        "ExecuteTime": {
          "end_time": "2021-03-29T00:08:16.884674Z",
          "start_time": "2021-03-29T00:08:16.349846Z"
        },
        "source_hash": "a3741fd5",
        "execution_start": 1635469788590,
        "execution_millis": 8517,
        "deepnote_cell_height": 514.13330078125,
        "deepnote_to_be_reexecuted": false,
        "deepnote_cell_type": "code"
      },
      "outputs": [
        {
          "output_type": "stream",
          "name": "stdout",
          "text": [
            "Looking in indexes: https://pypi.org/simple, https://us-python.pkg.dev/colab-wheels/public/simple/\n",
            "Requirement already satisfied: plotly in /usr/local/lib/python3.10/dist-packages (5.13.1)\n",
            "Collecting plotly\n",
            "  Downloading plotly-5.14.1-py2.py3-none-any.whl (15.3 MB)\n",
            "\u001b[2K     \u001b[90m━━━━━━━━━━━━━━━━━━━━━━━━━━━━━━━━━━━━━━━━\u001b[0m \u001b[32m15.3/15.3 MB\u001b[0m \u001b[31m45.3 MB/s\u001b[0m eta \u001b[36m0:00:00\u001b[0m\n",
            "\u001b[?25hRequirement already satisfied: tenacity>=6.2.0 in /usr/local/lib/python3.10/dist-packages (from plotly) (8.2.2)\n",
            "Requirement already satisfied: packaging in /usr/local/lib/python3.10/dist-packages (from plotly) (23.1)\n",
            "Installing collected packages: plotly\n",
            "  Attempting uninstall: plotly\n",
            "    Found existing installation: plotly 5.13.1\n",
            "    Uninstalling plotly-5.13.1:\n",
            "      Successfully uninstalled plotly-5.13.1\n",
            "Successfully installed plotly-5.14.1\n"
          ]
        }
      ],
      "execution_count": 1
    },
    {
      "cell_type": "code",
      "source": [
        "# Si usted está utilizando Colabolatory le puede ser útil este código para cargar los archivos.\n",
        "try:\n",
        "    from google.colab import drive\n",
        "    drive.mount(\"/content/drive\")\n",
        "    path = 'Dirección donde tiene los archivos en el Drive'\n",
        "except: \n",
        "    print('Ignorando conexión drive-colab')"
      ],
      "metadata": {
        "id": "gQ0-zPV4NNrq",
        "cell_id": "ce6a19ec6fc6486e832760ac3740d7ef",
        "source_hash": "c60dc4a7",
        "execution_start": 1635165625274,
        "execution_millis": 7,
        "deepnote_cell_height": 219.46665954589844,
        "deepnote_to_be_reexecuted": false,
        "deepnote_cell_type": "code",
        "outputId": "07dceecd-9e6d-4fd6-e3a9-2e6eefd2db05",
        "colab": {
          "base_uri": "https://localhost:8080/"
        }
      },
      "outputs": [
        {
          "output_type": "stream",
          "name": "stdout",
          "text": [
            "Mounted at /content/drive\n"
          ]
        }
      ],
      "execution_count": 2
    },
    {
      "cell_type": "markdown",
      "source": [
        "# Segmentación de Clientes en Tienda de Retail 🛍️"
      ],
      "metadata": {
        "id": "QDwIXTh7bK_A",
        "cell_id": "28c7a8b483d84878ac5a4f7ba882b711",
        "owner_user_id": "badcc427-fd3d-4615-9296-faa43ec69cfb",
        "deepnote_cell_height": 133.86666870117188,
        "deepnote_cell_type": "markdown"
      }
    },
    {
      "cell_type": "markdown",
      "source": [
        "<p align=\"center\">\n",
        "  <img width=300 src=\"https://s1.eestatic.com/2018/04/14/social/la_jungla_-_social_299733421_73842361_854x640.jpg\">\n",
        "</p>"
      ],
      "metadata": {
        "tags": [],
        "cell_id": "6c6799ecc9e74272922d46a3b5a8b79e",
        "deepnote_cell_height": 294.683349609375,
        "deepnote_cell_type": "markdown",
        "id": "qTAPi7OgZIdk"
      }
    },
    {
      "cell_type": "markdown",
      "source": [
        "## 1.1 Cargar Dataset"
      ],
      "metadata": {
        "tags": [],
        "cell_id": "160bb2695f6547448bfb0f99420f952c",
        "deepnote_cell_height": 69.86666870117188,
        "deepnote_cell_type": "markdown",
        "id": "U0etl-3SZIdl"
      }
    },
    {
      "cell_type": "markdown",
      "source": [
        "Mr. Lepin, en una nueva reunión, le cuenta a ud y su equipo que los resultados derivados del análisis exploratorio de dato presentaron una gran utilidad para la empresa y que tiene un gran entusiasmo por continuar trabajando con ustedes.\n",
        "Es por esto, que Mr. Lepin les pide que cargue y visualicen algunas de las filas que componen el Dataset.\n",
        "A continuación un extracto de lo parlamentado en la reunión:\n",
        "\n",
        "    - Usted: Es un gran logro para nuestro equipo que usted haya encontrado excelente el EDA. ¿Qué tiene en mente ahora?\n",
        "    - Mr. Lepin: Resulta que hace algún tiempo, mientras tomaba un mojito en una reunión de gerentes en Panamá, oí a un *chato* acerca de **LRMFP**, que es un modelo que permite personificar a los clientes a través de la fabricación de distintos atributos que describen a los clientes. Lo encontré es-tu-pendo ñatito. \n",
        "    - Usted: Ehh bueno. Investigaremos acerca de este modelo y veremos lo que podemos hacer.\n",
        "\n",
        "Por ende, su siguiente tarea es calcular **LRMFP** sobre cada cliente y luego hacer un análisis de las características generadas. Para esto, el área de ventas les entrega un nuevo archivo llamado `online_retail_II_cleaned.pickle`, quien posee los datos del DataFrame original limpios y listos para obtener las características solicitadas por Mr. Lepin."
      ],
      "metadata": {
        "tags": [],
        "cell_id": "48d29c89e3b6455083f8fac764f97f3b",
        "deepnote_cell_height": 475.066650390625,
        "deepnote_cell_type": "markdown",
        "id": "XcxhykibZIdl"
      }
    },
    {
      "cell_type": "code",
      "source": [
        "df_retail = pd.read_pickle(\"/content/drive/My Drive/U/11 Semestre/Lab Progra/Labs/Lab 7/online_retail_II_cleaned.pickle\")\n",
        "df_retail = df_retail.astype(\n",
        "    {\n",
        "        \"Invoice\": \"category\",\n",
        "        \"StockCode\": \"category\",\n",
        "        \"Description\": \"category\",\n",
        "        \"Description\": str,\n",
        "        \"Customer ID\": \"category\",\n",
        "        \"Country\": \"category\"\n",
        "    }\n",
        ")\n",
        "df_retail.head()\n"
      ],
      "metadata": {
        "id": "7FNOu-CvjV5m",
        "colab": {
          "height": 206,
          "base_uri": "https://localhost:8080/"
        },
        "cell_id": "4d7d0f0855744e6c9d5a2198e5dcd690",
        "outputId": "f912d9b9-babb-4d7e-c0f0-57724de794a8",
        "source_hash": "d52b246c",
        "execution_start": 1635469797118,
        "execution_millis": 466,
        "deepnote_cell_height": 489.79998779296875,
        "deepnote_output_heights": [
          177
        ],
        "deepnote_to_be_reexecuted": false,
        "deepnote_cell_type": "code"
      },
      "outputs": [
        {
          "output_type": "execute_result",
          "data": {
            "text/plain": [
              "  Invoice StockCode                          Description  Quantity  \\\n",
              "0  489434     85048  15CM CHRISTMAS GLASS BALL 20 LIGHTS        12   \n",
              "1  489434    79323P                   PINK CHERRY LIGHTS        12   \n",
              "2  489434    79323W                  WHITE CHERRY LIGHTS        12   \n",
              "3  489434     22041         RECORD FRAME 7\" SINGLE SIZE         48   \n",
              "4  489434     21232       STRAWBERRY CERAMIC TRINKET BOX        24   \n",
              "\n",
              "          InvoiceDate  Price Customer ID         Country  \n",
              "0 2009-12-01 07:45:00   6.95     13085.0  United Kingdom  \n",
              "1 2009-12-01 07:45:00   6.75     13085.0  United Kingdom  \n",
              "2 2009-12-01 07:45:00   6.75     13085.0  United Kingdom  \n",
              "3 2009-12-01 07:45:00   2.10     13085.0  United Kingdom  \n",
              "4 2009-12-01 07:45:00   1.25     13085.0  United Kingdom  "
            ],
            "text/html": [
              "\n",
              "  <div id=\"df-bee9d9ff-94fe-49ec-995a-c094947929e0\">\n",
              "    <div class=\"colab-df-container\">\n",
              "      <div>\n",
              "<style scoped>\n",
              "    .dataframe tbody tr th:only-of-type {\n",
              "        vertical-align: middle;\n",
              "    }\n",
              "\n",
              "    .dataframe tbody tr th {\n",
              "        vertical-align: top;\n",
              "    }\n",
              "\n",
              "    .dataframe thead th {\n",
              "        text-align: right;\n",
              "    }\n",
              "</style>\n",
              "<table border=\"1\" class=\"dataframe\">\n",
              "  <thead>\n",
              "    <tr style=\"text-align: right;\">\n",
              "      <th></th>\n",
              "      <th>Invoice</th>\n",
              "      <th>StockCode</th>\n",
              "      <th>Description</th>\n",
              "      <th>Quantity</th>\n",
              "      <th>InvoiceDate</th>\n",
              "      <th>Price</th>\n",
              "      <th>Customer ID</th>\n",
              "      <th>Country</th>\n",
              "    </tr>\n",
              "  </thead>\n",
              "  <tbody>\n",
              "    <tr>\n",
              "      <th>0</th>\n",
              "      <td>489434</td>\n",
              "      <td>85048</td>\n",
              "      <td>15CM CHRISTMAS GLASS BALL 20 LIGHTS</td>\n",
              "      <td>12</td>\n",
              "      <td>2009-12-01 07:45:00</td>\n",
              "      <td>6.95</td>\n",
              "      <td>13085.0</td>\n",
              "      <td>United Kingdom</td>\n",
              "    </tr>\n",
              "    <tr>\n",
              "      <th>1</th>\n",
              "      <td>489434</td>\n",
              "      <td>79323P</td>\n",
              "      <td>PINK CHERRY LIGHTS</td>\n",
              "      <td>12</td>\n",
              "      <td>2009-12-01 07:45:00</td>\n",
              "      <td>6.75</td>\n",
              "      <td>13085.0</td>\n",
              "      <td>United Kingdom</td>\n",
              "    </tr>\n",
              "    <tr>\n",
              "      <th>2</th>\n",
              "      <td>489434</td>\n",
              "      <td>79323W</td>\n",
              "      <td>WHITE CHERRY LIGHTS</td>\n",
              "      <td>12</td>\n",
              "      <td>2009-12-01 07:45:00</td>\n",
              "      <td>6.75</td>\n",
              "      <td>13085.0</td>\n",
              "      <td>United Kingdom</td>\n",
              "    </tr>\n",
              "    <tr>\n",
              "      <th>3</th>\n",
              "      <td>489434</td>\n",
              "      <td>22041</td>\n",
              "      <td>RECORD FRAME 7\" SINGLE SIZE</td>\n",
              "      <td>48</td>\n",
              "      <td>2009-12-01 07:45:00</td>\n",
              "      <td>2.10</td>\n",
              "      <td>13085.0</td>\n",
              "      <td>United Kingdom</td>\n",
              "    </tr>\n",
              "    <tr>\n",
              "      <th>4</th>\n",
              "      <td>489434</td>\n",
              "      <td>21232</td>\n",
              "      <td>STRAWBERRY CERAMIC TRINKET BOX</td>\n",
              "      <td>24</td>\n",
              "      <td>2009-12-01 07:45:00</td>\n",
              "      <td>1.25</td>\n",
              "      <td>13085.0</td>\n",
              "      <td>United Kingdom</td>\n",
              "    </tr>\n",
              "  </tbody>\n",
              "</table>\n",
              "</div>\n",
              "      <button class=\"colab-df-convert\" onclick=\"convertToInteractive('df-bee9d9ff-94fe-49ec-995a-c094947929e0')\"\n",
              "              title=\"Convert this dataframe to an interactive table.\"\n",
              "              style=\"display:none;\">\n",
              "        \n",
              "  <svg xmlns=\"http://www.w3.org/2000/svg\" height=\"24px\"viewBox=\"0 0 24 24\"\n",
              "       width=\"24px\">\n",
              "    <path d=\"M0 0h24v24H0V0z\" fill=\"none\"/>\n",
              "    <path d=\"M18.56 5.44l.94 2.06.94-2.06 2.06-.94-2.06-.94-.94-2.06-.94 2.06-2.06.94zm-11 1L8.5 8.5l.94-2.06 2.06-.94-2.06-.94L8.5 2.5l-.94 2.06-2.06.94zm10 10l.94 2.06.94-2.06 2.06-.94-2.06-.94-.94-2.06-.94 2.06-2.06.94z\"/><path d=\"M17.41 7.96l-1.37-1.37c-.4-.4-.92-.59-1.43-.59-.52 0-1.04.2-1.43.59L10.3 9.45l-7.72 7.72c-.78.78-.78 2.05 0 2.83L4 21.41c.39.39.9.59 1.41.59.51 0 1.02-.2 1.41-.59l7.78-7.78 2.81-2.81c.8-.78.8-2.07 0-2.86zM5.41 20L4 18.59l7.72-7.72 1.47 1.35L5.41 20z\"/>\n",
              "  </svg>\n",
              "      </button>\n",
              "      \n",
              "  <style>\n",
              "    .colab-df-container {\n",
              "      display:flex;\n",
              "      flex-wrap:wrap;\n",
              "      gap: 12px;\n",
              "    }\n",
              "\n",
              "    .colab-df-convert {\n",
              "      background-color: #E8F0FE;\n",
              "      border: none;\n",
              "      border-radius: 50%;\n",
              "      cursor: pointer;\n",
              "      display: none;\n",
              "      fill: #1967D2;\n",
              "      height: 32px;\n",
              "      padding: 0 0 0 0;\n",
              "      width: 32px;\n",
              "    }\n",
              "\n",
              "    .colab-df-convert:hover {\n",
              "      background-color: #E2EBFA;\n",
              "      box-shadow: 0px 1px 2px rgba(60, 64, 67, 0.3), 0px 1px 3px 1px rgba(60, 64, 67, 0.15);\n",
              "      fill: #174EA6;\n",
              "    }\n",
              "\n",
              "    [theme=dark] .colab-df-convert {\n",
              "      background-color: #3B4455;\n",
              "      fill: #D2E3FC;\n",
              "    }\n",
              "\n",
              "    [theme=dark] .colab-df-convert:hover {\n",
              "      background-color: #434B5C;\n",
              "      box-shadow: 0px 1px 3px 1px rgba(0, 0, 0, 0.15);\n",
              "      filter: drop-shadow(0px 1px 2px rgba(0, 0, 0, 0.3));\n",
              "      fill: #FFFFFF;\n",
              "    }\n",
              "  </style>\n",
              "\n",
              "      <script>\n",
              "        const buttonEl =\n",
              "          document.querySelector('#df-bee9d9ff-94fe-49ec-995a-c094947929e0 button.colab-df-convert');\n",
              "        buttonEl.style.display =\n",
              "          google.colab.kernel.accessAllowed ? 'block' : 'none';\n",
              "\n",
              "        async function convertToInteractive(key) {\n",
              "          const element = document.querySelector('#df-bee9d9ff-94fe-49ec-995a-c094947929e0');\n",
              "          const dataTable =\n",
              "            await google.colab.kernel.invokeFunction('convertToInteractive',\n",
              "                                                     [key], {});\n",
              "          if (!dataTable) return;\n",
              "\n",
              "          const docLinkHtml = 'Like what you see? Visit the ' +\n",
              "            '<a target=\"_blank\" href=https://colab.research.google.com/notebooks/data_table.ipynb>data table notebook</a>'\n",
              "            + ' to learn more about interactive tables.';\n",
              "          element.innerHTML = '';\n",
              "          dataTable['output_type'] = 'display_data';\n",
              "          await google.colab.output.renderOutput(dataTable, element);\n",
              "          const docLink = document.createElement('div');\n",
              "          docLink.innerHTML = docLinkHtml;\n",
              "          element.appendChild(docLink);\n",
              "        }\n",
              "      </script>\n",
              "    </div>\n",
              "  </div>\n",
              "  "
            ]
          },
          "metadata": {},
          "execution_count": 3
        }
      ],
      "execution_count": 3
    },
    {
      "cell_type": "markdown",
      "source": [
        "## 1.2 Creación de nuevas Caracteristicas [2 Puntos] "
      ],
      "metadata": {
        "tags": [],
        "cell_id": "060e1885d93d4325a313fded82de1921",
        "deepnote_cell_height": 109.86666870117188,
        "deepnote_cell_type": "markdown",
        "id": "T79yQ79aZIdn"
      }
    },
    {
      "cell_type": "markdown",
      "source": [
        "Como ya se les comento, Mr. Lepin esta interesado en obtener las características **LRMFP**, para esto les señala que estas características se construyen en base a las siguientes definiciones:\n",
        "\n",
        "- **Length (L)**: Intervalo de tiempo, en días, entre la primera y la última visita del cliente. Mientras mas grande sea el valor, mas fiel es el cliente.\n",
        "\n",
        "- **Recency (R)**: Indica hace cuanto tiempo el cliente realizo su ultima compra. Notar que para este caso, mientras mas grande es el valor, menos interes posee el usuario para repetir una compra en uno de los locales.\n",
        "\n",
        "- **Monetary (M)**: El término \"monetario\" se refiere a la cantidad media de dinero gastada por cada visita del cliente durante el período de observación y refleja la contribución del cliente a los ingresos de la empresa.\n",
        "\n",
        "- **Frequency (F)**: Se refiere al número total de visitas del cliente durante el periodo de observación. Cuanto mayor sea la frecuencia, mayor será la fidelidad del cliente. \n",
        "\n",
        "- **Periodicity (P)**: Representa si los clientes visitan las tiendas con regularidad.\n",
        "\n",
        "$$Periodicity(n)=std(IVT_1, ..., IVT_n)$$\n",
        "\n",
        "&nbsp;&nbsp; &nbsp;&nbsp;&nbsp;&nbsp;&nbsp;&nbsp;Donde $IVT$ denota el tiempo entre visitas y n representa el número de valores de tiempo entre visitas de un cliente.\n",
        " \n",
        "\n",
        "$$IVT_i=date\\_diff(t_{i+1},t)$$\n",
        "\n",
        "En base a las definiciones señaladas, diseñe una función que permita obtener las características **LRMFP** recibiendo un DataFrame como entrada. Para esto, no estará permitido el uso de iteradores, utilice todas las herramientas que les ofrece `pandas` para realizar esto.\n",
        "\n",
        "Una referencia que le puede ser útil es el [documento original](https://www.researchgate.net/publication/315979555_LRFMP_model_for_customer_segmentation_in_the_grocery_retail_industry_a_case_study) en donde se propone este método."
      ],
      "metadata": {
        "tags": [],
        "cell_id": "e650f364c9c64b079603f6d9312d2d13",
        "deepnote_cell_height": 862.933349609375,
        "deepnote_cell_type": "markdown",
        "id": "jt64JPTWZIdn"
      }
    },
    {
      "cell_type": "markdown",
      "source": [
        "**Respuesta:**"
      ],
      "metadata": {
        "tags": [],
        "cell_id": "3c7f8a4a06a44cbd8d50e8a4decf4c71",
        "deepnote_cell_height": 52.26666259765625,
        "deepnote_cell_type": "markdown",
        "id": "GQIXqZgwZIdp"
      }
    },
    {
      "cell_type": "code",
      "source": [
        "from datetime import datetime"
      ],
      "metadata": {
        "id": "3Mcavc3OmbZj"
      },
      "execution_count": 4,
      "outputs": []
    },
    {
      "cell_type": "code",
      "source": [
        "def custom_features(dataframe_in):\n",
        "  \n",
        "  # Agrupamos por cliente (Customer ID)\n",
        "  clientes = dataframe_in.groupby('Customer ID')\n",
        "\n",
        "  # Length (L)\n",
        "  length = (\n",
        "      (clientes['InvoiceDate'].max() - clientes['InvoiceDate'].min())\n",
        "      .dt.days\n",
        "      .reset_index()\n",
        "  )\n",
        "  length.rename(columns={'InvoiceDate':'Length'},inplace=True)\n",
        "\n",
        "  # Recency (R)\n",
        "  recency = (\n",
        "      (datetime.now() - clientes['InvoiceDate'].max())\n",
        "      .dt.days\n",
        "      .reset_index()\n",
        "  )\n",
        "  recency.rename(columns={'InvoiceDate':'Recency'},inplace=True)\n",
        "\n",
        "  # Monetary (M)\n",
        "  dataframe_in['Revenue'] = dataframe_in['Price'] * dataframe_in['Quantity']\n",
        "  monetary = (\n",
        "      round(clientes['Revenue'].mean(),2).reset_index()\n",
        "  )\n",
        "  monetary.rename(columns={'Revenue':'Monetary'},inplace=True)\n",
        "  dataframe_in.drop('Revenue',axis=1,inplace=True)\n",
        "\n",
        "  # Frecuency (F)\n",
        "  frecuency = (\n",
        "    clientes['InvoiceDate'].count().reset_index()\n",
        "  )\n",
        "  frecuency.rename(columns={'InvoiceDate':'Frecuency'},inplace=True)\n",
        "\n",
        "  # Periodicity (P)\n",
        "  dataframe_in['Diferencias'] = clientes['InvoiceDate'].diff().dt.days\n",
        "  periodicity = (\n",
        "      round(clientes['Diferencias'].std(),0).reset_index()\n",
        "  )\n",
        "  periodicity.rename(columns={'Diferencias':'Periodicity'},inplace=True)\n",
        "  dataframe_in.drop('Diferencias',axis=1,inplace=True)\n",
        "                                                                                                    \n",
        "  # LRMFP\n",
        "  lrmfp = (\n",
        "      pd.merge(length,recency,on='Customer ID')\n",
        "      .merge(monetary,on='Customer ID')\n",
        "      .merge(frecuency,on='Customer ID')\n",
        "      .merge(periodicity,on='Customer ID')\n",
        "  )\n",
        "\n",
        "  # Dropeamos valores NaN para poder operar la data más adelante\n",
        "  lrmfp.dropna(inplace=True)\n",
        "\n",
        "  return lrmfp"
      ],
      "metadata": {
        "tags": [],
        "cell_id": "39a8b98eacdc43a4bdfeaa138b746198",
        "owner_user_id": "8c58f50a-7a08-41a2-952e-38bdb7507048",
        "deepnote_cell_height": 83.86666870117188,
        "deepnote_cell_type": "code",
        "id": "Sm2LrUBYZIdp"
      },
      "outputs": [],
      "execution_count": 5
    },
    {
      "cell_type": "markdown",
      "source": [
        "**Resúesta de Pauta:**"
      ],
      "metadata": {
        "tags": [],
        "cell_id": "e227578abc624b36bedcf300ab03dec3",
        "deepnote_cell_height": 52.26666259765625,
        "deepnote_cell_type": "markdown",
        "id": "-BljRdTYZIdq"
      }
    },
    {
      "cell_type": "code",
      "source": [
        "custom_features(df_retail)"
      ],
      "metadata": {
        "colab": {
          "base_uri": "https://localhost:8080/",
          "height": 423
        },
        "id": "hxCdx7-K9bku",
        "outputId": "8fd2227f-456a-45b3-87f9-d2e56ae96391"
      },
      "execution_count": 6,
      "outputs": [
        {
          "output_type": "execute_result",
          "data": {
            "text/plain": [
              "     Customer ID  Length  Recency  Monetary  Frecuency  Periodicity\n",
              "0        12346.0     196     4720     11.30         33         22.0\n",
              "1        12347.0      37     4558     18.64         71          4.0\n",
              "2        12348.0       0     4629     11.11         20          0.0\n",
              "3        12349.0     181     4598     26.19        102         16.0\n",
              "4        12351.0       0     4566     14.33         21          0.0\n",
              "...          ...     ...      ...       ...        ...          ...\n",
              "4309     18283.0     275     4573      2.85        217         12.0\n",
              "4310     18284.0       0     4622     16.49         28          0.0\n",
              "4311     18285.0       0     4851     35.58         12          0.0\n",
              "4312     18286.0     247     4667     19.35         67         30.0\n",
              "4313     18287.0     188     4573     27.60         85         15.0\n",
              "\n",
              "[4166 rows x 6 columns]"
            ],
            "text/html": [
              "\n",
              "  <div id=\"df-0231dbea-124c-4b14-8e89-b978765e81a6\">\n",
              "    <div class=\"colab-df-container\">\n",
              "      <div>\n",
              "<style scoped>\n",
              "    .dataframe tbody tr th:only-of-type {\n",
              "        vertical-align: middle;\n",
              "    }\n",
              "\n",
              "    .dataframe tbody tr th {\n",
              "        vertical-align: top;\n",
              "    }\n",
              "\n",
              "    .dataframe thead th {\n",
              "        text-align: right;\n",
              "    }\n",
              "</style>\n",
              "<table border=\"1\" class=\"dataframe\">\n",
              "  <thead>\n",
              "    <tr style=\"text-align: right;\">\n",
              "      <th></th>\n",
              "      <th>Customer ID</th>\n",
              "      <th>Length</th>\n",
              "      <th>Recency</th>\n",
              "      <th>Monetary</th>\n",
              "      <th>Frecuency</th>\n",
              "      <th>Periodicity</th>\n",
              "    </tr>\n",
              "  </thead>\n",
              "  <tbody>\n",
              "    <tr>\n",
              "      <th>0</th>\n",
              "      <td>12346.0</td>\n",
              "      <td>196</td>\n",
              "      <td>4720</td>\n",
              "      <td>11.30</td>\n",
              "      <td>33</td>\n",
              "      <td>22.0</td>\n",
              "    </tr>\n",
              "    <tr>\n",
              "      <th>1</th>\n",
              "      <td>12347.0</td>\n",
              "      <td>37</td>\n",
              "      <td>4558</td>\n",
              "      <td>18.64</td>\n",
              "      <td>71</td>\n",
              "      <td>4.0</td>\n",
              "    </tr>\n",
              "    <tr>\n",
              "      <th>2</th>\n",
              "      <td>12348.0</td>\n",
              "      <td>0</td>\n",
              "      <td>4629</td>\n",
              "      <td>11.11</td>\n",
              "      <td>20</td>\n",
              "      <td>0.0</td>\n",
              "    </tr>\n",
              "    <tr>\n",
              "      <th>3</th>\n",
              "      <td>12349.0</td>\n",
              "      <td>181</td>\n",
              "      <td>4598</td>\n",
              "      <td>26.19</td>\n",
              "      <td>102</td>\n",
              "      <td>16.0</td>\n",
              "    </tr>\n",
              "    <tr>\n",
              "      <th>4</th>\n",
              "      <td>12351.0</td>\n",
              "      <td>0</td>\n",
              "      <td>4566</td>\n",
              "      <td>14.33</td>\n",
              "      <td>21</td>\n",
              "      <td>0.0</td>\n",
              "    </tr>\n",
              "    <tr>\n",
              "      <th>...</th>\n",
              "      <td>...</td>\n",
              "      <td>...</td>\n",
              "      <td>...</td>\n",
              "      <td>...</td>\n",
              "      <td>...</td>\n",
              "      <td>...</td>\n",
              "    </tr>\n",
              "    <tr>\n",
              "      <th>4309</th>\n",
              "      <td>18283.0</td>\n",
              "      <td>275</td>\n",
              "      <td>4573</td>\n",
              "      <td>2.85</td>\n",
              "      <td>217</td>\n",
              "      <td>12.0</td>\n",
              "    </tr>\n",
              "    <tr>\n",
              "      <th>4310</th>\n",
              "      <td>18284.0</td>\n",
              "      <td>0</td>\n",
              "      <td>4622</td>\n",
              "      <td>16.49</td>\n",
              "      <td>28</td>\n",
              "      <td>0.0</td>\n",
              "    </tr>\n",
              "    <tr>\n",
              "      <th>4311</th>\n",
              "      <td>18285.0</td>\n",
              "      <td>0</td>\n",
              "      <td>4851</td>\n",
              "      <td>35.58</td>\n",
              "      <td>12</td>\n",
              "      <td>0.0</td>\n",
              "    </tr>\n",
              "    <tr>\n",
              "      <th>4312</th>\n",
              "      <td>18286.0</td>\n",
              "      <td>247</td>\n",
              "      <td>4667</td>\n",
              "      <td>19.35</td>\n",
              "      <td>67</td>\n",
              "      <td>30.0</td>\n",
              "    </tr>\n",
              "    <tr>\n",
              "      <th>4313</th>\n",
              "      <td>18287.0</td>\n",
              "      <td>188</td>\n",
              "      <td>4573</td>\n",
              "      <td>27.60</td>\n",
              "      <td>85</td>\n",
              "      <td>15.0</td>\n",
              "    </tr>\n",
              "  </tbody>\n",
              "</table>\n",
              "<p>4166 rows × 6 columns</p>\n",
              "</div>\n",
              "      <button class=\"colab-df-convert\" onclick=\"convertToInteractive('df-0231dbea-124c-4b14-8e89-b978765e81a6')\"\n",
              "              title=\"Convert this dataframe to an interactive table.\"\n",
              "              style=\"display:none;\">\n",
              "        \n",
              "  <svg xmlns=\"http://www.w3.org/2000/svg\" height=\"24px\"viewBox=\"0 0 24 24\"\n",
              "       width=\"24px\">\n",
              "    <path d=\"M0 0h24v24H0V0z\" fill=\"none\"/>\n",
              "    <path d=\"M18.56 5.44l.94 2.06.94-2.06 2.06-.94-2.06-.94-.94-2.06-.94 2.06-2.06.94zm-11 1L8.5 8.5l.94-2.06 2.06-.94-2.06-.94L8.5 2.5l-.94 2.06-2.06.94zm10 10l.94 2.06.94-2.06 2.06-.94-2.06-.94-.94-2.06-.94 2.06-2.06.94z\"/><path d=\"M17.41 7.96l-1.37-1.37c-.4-.4-.92-.59-1.43-.59-.52 0-1.04.2-1.43.59L10.3 9.45l-7.72 7.72c-.78.78-.78 2.05 0 2.83L4 21.41c.39.39.9.59 1.41.59.51 0 1.02-.2 1.41-.59l7.78-7.78 2.81-2.81c.8-.78.8-2.07 0-2.86zM5.41 20L4 18.59l7.72-7.72 1.47 1.35L5.41 20z\"/>\n",
              "  </svg>\n",
              "      </button>\n",
              "      \n",
              "  <style>\n",
              "    .colab-df-container {\n",
              "      display:flex;\n",
              "      flex-wrap:wrap;\n",
              "      gap: 12px;\n",
              "    }\n",
              "\n",
              "    .colab-df-convert {\n",
              "      background-color: #E8F0FE;\n",
              "      border: none;\n",
              "      border-radius: 50%;\n",
              "      cursor: pointer;\n",
              "      display: none;\n",
              "      fill: #1967D2;\n",
              "      height: 32px;\n",
              "      padding: 0 0 0 0;\n",
              "      width: 32px;\n",
              "    }\n",
              "\n",
              "    .colab-df-convert:hover {\n",
              "      background-color: #E2EBFA;\n",
              "      box-shadow: 0px 1px 2px rgba(60, 64, 67, 0.3), 0px 1px 3px 1px rgba(60, 64, 67, 0.15);\n",
              "      fill: #174EA6;\n",
              "    }\n",
              "\n",
              "    [theme=dark] .colab-df-convert {\n",
              "      background-color: #3B4455;\n",
              "      fill: #D2E3FC;\n",
              "    }\n",
              "\n",
              "    [theme=dark] .colab-df-convert:hover {\n",
              "      background-color: #434B5C;\n",
              "      box-shadow: 0px 1px 3px 1px rgba(0, 0, 0, 0.15);\n",
              "      filter: drop-shadow(0px 1px 2px rgba(0, 0, 0, 0.3));\n",
              "      fill: #FFFFFF;\n",
              "    }\n",
              "  </style>\n",
              "\n",
              "      <script>\n",
              "        const buttonEl =\n",
              "          document.querySelector('#df-0231dbea-124c-4b14-8e89-b978765e81a6 button.colab-df-convert');\n",
              "        buttonEl.style.display =\n",
              "          google.colab.kernel.accessAllowed ? 'block' : 'none';\n",
              "\n",
              "        async function convertToInteractive(key) {\n",
              "          const element = document.querySelector('#df-0231dbea-124c-4b14-8e89-b978765e81a6');\n",
              "          const dataTable =\n",
              "            await google.colab.kernel.invokeFunction('convertToInteractive',\n",
              "                                                     [key], {});\n",
              "          if (!dataTable) return;\n",
              "\n",
              "          const docLinkHtml = 'Like what you see? Visit the ' +\n",
              "            '<a target=\"_blank\" href=https://colab.research.google.com/notebooks/data_table.ipynb>data table notebook</a>'\n",
              "            + ' to learn more about interactive tables.';\n",
              "          element.innerHTML = '';\n",
              "          dataTable['output_type'] = 'display_data';\n",
              "          await google.colab.output.renderOutput(dataTable, element);\n",
              "          const docLink = document.createElement('div');\n",
              "          docLink.innerHTML = docLinkHtml;\n",
              "          element.appendChild(docLink);\n",
              "        }\n",
              "      </script>\n",
              "    </div>\n",
              "  </div>\n",
              "  "
            ]
          },
          "metadata": {},
          "execution_count": 6
        }
      ]
    },
    {
      "cell_type": "markdown",
      "source": [
        "## 1.3 Pipelines 👷"
      ],
      "metadata": {
        "tags": [],
        "cell_id": "e4adca3e05c741df93087e2a0638ef7d",
        "deepnote_cell_height": 69.86666870117188,
        "deepnote_cell_type": "markdown",
        "id": "Kjd0NTRNZIdq"
      }
    },
    {
      "cell_type": "markdown",
      "source": [
        "Finalmente *Don Mora* le pregunta si seria posible realizar un pipeline para realizar una segmentación de los clientes con los nuevos datos generados, a lo que usted responde que **sí** y propone la utilización de k-means para la segmentación.\n",
        "\n",
        "A continuación siga los pasos requeridos para obtener la segmentación de clientes."
      ],
      "metadata": {
        "tags": [],
        "cell_id": "20e2c59abf64489d8cabc5c230e86fd2",
        "deepnote_cell_height": 133.46665954589844,
        "deepnote_cell_type": "markdown",
        "id": "TXtZA1C7ZIdq"
      }
    },
    {
      "cell_type": "markdown",
      "source": [
        "### 1.3.1 Estandarizar Caracteristicas [0.5 puntos]"
      ],
      "metadata": {
        "tags": [],
        "cell_id": "c6162b8b49a045bba12f9b17b51f21bf",
        "deepnote_cell_height": 61.866668701171875,
        "deepnote_cell_type": "markdown",
        "id": "Voz5RaXVZIdr"
      }
    },
    {
      "cell_type": "markdown",
      "source": [
        "Construya una clase llamada ``MinMax()`` utilizando ``BaseEstimator`` y ``TransformerMixin`` para realizar una transformación de cada una de las columnas de un DataFrame utilizando ``ColumnTransformer()`` más tarde (tome como referencia el siguiente [enlace](https://sklearn-template.readthedocs.io/en/latest/user_guide.html#transformer)).\n",
        "\n",
        "\n",
        " Para esto considere que Min-Max escaler queda dada por la ecuación:\n",
        "\n",
        "$$MinMax = \\dfrac{x-min(x)}{max(x) - min(x)}$$\n",
        "\n",
        "Con esto buscamos que los valores que componen a las columnas se muevan en el rango de valores $[0, 1]$."
      ],
      "metadata": {
        "tags": [],
        "cell_id": "94c48775ecb4496d970fbd920f65c126",
        "deepnote_cell_height": 268.70001220703125,
        "deepnote_cell_type": "markdown",
        "id": "wEtJbz3DZIdr"
      }
    },
    {
      "cell_type": "markdown",
      "source": [
        "**Respuesta:**"
      ],
      "metadata": {
        "tags": [],
        "cell_id": "c087d1fa8aa94d7485fe1292bf628660",
        "deepnote_cell_height": 52.26666259765625,
        "deepnote_cell_type": "markdown",
        "id": "QhiTDp-ZZIds"
      }
    },
    {
      "cell_type": "code",
      "source": [
        "class MinMax(BaseEstimator, TransformerMixin):\n",
        "\n",
        "  def __init__(self):\n",
        "      self.min_vals = None\n",
        "      self.max_vals = None\n",
        "  \n",
        "  def fit(self, X):\n",
        "      self.min_vals = X.min()\n",
        "      self.max_vals = X.max()\n",
        "      return self\n",
        "  \n",
        "  def transform(self, X):\n",
        "      X_transformed = (X - self.min_vals)/(self.max_vals - self.min_vals)\n",
        "      return X_transformed"
      ],
      "metadata": {
        "tags": [],
        "cell_id": "07cb4dcf097c4c6baabb9ae2bda25caf",
        "deepnote_cell_height": 83.86666870117188,
        "deepnote_cell_type": "code",
        "id": "sklRmbemZIds"
      },
      "outputs": [],
      "execution_count": 7
    },
    {
      "cell_type": "markdown",
      "source": [
        "### 1.3.2 `T-SNE` Pipeline [1.0 puntos]"
      ],
      "metadata": {
        "tags": [],
        "cell_id": "b280dbe181ce4d80a6a5b5f563c842e7",
        "deepnote_cell_height": 62.19999694824219,
        "deepnote_cell_type": "markdown",
        "id": "BMz_XwuFZIds"
      }
    },
    {
      "cell_type": "markdown",
      "source": [
        "Para comenzar introduciéndose en el uso de pipeline, decide probar realizando un pipeline enfocado en la reducción de dimensionalidad y así hacer no decepcionar a Mr. Lepin con la clusterización del modelo. \n",
        "\n",
        "Configure un pipeline utilizando el algoritmo `T-SNE` sobre los datos **LRMFP**, donde, para la realización del pipeline considera los siguientes pasos:\n",
        "\n",
        "1. Como primer paso obtenga las características **LRMFP** desde el DataFrame ``df_retail_II_cleaned.pickle`` utilizando la función ``custom_features`` creada anteriormente, junto a ``FunctionTransformer()``. Considere esto como el primer paso de su pipeline.\n",
        "2. En segundo lugar usando ``ColumnTransformer()`` aplique el MinxMax scaler creado por usted sobre todas las columnas generadas en el paso anterior. \n",
        "3. Finalmente, aplique un último paso donde obtiene las 2 componentes más relevantes utilizando el algoritmo `T-SNE` de sckit-learn.\n",
        "\n",
        "Tras aplicar las transformaciones sobre el dataset **LRMFP**, gráfique las componentes obtenidas en la reducción de dimensionalidad."
      ],
      "metadata": {
        "tags": [],
        "cell_id": "c532e63f2fd541cda5b741d2f24c1ea8",
        "deepnote_cell_height": 413.8666687011719,
        "deepnote_cell_type": "markdown",
        "id": "onUEvmdaZIdt"
      }
    },
    {
      "cell_type": "markdown",
      "source": [
        "**Respuesta:**"
      ],
      "metadata": {
        "tags": [],
        "cell_id": "a480355952a34b6cb7e72afa764091d6",
        "deepnote_cell_height": 52.26666259765625,
        "deepnote_cell_type": "markdown",
        "id": "NTlmQ5pmZIdt"
      }
    },
    {
      "cell_type": "code",
      "source": [
        "# Obtención de caracteristicas LRMFP mediante función custom_features (Paso 1)\n",
        "caracteristicas = FunctionTransformer(\n",
        "    func=custom_features\n",
        ")\n",
        "\n",
        "# Escalamiento de características obtenidas mediante clase MinMax() (Paso 2)\n",
        "escalamiento = ColumnTransformer(\n",
        "    transformers=[\n",
        "        ('scaler', MinMax(),\n",
        "         ['Length','Recency','Monetary','Frecuency','Periodicity'])\n",
        "    ]\n",
        ")\n",
        "\n",
        "# Obtención de las 2 componentes más relevantes mediante TSNE (Paso 3)\n",
        "componentes = TSNE(n_components=2,random_state=0)\n",
        "\n",
        "# Pipeline\n",
        "pipeline = Pipeline([\n",
        "    ('caracteristicas',caracteristicas),\n",
        "    ('escalamiento', escalamiento),\n",
        "    ('componentes',componentes)  \n",
        "])\n",
        "\n",
        "# Aplicamos el pipeline \n",
        "X_tsne = pipeline.fit_transform(df_retail)\n",
        "\n",
        "# Imprimimos\n",
        "X_tsne"
      ],
      "metadata": {
        "tags": [],
        "cell_id": "1889976b7a4c40c7825752979b577567",
        "deepnote_cell_height": 65.86666870117188,
        "deepnote_cell_type": "code",
        "id": "5a_INkFrZIdu",
        "colab": {
          "base_uri": "https://localhost:8080/"
        },
        "outputId": "9a0669ad-bf73-4ac0-9a36-51a7c4a251c4"
      },
      "outputs": [
        {
          "output_type": "execute_result",
          "data": {
            "text/plain": [
              "array([[ -6.0926237,  16.849468 ],\n",
              "       [ -8.642876 , -39.352886 ],\n",
              "       [-58.655277 , -26.779863 ],\n",
              "       ...,\n",
              "       [ -7.6803646,  46.186344 ],\n",
              "       [ 10.793542 ,  15.50011  ],\n",
              "       [  8.90293  , -20.27908  ]], dtype=float32)"
            ]
          },
          "metadata": {},
          "execution_count": 8
        }
      ],
      "execution_count": 8
    },
    {
      "cell_type": "code",
      "source": [
        "# Formamos un dataframe\n",
        "df_tsne = pd.DataFrame({'Componente 1': X_tsne[:, 0], 'Componente 2': X_tsne[:, 1]})\n",
        "\n",
        "# Hacemos un scatter plot\n",
        "fig = px.scatter(df_tsne, x='Componente 1', y='Componente 2')\n",
        "fig.update_layout(\n",
        "    title = 'Reducción de dimensionalidad de las características LRMFP mediante t-SNE'\n",
        ")\n",
        "fig.show()"
      ],
      "metadata": {
        "colab": {
          "base_uri": "https://localhost:8080/",
          "height": 542
        },
        "id": "4-h7K_gxeZa_",
        "outputId": "8c359597-153f-44d3-cf13-55601030e76f"
      },
      "execution_count": 9,
      "outputs": [
        {
          "output_type": "display_data",
          "data": {
            "text/html": [
              "<html>\n",
              "<head><meta charset=\"utf-8\" /></head>\n",
              "<body>\n",
              "    <div>            <script src=\"https://cdnjs.cloudflare.com/ajax/libs/mathjax/2.7.5/MathJax.js?config=TeX-AMS-MML_SVG\"></script><script type=\"text/javascript\">if (window.MathJax && window.MathJax.Hub && window.MathJax.Hub.Config) {window.MathJax.Hub.Config({SVG: {font: \"STIX-Web\"}});}</script>                <script type=\"text/javascript\">window.PlotlyConfig = {MathJaxConfig: 'local'};</script>\n",
              "        <script charset=\"utf-8\" src=\"https://cdn.plot.ly/plotly-2.20.0.min.js\"></script>                <div id=\"7198023d-96fa-4d0d-9582-b21dc1b93a1e\" class=\"plotly-graph-div\" style=\"height:525px; width:100%;\"></div>            <script type=\"text/javascript\">                                    window.PLOTLYENV=window.PLOTLYENV || {};                                    if (document.getElementById(\"7198023d-96fa-4d0d-9582-b21dc1b93a1e\")) {                    Plotly.newPlot(                        \"7198023d-96fa-4d0d-9582-b21dc1b93a1e\",                        [{\"hovertemplate\":\"Componente 1=%{x}<br>Componente 2=%{y}<extra></extra>\",\"legendgroup\":\"\",\"marker\":{\"color\":\"#636efa\",\"symbol\":\"circle\"},\"mode\":\"markers\",\"name\":\"\",\"showlegend\":false,\"x\":[-6.092623710632324,-8.642875671386719,-58.655277252197266,10.007329940795898,15.210716247558594,-7.653363227844238,-28.41797637939453,-50.60346603393555,-12.614988327026367,1.042196273803711,38.37379455566406,38.22035217285156,35.31095504760742,7.6368889808654785,-22.82120704650879,-23.602453231811523,16.290681838989258,-24.37628936767578,16.73141098022461,-24.226512908935547,0.2678733766078949,-14.101346015930176,16.083965301513672,-50.73136520385742,-12.776128768920898,2.2856576442718506,13.085891723632812,17.7757568359375,-37.800193786621094,-9.3423490524292,24.460405349731445,2.3997435569763184,-43.50132751464844,-14.036508560180664,23.44661521911621,0.582276463508606,33.52345657348633,-37.149169921875,36.1981086730957,-46.63117218017578,39.9930534362793,-7.701732635498047,-6.904299259185791,-39.70899200439453,-29.504396438598633,-4.789172172546387,-19.121383666992188,-47.828895568847656,1.0227388143539429,-9.295601844787598,42.27265930175781,13.0150728225708,-12.788190841674805,-13.881492614746094,49.43093490600586,-14.161298751831055,-8.801107406616211,-56.2377815246582,-6.27510929107666,15.436436653137207,7.520321369171143,48.4455680847168,-6.706052303314209,9.81967830657959,40.44163131713867,55.70203399658203,-18.725927352905273,10.02651309967041,18.284168243408203,-7.142617225646973,-42.46702575683594,-18.943374633789062,-16.422203063964844,-23.892654418945312,-29.744277954101562,17.95793342590332,-55.82577896118164,-19.24827003479004,-37.43373107910156,-51.282833099365234,-44.32371139526367,-13.060705184936523,-43.533203125,6.603333950042725,69.22183227539062,68.52685546875,40.6557502746582,-29.425127029418945,-9.449904441833496,18.475980758666992,-8.57137680053711,26.40030860900879,-24.834867477416992,41.839656829833984,1.6636395454406738,-47.64301681518555,-52.779048919677734,59.05239486694336,-19.98752784729004,15.816201210021973,-17.629972457885742,-30.11051368713379,23.434709548950195,-51.78599548339844,13.286187171936035,4.271300315856934,-28.11231803894043,-45.96173095703125,17.107208251953125,-53.67804718017578,-17.04085350036621,0.4589739739894867,-41.87575912475586,57.01150894165039,36.599124908447266,-10.353189468383789,-28.11915397644043,-47.07646942138672,17.4996337890625,5.5005083084106445,-19.07346534729004,-28.14280128479004,11.379955291748047,17.138694763183594,59.89270782470703,-9.453734397888184,-55.843292236328125,-39.08854675292969,-18.007736206054688,-13.395256042480469,-55.809139251708984,33.705589294433594,-14.502853393554688,-28.491607666015625,43.20481491088867,-15.554434776306152,-12.066920280456543,-23.01913833618164,-5.051290512084961,42.19112014770508,-15.091292381286621,-48.55449295043945,-3.919423818588257,60.54034423828125,38.09867477416992,9.225462913513184,27.920019149780273,-12.95974349975586,-44.799503326416016,33.79558181762695,-39.9600944519043,0.5126170516014099,15.598394393920898,51.46213912963867,-20.979907989501953,-12.239044189453125,-20.655662536621094,52.20306396484375,49.96501541137695,16.675052642822266,4.151307582855225,-51.88828659057617,47.338462829589844,28.675174713134766,-22.88861083984375,-13.5396146774292,10.739340782165527,-28.04904556274414,-0.7446731328964233,-44.05669021606445,-16.069000244140625,3.8980801105499268,-18.10110855102539,7.188197135925293,20.167625427246094,24.99724006652832,27.758981704711914,50.46268081665039,24.9471435546875,44.26942443847656,-13.456023216247559,-55.08013916015625,-47.17225646972656,-44.389163970947266,-7.513518810272217,-57.628936767578125,27.985288619995117,-24.233991622924805,16.799589157104492,22.4910945892334,-6.193454265594482,45.515785217285156,25.568103790283203,-35.918724060058594,-40.782588958740234,-18.456716537475586,-31.9502010345459,-16.994779586791992,-18.647687911987305,49.295108795166016,70.6098403930664,69.41218566894531,59.57698440551758,16.84414291381836,-39.516544342041016,-42.06676483154297,-18.97911834716797,-6.037734508514404,-43.99671936035156,-14.848442077636719,-18.524505615234375,-43.34544372558594,-39.888404846191406,-18.520978927612305,-23.783506393432617,0.5320630669593811,58.72279357910156,65.42081451416016,-24.243085861206055,61.80686950683594,58.07146453857422,-43.12852096557617,-2.6683623790740967,-13.290617942810059,2.635658025741577,17.98166847229004,23.11216163635254,6.820357322692871,8.504786491394043,-44.9412727355957,3.774374008178711,40.5013427734375,-7.467711448669434,16.419702529907227,-7.357196807861328,-46.5447998046875,-25.960020065307617,-9.183621406555176,-5.234670639038086,-51.72976303100586,61.55641174316406,72.99584197998047,-7.66359806060791,-58.981781005859375,47.49185562133789,17.36337661743164,52.447078704833984,-51.77608871459961,-51.242164611816406,17.30002784729004,-5.539315700531006,-8.766350746154785,14.604985237121582,-54.857879638671875,-53.69133377075195,-39.51521301269531,-50.96189498901367,-50.08823776245117,-12.62998104095459,-3.6970374584198,-50.791015625,16.019285202026367,56.68461608886719,-39.826499938964844,-1.1922500133514404,-48.090003967285156,-6.654211521148682,-35.91462707519531,-37.134830474853516,-23.849964141845703,17.4492130279541,-30.692115783691406,26.630708694458008,-49.73025894165039,-8.633835792541504,-23.5682373046875,-14.255906105041504,-37.16208267211914,-47.33860397338867,4.532564640045166,-39.01483917236328,-10.212618827819824,-4.435825824737549,-27.60152816772461,41.87717819213867,-4.9069085121154785,8.200353622436523,-12.801063537597656,-25.14598846435547,-12.913551330566406,-13.933585166931152,-6.570765018463135,-16.538219451904297,-50.394493103027344,47.16695022583008,-36.00824737548828,35.494815826416016,-13.951337814331055,43.82273864746094,-53.11695098876953,-47.99275588989258,40.89480209350586,54.31161880493164,-51.0195198059082,21.262691497802734,64.12733459472656,13.017935752868652,0.5978081822395325,26.241092681884766,53.50034713745117,-6.724645137786865,5.027772426605225,0.9073660373687744,16.969270706176758,-41.7907600402832,20.965576171875,-11.836767196655273,-8.015352249145508,13.910470008850098,9.949637413024902,-50.39122009277344,7.575902938842773,-30.337011337280273,-18.8959903717041,16.183612823486328,-41.3619270324707,-11.600205421447754,-28.201580047607422,55.574214935302734,-7.534382343292236,3.664768934249878,26.466073989868164,-55.75044250488281,67.52626037597656,26.260238647460938,5.451066970825195,7.109227657318115,11.003098487854004,38.9726448059082,8.160787582397461,8.378866195678711,-5.698484897613525,3.4625377655029297,4.897808074951172,-8.176835060119629,-48.447025299072266,4.249423027038574,4.355791091918945,-36.56169509887695,-42.926788330078125,-50.006736755371094,-19.796594619750977,-13.070965766906738,28.876890182495117,15.778120040893555,24.634492874145508,-51.418418884277344,46.60032653808594,-17.80487060546875,17.3477840423584,13.169557571411133,38.76752853393555,-12.372047424316406,71.30516052246094,7.6833391189575195,39.99551773071289,-41.93021774291992,40.8920783996582,-6.491267204284668,5.3577728271484375,43.730628967285156,-17.098186492919922,48.712310791015625,23.390575408935547,16.62120819091797,43.6046028137207,-0.1611613929271698,18.442106246948242,-29.440725326538086,-9.256549835205078,-57.58783721923828,15.793157577514648,-2.7941946983337402,60.32857894897461,44.92808151245117,-45.22996520996094,-18.42606544494629,-18.579225540161133,-10.52542781829834,9.54518985748291,-39.78312301635742,22.328521728515625,12.918133735656738,2.6253161430358887,-59.012874603271484,-5.297196388244629,-38.045631408691406,43.061424255371094,59.563804626464844,22.416488647460938,-35.957115173339844,-51.362003326416016,33.8465576171875,39.760215759277344,-37.72536849975586,48.43668746948242,-4.2082343101501465,43.97643280029297,16.623254776000977,-39.83485412597656,26.141897201538086,25.73533058166504,35.91102981567383,8.906421661376953,3.275545358657837,-0.4734567701816559,7.008555889129639,15.079727172851562,17.209360122680664,-9.632430076599121,-0.6683512330055237,56.38959503173828,-20.253135681152344,57.29033660888672,-22.662662506103516,-47.69520568847656,28.32386016845703,-0.8161696791648865,23.753578186035156,16.11691665649414,-3.2547240257263184,61.25785827636719,-53.96456527709961,-2.9074621200561523,19.3812313079834,41.82542037963867,-19.887269973754883,55.486732482910156,-50.41475296020508,-47.43733215332031,-14.423964500427246,-6.716920375823975,11.789794921875,41.926002502441406,4.123794078826904,18.95951271057129,-0.8876048922538757,-16.181671142578125,-8.862037658691406,-50.201690673828125,4.73736572265625,51.374271392822266,-16.109235763549805,-9.046770095825195,-17.451948165893555,-1.6006951332092285,-14.90079402923584,-51.288204193115234,58.584693908691406,13.679509162902832,-12.101271629333496,68.81371307373047,-27.67860984802246,18.120786666870117,-29.510671615600586,-52.75293731689453,-53.2874755859375,-19.48942756652832,14.781915664672852,-40.77069854736328,-30.10215950012207,6.376486301422119,-18.65684700012207,5.666421890258789,11.09177017211914,-35.865760803222656,-19.32862663269043,-4.4367852210998535,-50.768104553222656,61.2129020690918,69.0715103149414,-39.2409782409668,9.07652759552002,72.27092742919922,35.648216247558594,-44.94517135620117,-18.84503173828125,10.597827911376953,-0.9117982387542725,-39.7451171875,72.59650421142578,-4.057610511779785,-8.899968147277832,24.685930252075195,71.21735382080078,-6.00807523727417,59.63417053222656,-7.032669544219971,20.727468490600586,-8.850502967834473,21.367029190063477,-35.127872467041016,25.405702590942383,-14.24669361114502,-52.981300354003906,35.120216369628906,2.0385639667510986,29.65731430053711,-5.465380668640137,21.93121910095215,29.936935424804688,-13.056138038635254,-3.2425031661987305,-25.071889877319336,4.756043434143066,-45.464115142822266,37.33344650268555,-21.720216751098633,22.238584518432617,-49.868431091308594,-16.957054138183594,-38.80227279663086,54.20065689086914,-6.260418891906738,-7.907558441162109,-58.3559684753418,-4.3647356033325195,55.20888900756836,-45.950836181640625,-52.049530029296875,20.175996780395508,57.78257751464844,-4.7599616050720215,-25.959857940673828,28.535385131835938,39.11394500732422,-4.476163387298584,40.7479362487793,19.172847747802734,3.9471845626831055,-39.01887512207031,56.66469955444336,-20.960058212280273,-35.951778411865234,-37.7330322265625,2.5000998973846436,-51.7891731262207,-50.95032501220703,60.86283874511719,70.7840347290039,-13.397732734680176,-50.70848083496094,55.21169662475586,-31.289064407348633,-36.85561752319336,9.227282524108887,22.57379722595215,-26.82855224609375,-9.571636199951172,-8.336812019348145,-13.417275428771973,-37.16565704345703,-39.52434539794922,-0.3415854871273041,-36.45235824584961,-14.263249397277832,65.17244720458984,-14.863868713378906,46.94241714477539,48.663978576660156,-5.2478861808776855,55.90085983276367,18.672481536865234,31.31510353088379,-9.117103576660156,53.03263473510742,9.25017261505127,17.538135528564453,-31.106752395629883,-48.700172424316406,21.83326530456543,36.584007263183594,-5.6666364669799805,30.895193099975586,26.666259765625,-18.917972564697266,5.304834365844727,1.592969298362732,-19.545833587646484,38.5125846862793,-29.809206008911133,7.271209239959717,-0.03373695909976959,-52.23704147338867,-1.5847285985946655,27.7285213470459,-26.545751571655273,-19.171924591064453,20.903425216674805,27.45131492614746,14.581787109375,0.20009979605674744,-56.85948181152344,-9.628995895385742,42.93305969238281,9.580609321594238,-13.644025802612305,-58.217002868652344,40.18536376953125,63.62992477416992,62.316097259521484,-29.73247528076172,25.926822662353516,22.227689743041992,4.508514404296875,16.39607810974121,33.915565490722656,-58.435359954833984,-26.282411575317383,-26.285505294799805,-26.22445297241211,-39.045040130615234,-21.275667190551758,6.8064069747924805,0.588697075843811,27.184858322143555,-12.643954277038574,36.10670852661133,-14.513872146606445,15.326240539550781,-4.6554274559021,3.1908113956451416,-12.809615135192871,7.880020618438721,-17.519372940063477,5.358791351318359,34.03571319580078,-50.70600891113281,-14.180024147033691,-40.452152252197266,-4.573467254638672,-9.50527572631836,-54.3021240234375,14.385824203491211,6.589796543121338,23.557785034179688,53.23796463012695,68.84503936767578,-22.587085723876953,-8.049103736877441,-51.40141677856445,62.128692626953125,47.064186096191406,4.605172634124756,-18.326278686523438,23.45719337463379,-17.781328201293945,-51.91122055053711,-12.778543472290039,21.245967864990234,-9.699207305908203,-14.729620933532715,-19.921520233154297,25.09604835510254,-10.137142181396484,-11.89293098449707,-28.79924964904785,-50.57527160644531,-20.19597625732422,18.227794647216797,16.6170711517334,-16.04811668395996,40.06047821044922,-19.438932418823242,-57.13919448852539,24.880605697631836,-51.33350372314453,55.522552490234375,34.05373764038086,-8.331876754760742,-19.930206298828125,-41.10321044921875,-38.102699279785156,1.8447059392929077,-15.767950057983398,59.335941314697266,-16.58087730407715,14.117180824279785,-55.75834274291992,-24.70633888244629,-46.47069549560547,14.808392524719238,23.874332427978516,9.009485244750977,19.86616325378418,-24.510740280151367,66.1587905883789,30.926368713378906,-30.05500030517578,-23.590179443359375,-9.747952461242676,13.910018920898438,-9.825718879699707,-17.560100555419922,60.742855072021484,25.23027992248535,-49.79652786254883,-55.66487121582031,-23.740625381469727,54.82962417602539,9.593023300170898,-42.21225357055664,23.955251693725586,-30.18687629699707,-6.031591415405273,27.692794799804688,-4.635876655578613,-4.075721740722656,-21.64102554321289,-51.7026481628418,-19.071481704711914,10.583218574523926,-4.039087772369385,-25.471790313720703,13.685606956481934,62.455902099609375,23.026769638061523,29.660675048828125,-19.173961639404297,-16.98713493347168,48.2950553894043,-18.1857967376709,-6.7285308837890625,-24.043771743774414,9.233016014099121,35.725616455078125,18.631288528442383,-8.912003517150879,13.896952629089355,68.39473724365234,-10.401583671569824,-20.61935806274414,-15.426712036132812,-23.077133178710938,17.098459243774414,10.335803031921387,2.845240592956543,-27.899662017822266,24.173152923583984,51.08989715576172,-25.075332641601562,27.058879852294922,54.451820373535156,7.858684062957764,48.39265441894531,-10.093202590942383,60.843849182128906,47.258338928222656,43.5032958984375,-5.760868072509766,-18.297245025634766,-22.132564544677734,0.15364369750022888,-4.217842102050781,-11.336736679077148,-16.46201515197754,-40.948089599609375,53.731571197509766,-0.21742944419384003,8.807387351989746,6.7829461097717285,22.67820167541504,5.6131391525268555,-39.35822296142578,-57.99801254272461,52.406158447265625,-8.470312118530273,-10.829957008361816,27.698322296142578,-21.238801956176758,46.01175308227539,-1.3703930377960205,-21.935148239135742,36.56769561767578,-1.8156156539916992,3.950100898742676,1.7243176698684692,60.04749298095703,-23.709138870239258,19.069332122802734,1.9899165630340576,-13.43429946899414,-27.669572830200195,-43.810264587402344,4.947597980499268,10.03107738494873,15.79930591583252,0.682331383228302,-10.438628196716309,46.27805709838867,-47.645172119140625,40.5307731628418,32.49000930786133,39.11006164550781,72.12242126464844,-30.458498001098633,3.952512264251709,-10.737919807434082,-11.385453224182129,58.542842864990234,33.50284194946289,-29.139965057373047,59.64295196533203,48.610538482666016,-29.840181350708008,37.70830535888672,-26.310632705688477,-38.70458221435547,21.16845703125,2.723468542098999,-7.303028583526611,-5.731639385223389,-51.56779861450195,6.57118558883667,30.759326934814453,62.40764617919922,31.78824234008789,32.079803466796875,-39.600215911865234,-16.190088272094727,-17.229331970214844,-9.858183860778809,62.72011947631836,-21.145376205444336,2.110399007797241,6.648074626922607,-8.47509479522705,8.10501480102539,-19.168743133544922,-51.21793746948242,-42.13433837890625,45.172142028808594,55.856014251708984,-22.027090072631836,5.592276573181152,2.268174648284912,37.53466796875,-18.1976375579834,-15.91368579864502,-15.491772651672363,-47.171539306640625,8.283485412597656,54.04384231567383,4.29161262512207,-40.56462860107422,11.387773513793945,-9.801362991333008,1.1976103782653809,21.376523971557617,17.065542221069336,49.067108154296875,31.97833824157715,-57.525123596191406,-34.442596435546875,-19.63528823852539,-53.45586395263672,48.952301025390625,-17.324522018432617,-17.254535675048828,46.597984313964844,3.347820281982422,43.817752838134766,9.564248085021973,37.141387939453125,-39.24911880493164,53.72626495361328,17.143566131591797,-21.24289321899414,40.382713317871094,20.39873695373535,-17.749629974365234,-37.94527053833008,34.94112777709961,34.066192626953125,-7.517477035522461,24.260690689086914,55.669921875,-27.299509048461914,-5.940041542053223,-5.808296203613281,-51.79627990722656,-20.79633903503418,-7.9757819175720215,11.65792179107666,15.73867130279541,-50.79954528808594,21.424175262451172,-9.507402420043945,-31.19076156616211,-21.902446746826172,-54.099884033203125,-7.097949981689453,-19.001296997070312,51.59647750854492,71.77787780761719,-49.53896713256836,22.39535140991211,-22.926528930664062,-52.60713577270508,23.57835578918457,-56.890350341796875,-56.74559783935547,-39.224918365478516,26.814273834228516,-25.61159896850586,-11.628662109375,13.67550277709961,19.547245025634766,37.52322006225586,-36.11978530883789,9.616445541381836,-47.142364501953125,31.113243103027344,-27.77280616760254,9.862404823303223,-7.4284281730651855,16.898609161376953,17.228517532348633,-19.131681442260742,-18.973596572875977,50.68518829345703,22.507356643676758,29.848852157592773,-20.01279640197754,60.941009521484375,39.935821533203125,-7.024657726287842,-47.01778030395508,36.90278244018555,-52.83402633666992,-36.593727111816406,-19.04682731628418,32.5211067199707,23.773418426513672,-46.91902542114258,-16.582103729248047,-57.51382064819336,59.71717071533203,0.27952179312705994,62.40951919555664,10.470297813415527,-9.999259948730469,-21.24863624572754,-21.71875,-25.31664276123047,-10.47881031036377,-38.679534912109375,68.49757385253906,-1.076263189315796,59.17160415649414,33.88446044921875,-17.504066467285156,32.65711212158203,24.57628631591797,-42.51918029785156,65.86114501953125,-23.143625259399414,-42.7273063659668,-27.068130493164062,-16.266511917114258,17.68967056274414,-4.880743503570557,-24.3862361907959,-22.213333129882812,48.38737869262695,11.415434837341309,3.930572509765625,-43.44047164916992,-14.668164253234863,-53.13590621948242,25.467212677001953,-38.88815689086914,6.955827236175537,65.52086639404297,3.3257360458374023,29.357458114624023,40.42384338378906,6.476174831390381,-57.47861099243164,33.152000427246094,-18.014789581298828,-5.415817737579346,-47.214176177978516,25.531551361083984,-50.46826934814453,-19.048418045043945,28.35259246826172,41.220855712890625,49.55903244018555,31.845537185668945,-18.619667053222656,-46.980003356933594,57.91526412963867,-44.52018737792969,-20.784107208251953,-22.017791748046875,-13.644895553588867,-16.273122787475586,20.012996673583984,-39.411502838134766,-39.228538513183594,42.625282287597656,9.360763549804688,-17.017349243164062,1.7174993753433228,43.93889236450195,19.232913970947266,42.788719177246094,-36.26874923706055,49.37138748168945,-2.5652272701263428,-6.530499458312988,9.655123710632324,-47.77082443237305,-13.99278450012207,3.122589588165283,-9.543601989746094,46.064125061035156,37.488563537597656,33.754539489746094,-5.8401665687561035,33.81648635864258,-9.40953540802002,51.412193298339844,7.352001190185547,-29.29315948486328,-15.074728965759277,15.20079231262207,32.79616928100586,44.31855010986328,-11.218015670776367,9.375004768371582,42.75434494018555,41.70956802368164,16.363529205322266,-14.110716819763184,-4.35246467590332,-26.198423385620117,8.549328804016113,-31.308305740356445,22.211185455322266,49.11497497558594,-22.926450729370117,-17.57382583618164,-7.401371479034424,7.333232879638672,-13.369537353515625,33.98009490966797,-44.045169830322266,-40.45138168334961,4.16718864440918,-12.440585136413574,-8.970396995544434,35.91115188598633,-22.86231803894043,-57.75088119506836,29.455251693725586,49.44702911376953,-25.811758041381836,-12.526931762695312,-19.068607330322266,0.9300124645233154,46.662044525146484,-48.31634521484375,-10.342494010925293,-13.821990013122559,35.527557373046875,30.21587562561035,55.377296447753906,41.59404373168945,16.649072647094727,21.92776870727539,54.59567642211914,-8.072272300720215,-5.373382568359375,-57.04867172241211,23.151334762573242,-14.948906898498535,8.451027870178223,-57.04714584350586,-8.355245590209961,-44.2364501953125,30.6887264251709,-17.58159637451172,26.00749397277832,-46.65364456176758,37.74982833862305,-9.53994369506836,-34.30629348754883,54.35655212402344,7.361396312713623,-38.263675689697266,47.776283264160156,62.9869384765625,48.343971252441406,41.525108337402344,-9.19871997833252,25.342145919799805,-19.6193904876709,-11.443116188049316,55.966800689697266,54.03141403198242,-11.638239860534668,-28.61474609375,-9.783819198608398,61.06867980957031,35.486289978027344,-5.393808364868164,-6.632023811340332,-15.678784370422363,-17.006898880004883,-42.17783737182617,-52.426544189453125,-48.49925994873047,-50.98955154418945,-12.105278015136719,26.03495979309082,8.516161918640137,43.547855377197266,-49.802276611328125,-15.42016315460205,-25.53719711303711,18.224811553955078,-39.2996940612793,2.3797268867492676,-18.059921264648438,-9.309971809387207,-33.41972732543945,69.31499481201172,69.61615753173828,44.870094299316406,15.106302261352539,13.508435249328613,27.38704490661621,-49.31984329223633,60.01362991333008,-0.3036259412765503,9.279523849487305,28.53775405883789,43.705528259277344,44.332820892333984,10.873722076416016,27.962718963623047,63.28604507446289,1.5254031419754028,-11.418370246887207,-12.466590881347656,53.61858367919922,-23.046611785888672,35.81719970703125,8.099838256835938,59.15180587768555,41.26336669921875,25.856393814086914,-14.950308799743652,-23.552038192749023,-27.88855743408203,4.913596153259277,-4.308064937591553,-27.596588134765625,-4.593587875366211,-7.235559463500977,26.707780838012695,36.679222106933594,70.06218719482422,-4.340357780456543,40.54158401489258,-42.227230072021484,69.3470230102539,38.262733459472656,-29.330381393432617,-22.92971420288086,54.81315612792969,-59.36751937866211,-8.954000473022461,60.1169319152832,21.430585861206055,7.357237339019775,40.9807243347168,18.021257400512695,-3.002591371536255,38.90736389160156,3.4203741550445557,52.307613372802734,16.53499412536621,-7.069650650024414,-48.23872375488281,25.553159713745117,26.151939392089844,-7.417130470275879,-57.84376907348633,-12.64581298828125,-52.97837448120117,9.688417434692383,42.89771270751953,-13.409027099609375,-8.718474388122559,53.586151123046875,62.59587860107422,45.68011474609375,8.153428077697754,-26.247732162475586,28.218833923339844,-5.681378364562988,45.67152786254883,25.596458435058594,-36.93548583984375,-18.907779693603516,35.24421310424805,-39.910396575927734,45.92311096191406,73.0042953491211,26.31587028503418,68.6739273071289,-22.000003814697266,57.71642303466797,-48.417572021484375,-16.525529861450195,4.079508304595947,0.827995240688324,-24.34589385986328,-8.137079238891602,-6.055229187011719,-25.582075119018555,-17.620498657226562,14.95571517944336,-5.162203788757324,34.28662872314453,6.135633945465088,-3.280916213989258,-5.211518287658691,-17.324323654174805,15.35051155090332,-43.07337188720703,-6.992437362670898,23.89222526550293,4.3338799476623535,-8.202975273132324,44.70957565307617,5.574219703674316,-30.97465705871582,40.21034240722656,-14.29304027557373,-31.441017150878906,6.094991207122803,25.5299072265625,-8.897194862365723,39.18342208862305,22.907655715942383,-12.068920135498047,-52.85557174682617,43.47978591918945,49.644012451171875,41.32804489135742,-54.171791076660156,-30.013484954833984,43.88985824584961,-37.44014358520508,3.4730234146118164,-15.761117935180664,-49.41445541381836,-3.380175828933716,1.4630182981491089,26.199495315551758,-57.91481399536133,25.558927536010742,-12.436580657958984,-17.173572540283203,-13.44030475616455,-54.96815872192383,0.23238679766654968,-16.45728302001953,-3.9889211654663086,9.948254585266113,-18.153066635131836,37.92707061767578,-44.26899337768555,-6.686775207519531,-7.34866189956665,0.05710265040397644,-24.562652587890625,28.057287216186523,7.557504653930664,-12.373648643493652,-51.0471305847168,-5.693179607391357,33.95098876953125,51.24578857421875,-22.417484283447266,-44.03429412841797,23.485553741455078,-9.593728065490723,-44.41469192504883,-58.12565231323242,-28.659828186035156,-32.130435943603516,5.679508209228516,16.077014923095703,24.109695434570312,40.51646423339844,-29.742023468017578,17.491559982299805,-27.462949752807617,42.599605560302734,-19.16080665588379,-10.503159523010254,-4.2727885246276855,45.061012268066406,34.65139389038086,56.13671875,16.94118309020996,37.30867004394531,-27.047266006469727,32.099754333496094,0.045535143464803696,71.9559326171875,65.12715911865234,23.247526168823242,29.499544143676758,-18.686317443847656,8.369768142700195,26.335742950439453,51.73744583129883,-4.784728050231934,-51.650814056396484,-50.61551284790039,-4.363224983215332,-25.934921264648438,10.787741661071777,-49.351863861083984,-45.018218994140625,-14.420251846313477,-22.45464324951172,20.659404754638672,26.8177547454834,-50.22290802001953,-23.358793258666992,44.60041046142578,58.66184997558594,-27.452747344970703,-12.832852363586426,-6.857705593109131,-50.387939453125,-48.047672271728516,39.80634689331055,-22.122478485107422,27.573867797851562,30.002513885498047,-18.48089599609375,-9.663162231445312,-13.911717414855957,-19.25812530517578,34.242919921875,-14.619304656982422,-47.98466110229492,-18.3056640625,27.3607234954834,-22.491188049316406,10.479379653930664,-6.816639423370361,-52.145538330078125,-20.298851013183594,4.496582508087158,-29.221805572509766,-13.500539779663086,-54.46580505371094,1.3448413610458374,-39.415306091308594,47.885337829589844,-1.8893685340881348,-10.342456817626953,-48.166168212890625,-51.65296173095703,-51.367740631103516,27.28742027282715,60.48187255859375,-6.03006649017334,37.07313537597656,20.840818405151367,37.474700927734375,-11.029041290283203,-27.369991302490234,52.33478546142578,10.971358299255371,15.469766616821289,-10.686956405639648,-45.64908218383789,27.206289291381836,13.827859878540039,59.99824905395508,2.207038402557373,9.824318885803223,39.99885177612305,-8.534751892089844,59.27658462524414,22.42641830444336,29.23780059814453,28.85462188720703,-11.663686752319336,-19.968524932861328,-19.89278221130371,43.541160583496094,-46.9864387512207,-39.83745574951172,18.32223129272461,13.43625545501709,48.815330505371094,46.847633361816406,29.227420806884766,-4.329109191894531,-51.23938751220703,-51.953216552734375,4.770177364349365,-17.626617431640625,-10.01058292388916,24.88055419921875,44.79570388793945,-5.9959635734558105,51.12697219848633,-19.475114822387695,12.73824691772461,-11.614889144897461,34.73316955566406,45.802921295166016,-53.4339485168457,-27.08229637145996,27.32550811767578,53.5800666809082,53.72494125366211,-7.442232608795166,26.38783836364746,-51.04175567626953,-15.600738525390625,6.561002731323242,-46.50920486450195,-27.441606521606445,22.63309669494629,41.60527420043945,45.120601654052734,33.983558654785156,29.780153274536133,-11.293007850646973,-9.852686882019043,34.356590270996094,-27.918668746948242,-4.416210174560547,-0.0837663933634758,-18.026765823364258,14.959136009216309,2.5011115074157715,31.44985008239746,25.273399353027344,28.24272918701172,-0.18331992626190186,-0.060505930334329605,-10.945405006408691,56.51374053955078,23.454792022705078,50.23579788208008,4.694932460784912,-49.4221076965332,-13.37682056427002,41.4024658203125,1.7227038145065308,38.17558670043945,3.811103582382202,-42.98601531982422,-18.660781860351562,-38.675132751464844,-22.80179214477539,-28.546281814575195,38.78731918334961,2.254915237426758,72.73495483398438,39.55282211303711,-40.93751525878906,38.951839447021484,9.981134414672852,20.972047805786133,32.52641677856445,-27.365400314331055,-12.37951946258545,53.836761474609375,30.036577224731445,57.86258316040039,-44.17079544067383,0.40015122294425964,61.567928314208984,13.496923446655273,36.07573318481445,-12.670162200927734,29.34458351135254,16.622228622436523,-15.203871726989746,48.30864334106445,-22.55548858642578,-19.231813430786133,56.42315673828125,37.08760070800781,-23.152793884277344,32.913551330566406,-42.8621711730957,-15.101572036743164,-57.61100387573242,-7.254055500030518,-58.613346099853516,-46.231868743896484,14.606324195861816,47.814414978027344,-6.691587448120117,-38.54243087768555,34.976043701171875,-53.19626235961914,-52.3819465637207,24.604507446289062,19.7664737701416,-11.796477317810059,-47.666812896728516,16.774553298950195,39.46776580810547,55.23695755004883,16.831954956054688,7.873058795928955,-25.474754333496094,-14.026653289794922,-50.61871337890625,-6.979141712188721,-5.298701286315918,-9.227462768554688,-21.550037384033203,43.213626861572266,73.0784912109375,14.915484428405762,35.14919662475586,27.98700714111328,-0.45531579852104187,-6.908193111419678,-36.133819580078125,5.776252269744873,1.4741082191467285,-16.860742568969727,5.721048355102539,-52.42417907714844,-8.891335487365723,22.077682495117188,8.04348373413086,55.05304718017578,47.399227142333984,11.774882316589355,12.954764366149902,-39.66618728637695,-11.860572814941406,-11.665060043334961,-52.779884338378906,1.7733415365219116,23.614240646362305,29.674808502197266,-18.43760108947754,33.70558166503906,-21.147192001342773,72.80474090576172,-45.54306411743164,40.7912712097168,45.41416931152344,-43.60309600830078,21.129783630371094,-2.9004719257354736,-10.252791404724121,16.148500442504883,6.6809844970703125,-52.06395721435547,34.49684524536133,-52.79453659057617,0.36820122599601746,71.25650787353516,-57.79113006591797,-20.012971878051758,-5.78876256942749,-32.634986877441406,-9.468226432800293,-8.968339920043945,-41.32712173461914,1.8863517045974731,23.10373878479004,-42.1830940246582,-47.61986541748047,38.21677780151367,71.69776916503906,23.663745880126953,20.61201286315918,-43.574249267578125,1.4584810733795166,-15.788615226745605,21.812965393066406,0.9861136078834534,-11.351428031921387,-14.093066215515137,25.219511032104492,-15.318808555603027,-31.44220542907715,-4.764590263366699,-12.474311828613281,-17.112112045288086,-17.646793365478516,13.210563659667969,66.4948501586914,8.286598205566406,-31.077505111694336,-13.014914512634277,56.711158752441406,59.51350784301758,-36.76995086669922,67.4340591430664,30.625566482543945,13.579524040222168,-58.731964111328125,-7.094196319580078,-31.112703323364258,12.446329116821289,-43.813636779785156,60.51544189453125,-42.560855865478516,-2.8420844078063965,-9.979475975036621,-52.83715057373047,-37.04570007324219,26.779539108276367,49.71699905395508,-8.166091918945312,-9.264634132385254,53.8197135925293,-38.88935470581055,-18.82440185546875,-10.995941162109375,64.90033721923828,20.521291732788086,-12.395310401916504,-57.45711135864258,-42.464664459228516,17.112045288085938,-15.164613723754883,-18.128902435302734,36.512046813964844,-40.981178283691406,-9.379825592041016,-18.160154342651367,-49.353153228759766,27.048551559448242,58.46965408325195,-13.021675109863281,16.822874069213867,-57.76125717163086,-25.591711044311523,8.111713409423828,-42.47316360473633,53.68624496459961,-3.0045111179351807,-18.445995330810547,-42.26166915893555,-47.04975509643555,15.9776029586792,-15.570746421813965,-20.04952049255371,-7.723114013671875,3.0334432125091553,-52.9730339050293,-43.911964416503906,-40.420188903808594,51.20998001098633,-37.25438690185547,-49.943260192871094,-15.441988945007324,64.35417175292969,-40.740333557128906,34.2833251953125,-10.194986343383789,-10.007019996643066,16.80077362060547,-58.547767639160156,26.868989944458008,-28.7253475189209,-12.263038635253906,4.343441486358643,-40.135040283203125,25.914113998413086,-46.6134147644043,20.791133880615234,0.8973128199577332,9.123950958251953,42.5880241394043,44.057342529296875,-39.54825973510742,31.815773010253906,28.16399574279785,-20.48541259765625,50.28291702270508,-12.865514755249023,-18.84194564819336,-38.89337158203125,-27.044584274291992,13.152143478393555,33.66913604736328,30.650100708007812,-51.38672637939453,56.16679000854492,-56.64525604248047,-1.6381255388259888,-47.867462158203125,-2.957700252532959,-20.643352508544922,49.952144622802734,-5.269476890563965,-22.877727508544922,15.652823448181152,2.426863193511963,40.15406036376953,-8.403624534606934,2.7137420177459717,-40.25642013549805,-51.87821578979492,48.61054992675781,23.595434188842773,-8.79125690460205,47.532108306884766,-12.497838973999023,48.342891693115234,29.255695343017578,12.887946128845215,-9.75399398803711,-21.60580825805664,-50.16651916503906,-57.63604736328125,-28.09525489807129,14.598612785339355,39.638404846191406,4.933225631713867,20.29860496520996,-2.820176839828491,-21.841041564941406,-24.819276809692383,-20.26609230041504,6.978443145751953,-31.64579200744629,28.327829360961914,58.055458068847656,61.94576644897461,36.968326568603516,61.01348114013672,-7.064009189605713,-3.6506104469299316,2.110456943511963,-18.476835250854492,49.356170654296875,23.80118179321289,-47.97287368774414,10.826314926147461,73.10152435302734,27.410770416259766,-10.683866500854492,51.41274642944336,6.294961929321289,-39.26081466674805,15.445799827575684,-51.74639892578125,-51.164939880371094,-6.8858771324157715,-25.680723190307617,22.784849166870117,-8.189396858215332,-25.020858764648438,-42.34846878051758,-8.42009162902832,-6.757673740386963,-31.145687103271484,-13.675777435302734,-29.05021858215332,10.175569534301758,-50.44955825805664,29.93030548095703,-48.535064697265625,32.13545227050781,-5.945699691772461,34.570858001708984,-36.8305778503418,22.219284057617188,10.46712589263916,51.328670501708984,-20.826322555541992,9.105687141418457,-6.200812816619873,-30.99605941772461,-15.505465507507324,-15.832907676696777,60.77322769165039,-29.696605682373047,-0.1352880895137787,37.59737777709961,28.859371185302734,-50.294551849365234,9.375117301940918,23.793638229370117,-43.024173736572266,-0.8674301505088806,-3.5703680515289307,-8.815417289733887,-9.872526168823242,-44.068939208984375,-49.96826934814453,6.599689960479736,26.769943237304688,43.584293365478516,26.792579650878906,21.998512268066406,-6.865438938140869,-18.14508819580078,-51.1624641418457,-58.87255859375,-52.056556701660156,27.2808837890625,-40.248741149902344,-9.739080429077148,1.5208016633987427,-42.28911209106445,-5.849583625793457,49.26547622680664,2.3966078758239746,72.39886474609375,-53.322731018066406,-4.454442501068115,-15.543031692504883,16.13701629638672,-3.6502459049224854,-1.9263300895690918,1.45989191532135,17.801414489746094,12.352208137512207,-3.6722567081451416,1.791692852973938,46.962379455566406,-10.324417114257812,-51.09971237182617,-13.433510780334473,21.255306243896484,-7.426233768463135,-29.54713249206543,34.16054153442383,52.79518127441406,47.489200592041016,10.955636978149414,16.041349411010742,-10.836886405944824,72.21195983886719,-58.770042419433594,-39.12507629394531,-23.73590850830078,58.72172546386719,27.522994995117188,18.53407859802246,-19.215011596679688,54.494544982910156,13.386043548583984,-44.726139068603516,31.15683364868164,35.33979797363281,61.1081428527832,70.44322204589844,2.6971027851104736,37.53746795654297,-30.659809112548828,8.461102485656738,8.932258605957031,34.63391876220703,7.4620208740234375,-41.03861999511719,36.92517852783203,-22.201847076416016,-28.745159149169922,8.746587753295898,67.1637191772461,50.15151596069336,-18.138259887695312,4.537049770355225,-3.3100359439849854,27.565202713012695,-6.852915287017822,-26.783113479614258,0.3531107008457184,-48.49991226196289,60.65133285522461,18.417654037475586,27.73941993713379,-46.05632400512695,27.301128387451172,-23.589956283569336,-43.90604019165039,7.645716667175293,-13.266091346740723,-11.883060455322266,-15.082306861877441,17.36890983581543,-35.7542724609375,-13.197088241577148,-6.685906410217285,5.563369274139404,3.524686336517334,11.385605812072754,-4.10414981842041,-8.39629077911377,-12.290894508361816,-44.55121994018555,-51.16954040527344,22.518613815307617,-6.590299606323242,0.07913130521774292,-15.067380905151367,-52.70137405395508,-11.057465553283691,-5.252322673797607,-57.70836639404297,-5.904170989990234,-15.640257835388184,-51.846317291259766,53.56406784057617,-25.2108154296875,-20.500173568725586,-17.037574768066406,8.96883487701416,-39.83079147338867,8.577770233154297,-11.87319278717041,-18.988224029541016,-15.630237579345703,-12.760759353637695,3.000312328338623,-6.803537845611572,43.67585372924805,15.893031120300293,-45.93260192871094,26.54758644104004,34.192440032958984,-26.283674240112305,24.371068954467773,-30.406999588012695,-3.7328593730926514,-44.83674621582031,53.13505172729492,17.041894912719727,23.361257553100586,34.23540115356445,-30.758729934692383,28.37712287902832,10.281770706176758,-0.7285745143890381,-4.841198921203613,-57.08718490600586,7.827234268188477,44.31877136230469,62.21034622192383,28.900056838989258,30.62035369873047,26.699228286743164,16.12543487548828,-38.74245071411133,1.4285118579864502,-30.681255340576172,52.47791290283203,-1.7558554410934448,-44.09259033203125,-5.445372581481934,8.47752857208252,18.482341766357422,14.216282844543457,17.55967140197754,-30.914281845092773,-51.446224212646484,41.650970458984375,-13.928964614868164,28.738773345947266,14.480146408081055,-16.69110679626465,-7.657522678375244,22.39181137084961,-18.841901779174805,-45.36456298828125,-29.14668846130371,-7.011623382568359,54.8486442565918,13.219404220581055,-37.18441390991211,-57.64870834350586,-4.304631233215332,10.644371032714844,-52.825958251953125,-23.541799545288086,-9.413156509399414,3.1063170433044434,-17.696765899658203,26.347225189208984,7.71470308303833,10.109648704528809,-32.8995475769043,47.11800003051758,-51.555870056152344,-36.026573181152344,-9.117403030395508,62.379703521728516,-13.523082733154297,-4.986692905426025,-47.83444595336914,-17.39859962463379,33.437950134277344,-12.479930877685547,-7.018109321594238,44.310028076171875,-4.968314170837402,4.1248955726623535,-15.71453857421875,-45.45365905761719,-19.53112030029297,41.981563568115234,-22.083599090576172,-8.808490753173828,-50.17716598510742,-0.3873101472854614,-27.12326431274414,27.758594512939453,43.876075744628906,-6.728006362915039,31.43787384033203,60.323463439941406,-4.774909496307373,-30.60234260559082,-9.954700469970703,27.855066299438477,64.00572967529297,24.64548110961914,-11.548870086669922,-5.873867034912109,-18.378215789794922,-18.988224029541016,-52.653873443603516,-10.122711181640625,-18.246244430541992,-40.716285705566406,72.89249420166016,49.0968017578125,-19.87738037109375,1.5169506072998047,13.32595443725586,-41.89077377319336,-19.79345703125,8.968767166137695,34.61266326904297,-18.047088623046875,-27.118946075439453,52.378841400146484,-17.289499282836914,-0.33812078833580017,-18.256208419799805,-31.551639556884766,1.9044318199157715,21.706758499145508,-51.71627426147461,-54.68585205078125,-47.42274475097656,-12.744919776916504,-5.4482011795043945,-11.141454696655273,-53.22238540649414,63.049015045166016,-34.981014251708984,-10.251747131347656,69.59630584716797,-20.861988067626953,-43.74248504638672,28.709266662597656,-4.545012950897217,30.08306312561035,21.013954162597656,39.81040573120117,-6.340423107147217,-1.3571884632110596,-31.874250411987305,7.033750534057617,18.36162567138672,-26.775920867919922,6.980208873748779,-12.887430191040039,-26.534191131591797,-17.612878799438477,36.523136138916016,0.7112634778022766,62.450035095214844,16.257043838500977,23.600393295288086,-38.96022415161133,24.792238235473633,-15.303954124450684,-46.249359130859375,-12.645149230957031,-12.333733558654785,46.32758712768555,-1.7311532497406006,-12.844347953796387,16.575546264648438,17.135601043701172,15.004388809204102,-48.36564254760742,-53.454376220703125,1.2010406255722046,-30.74831199645996,-18.583192825317383,3.990054130554199,-1.4312490224838257,34.184791564941406,54.39457702636719,40.75825500488281,-28.80931282043457,-47.99675369262695,31.042016983032227,20.65347671508789,34.26319122314453,-24.294677734375,-52.524635314941406,43.90229034423828,-17.59788703918457,23.964590072631836,34.54310607910156,-5.001038074493408,-43.27561950683594,42.12385177612305,-19.737022399902344,0.40334829688072205,-0.7721102833747864,-7.460511207580566,-31.101669311523438,44.391578674316406,-19.225114822387695,-13.026927947998047,-57.55036544799805,59.460025787353516,49.10454177856445,-4.041298866271973,-58.0318603515625,-48.84372329711914,5.620754718780518,-54.19002914428711,-41.096893310546875,-14.093793869018555,-49.05951690673828,-7.436690807342529,3.6860225200653076,-18.9716739654541,37.997581481933594,42.827362060546875,-6.761679649353027,39.231842041015625,2.631382703781128,-12.44762134552002,39.09634780883789,-51.643863677978516,33.41925048828125,14.018115997314453,11.759735107421875,-22.42936134338379,49.83439254760742,66.6429672241211,-0.2056562900543213,-17.850597381591797,8.037737846374512,-1.992990255355835,-14.999157905578613,-11.2101469039917,11.996916770935059,25.80586051940918,49.913002014160156,53.86940002441406,5.428220272064209,54.30805206298828,-15.207059860229492,43.09552764892578,53.3865852355957,-37.16810607910156,-5.179470539093018,50.03668212890625,-7.289411544799805,-41.890281677246094,5.67143440246582,-0.25229236483573914,-17.62615203857422,-29.689228057861328,-15.80567455291748,15.046285629272461,-3.037527322769165,-49.80625915527344,47.01055145263672,17.776107788085938,-34.91291046142578,68.74873352050781,-41.13188552856445,29.909042358398438,53.751644134521484,1.4371906518936157,-27.502185821533203,71.03614044189453,-17.96712303161621,-50.935874938964844,-8.847373008728027,35.58943557739258,28.996809005737305,-9.665492057800293,18.519229888916016,25.802684783935547,31.644882202148438,30.194509506225586,59.117557525634766,18.912399291992188,-19.639495849609375,-10.80258560180664,-30.437782287597656,0.008988995105028152,-13.410435676574707,41.30072021484375,69.6220703125,16.154613494873047,28.081483840942383,-21.055513381958008,-11.337181091308594,-0.4446104168891907,18.873525619506836,-22.055503845214844,-40.4406852722168,-3.251124858856201,-48.77214813232422,-49.78007888793945,-57.62932205200195,-2.9887783527374268,67.67606353759766,49.86320114135742,44.44086837768555,31.436660766601562,-12.974209785461426,-38.972015380859375,41.57256317138672,-36.302337646484375,1.5863085985183716,58.373050689697266,-57.200504302978516,-7.625947952270508,-29.213577270507812,15.46297836303711,47.442527770996094,4.4478535652160645,-43.352081298828125,-23.025081634521484,59.798797607421875,-20.92259407043457,-15.563104629516602,-16.50272560119629,-2.2190093994140625,8.48936653137207,-9.421305656433105,34.11751937866211,24.885051727294922,-6.966099739074707,60.318748474121094,51.43394470214844,-5.179337024688721,-20.121124267578125,-9.230754852294922,-37.912635803222656,-5.649369716644287,-19.265464782714844,2.2606287002563477,-11.369521141052246,41.65493392944336,23.313915252685547,44.539703369140625,15.928780555725098,-18.827970504760742,5.208859920501709,17.3400936126709,-28.590373992919922,-52.4901237487793,-0.47065502405166626,3.4593417644500732,40.39644241333008,-20.883861541748047,-21.33919906616211,-5.933140754699707,62.92165756225586,8.451143264770508,-22.535547256469727,-42.92897415161133,-9.78752326965332,-55.162139892578125,-40.58306884765625,-31.363922119140625,28.89828109741211,49.230533599853516,-23.03873062133789,27.234067916870117,6.6184000968933105,4.4754743576049805,-23.02460479736328,-11.343329429626465,-43.20521545410156,-41.577301025390625,-17.739425659179688,53.53948211669922,35.49114990234375,-13.741106033325195,-28.655553817749023,60.951904296875,0.6885135769844055,-51.7972297668457,69.96170806884766,-53.56459426879883,2.9857704639434814,-3.0702614784240723,-17.535289764404297,2.169729232788086,44.28370666503906,-18.01685905456543,-16.774559020996094,-14.038212776184082,-52.905723571777344,43.60767364501953,-14.356405258178711,-42.920753479003906,-58.228668212890625,61.46887969970703,-4.080668926239014,-30.818679809570312,46.578346252441406,-54.973182678222656,67.42964172363281,16.962404251098633,-11.286799430847168,-9.707959175109863,58.92732620239258,2.573289155960083,8.018312454223633,-57.54080581665039,-22.7056827545166,-4.200438499450684,6.944124221801758,15.911907196044922,43.83626937866211,-35.792869567871094,-22.352802276611328,-39.842193603515625,-28.570741653442383,19.769926071166992,6.166614532470703,-51.305484771728516,-21.894826889038086,-47.34920120239258,4.382394790649414,53.88081359863281,-9.951347351074219,-40.98983383178711,2.8793528079986572,-17.966838836669922,13.851869583129883,34.478084564208984,-9.658151626586914,26.362442016601562,27.626487731933594,-20.102930068969727,-6.535227298736572,-40.967384338378906,-4.478245258331299,8.170292854309082,54.01880645751953,24.19660186767578,70.21137237548828,-22.213191986083984,37.31996154785156,-6.92537784576416,35.10227584838867,9.31201171875,-52.22746276855469,-9.730903625488281,-44.46828842163086,3.6148059368133545,10.949210166931152,41.91362380981445,-21.89072036743164,-50.778621673583984,49.048309326171875,16.948572158813477,-10.155716896057129,-12.00707721710205,-39.33827590942383,41.91813659667969,37.445430755615234,-0.535243570804596,-14.017107963562012,5.688635349273682,6.663969993591309,-29.765533447265625,51.7307243347168,-46.37675094604492,-46.249610900878906,53.43225860595703,-41.67794418334961,69.30150604248047,-49.85666275024414,63.75731658935547,-51.913597106933594,61.154518127441406,9.957518577575684,60.98040008544922,-19.63775634765625,5.969137191772461,27.566186904907227,68.60081481933594,-46.62147903442383,-25.567502975463867,-16.747516632080078,-58.707515716552734,5.683993816375732,-40.23633575439453,45.0876350402832,-14.308460235595703,-18.922754287719727,-11.463618278503418,41.781150817871094,19.302656173706055,42.26405715942383,23.36468505859375,43.7010383605957,2.7349038124084473,-3.64721417427063,-1.9938172101974487,59.35102462768555,20.72928810119629,-2.578608274459839,18.503875732421875,69.0628433227539,17.88067054748535,-4.179867744445801,-20.217458724975586,11.595866203308105,44.261253356933594,-52.15888977050781,-13.185436248779297,-29.136999130249023,38.53474426269531,-20.177875518798828,33.62298583984375,11.655887603759766,-17.651060104370117,59.449066162109375,-17.775367736816406,-22.42217254638672,18.723556518554688,34.1921272277832,24.613901138305664,14.493871688842773,17.15958595275879,-5.85176944732666,-52.55073165893555,-14.018464088439941,-9.354241371154785,-49.882659912109375,-21.685073852539062,-14.58070182800293,-19.640403747558594,13.666637420654297,-21.688304901123047,-22.15976333618164,33.344871520996094,33.3326530456543,-12.089947700500488,-45.48770523071289,46.585445404052734,9.49488353729248,50.50424575805664,-43.22397232055664,37.81193542480469,-10.12930965423584,-44.55689239501953,-3.628800868988037,4.147272109985352,-13.676262855529785,12.825112342834473,-55.782005310058594,-5.778719902038574,63.37554931640625,-55.07484436035156,61.35051345825195,2.323726177215576,-14.221714973449707,-38.64448547363281,24.897741317749023,-8.018430709838867,-18.541093826293945,-0.9750227928161621,10.475637435913086,-38.384765625,-24.061304092407227,17.875789642333984,-37.784576416015625,46.87031555175781,68.46331787109375,-9.71303939819336,9.509157180786133,-4.239372730255127,-19.17743682861328,36.2574462890625,-10.149263381958008,-49.93864822387695,-16.36939239501953,14.487038612365723,-41.254478454589844,-8.003884315490723,60.54533767700195,8.981149673461914,-26.092304229736328,42.46786880493164,2.956209421157837,-10.0231351852417,3.0524871349334717,2.2932634353637695,29.713207244873047,-10.190655708312988,64.23079681396484,-6.545005798339844,44.008724212646484,29.46184730529785,-8.345417976379395,30.714509963989258,29.46956443786621,55.07956314086914,1.1519489288330078,-30.733850479125977,10.846454620361328,-40.84062576293945,43.90811538696289,-23.66322135925293,-6.139195442199707,-14.988995552062988,-52.02276611328125,7.902493953704834,-19.52709197998047,8.88964557647705,0.7780768871307373,-13.756030082702637,-11.61022663116455,-57.033897399902344,-16.950345993041992,-51.80457305908203,6.163506984710693,-1.5917059183120728,-10.078163146972656,3.6071388721466064,8.655766487121582,8.485942840576172,-8.71331787109375,19.614572525024414,-13.899486541748047,-50.08464431762695,3.244810104370117,-1.0116795301437378,-7.73195219039917,-18.936670303344727,-41.34634017944336,-39.420494079589844,-16.48766326904297,-10.6228609085083,1.9700565338134766,-24.35035514831543,-22.964218139648438,-2.6471402645111084,-17.410907745361328,44.76764678955078,-2.191195249557495,-7.047995090484619,45.53926467895508,48.87857437133789,25.98326873779297,-34.206993103027344,-5.771613597869873,-26.80337905883789,-23.34660530090332,22.816843032836914,-51.319820404052734,15.121528625488281,53.054054260253906,15.318743705749512,-48.50639724731445,-9.544427871704102,44.76068878173828,40.13643264770508,-2.8429672718048096,5.0024518966674805,8.646142959594727,-44.844913482666016,-52.6035041809082,9.732125282287598,9.993611335754395,-11.897204399108887,38.733333587646484,-44.81992721557617,7.863106727600098,-14.145520210266113,35.76017761230469,62.516700744628906,59.525970458984375,-1.759648084640503,-3.764298439025879,-14.853495597839355,8.005538940429688,50.4528923034668,-20.733943939208984,28.165578842163086,-10.145992279052734,-46.31440734863281,-6.034323215484619,3.1662397384643555,16.05445098876953,-0.9839935898780823,-14.09416389465332,-39.438011169433594,56.840660095214844,11.073196411132812,-55.69370651245117,30.7485294342041,-55.60887145996094,-50.63325500488281,52.988792419433594,-7.147814750671387,3.4807050228118896,54.95861053466797,-4.913916110992432,11.042986869812012,46.90860366821289,45.71437072753906,25.568090438842773,36.66862106323242,64.3386459350586,33.5428466796875,-26.977453231811523,-17.154863357543945,-20.209789276123047,8.194256782531738,4.331183433532715,-18.417993545532227,-25.57801055908203,6.824787139892578,-14.986695289611816,-51.528377532958984,61.45188522338867,-28.379323959350586,46.69986343383789,46.61513137817383,-9.467798233032227,-30.638227462768555,13.814742088317871,0.6406200528144836,-39.257266998291016,14.537028312683105,-55.939273834228516,25.06421661376953,60.35857391357422,-37.62861251831055,39.931732177734375,-3.9684813022613525,33.445255279541016,0.8025517463684082,42.7592658996582,32.88847351074219,4.805044174194336,65.46858978271484,-20.959714889526367,-24.455595016479492,-57.797794342041016,8.363937377929688,-5.654325485229492,1.3925994634628296,-8.035367965698242,4.917609691619873,35.01789855957031,-12.448530197143555,-27.715303421020508,-11.41441822052002,8.454119682312012,18.26305389404297,-8.520743370056152,47.52912139892578,-21.419248580932617,-11.297890663146973,-57.35091018676758,-43.79941177368164,-14.289310455322266,-8.745857238769531,30.57341766357422,17.637205123901367,5.226077556610107,-5.825558185577393,-41.95313262939453,9.258336067199707,39.25543975830078,26.892681121826172,48.70710372924805,-14.41921615600586,31.090682983398438,8.642836570739746,-15.223976135253906,12.959131240844727,-44.51533508300781,-59.90483474731445,-11.564870834350586,21.816360473632812,-43.23912048339844,-59.0810546875,-2.0976510047912598,-14.008462905883789,17.545040130615234,-8.100037574768066,-12.449817657470703,-6.980576992034912,-29.0974178314209,21.195730209350586,-0.5973773002624512,25.409019470214844,8.110610961914062,17.895681381225586,-5.105949878692627,-14.282357215881348,-10.976632118225098,44.08631896972656,-44.45118713378906,-48.482643127441406,-19.292442321777344,18.585411071777344,50.68683624267578,-41.93489074707031,-20.07465171813965,-16.527841567993164,-41.54117202758789,14.145471572875977,-9.786216735839844,22.162925720214844,7.83007287979126,-14.330945014953613,-5.3574538230896,41.555294036865234,21.199819564819336,-51.67168426513672,-13.664069175720215,-50.47798538208008,-6.595694541931152,-30.859386444091797,10.437519073486328,-17.193885803222656,-49.604652404785156,38.722679138183594,42.69865417480469,68.78939056396484,-51.17795944213867,35.194278717041016,15.571513175964355,9.687115669250488,-3.997729778289795,-38.306793212890625,-10.841655731201172,11.302367210388184,-11.186943054199219,-0.232004314661026,-27.03133773803711,-9.727017402648926,-39.46918869018555,6.42128849029541,31.089378356933594,-51.68864822387695,-12.164243698120117,42.158721923828125,51.28290939331055,17.317466735839844,16.431615829467773,6.244176387786865,9.622673988342285,-5.733340740203857,37.117584228515625,-57.82847213745117,51.097896575927734,-15.935222625732422,3.936936616897583,-58.30026626586914,-0.15384894609451294,-55.82759094238281,14.094021797180176,-12.374080657958984,10.562215805053711,-44.312339782714844,-33.991703033447266,-15.14663028717041,-3.0122461318969727,36.862464904785156,-0.4976564645767212,34.529293060302734,3.6300806999206543,22.695589065551758,-10.400660514831543,-12.539432525634766,0.8961629867553711,-4.335289478302002,67.97946166992188,54.746368408203125,-41.85795593261719,-24.513317108154297,2.288789749145508,52.175289154052734,5.6834540367126465,18.837905883789062,5.473574638366699,-14.95804214477539,-42.09162521362305,59.39501190185547,-8.763660430908203,-11.008875846862793,36.47962188720703,16.2203369140625,24.967910766601562,-23.49232292175293,32.50615310668945,-18.507247924804688,-23.69664192199707,-12.233536720275879,50.46333694458008,7.391297340393066,-16.264892578125,27.86946678161621,-28.185752868652344,13.134820938110352,-41.46311569213867,-18.98525047302246,-14.480774879455566,1.6063495874404907,-38.50395965576172,11.279714584350586,-18.11821174621582,25.919599533081055,-11.607258796691895,-24.948110580444336,-43.87102127075195,-25.063982009887695,-11.333271026611328,-23.42584800720215,-43.9030647277832,26.676794052124023,28.907535552978516,8.335427284240723,-5.030176162719727,-25.973907470703125,-20.92860984802246,31.522480010986328,-3.349748134613037,-44.6913948059082,-42.53036117553711,53.13338851928711,26.255420684814453,0.13620786368846893,15.393017768859863,-51.79803466796875,-6.293679237365723,4.094767093658447,34.66317367553711,-50.79068374633789,-24.504032135009766,-18.86993408203125,-57.494747161865234,-37.82221221923828,-51.79539489746094,-0.11646020412445068,-18.169565200805664,41.89292526245117,5.347143173217773,5.442080020904541,2.7421045303344727,-30.301143646240234,-0.47537922859191895,-49.98334503173828,-22.99795913696289,47.19062805175781,24.090478897094727,3.5219712257385254,-1.7173633575439453,29.05278968811035,37.884361267089844,18.803377151489258,-24.407575607299805,28.292160034179688,8.910613059997559,65.27273559570312,-46.10149002075195,-45.97940444946289,-25.78547477722168,-3.3231041431427,-14.129072189331055,-16.56142234802246,27.140748977661133,-17.025148391723633,-29.38871955871582,2.866379737854004,-38.85113525390625,-8.852590560913086,-18.166975021362305,-42.70519256591797,-12.241939544677734,13.083854675292969,-12.917281150817871,-53.027435302734375,-39.658042907714844,30.011079788208008,69.5346450805664,34.067989349365234,15.584266662597656,35.212181091308594,48.71360778808594,-40.62942886352539,60.44672775268555,66.97718048095703,-8.748496055603027,46.258323669433594,-42.18837356567383,40.674888610839844,-50.03536605834961,0.7800865173339844,19.93750762939453,-19.861228942871094,26.493362426757812,20.987783432006836,15.586283683776855,-13.329207420349121,-4.232383728027344,-25.62307357788086,-45.122554779052734,25.363332748413086,14.542118072509766,-21.653810501098633,5.4630961418151855,9.30194091796875,-54.93560791015625,-16.42706871032715,55.23331069946289,35.157188415527344,47.44558334350586,27.70271110534668,6.469643592834473,41.62327575683594,24.375286102294922,4.387152194976807,-49.5789794921875,-18.099767684936523,10.66330337524414,5.200861930847168,20.286867141723633,49.09953689575195,6.1834540367126465,-25.609405517578125,35.02104187011719,47.730594635009766,-52.671241760253906,10.591318130493164,-9.776514053344727,21.48319435119629,-27.030033111572266,-5.3113884925842285,-20.797245025634766,44.320125579833984,-26.227378845214844,6.708523273468018,-6.883432865142822,-29.187849044799805,-8.815911293029785,8.947663307189941,-37.82117462158203,-43.88289260864258,-9.035456657409668,-55.21258544921875,-14.217790603637695,-12.114550590515137,-44.671844482421875,-15.32300853729248,-45.515480041503906,18.667654037475586,26.39533042907715,28.067995071411133,37.051753997802734,26.987375259399414,22.79633140563965,-10.29337215423584,-6.0540289878845215,-50.1110725402832,-29.540632247924805,23.5616397857666,52.01833724975586,2.7078542709350586,-22.953384399414062,-16.98111343383789,22.05179786682129,6.374568939208984,-45.92256546020508,-17.364850997924805,-49.402584075927734,64.93064880371094,57.97016525268555,2.5209360122680664,-18.394725799560547,1.4817086458206177,21.982030868530273,1.3516597747802734,-52.16361618041992,49.24361038208008,64.24398040771484,39.46022033691406,37.410797119140625,-24.412919998168945,55.01218032836914,22.489072799682617,56.01948928833008,69.51041412353516,27.514585494995117,-17.75689125061035,69.74082946777344,-2.2366106510162354,-50.31330871582031,-22.8652400970459,60.93645095825195,50.7202262878418,60.79560852050781,38.64625930786133,63.84443283081055,31.199304580688477,-20.81475257873535,53.05635070800781,-11.787814140319824,40.07505798339844,-13.443399429321289,44.9437141418457,-47.44013977050781,51.151058197021484,-2.4873673915863037,-50.381744384765625,-6.8925652503967285,-26.227848052978516,-1.7368831634521484,-8.00973892211914,60.14478302001953,49.152957916259766,-16.423011779785156,15.664021492004395,28.911638259887695,15.378275871276855,20.214277267456055,-29.997623443603516,-51.14724349975586,-10.553791046142578,10.716185569763184,-2.722646474838257,51.45865249633789,10.587313652038574,-8.032238006591797,17.21886444091797,33.26628875732422,28.999439239501953,19.74770164489746,-11.637421607971191,-39.93220901489258,16.698938369750977,70.97771453857422,-27.09652328491211,27.10648536682129,72.5799789428711,-57.78847885131836,26.475109100341797,-29.032196044921875,39.9185676574707,34.83681869506836,59.63555908203125,44.582664489746094,27.24620246887207,47.856529235839844,55.52024459838867,-11.335575103759766,-23.451120376586914,-18.77193832397461,-15.406813621520996,-7.094955921173096,-1.7263106107711792,-41.866943359375,14.253823280334473,27.627702713012695,-21.014650344848633,-12.031356811523438,-47.190528869628906,9.619623184204102,5.691562175750732,49.99834442138672,-5.652404308319092,3.013685703277588,8.637299537658691,4.234402656555176,30.811885833740234,-51.39052963256836,-22.022232055664062,5.5277605056762695,0.35146287083625793,15.58127212524414,2.1907174587249756,-13.972614288330078,42.6059455871582,-24.044692993164062,26.933767318725586,39.46602249145508,-32.04469680786133,-31.046606063842773,-25.819067001342773,-30.9748477935791,-13.338363647460938,14.5103120803833,-20.281057357788086,-57.44428253173828,58.42584991455078,16.115800857543945,5.682624340057373,-6.348936080932617,-13.339266777038574,-11.47857666015625,1.6662843227386475,-18.30391502380371,6.6318888664245605,11.065126419067383,-44.814483642578125,-21.934125900268555,13.767060279846191,12.535473823547363,26.351900100708008,-19.865243911743164,-39.36970520019531,61.3868522644043,-32.532379150390625,5.431453227996826,-51.286556243896484,34.445945739746094,28.226179122924805,8.455146789550781,-14.707291603088379,62.86966323852539,-10.90562915802002,-3.788529634475708,-28.911916732788086,10.87143325805664,-53.118896484375,17.742733001708984,-8.735352516174316,-4.578885078430176,-11.511268615722656,-8.788637161254883,56.64717483520508,-5.536532878875732,3.422466278076172,0.7004979252815247,-22.707427978515625,34.95838165283203,-11.29415512084961,7.265997409820557,-10.216334342956543,-22.2114200592041,40.387977600097656,-6.905200004577637,-31.29640769958496,-6.746278285980225,-51.05054473876953,46.48921203613281,-51.31736373901367,2.8860929012298584,43.63621520996094,-7.521600723266602,-4.978295803070068,52.3791389465332,23.917619705200195,-12.560005187988281,3.658961534500122,-38.480133056640625,31.997644424438477,-9.398999214172363,17.879636764526367,-36.564842224121094,52.20730209350586,33.60457229614258,0.4669627845287323,14.733694076538086,47.15461730957031,31.07282257080078,45.75437545776367,43.89707565307617,-58.15400695800781,32.1347541809082,0.6625823974609375,-29.735637664794922,-8.581674575805664,-13.839367866516113,5.988667011260986,-28.04291534423828,-17.2941837310791,24.10794448852539,-4.1951494216918945,-14.794570922851562,-50.05723190307617,-11.811165809631348,28.69405174255371,54.435577392578125,10.81213665008545,44.73920822143555,10.880436897277832,-44.63969421386719,37.179988861083984,-14.014860153198242,-12.606446266174316,-15.367268562316895,26.956920623779297,6.429335594177246,9.584793090820312,-14.766214370727539,-13.162474632263184,25.393692016601562,-57.968788146972656,-52.5641975402832,-14.244441032409668,-1.0741240978240967,-48.12582015991211,50.34510040283203,33.06033706665039,68.29485321044922,-19.17123031616211,-5.5282301902771,-51.38941192626953,27.100170135498047,28.052309036254883,-19.13105010986328,28.817787170410156,-16.155397415161133,36.1274528503418,15.334169387817383,-10.853557586669922,-8.918235778808594,-13.142556190490723,-11.060503005981445,8.524675369262695,-38.852115631103516,-36.71146011352539,10.57121753692627,43.162784576416016,56.00796890258789,-13.499695777893066,-0.2758035361766815,33.723453521728516,14.2412109375,33.65312957763672,43.71385192871094,0.05249640718102455,-58.008934020996094,-10.539236068725586,-40.853355407714844,47.83467483520508,-11.899314880371094,44.29317855834961,-18.93926429748535,-1.2745730876922607,-0.9994620680809021,30.447628021240234,50.76079559326172,-29.294546127319336,42.581966400146484,-26.201492309570312,-49.786197662353516,35.56562805175781,31.538360595703125,1.003845453262329,31.26984405517578,38.8974609375,24.138702392578125,-7.121241569519043,69.93738555908203,-10.207202911376953,6.0752363204956055,-3.9298579692840576,62.04578399658203,13.391889572143555,-42.46245193481445,-43.5619010925293,33.4442024230957,5.115785121917725,-12.488105773925781,4.629006862640381,-49.215389251708984,2.0032870769500732,0.6972575187683105,-43.64876174926758,2.1476833820343018,36.91338348388672,-5.898979663848877,-14.451004981994629,-20.06462287902832,-45.76929473876953,-39.13016128540039,-17.073579788208008,-10.568770408630371,-13.480029106140137,-19.172929763793945,-6.407163619995117,-9.413068771362305,-11.386775970458984,33.438026428222656,-27.599470138549805,-5.684491157531738,-58.22941207885742,17.968860626220703,-6.391586780548096,26.293432235717773,37.51319885253906,44.72810745239258,28.330204010009766,30.709293365478516,-15.253418922424316,-14.779240608215332,13.558809280395508,12.753067970275879,-54.31904220581055,50.620025634765625,-9.502922058105469,-5.3122100830078125,-38.66779327392578,14.498456954956055,-19.807037353515625,-8.492032051086426,66.59380340576172,-58.21492004394531,7.130716800689697,48.5588264465332,-13.762828826904297,-39.00408935546875,-47.91762161254883,-7.279863357543945,-6.850318908691406,28.427621841430664,-12.112361907958984,-39.90294647216797,-5.82159423828125,8.005545616149902,27.70029640197754,21.221702575683594,24.01436424255371,-11.03302001953125,-41.23514938354492,-46.576393127441406,18.21038055419922,-11.338976860046387,21.052709579467773,67.11770629882812,-50.00637435913086,25.667890548706055,-47.8219108581543,-9.695409774780273,-52.69522476196289,-3.2866439819335938,-46.71087646484375,24.994503021240234,-15.307104110717773,-42.049949645996094,1.8168524503707886,6.033876895904541,0.21115516126155853,-10.75374698638916,-7.003126621246338,-19.49247169494629,-4.132001876831055,52.08906555175781,-27.767690658569336,52.210445404052734,-47.603858947753906,-53.24160385131836,-30.644269943237305,48.035701751708984,-39.661354064941406,27.744403839111328,-40.88621520996094,3.3577115535736084,-3.658903121948242,-39.26133728027344,-47.286380767822266,7.381765365600586,47.582740783691406,34.91645812988281,-11.883076667785645,59.6607666015625,28.121007919311523,7.250226020812988,16.941083908081055,-5.351924419403076,70.0853500366211,0.083303302526474,-40.368343353271484,36.895660400390625,10.44446849822998,70.7508773803711,36.42338180541992,6.606061935424805,16.806154251098633,-40.27968215942383,-50.98160171508789,31.797664642333984,-18.307861328125,-15.832581520080566,-13.212773323059082,-57.864437103271484,26.969451904296875,38.35694122314453,-31.9129581451416,-41.15473556518555,33.39939880371094,-46.263275146484375,-11.107635498046875,31.28293800354004,2.7697408199310303,10.675745964050293,-9.260859489440918,-45.186893463134766,-6.662139892578125,9.569808959960938,-18.76662826538086,-57.65312194824219,42.01295852661133,-20.170795440673828,11.927871704101562,-15.728894233703613,-24.268163681030273,-17.7380428314209,67.26251220703125,1.2145525217056274,33.82224655151367,48.91982650756836,-13.79906177520752,48.16624069213867,-2.948415756225586,-5.063145637512207,34.62123489379883,-22.98775863647461,-13.332158088684082,-26.546335220336914,-49.902671813964844,-22.68900489807129,-29.650291442871094,39.389835357666016,-29.66090202331543,25.90620994567871,36.82733917236328,49.14111328125,-10.073718070983887,-43.16342544555664,-0.8828608989715576,-2.7434511184692383,46.869873046875,9.825502395629883,43.86138916015625,38.954742431640625,53.44804000854492,21.3407039642334,-7.458061695098877,19.00116729736328,-0.20346742868423462,-3.574517011642456,-16.89251136779785,-26.270442962646484,26.956783294677734,31.175186157226562,4.090874671936035,47.19119644165039,6.413515567779541,42.10555648803711,43.509490966796875,-3.7261962890625,49.99911880493164,27.28983497619629,3.6670241355895996,26.655609130859375,36.8387451171875,34.92896270751953,8.199028015136719,-5.234023094177246,-52.76961135864258,5.130815029144287,-16.365556716918945,35.490543365478516,-13.605886459350586,-13.881292343139648,1.3158107995986938,40.11383056640625,-8.895618438720703,61.84724807739258,40.91068649291992,-23.260345458984375,48.67020797729492,-18.981767654418945,60.192501068115234,21.29550552368164,-7.449604034423828,-51.488494873046875,-6.571774482727051,72.42855072021484,-14.214451789855957,7.266317367553711,-9.51027774810791,-46.15174865722656,6.474768161773682,34.67257308959961,59.059165954589844,-42.39663314819336,-55.01484680175781,-16.77530288696289,-41.28068542480469,-13.30620288848877,-39.67607498168945,-16.291671752929688,-51.773555755615234,57.721134185791016,-55.07719039916992,35.690250396728516,61.41606521606445,-32.1376838684082,-37.0550422668457,36.72554397583008,30.471906661987305,60.8441047668457,4.172892093658447,29.78923225402832,53.63494873046875,-53.14988327026367,5.054144859313965,47.116485595703125,-8.236917495727539,35.18646240234375,2.0375490188598633,-5.671072483062744,3.7668728828430176,67.70417022705078,-15.677430152893066,-4.853049278259277,52.5707893371582,5.46929407119751,-31.992177963256836,27.254674911499023,-47.8039436340332,5.070040702819824,-10.088530540466309,-6.601059913635254,37.312801361083984,-13.876445770263672,54.296409606933594,-29.642791748046875,10.136039733886719,-12.767370223999023,46.72344970703125,11.210721969604492,46.86953353881836,-31.5001277923584,-19.749229431152344,38.87202072143555,-7.6631903648376465,14.644482612609863,44.381797790527344,-2.3156251907348633,-42.60074234008789,-24.293251037597656,-18.022859573364258,-34.541812896728516,29.9854736328125,-25.403724670410156,21.105083465576172,-22.01413345336914,-57.86906814575195,-21.559005737304688,-36.52727508544922,-28.35968780517578,-4.613479137420654,-17.12308120727539,7.771451473236084,22.284250259399414,-26.750581741333008,6.5214362144470215,-39.484954833984375,2.2253031730651855,-16.998111724853516,21.13789176940918,-51.166202545166016,40.912109375,-29.29372787475586,56.11614227294922,-42.417938232421875,71.74342346191406,17.602535247802734,-15.869373321533203,-2.6299941539764404,1.3476487398147583,13.714191436767578,7.735295295715332,62.50785446166992,-15.804120063781738,-59.089935302734375,-16.137916564941406,52.765987396240234,-22.154943466186523,48.355228424072266,-20.002412796020508,6.647838115692139,3.769453525543213,22.618789672851562,-19.922916412353516,16.92329216003418,-41.199214935302734,-16.879283905029297,-53.263912200927734,1.4335399866104126,8.908040046691895,26.46365737915039,-8.524882316589355,35.81694030761719,29.297504425048828,-5.354135513305664,-3.5505893230438232,10.902312278747559,-5.170032024383545,-42.12412643432617,27.014110565185547,48.44411087036133,-30.095783233642578,-44.68168640136719,-13.5852632522583,-21.62161636352539,-51.57376480102539,37.759342193603516,-3.6694743633270264,69.21329498291016,-22.395811080932617,-25.42490577697754,-47.325557708740234,-12.341675758361816,67.11934661865234,-0.5202769041061401,-51.64042282104492,3.6635429859161377,-23.94976806640625,-30.322040557861328,-24.30377769470215,22.683530807495117,30.291587829589844,44.633975982666016,-10.402497291564941,43.41828536987305,-6.639277458190918,61.962459564208984,-3.05220627784729,7.417170524597168,-41.497222900390625,12.977832794189453,-7.807107925415039,-19.536888122558594,26.006654739379883,-42.92938232421875,-10.103866577148438,14.821172714233398,-5.02964448928833,15.27889347076416,-10.090764999389648,40.9357795715332,55.011444091796875,-12.176572799682617,-52.06172180175781,44.565162658691406,-17.94261360168457,-39.526981353759766,41.097312927246094,28.46489715576172,17.96819496154785,-38.39963150024414,-40.96539306640625,-13.87215805053711,32.61476516723633,-6.87572717666626,-2.775432825088501,-17.61343002319336,-12.119891166687012,25.791627883911133,33.93696594238281,-3.6271450519561768,34.76272964477539,59.5652961730957,-2.8485465049743652,5.822696685791016,-44.82229232788086,-29.023494720458984,-11.954591751098633,-50.53294372558594,-6.069561004638672,-9.677534103393555,-19.022174835205078,17.361671447753906,-10.031363487243652,-39.14102554321289,-25.879737854003906,9.861531257629395,-6.800830364227295,-4.302507400512695,28.184904098510742,30.2305850982666,17.41063117980957,66.85416412353516,27.707761764526367,66.478271484375,-37.751651763916016,-4.738379001617432,-0.15295864641666412,-21.96002769470215,35.8072624206543,5.405747890472412,42.013179779052734,-10.910080909729004,-42.529117584228516,-5.520224094390869,-14.462363243103027,44.67330551147461,6.194530487060547,-0.1479840725660324,-27.524385452270508,26.99936866760254,55.76222610473633,-21.292024612426758,58.45916748046875,-10.826957702636719,-40.16195297241211,-12.718535423278809,49.60787582397461,37.667057037353516,-17.009662628173828,-10.06179141998291,-44.58738327026367,4.572663307189941,-16.62245750427246,55.257164001464844,-43.18573760986328,-15.650562286376953,18.93290138244629,-7.905181407928467,-3.785156011581421,37.524810791015625,-17.64899253845215,-40.31381607055664,17.136432647705078,-24.45179557800293,-6.076819896697998,-17.701330184936523,-4.228214263916016,21.138458251953125,56.26682662963867,27.774450302124023,4.064024448394775,38.158721923828125,-54.274784088134766,9.93273639678955,-21.911664962768555,-10.615108489990234,-46.89472579956055,-52.968833923339844,-43.48528289794922,10.744970321655273,53.26405715942383,-8.010581970214844,50.6909065246582,-6.71719217300415,8.870983123779297,35.35993576049805,-51.293312072753906,-11.088324546813965,38.67051696777344,-56.06235122680664,9.98590087890625,-30.01731300354004,37.66654968261719,45.157039642333984,1.5555092096328735,-4.211584091186523,-8.325803756713867,35.53110122680664,35.34079360961914,-6.886499881744385,-5.216098308563232,8.336769104003906,-41.8988037109375,-53.593868255615234,-10.46496868133545,16.1437931060791,-6.749517440795898,4.2706618309021,-44.87006759643555,5.693504810333252,-10.627376556396484,46.36134338378906,-46.485599517822266,57.290252685546875,12.370708465576172,61.89497756958008,-4.431097984313965,42.575340270996094,41.000484466552734,-31.054515838623047,47.527618408203125,-5.200982570648193,-9.939863204956055,3.8502283096313477,-11.454039573669434,-6.167702674865723,33.56583786010742,-12.012200355529785,-9.687172889709473,43.834930419921875,16.795045852661133,-26.922344207763672,-6.693284034729004,-44.654876708984375,-16.2774600982666,16.653602600097656,-29.959306716918945,22.10999298095703,0.1493585854768753,-19.792314529418945,34.372947692871094,-59.056068420410156,73.09883117675781,-38.08515548706055,-30.15630340576172,-32.17319107055664,-12.370673179626465,40.5736083984375,-9.474797248840332,72.99348449707031,39.542503356933594,35.78700637817383,38.02240753173828,16.402957916259766,16.6458797454834,24.03607749938965,62.09758377075195,44.56990051269531,56.14448928833008,7.055809020996094,37.890716552734375,-14.205140113830566,69.21717071533203,7.629631519317627,43.5308952331543,5.687272548675537,7.485784530639648,-29.644163131713867,39.88581848144531,9.674673080444336,54.63196563720703,6.250295639038086,24.655433654785156,-6.915308952331543,-19.108280181884766,13.283023834228516,-19.045358657836914,66.97297668457031,-5.016600131988525,53.94001007080078,26.23198890686035,-7.417773723602295,19.746980667114258,-13.232742309570312,-45.937232971191406,-52.978240966796875,-5.9375433921813965,44.74124526977539,-17.66216278076172,53.808475494384766,-10.072675704956055,-1.4571187496185303,15.834237098693848,55.31597137451172,-53.51868438720703,-17.886198043823242,-38.20418167114258,-56.369571685791016,71.83403778076172,-2.9174082279205322,-52.79790496826172,-19.288389205932617,-9.26842975616455,1.666136622428894,-49.26411437988281,33.62636947631836,23.680112838745117,33.70988082885742,-21.94826889038086,-26.266178131103516,34.71402359008789,-43.01921081542969,41.18220901489258,-20.282413482666016,-45.26197052001953,8.22294807434082,42.429298400878906,49.45248794555664,-9.291964530944824,4.748330116271973,-51.351890563964844,61.61294174194336,-11.994651794433594,-4.0983967781066895,-12.89736270904541,67.83429718017578,-13.932852745056152,3.5416502952575684,17.315017700195312,68.5018081665039,-21.9863338470459,-11.645402908325195,-2.164823293685913,-1.9461652040481567,-53.188533782958984,-11.045177459716797,-4.898481369018555,17.764148712158203,-17.587860107421875,37.53415298461914,-5.090325832366943,-30.442651748657227,3.146286725997925,-7.061672210693359,48.813777923583984,6.17865514755249,12.17739200592041,12.438932418823242,33.873287200927734,-42.18849182128906,2.1229684352874756,-31.778749465942383,25.252309799194336,-6.935583591461182,5.258127212524414,33.94384765625,-4.11800479888916,-50.961944580078125,31.28337287902832,41.77384948730469,14.825723648071289,35.194252014160156,-4.170534610748291,35.435089111328125,-18.14468002319336,8.627791404724121,0.09964883327484131,25.072338104248047,-16.225753784179688,-52.54408264160156,-41.135902404785156,2.4025557041168213,24.583152770996094,-40.893306732177734,-47.24888229370117,-16.762561798095703,13.784331321716309,17.40455436706543,5.959355354309082,51.55118179321289,33.79950714111328,-53.035491943359375,33.95106506347656,50.57615280151367,-51.985164642333984,19.168659210205078,7.289383888244629,-13.114500999450684,12.338065147399902,-38.30455780029297,-4.93863582611084,-5.580440998077393,-20.022933959960938,-33.51777267456055,-46.314449310302734,-4.919813632965088,-8.897531509399414,-30.811967849731445,40.08256149291992,-12.848735809326172,-3.4898974895477295,63.53681564331055,9.512231826782227,22.952449798583984,11.116584777832031,52.6148681640625,-12.687396049499512,31.71625328063965,-2.9091930389404297,37.539459228515625,-3.9465670585632324,-4.930685043334961,10.08306884765625,59.98567581176758,8.862364768981934,-39.705230712890625,-8.586004257202148,5.648342132568359,26.836711883544922,47.52457809448242,-55.5302619934082,-44.0820426940918,-41.73213195800781,47.587379455566406,1.6552622318267822,13.967755317687988,1.530014157295227,-19.842544555664062,37.35607147216797,-7.026690483093262,-52.81889343261719,43.12226867675781,42.72376251220703,-53.16238784790039,3.2380635738372803,-59.11810302734375,-15.541351318359375,1.549042820930481,-30.02958106994629,-43.33028030395508,-2.0970733165740967,8.37354850769043,-10.214764595031738,-3.04789137840271,18.67533302307129,-42.250160217285156,-43.60530471801758,-20.064090728759766,-50.46428298950195,-23.01974105834961,-39.459659576416016,-22.013988494873047,24.927642822265625,-18.15622329711914,-53.66565704345703,-43.174957275390625,9.38083553314209,43.78724670410156,53.032161712646484,-14.58243179321289,19.768278121948242,16.175338745117188,-15.352595329284668,-7.686898708343506,-12.066232681274414,18.773578643798828,-50.064292907714844,5.57865571975708,11.336801528930664,-5.929257392883301,-46.01048278808594,-27.423349380493164,63.21794891357422,47.477333068847656,10.744122505187988,55.46498489379883,-35.35737991333008,0.7100971341133118,-11.816511154174805,33.245155334472656,-12.462916374206543,45.65030288696289,-47.93070983886719,1.4612668752670288,-22.416667938232422,6.9856719970703125,-26.209285736083984,-18.8322811126709,-40.95682144165039,-14.436240196228027,12.938152313232422,5.287358283996582,-6.678865909576416,-49.18964767456055,4.486856937408447,0.8521735668182373,35.768856048583984,-52.894962310791016,-39.00267791748047,-50.843727111816406,9.039555549621582,1.5570073127746582,-43.7602424621582,1.4800602197647095,-42.65652084350586,-25.0391845703125,51.56907653808594,35.15840530395508,2.412036895751953,55.75428771972656,66.74657440185547,32.272403717041016,47.3192138671875,1.1684662103652954,39.129947662353516,-53.621673583984375,16.89913558959961,-43.00562286376953,-12.644026756286621,9.018717765808105,13.778712272644043,-37.445701599121094,-18.24624252319336,31.83074951171875,13.459118843078613,34.58811569213867,-11.13945484161377,-17.08306884765625,-46.99053955078125,-51.2770881652832,4.926828861236572,4.117843151092529,-18.852434158325195,36.35348892211914,58.4327278137207,9.357500076293945,-38.81294250488281,-56.48247146606445,-0.7426020503044128,-16.65471839904785,17.973682403564453,-50.74631881713867,-16.741344451904297,-19.45401382446289,-11.970056533813477,46.3120002746582,-12.90427303314209,-20.864768981933594,-44.37874984741211,-6.3298468589782715,-48.09969711303711,36.5897216796875,-51.86936569213867,-7.680364608764648,10.79354190826416,8.90293025970459],\"xaxis\":\"x\",\"y\":[16.849468231201172,-39.35288619995117,-26.779863357543945,-16.57244873046875,-51.652347564697266,-45.553890228271484,-59.78036117553711,26.947105407714844,-37.9925651550293,-61.024391174316406,31.621095657348633,12.32563591003418,-8.740864753723145,13.259099960327148,46.34122848510742,49.33420181274414,-1.5681300163269043,31.32524299621582,-0.5219607353210449,31.05099105834961,-4.900346755981445,-42.21849822998047,-15.200822830200195,23.713415145874023,-10.49339485168457,6.335657596588135,-55.75584411621094,-46.270206451416016,-53.44953536987305,-0.6630523204803467,3.3434555530548096,6.324250221252441,40.47798156738281,-36.71818542480469,-16.707368850708008,45.63642120361328,-3.5935440063476562,-54.07590103149414,-7.787858009338379,3.32124400138855,-5.005002498626709,-18.404640197753906,-7.2841901779174805,-1.3430051803588867,-59.02432632446289,-14.94614315032959,-64.72234344482422,-13.885003089904785,-22.729856491088867,47.329219818115234,12.130888938903809,-1.39811372756958,-42.420230865478516,-11.985513687133789,12.819267272949219,-21.544921875,-9.219650268554688,-16.859390258789062,46.68903350830078,-48.33587646484375,-21.78243637084961,-12.755111694335938,-23.673315048217773,-58.36170196533203,19.56034278869629,11.739457130432129,33.07615280151367,16.945878982543945,-46.745513916015625,72.32577514648438,-48.021671295166016,-43.11371612548828,-17.6580810546875,-0.18274134397506714,-42.686859130859375,14.833436965942383,-28.298999786376953,-15.590795516967773,44.98125076293945,-13.752608299255371,-45.78105545043945,15.319092750549316,7.581265449523926,44.94511032104492,13.214119911193848,14.272995948791504,-15.595878601074219,-59.00828170776367,-19.85163116455078,-8.026601791381836,-17.220657348632812,-16.12237548828125,22.066143035888672,-11.151995658874512,7.714347839355469,6.365349292755127,-36.22927474975586,20.58327293395996,-64.54641723632812,-16.112276077270508,49.91069030761719,51.13096618652344,6.757929801940918,23.60550308227539,5.913430213928223,-8.770065307617188,-59.0235710144043,35.73274230957031,15.055032730102539,-40.36956787109375,49.986900329589844,-4.430575847625732,-11.074685096740723,24.4652042388916,-10.3142671585083,9.284968376159668,2.454744577407837,6.3494720458984375,-3.8104729652404785,45.56187057495117,25.95954704284668,-58.763427734375,-55.65839767456055,15.063002586364746,18.132816314697266,6.603506088256836,-17.398414611816406,-1.8459898233413696,18.697494506835938,-40.06382751464844,-17.137983322143555,33.49250793457031,-36.23366165161133,-60.26582717895508,-12.190932273864746,49.694793701171875,-24.85308837890625,0.3109050393104553,-15.869873046875,30.909700393676758,-32.47475814819336,32.20209503173828,-5.369520664215088,21.93783950805664,30.893829345703125,-11.264409065246582,-0.4629269242286682,-46.81134796142578,3.534867763519287,-11.443403244018555,-0.5599884986877441,4.650625228881836,-19.938188552856445,30.73499870300293,-64.52806854248047,-25.557741165161133,-63.80451202392578,25.127267837524414,15.294288635253906,-4.799997806549072,-67.3735580444336,23.641237258911133,-16.45022964477539,-3.145453691482544,5.7288737297058105,-40.23149490356445,6.693681240081787,4.875685214996338,-21.986452102661133,8.567124366760254,-32.56437301635742,-21.757596969604492,49.69911575317383,-0.8259238004684448,-14.095128059387207,11.938796997070312,0.4854143261909485,-14.01732349395752,12.00710391998291,-6.639577865600586,-22.23061180114746,-28.38920021057129,4.710123538970947,-45.72142028808594,-7.422791957855225,-28.040706634521484,-17.26888656616211,31.201589584350586,25.103099822998047,25.05078125,-64.3880615234375,-16.548307418823242,24.08114242553711,44.2619514465332,41.49277114868164,-65.2483139038086,21.211442947387695,-16.677104949951172,17.298063278198242,-12.416956901550293,12.671635627746582,17.267263412475586,27.4001407623291,-48.939823150634766,-10.178362846374512,-47.555824279785156,50.740394592285156,-15.945969581604004,-47.81444549560547,13.83552360534668,-14.626856803894043,39.64561080932617,-52.520233154296875,13.561346054077148,31.208786010742188,-21.863679885864258,25.116397857666016,23.328859329223633,29.596149444580078,28.155988693237305,12.73564624786377,39.4709358215332,-22.747648239135742,-21.448396682739258,-18.487220764160156,-17.921005249023438,-12.7617826461792,4.542572975158691,-59.762630462646484,4.241221904754639,3.1283822059631348,-7.152688980102539,-45.40842819213867,-49.40449142456055,-49.63473129272461,6.929577350616455,52.84479522705078,2.2568461894989014,12.631210327148438,11.409631729125977,24.512287139892578,8.865192413330078,-16.31902313232422,-18.95452117919922,-8.951848030090332,14.235679626464844,22.34111785888672,-14.137001991271973,-12.499323844909668,-47.470306396484375,4.834212303161621,-38.18162155151367,-51.14285659790039,-16.61379051208496,-20.494962692260742,-7.719053745269775,25.363792419433594,9.023098945617676,-45.0942268371582,45.537109375,-13.65047550201416,-12.441104888916016,29.183879852294922,42.70267105102539,-22.538789749145508,6.47685432434082,17.440128326416016,45.48832702636719,-54.879390716552734,0.3290058672428131,25.450733184814453,-58.61579132080078,6.531450271606445,8.678818702697754,-41.35891342163086,49.28578186035156,-29.505395889282227,-47.73204040527344,6.627030849456787,12.797100067138672,-1.8873127698898315,-7.899279594421387,-66.86612701416016,-0.43450313806533813,-6.871597766876221,-3.68234920501709,-59.37335205078125,-23.011539459228516,21.967025756835938,13.777335166931152,-35.280033111572266,12.722599029541016,-41.99420928955078,-13.225597381591797,15.411580085754395,46.5007438659668,8.732894897460938,12.894734382629395,32.68709182739258,17.541303634643555,-13.10622787475586,9.36021900177002,15.137372970581055,28.609115600585938,-19.561574935913086,23.672494888305664,7.6398234367370605,-23.004959106445312,29.509138107299805,18.370141983032227,-1.3709666728973389,-67.45664978027344,44.888389587402344,-17.662160873413086,-10.31255054473877,-1.9825915098190308,17.485008239746094,-41.880767822265625,7.3792219161987305,-60.97813034057617,-13.274120330810547,45.06808853149414,50.03167724609375,-15.422619819641113,-15.360929489135742,0.18255427479743958,-22.157114028930664,0.2266129106283188,10.11449146270752,-44.67131423950195,44.84165954589844,-13.623976707458496,-25.475080490112305,20.671710968017578,22.943647384643555,-15.485271453857422,16.591264724731445,-13.332525253295898,-9.100275039672852,-12.198963165283203,-59.63197326660156,-18.405681610107422,-64.04035186767578,5.978666305541992,-67.15399932861328,31.415130615234375,-9.590965270996094,12.893407821655273,-54.60091781616211,-45.61188507080078,-39.294708251953125,18.39192008972168,-18.63869857788086,-9.597586631774902,-1.1772867441177368,-13.483372688293457,16.198396682739258,32.47404479980469,-64.2209701538086,-16.219682693481445,8.385188102722168,19.994619369506836,20.678760528564453,13.42215633392334,-12.12321662902832,19.68503189086914,39.931819915771484,13.001130104064941,-66.34758758544922,-21.767353057861328,24.45895004272461,14.205806732177734,25.232471466064453,-17.806346893310547,15.187274932861328,23.12238121032715,69.58132934570312,-46.56174087524414,21.16172981262207,47.57718276977539,-28.257217407226562,-49.85355758666992,73.67926025390625,13.607343673706055,-14.458185195922852,4.45817756652832,50.38023376464844,33.12311935424805,17.006092071533203,-12.821194648742676,-7.996661186218262,-3.4162495136260986,-57.87123489379883,-23.213130950927734,-27.540748596191406,-46.25069046020508,44.128173828125,30.503293991088867,24.623809814453125,-2.9918265342712402,-48.912174224853516,26.08056640625,14.213953018188477,-12.49444580078125,-0.9674813747406006,23.665616989135742,72.39125061035156,24.179214477539062,-9.151765823364258,42.737831115722656,-2.156888484954834,10.976616859436035,10.122296333312988,-0.3058576285839081,-67.73210144042969,70.20613861083984,9.645753860473633,-51.54778289794922,-12.706974983215332,8.957016944885254,70.03046417236328,9.790746688842773,-45.70523452758789,12.1931791305542,-43.61566925048828,33.520835876464844,29.19583511352539,43.102516174316406,25.82474708557129,-49.218563079833984,-3.8021061420440674,18.883182525634766,-39.575923919677734,-1.635170340538025,-4.581719398498535,30.997875213623047,16.813007354736328,27.845752716064453,-38.1268196105957,6.082018852233887,2.5713229179382324,71.79581451416016,14.45412540435791,-10.05180835723877,-9.708989143371582,-48.05818176269531,-18.41684341430664,-32.40528869628906,-41.15750503540039,-35.10289764404297,43.53874588012695,12.763663291931152,21.672014236450195,0.9865635633468628,22.483978271484375,14.724658966064453,-18.32370376586914,-13.974952697753906,18.20975112915039,5.3648681640625,-48.072776794433594,14.346169471740723,22.96351432800293,-5.155883312225342,51.224517822265625,-39.978187561035156,18.175745010375977,13.344830513000488,-6.673627853393555,-9.71463680267334,20.759374618530273,-21.646080017089844,-42.51401901245117,-24.214988708496094,17.265485763549805,46.848731994628906,-44.782161712646484,16.662212371826172,-13.89266586303711,26.306102752685547,17.97197723388672,-51.86479949951172,-9.26395320892334,10.590985298156738,12.123942375183105,-44.109092712402344,32.49184036254883,-60.4521484375,70.70906829833984,-52.14613723754883,10.136953353881836,-22.921831130981445,70.65929412841797,-3.8118016719818115,12.201447486877441,-43.78861999511719,12.274291038513184,12.370403289794922,-19.472763061523438,-1.4162073135375977,9.072680473327637,-54.966312408447266,-3.822222948074341,-29.31954002380371,18.20821762084961,13.23822021484375,69.25735473632812,-16.20939826965332,72.13099670410156,-19.13018226623535,-15.573881149291992,-31.351926803588867,45.641258239746094,0.7722454071044922,-63.282691955566406,4.8552751541137695,-12.886675834655762,1.0691823959350586,-2.8465466499328613,-13.439202308654785,-47.512210845947266,-5.575829029083252,25.78529167175293,-24.7426700592041,-42.97834396362305,-31.0843505859375,-21.999835968017578,14.957510948181152,35.718624114990234,-37.46056365966797,-14.136226654052734,12.283647537231445,8.99443531036377,53.0997314453125,-3.1391656398773193,19.610734939575195,-21.91549301147461,-4.200243949890137,-5.375061511993408,-66.88218688964844,-1.8295048475265503,22.214767456054688,20.509965896606445,-48.928104400634766,-54.371925354003906,-68.01142120361328,12.804706573486328,24.5025634765625,26.56421661376953,13.283143997192383,21.178550720214844,-37.10567092895508,10.242563247680664,50.24021530151367,45.55218505859375,-57.83824920654297,-9.553200721740723,51.928184509277344,20.00238037109375,47.826934814453125,15.702118873596191,-47.733585357666016,-54.68114471435547,-0.0006025747861713171,46.01128387451172,-37.74020767211914,26.98897933959961,10.165438652038574,15.879640579223633,16.539216995239258,73.38628387451172,10.153499603271484,24.629356384277344,14.442891120910645,11.509921073913574,23.222190856933594,-20.78423500061035,-5.548228740692139,50.76810073852539,31.613473892211914,9.041363716125488,11.273345947265625,-66.28909301757812,-20.89728546142578,19.865036010742188,32.253448486328125,-67.78787994384766,-7.753232955932617,-14.992321014404297,-12.388999938964844,-56.1218376159668,10.984540939331055,1.0361303091049194,-35.50724792480469,-19.726465225219727,9.9423189163208,-0.4565761089324951,-65.90177917480469,9.040423393249512,18.70868682861328,-52.17430114746094,-13.517950057983398,-27.773588180541992,-44.508663177490234,-16.451156616210938,-10.138355255126953,-46.51065444946289,-20.557462692260742,12.57699966430664,24.544418334960938,27.901416778564453,-59.45174789428711,6.152695178985596,-8.265605926513672,-14.123477935791016,-12.0949125289917,-9.660455703735352,-26.048696517944336,-60.300254821777344,22.10114097595215,31.75655174255371,43.579524993896484,24.370203018188477,14.051352500915527,69.81973266601562,-5.945799827575684,-10.98867130279541,-7.837496280670166,49.16590881347656,-17.021760940551758,-5.381590366363525,-17.911279678344727,-10.730338096618652,-12.254744529724121,-64.98240661621094,6.586371898651123,-12.752617835998535,-37.52717971801758,3.847550392150879,42.00115203857422,-67.51113891601562,-45.30305862426758,-16.76699447631836,14.282785415649414,44.63214111328125,-10.12693977355957,14.952138900756836,17.482669830322266,-41.52797317504883,-7.6316938400268555,-35.034019470214844,21.432783126831055,33.273048400878906,5.533226013183594,-64.4438247680664,3.50996470451355,14.0291166305542,15.455711364746094,16.390281677246094,-0.48671412467956543,2.549910545349121,9.292291641235352,-65.01806640625,11.976020812988281,5.081172943115234,-37.22759246826172,-58.528053283691406,-35.34968566894531,-47.587860107421875,-46.389732360839844,-48.648685455322266,10.005704879760742,13.520055770874023,-42.97947692871094,-20.242977142333984,3.7530951499938965,-34.89718246459961,23.290319442749023,15.645533561706543,-18.553319931030273,-45.376407623291016,-53.23469161987305,44.6259651184082,44.721187591552734,21.241409301757812,20.063695907592773,-46.55171203613281,8.262190818786621,-17.113245010375977,0.39990442991256714,34.75807189941406,-18.629398345947266,30.22422981262207,16.25532341003418,24.415231704711914,22.528392791748047,17.685958862304688,29.552337646484375,50.78654098510742,31.56991195678711,3.0187323093414307,14.567262649536133,72.81148529052734,15.109428405761719,20.000486373901367,-4.727596282958984,-38.69866180419922,-16.43758773803711,5.227077960968018,17.86077880859375,16.115642547607422,2.7028303146362305,-4.221883296966553,22.228271484375,13.007070541381836,7.719230651855469,-18.444942474365234,-16.10948944091797,-44.15781784057617,-36.435333251953125,31.712121963500977,5.9139814376831055,-18.658159255981445,50.07809829711914,3.9131405353546143,18.458717346191406,-17.485994338989258,-20.649261474609375,-64.9452896118164,50.41120529174805,33.119258880615234,32.71023178100586,-48.803714752197266,30.649791717529297,-5.372101783752441,18.778852462768555,-11.835732460021973,-0.9187679290771484,-1.161749243736267,18.193397521972656,47.87882614135742,1.4743760824203491,20.889493942260742,-40.888816833496094,-0.05313190445303917,7.09841251373291,7.160249710083008,-1.3816742897033691,9.59561824798584,29.473384857177734,51.240108489990234,7.422103404998779,27.72679901123047,17.188779830932617,-13.974124908447266,47.4948616027832,22.429931640625,33.15879821777344,-5.0884552001953125,71.84034729003906,-65.34534454345703,3.8689234256744385,-9.444836616516113,5.3118391036987305,-23.970182418823242,50.174583435058594,0.2452392280101776,19.95430564880371,43.044044494628906,-12.487388610839844,13.056378364562988,9.528180122375488,14.107410430908203,-51.96537780761719,-20.746030807495117,26.053911209106445,-39.94739532470703,73.80357360839844,-3.8168914318084717,50.98712921142578,33.5505256652832,-22.278236389160156,-44.052711486816406,-7.139328479766846,-4.397744178771973,12.667593955993652,-8.486753463745117,17.475984573364258,31.15169906616211,-4.809098243713379,-15.666781425476074,-38.527164459228516,-57.41994857788086,-12.535225868225098,-66.06693267822266,-60.852935791015625,-3.7043097019195557,46.03021240234375,-30.26163673400879,-15.0360689163208,-42.17327117919922,12.13697338104248,-18.221403121948242,-7.3489227294921875,11.072549819946289,-56.646949768066406,2.1380248069763184,-9.055425643920898,-31.465261459350586,15.387898445129395,-3.95603346824646,-55.23602294921875,23.371013641357422,24.09571075439453,-59.684051513671875,-4.262618541717529,-61.2231559753418,-54.6770133972168,24.699342727661133,44.845149993896484,12.233320236206055,17.13446807861328,12.255631446838379,14.113289833068848,15.72193717956543,19.267518997192383,15.598527908325195,-17.718427658081055,-7.647624492645264,11.892898559570312,-64.17742156982422,9.218911170959473,28.7220516204834,51.32931900024414,-17.14558219909668,-15.53663158416748,46.537940979003906,-13.350255966186523,-65.17626190185547,11.880169868469238,40.97182083129883,-14.444313049316406,28.066133499145508,51.44706726074219,6.199284553527832,-16.45864486694336,-17.685710906982422,17.99454116821289,-15.635743141174316,15.199177742004395,5.990787029266357,44.70377731323242,23.83391761779785,-67.61068725585938,42.1014404296875,-56.42530059814453,6.715785980224609,44.5616455078125,-0.4300942122936249,-12.822083473205566,-13.19692611694336,15.44416332244873,-28.214460372924805,43.740882873535156,27.686716079711914,-37.678279876708984,24.78067398071289,-67.27189636230469,8.810824394226074,15.528961181640625,-23.028236389160156,-6.554902076721191,-57.859230041503906,-4.4067535400390625,-7.056129455566406,27.260637283325195,-15.93831729888916,5.336709976196289,-11.779428482055664,-4.826104640960693,-66.68574523925781,44.53480529785156,-9.023375511169434,-4.050938129425049,-18.455183029174805,29.91470718383789,15.214166641235352,-62.623931884765625,-69.47710418701172,71.74826049804688,-35.5499267578125,14.20065975189209,-16.12333869934082,14.619413375854492,13.4869966506958,-13.360102653503418,-12.4877347946167,-45.30760192871094,-44.027305603027344,48.62274932861328,-20.859468460083008,-69.4017333984375,-47.658138275146484,28.986865997314453,12.186003684997559,33.30984878540039,8.279237747192383,23.692033767700195,17.72209930419922,9.079276084899902,-18.37067985534668,-19.464679718017578,-54.04983901977539,-13.8071928024292,51.33449935913086,-9.5648832321167,8.093493461608887,24.510061264038086,16.76786994934082,46.13587188720703,-17.058530807495117,-12.650751113891602,-20.124834060668945,-1.123301386833191,-18.898365020751953,-66.83795166015625,-3.3284926414489746,-13.083358764648438,50.94078063964844,24.57109832763672,15.721112251281738,9.637301445007324,28.316425323486328,10.748912811279297,15.527548789978027,10.35030746459961,-70.3145523071289,5.600674152374268,17.439058303833008,15.189970016479492,-54.602020263671875,-29.65242576599121,31.651596069335938,-13.521145820617676,5.82094144821167,22.60369873046875,-27.174072265625,25.179779052734375,44.40229415893555,29.254817962646484,-15.451278686523438,9.810063362121582,23.539871215820312,-47.31051254272461,22.222421646118164,47.54786682128906,-3.9163477420806885,18.199443817138672,72.37763214111328,25.258197784423828,18.319116592407227,13.788482666015625,-19.004682540893555,23.843435287475586,38.610931396484375,26.890512466430664,4.267808437347412,2.582045793533325,-58.28068923950195,23.083343505859375,14.521063804626465,12.049041748046875,-44.46141052246094,-42.99208450317383,33.19111251831055,8.466607093811035,-66.75802612304688,-46.056488037109375,49.33490753173828,15.192435264587402,4.8217453956604,-2.23028826713562,4.137325286865234,17.4399356842041,3.1200249195098877,19.819843292236328,-15.788308143615723,-1.8970762491226196,-29.37095069885254,31.892314910888672,-28.559965133666992,16.41046714782715,5.424733638763428,-4.836346626281738,-38.163490295410156,31.893386840820312,1.0001286268234253,-5.689144134521484,23.845529556274414,-12.603666305541992,25.68496322631836,34.447959899902344,26.103422164916992,-48.394649505615234,-64.35657501220703,21.28571128845215,12.87575626373291,-47.461402893066406,-19.75510025024414,-7.329888820648193,-53.04012680053711,-12.339451789855957,-57.9893684387207,-65.53780364990234,68.97274017333984,24.44989013671875,-11.799311637878418,-3.664680242538452,46.32255172729492,-10.247881889343262,16.629608154296875,3.7924935817718506,-18.768510818481445,5.415112018585205,-10.068130493164062,-67.45181274414062,2.473330020904541,-17.381717681884766,-14.863886833190918,13.973943710327148,16.633092880249023,-3.6419177055358887,10.55221939086914,14.384147644042969,15.558257102966309,20.580333709716797,49.45350646972656,-19.544910430908203,-15.710165977478027,13.254210472106934,-23.228422164916992,-17.81540298461914,-6.289743900299072,32.19062423706055,-18.34376335144043,3.6364691257476807,16.904888153076172,51.187042236328125,12.508008003234863,-57.409912109375,-12.462937355041504,-11.514506340026855,37.050777435302734,-65.01441955566406,72.05162048339844,44.17359924316406,-11.061807632446289,-12.141775131225586,-45.36810302734375,0.26446613669395447,7.079195499420166,-10.285955429077148,-7.989109039306641,19.632780075073242,-42.62336730957031,-27.316268920898438,-1.3164830207824707,15.392043113708496,25.408954620361328,-41.4919548034668,-66.030517578125,-0.24083462357521057,28.81709098815918,32.61239242553711,48.396366119384766,-20.11796760559082,31.68792152404785,27.993507385253906,16.21761703491211,23.40192413330078,-52.46968078613281,6.764498233795166,22.902450561523438,-16.837997436523438,-65.17672729492188,-28.710386276245117,-18.46735382080078,-38.008544921875,15.331914901733398,-28.946144104003906,-66.3683853149414,-45.69070053100586,-20.29754066467285,-30.241594314575195,-2.666177749633789,34.98390197753906,-17.66101837158203,10.60466480255127,-55.560123443603516,12.858346939086914,4.4261274337768555,-53.663455963134766,-10.968539237976074,24.60959815979004,33.218082427978516,-11.790624618530273,-45.25071716308594,5.3465166091918945,0.6867812275886536,-14.91639232635498,22.852863311767578,18.612579345703125,-47.29210662841797,4.6850666999816895,-0.12293274700641632,20.23937225341797,19.215106964111328,-22.34076690673828,73.19662475585938,-39.73482131958008,13.420103073120117,1.6235315799713135,-35.911739349365234,-12.93405532836914,25.98975944519043,4.183055400848389,6.603509426116943,-11.626753807067871,-16.74785614013672,28.89324951171875,48.785316467285156,0.9169660806655884,-16.921415328979492,-7.401980400085449,-67.76423645019531,0.4521799385547638,5.417688369750977,40.43157196044922,14.883875846862793,17.32244110107422,32.505775451660156,-9.147368431091309,14.528331756591797,9.653578758239746,32.28302764892578,12.666459083557129,70.44825744628906,15.824395179748535,-5.695603370666504,23.25389289855957,-12.00890064239502,-60.563289642333984,-20.872970581054688,29.005361557006836,-64.49523162841797,-14.741455078125,21.220853805541992,23.580013275146484,0.729415237903595,-13.042142868041992,17.046905517578125,21.88335609436035,23.190406799316406,-2.308955430984497,-39.31835174560547,25.175962448120117,4.639881134033203,44.89735794067383,45.51092529296875,49.665096282958984,-14.388689041137695,-67.61073303222656,-14.544282913208008,18.30309295654297,13.150701522827148,-68.25328826904297,31.39645767211914,1.501848578453064,14.665789604187012,19.327573776245117,-44.984901428222656,37.09302520751953,19.915550231933594,-26.534299850463867,6.689655780792236,19.30262565612793,-10.487957954406738,-18.493244171142578,13.11414623260498,15.039292335510254,73.7652587890625,9.986539840698242,3.9161579608917236,27.89613151550293,-11.95876407623291,10.763521194458008,-38.23868179321289,29.888715744018555,29.478206634521484,73.177978515625,-19.507125854492188,-37.64931106567383,18.22203254699707,-17.358966827392578,30.995141983032227,49.49142837524414,71.8387222290039,17.87128257751465,29.36792755126953,15.286892890930176,44.44379806518555,2.1212148666381836,7.269968032836914,1.9066146612167358,-14.089641571044922,4.505253314971924,-54.007179260253906,32.98203659057617,-8.277609825134277,-8.452692031860352,-13.887807846069336,8.80246639251709,6.794651031494141,12.886920928955078,25.570634841918945,27.71395492553711,-13.51793098449707,9.819225311279297,7.485605239868164,-8.832234382629395,-44.49162673950195,-44.417232513427734,71.49063873291016,31.43743133544922,28.77358055114746,-6.220642566680908,-45.605037689208984,-12.224651336669922,-22.06234359741211,-8.958647727966309,-2.836458206176758,-16.665695190429688,-4.702200889587402,-11.593318939208984,-43.764251708984375,30.202823638916016,-67.63874816894531,-67.08841705322266,-17.03875160217285,14.368033409118652,-58.818904876708984,-6.011410713195801,-10.06031322479248,49.74002456665039,-10.513724327087402,5.931035041809082,-66.6254653930664,13.163491249084473,-8.868237495422363,-47.11336135864258,18.209911346435547,-14.942436218261719,-12.46459674835205,12.871478080749512,-20.759925842285156,-44.56204605102539,33.139671325683594,-54.22725296020508,-23.019289016723633,-17.242698669433594,25.889646530151367,-0.6126589179039001,-19.91786766052246,-0.8433058857917786,-21.43329429626465,-4.1266937255859375,-9.39893627166748,-17.256675720214844,-9.479784965515137,-16.513654708862305,4.623993873596191,9.433731079101562,-20.039579391479492,-9.349218368530273,29.492198944091797,11.590829849243164,-45.4683723449707,-23.544845581054688,46.575008392333984,-18.55628204345703,0.18889418244361877,-5.1500678062438965,-56.84891891479492,5.647854328155518,-34.70109176635742,12.956282615661621,-11.75229549407959,11.85004711151123,1.7930915355682373,-45.251495361328125,-14.239250183105469,4.391088962554932,-12.163126945495605,-25.94622802734375,-56.866180419921875,21.647363662719727,44.576053619384766,-13.133194923400879,3.016050100326538,12.87333869934082,-59.4579963684082,25.544418334960938,-62.48700714111328,-11.885509490966797,0.5560355186462402,47.66581726074219,16.67608642578125,14.605962753295898,19.576276779174805,18.84529685974121,-4.680198669433594,32.36993408203125,-60.1121711730957,15.323334693908691,-8.383288383483887,10.778203964233398,25.643840789794922,3.619187831878662,19.668657302856445,-44.42912673950195,-14.39317798614502,24.59075355529785,29.13718605041504,-9.007240295410156,-34.9828987121582,26.936735153198242,-21.308856964111328,22.09942626953125,-1.1802380084991455,-13.360678672790527,-45.09243392944336,15.605208396911621,-41.77234649658203,22.570384979248047,21.305553436279297,28.107866287231445,0.44724634289741516,-6.638119220733643,17.803869247436523,51.171409606933594,-40.56161117553711,-6.942917823791504,9.396409034729004,-38.168617248535156,12.499759674072266,-41.899436950683594,-3.636608123779297,-15.872570991516113,-15.331711769104004,74.3262939453125,-35.694610595703125,-45.497684478759766,-4.693970680236816,-39.90260314941406,32.99979782104492,-28.33248519897461,22.30674934387207,33.94761276245117,7.418883323669434,-1.1332621574401855,11.846551895141602,-0.38651227951049805,44.65736389160156,50.75519561767578,-20.52425193786621,-15.38124942779541,-62.628353118896484,-2.0168955326080322,-13.861434936523438,-4.27353048324585,-32.79454803466797,31.979116439819336,-35.32634353637695,25.451492309570312,-20.570560455322266,28.298194885253906,-15.379173278808594,-16.59956169128418,6.283054351806641,12.024075508117676,47.01935577392578,23.156749725341797,26.237634658813477,16.437000274658203,-18.657695770263672,-31.060348510742188,-45.842403411865234,10.642756462097168,-49.10969543457031,11.861262321472168,-62.5916633605957,-59.80463790893555,-5.088274955749512,11.982362747192383,17.306514739990234,25.624433517456055,19.503387451171875,-19.956275939941406,6.5739569664001465,-64.21808624267578,11.639485359191895,-3.9416403770446777,-12.345861434936523,-1.8565174341201782,-17.542375564575195,7.5227251052856445,32.818599700927734,-11.335693359375,-1.6614363193511963,-46.30121994018555,-14.233903884887695,-14.398538589477539,-64.04966735839844,-65.97482299804688,-30.54532241821289,6.016855239868164,-17.199045181274414,-16.005949020385742,28.654096603393555,-15.24701976776123,-58.56156539916992,46.65699768066406,27.273761749267578,-17.179691314697266,-37.65242004394531,22.67987060546875,-1.9646204710006714,25.711223602294922,14.887351036071777,73.20315551757812,-3.427844524383545,-37.43215560913086,22.754173278808594,45.17997741699219,32.77374267578125,-62.56438064575195,26.298002243041992,31.194265365600586,33.664859771728516,21.111051559448242,0.08024702221155167,-23.269798278808594,72.99441528320312,26.571256637573242,5.2186808586120605,-46.29236602783203,-0.3731095492839813,-46.17839431762695,-48.65812301635742,0.5720937252044678,-18.011198043823242,29.741321563720703,-12.661903381347656,44.777099609375,-18.989013671875,-23.353172302246094,9.67724323272705,-16.407751083374023,25.183197021484375,-19.377044677734375,9.072614669799805,-31.336700439453125,30.42576026916504,-8.51363468170166,9.637173652648926,-17.911794662475586,2.8363709449768066,32.97195053100586,-5.587854862213135,24.089210510253906,-54.92858123779297,10.091655731201172,-65.35408782958984,9.82494831085205,-17.442777633666992,-10.04533863067627,-18.102819442749023,-4.7224225997924805,-8.323237419128418,-19.383636474609375,50.7287712097168,13.966946601867676,23.237895965576172,-1.2269072532653809,22.30426025390625,-12.729761123657227,44.984657287597656,17.201923370361328,14.339678764343262,16.96976089477539,-20.315208435058594,0.9050024747848511,-15.424860954284668,-14.801756858825684,24.02983856201172,24.684669494628906,30.18778419494629,22.594823837280273,-16.119657516479492,5.557052135467529,15.921085357666016,-11.837244987487793,-9.86346435546875,-29.94997215270996,-0.6693469882011414,-19.599613189697266,-45.332969665527344,-6.601687908172607,-9.801058769226074,73.1457290649414,-6.865660190582275,27.965444564819336,-37.43818283081055,13.98056411743164,-15.091933250427246,-3.26595401763916,-40.28480529785156,32.807315826416016,-48.88798141479492,10.453145980834961,10.74370002746582,-50.638797760009766,13.751446723937988,52.5857048034668,-32.04591751098633,28.49903678894043,-17.360565185546875,-66.79632568359375,47.96517562866211,51.680023193359375,31.492687225341797,8.09185791015625,14.32021713256836,31.36036491394043,9.321592330932617,-12.563130378723145,-1.1320298910140991,-48.75366973876953,-65.78079986572266,-18.446575164794922,-47.49889373779297,-15.864141464233398,11.556966781616211,11.684671401977539,-18.886173248291016,-3.9668209552764893,19.825847625732422,14.677144050598145,-56.596519470214844,9.065793991088867,-8.135939598083496,-20.824806213378906,-8.906566619873047,-14.999002456665039,44.559513092041016,-3.9702351093292236,-1.3111023902893066,25.395662307739258,20.46062469482422,51.247615814208984,9.691207885742188,4.795860767364502,9.740059852600098,-16.05359649658203,39.09861373901367,-8.499448776245117,16.10506248474121,75.15309143066406,-13.990242004394531,-4.489103317260742,-40.58971405029297,16.220516204833984,-39.51685333251953,-4.671205043792725,13.716116905212402,-18.62169647216797,26.520185470581055,74.2466049194336,21.092546463012695,12.58700942993164,-38.334022521972656,1.1195356845855713,-62.68056869506836,-9.641839981079102,40.105228424072266,33.465702056884766,30.278858184814453,11.575799942016602,25.296855926513672,-2.0798628330230713,38.25607681274414,-63.551025390625,20.555339813232422,-3.6239960193634033,-10.757684707641602,-25.710886001586914,-47.028404235839844,-16.970195770263672,-13.621136665344238,49.81855773925781,16.80995750427246,-35.24569320678711,-13.684565544128418,-16.22373390197754,5.035971641540527,20.476076126098633,-1.7772133350372314,50.28014373779297,-23.270214080810547,21.616464614868164,19.278657913208008,-48.132999420166016,20.89238166809082,0.614447295665741,8.039344787597656,-19.028621673583984,73.9418716430664,-59.011375427246094,-57.76956558227539,-9.596295356750488,27.889759063720703,38.849979400634766,-14.619868278503418,48.097938537597656,15.336282730102539,-54.9180908203125,-12.81672477722168,14.857734680175781,-39.36454772949219,-8.7239351272583,15.840231895446777,-8.483145713806152,-61.7343864440918,20.44145393371582,25.447193145751953,-5.22437858581543,-35.318626403808594,-29.412548065185547,40.40922546386719,-19.058244705200195,10.050959587097168,-46.97111892700195,-12.822408676147461,-10.165617942810059,75.33712768554688,32.83369064331055,-13.36324405670166,-0.9514391422271729,19.7619686126709,-38.8267936706543,-12.393129348754883,-19.432771682739258,51.43092346191406,-22.88762092590332,-11.588293075561523,11.665545463562012,4.915907382965088,25.40461540222168,40.18802261352539,6.23185920715332,-49.11282730102539,-33.16921615600586,-64.61087799072266,46.88914489746094,-67.2763442993164,17.57002067565918,-12.006415367126465,42.08794403076172,28.2628116607666,45.349205017089844,9.13032054901123,-17.767358779907227,18.97785186767578,0.4873117506504059,-3.723163604736328,74.14940643310547,-30.573442459106445,-11.13847827911377,-26.094728469848633,7.502649307250977,49.17967224121094,-31.197166442871094,-64.99295806884766,43.036380767822266,-14.168004035949707,34.018829345703125,-8.454015731811523,4.617996692657471,15.449568748474121,-3.6187453269958496,-4.418196201324463,-7.701663970947266,-12.809067726135254,-17.27113151550293,20.627090454101562,17.775676727294922,-30.56410026550293,32.58592224121094,-2.6764214038848877,-61.20146942138672,6.409419536590576,19.29166030883789,1.749894618988037,10.934088706970215,27.90935707092285,-27.72768211364746,-1.511306643486023,-38.33274459838867,-8.928339958190918,-63.62208938598633,-13.793021202087402,-6.709835529327393,51.10969161987305,-5.186331748962402,-4.836624622344971,-7.368938446044922,3.1511852741241455,2.243411064147949,-0.15978172421455383,19.683914184570312,25.357105255126953,30.52676773071289,-22.39792251586914,15.530023574829102,-39.257354736328125,16.41375160217285,0.9595035910606384,14.323714256286621,7.200050354003906,51.29319763183594,8.933095932006836,-21.72015380859375,5.104788780212402,-0.21406903862953186,-15.354696273803711,44.8004035949707,-11.995738983154297,45.344364166259766,-42.124237060546875,31.357051849365234,-45.69618225097656,44.60837936401367,50.015724182128906,20.366838455200195,13.47104549407959,27.518007278442383,17.10439682006836,27.203628540039062,-70.84617614746094,-22.291854858398438,-14.633378982543945,-46.523582458496094,29.835439682006836,-16.243865966796875,-13.279183387756348,4.513832092285156,7.766504287719727,9.93602466583252,-21.770519256591797,29.192873001098633,-2.150308609008789,41.527950286865234,-8.629840850830078,10.566940307617188,26.179855346679688,-17.033315658569336,31.62143898010254,29.753698348999023,-67.1233139038086,51.74707794189453,-46.48998260498047,2.9860708713531494,-43.61695861816406,-43.9352912902832,-31.41070556640625,48.52043914794922,-20.01520538330078,23.89207649230957,27.511625289916992,33.252628326416016,28.328760147094727,46.07621383666992,-11.540666580200195,-54.765968322753906,-12.503727912902832,16.291532516479492,12.268771171569824,-46.289390563964844,45.18171691894531,73.90863800048828,-44.06526184082031,49.774295806884766,22.8874568939209,17.112651824951172,20.176471710205078,-22.22345733642578,28.37151527404785,19.168725967407227,-14.204385757446289,44.44816589355469,-3.8178882598876953,-47.53624725341797,69.46818542480469,-3.6343400478363037,75.2525405883789,75.16956329345703,-45.31977844238281,29.589202880859375,45.08021545410156,24.71751594543457,-4.008820533752441,30.2669734954834,-18.8981876373291,46.48569869995117,24.793058395385742,-37.43560791015625,-19.961322784423828,25.07079315185547,-18.067333221435547,-9.312639236450195,47.42720031738281,-4.424403667449951,40.21672439575195,-68.89958190917969,-11.933364868164062,7.404229640960693,10.655984878540039,-14.888801574707031,9.176024436950684,-46.42525100708008,-18.010032653808594,5.809505462646484,15.444194793701172,-18.018129348754883,-46.68143081665039,-57.5319709777832,-22.980241775512695,44.73265075683594,-16.90351676940918,-31.967004776000977,28.22649383544922,-27.2737979888916,-12.295172691345215,-42.512245178222656,49.05259704589844,-3.4818003177642822,12.603763580322266,31.014795303344727,-20.893070220947266,-52.80735397338867,-32.2889404296875,10.726882934570312,-18.976436614990234,41.25615310668945,-0.04676278680562973,13.34475326538086,-3.5951919555664062,-47.76404571533203,-15.87553596496582,27.109859466552734,14.425918579101562,3.932448148727417,15.804571151733398,-9.414117813110352,17.5989990234375,17.688034057617188,0.08375083655118942,15.973567962646484,-58.57793045043945,-4.000278949737549,-3.1644039154052734,31.324207305908203,-12.051777839660645,-10.082508087158203,-6.8478803634643555,-42.12077331542969,2.1405081748962402,16.252302169799805,20.38167381286621,32.38962173461914,-14.725303649902344,-22.770517349243164,45.40848159790039,7.621546268463135,70.75041198730469,22.168193817138672,44.765907287597656,-13.193320274353027,21.961200714111328,24.90567970275879,-1.2750614881515503,35.128421783447266,29.953262329101562,5.560947418212891,8.353585243225098,-1.0053458213806152,-26.320510864257812,21.2308292388916,-18.321975708007812,-16.06089973449707,46.17100143432617,-40.05654525756836,73.11164855957031,-0.6779751181602478,0.5038770437240601,-1.2664704322814941,9.38917064666748,3.344653367996216,13.627620697021484,3.655778169631958,-37.44644546508789,-19.05229377746582,-66.947265625,-13.55054759979248,-35.88512420654297,20.56137466430664,13.220311164855957,-66.85128021240234,-21.126663208007812,3.5476744174957275,-15.197720527648926,-35.51045608520508,19.28802490234375,22.68165397644043,-0.4890483617782593,-14.692915916442871,44.94821548461914,-10.414606094360352,-59.8336067199707,20.708202362060547,-62.30784225463867,-40.88154220581055,-35.246246337890625,-65.18989562988281,71.69114685058594,-16.00096321105957,-49.95790481567383,-12.601237297058105,-5.117303848266602,30.151233673095703,-61.13555145263672,-15.102829933166504,-58.18077850341797,46.04839324951172,-43.009193420410156,14.288692474365234,-16.10679817199707,30.303800582885742,-11.457524299621582,20.757579803466797,29.56082534790039,12.480423927307129,69.87226867675781,-19.409984588623047,-30.09351921081543,13.960309982299805,-3.7812328338623047,28.35779571533203,19.226572036743164,29.31446075439453,21.362998962402344,-19.24624252319336,-4.410759449005127,-3.9917171001434326,-41.53877258300781,14.078242301940918,-9.878741264343262,-45.48491668701172,72.13449096679688,-12.683967590332031,-46.58819580078125,-51.8380126953125,-12.314024925231934,49.885459899902344,24.92936897277832,-16.27065086364746,48.69057083129883,6.8350019454956055,14.20230484008789,24.45383644104004,12.827808380126953,-11.356938362121582,-15.203680038452148,36.683921813964844,50.576995849609375,-44.1497688293457,27.88328742980957,1.2027051448822021,-47.66910934448242,-29.583261489868164,45.48854446411133,-15.997446060180664,20.04827308654785,1.7665027379989624,-10.24281120300293,0.9942452311515808,49.91640853881836,-3.979722499847412,-3.221738338470459,-16.361764907836914,20.978002548217773,15.975513458251953,24.143030166625977,-48.82304763793945,11.44668960571289,19.732213973999023,-36.365318298339844,-17.322463989257812,6.903526306152344,23.140661239624023,27.558876037597656,4.0959792137146,-48.86404800415039,14.71896743774414,-23.67214012145996,3.847059726715088,-40.09235763549805,-44.620025634765625,17.03215217590332,-7.190756320953369,3.936594009399414,-35.7010612487793,28.59010887145996,-13.008161544799805,-60.45418167114258,30.122737884521484,-10.041769027709961,-0.1152949184179306,-11.182914733886719,23.29144859313965,45.93195343017578,-58.468257904052734,48.475303649902344,-4.495631694793701,23.798965454101562,28.451372146606445,-26.226137161254883,71.71702575683594,17.82568359375,-29.70220184326172,20.077592849731445,9.827286720275879,24.069011688232422,-11.153154373168945,9.330187797546387,17.04131317138672,-46.991477966308594,44.130489349365234,4.791350364685059,-11.043591499328613,16.656082153320312,44.926918029785156,-17.315425872802734,23.485198974609375,-60.22367477416992,25.85431480407715,9.12393569946289,-23.155569076538086,-65.08585357666016,-57.93026351928711,45.44832229614258,-2.6911659240722656,24.168115615844727,-19.621110916137695,-42.445682525634766,-28.027647018432617,-46.85964584350586,-31.24947166442871,16.348072052001953,26.793014526367188,43.431522369384766,-32.39478302001953,15.680207252502441,33.86678695678711,7.728423118591309,18.69165802001953,-18.282264709472656,-0.03521423414349556,-4.816902160644531,12.035277366638184,-63.89755630493164,16.85890769958496,-59.655242919921875,10.572367668151855,-18.143564224243164,50.88937759399414,44.822914123535156,-41.32660675048828,-0.41872406005859375,-67.53878021240234,33.07080841064453,-6.559868335723877,18.684690475463867,-15.191648483276367,27.405696868896484,-5.165623664855957,26.79746437072754,-47.96495056152344,35.972347259521484,-32.33796310424805,20.176916122436523,14.565884590148926,-9.578670501708984,1.5336484909057617,-19.851032257080078,25.03464126586914,-51.50869369506836,32.109718322753906,-14.861581802368164,69.06446075439453,22.096525192260742,33.93409729003906,12.681721687316895,-4.393176078796387,14.336126327514648,15.07686710357666,-11.565753936767578,22.79361915588379,-12.902874946594238,-10.443796157836914,-19.506505966186523,28.590572357177734,0.6142221093177795,11.501553535461426,-4.695497035980225,50.22608947753906,3.988952159881592,27.969568252563477,4.964162826538086,39.61955261230469,30.657489776611328,13.03512954711914,45.00045394897461,-3.864748239517212,-18.178653717041016,50.68855667114258,13.295554161071777,-63.183197021484375,-13.231315612792969,-18.953615188598633,25.95762062072754,22.395559310913086,-67.0164794921875,-26.559856414794922,31.734651565551758,-17.304903030395508,-20.799556732177734,41.667625427246094,-31.570274353027344,31.957439422607422,73.2410659790039,7.150321960449219,-62.25191116333008,29.790342330932617,-14.768784523010254,17.446731567382812,32.57209777832031,44.470184326171875,1.705784559249878,-7.3070268630981445,-38.05509948730469,-17.729948043823242,14.244935989379883,-56.897865295410156,51.853694915771484,17.670045852661133,16.52632713317871,68.63423919677734,-48.105918884277344,-22.11554527282715,69.49951171875,12.670320510864258,-22.44413948059082,-58.1926155090332,23.933420181274414,-12.995256423950195,26.571739196777344,-67.56230163574219,17.369165420532227,-31.345443725585938,-16.73806381225586,16.832040786743164,45.31450653076172,-47.154788970947266,12.772154808044434,-41.865806579589844,2.0582809448242188,-23.788551330566406,70.48553466796875,-40.50840377807617,-59.33076095581055,14.252965927124023,-51.54274368286133,16.20973014831543,-13.956686973571777,-15.517749786376953,-49.427955627441406,43.60344314575195,13.197999000549316,41.72285079956055,1.4797266721725464,27.29806137084961,-18.82308006286621,51.34597396850586,13.618571281433105,50.63004684448242,27.863569259643555,-67.00752258300781,-7.360253810882568,20.226388931274414,11.158299446105957,25.882061004638672,29.6767520904541,-11.148791313171387,-20.000213623046875,12.436269760131836,-15.939576148986816,25.51449966430664,-23.995969772338867,50.53847122192383,68.64469909667969,-37.198829650878906,-15.174941062927246,16.43198585510254,-52.87417221069336,2.8145556449890137,23.484508514404297,-14.755619049072266,42.60786437988281,-15.591127395629883,21.58683967590332,-5.682385444641113,-22.64108657836914,31.712934494018555,-39.37808609008789,-18.914594650268555,-3.708375930786133,18.36043930053711,32.799861907958984,-3.3368968963623047,-11.321069717407227,16.316556930541992,-53.76250457763672,-11.268365859985352,46.34563064575195,0.6212520599365234,12.250892639160156,-26.33111572265625,-17.0302734375,-58.53511047363281,-5.10933256149292,15.408782005310059,-21.476797103881836,-47.96685791015625,0.5458406805992126,25.524911880493164,-0.5141832232475281,49.663002014160156,49.99894332885742,15.64290714263916,-59.72929382324219,-1.2484991550445557,19.45343017578125,5.811006546020508,-0.7034912705421448,18.865041732788086,13.010723114013672,71.40205383300781,-47.39094161987305,-39.10527420043945,-53.500022888183594,-43.8599739074707,12.673089981079102,-5.563381195068359,-21.567459106445312,32.819461822509766,26.062358856201172,-10.272011756896973,-19.275314331054688,30.057918548583984,5.354397296905518,-4.503469944000244,0.17263005673885345,20.603891372680664,70.21613311767578,3.909507989883423,11.082611083984375,-64.78260040283203,-41.90772247314453,-15.950498580932617,27.927114486694336,-20.419212341308594,23.433794021606445,-11.681248664855957,20.678876876831055,-15.745160102844238,-51.673187255859375,49.65774154663086,29.49630355834961,32.49371337890625,23.772092819213867,-0.22067183256149292,44.40678405761719,12.90202808380127,5.178459644317627,-32.28902053833008,38.69463348388672,-53.57628631591797,17.404821395874023,27.843685150146484,32.06586837768555,1.4022501707077026,20.841217041015625,26.61951446533203,-4.795348167419434,11.352746963500977,12.080859184265137,17.43425750732422,2.9814422130584717,-5.9847235679626465,-65.0211181640625,-67.39229583740234,-16.89541244506836,-29.313579559326172,-64.11327362060547,-35.81491470336914,19.12483787536621,-10.114189147949219,-9.24160385131836,-47.27845764160156,-31.047998428344727,19.148717880249023,9.136967658996582,51.39136505126953,-11.864166259765625,-17.519275665283203,21.73661231994629,14.453022003173828,-25.467443466186523,9.391807556152344,19.986412048339844,-20.819061279296875,17.15933609008789,-21.150671005249023,-41.47969436645508,45.84223937988281,15.998230934143066,13.015870094299316,24.445703506469727,46.691192626953125,23.806842803955078,-51.3609733581543,-56.82265853881836,-3.6191747188568115,-11.09975528717041,-36.232242584228516,1.332521915435791,-37.263858795166016,12.49472713470459,19.035245895385742,-9.722907066345215,0.8261952996253967,0.9375680088996887,13.601700782775879,-2.0208702087402344,31.71366310119629,71.65300750732422,-0.8842694163322449,-17.155561447143555,20.600629806518555,12.405929565429688,-52.415157318115234,-0.024967093020677567,12.26858139038086,15.212835311889648,9.281122207641602,14.997148513793945,0.7433027625083923,-7.56667423248291,-42.559730529785156,12.208919525146484,-9.618121147155762,12.383774757385254,-9.37922191619873,38.81685256958008,1.5832465887069702,14.89881706237793,32.44797134399414,0.5161583423614502,27.734615325927734,-11.4878511428833,-52.84218978881836,74.28141784667969,-36.76362228393555,-7.906614780426025,23.98897361755371,29.32056427001953,-13.819682121276855,14.943249702453613,-63.857513427734375,12.669349670410156,51.62814712524414,24.695022583007812,5.693564414978027,5.745766639709473,25.406261444091797,-11.308181762695312,17.400146484375,-35.70817184448242,22.99311065673828,-35.29962921142578,27.160558700561523,6.157585620880127,15.927433013916016,25.555435180664062,-56.3510627746582,11.081421852111816,14.099075317382812,35.61246109008789,51.83536148071289,-39.33797073364258,-27.47437858581543,-17.324138641357422,-2.808225154876709,-14.915127754211426,49.74463653564453,-42.40349197387695,19.597997665405273,13.467985153198242,-48.732704162597656,32.901405334472656,27.02952766418457,-14.481794357299805,-4.840673923492432,-9.163500785827637,-13.403639793395996,27.87940788269043,24.422719955444336,46.08141326904297,-48.24623107910156,14.544829368591309,-47.232025146484375,-8.194735527038574,-0.08962356299161911,-57.9710578918457,-2.910818099975586,13.233952522277832,-26.804964065551758,1.7639796733856201,-17.780683517456055,26.07280731201172,14.200102806091309,-55.891578674316406,-68.16695404052734,29.068344116210938,23.271379470825195,51.606510162353516,-47.89392852783203,15.816009521484375,4.363587856292725,-48.92997741699219,-49.83427429199219,73.15534973144531,12.150066375732422,49.46604919433594,46.96332931518555,-38.74534225463867,-47.42713165283203,-20.5546817779541,0.4078446626663208,-50.29124450683594,48.58427429199219,33.85601043701172,28.443456649780273,32.02632522583008,6.844872951507568,-45.63698959350586,-15.275254249572754,-58.116085052490234,32.42032241821289,38.71187973022461,-13.33940315246582,20.644357681274414,-50.0682373046875,-9.477726936340332,45.17200469970703,-30.651870727539062,-57.327552795410156,-15.795111656188965,46.321678161621094,26.44035530090332,-16.40172576904297,16.696163177490234,-63.65607452392578,-10.33808708190918,41.62941360473633,29.58510971069336,2.3879880905151367,-29.689992904663086,-18.323041915893555,-0.48768118023872375,44.2637825012207,3.8719608783721924,-8.009995460510254,45.22761535644531,33.796653747558594,18.533449172973633,-8.032340049743652,-57.913082122802734,-46.363346099853516,15.496058464050293,31.89090347290039,9.419322967529297,8.506916999816895,-33.40291213989258,-0.772878885269165,-54.11307144165039,-40.758338928222656,10.752679824829102,-57.777713775634766,52.422183990478516,30.68859100341797,7.520119667053223,-29.483684539794922,-63.65901184082031,-21.37036895751953,-17.80326271057129,-39.27321243286133,25.588397979736328,-15.588760375976562,24.534526824951172,0.6278727650642395,-39.26359939575195,1.6272685527801514,29.399723052978516,16.435911178588867,-18.201723098754883,-56.96006393432617,11.496687889099121,41.46574783325195,24.543771743774414,-0.7616193890571594,-23.507272720336914,-47.706703186035156,23.67853355407715,-2.646118402481079,14.733272552490234,-0.13119593262672424,-0.395896852016449,-26.84034538269043,-21.077957153320312,-28.88408088684082,-15.630278587341309,24.58574676513672,-15.10239028930664,-22.314952850341797,-45.762638092041016,44.5221061706543,-3.875640392303467,-3.320415735244751,12.178725242614746,-20.017242431640625,-18.837167739868164,-35.0545768737793,-20.9732666015625,69.36119079589844,-24.13287353515625,16.608362197875977,40.176368713378906,-52.094703674316406,13.337881088256836,-8.529313087463379,-66.9659423828125,4.700616359710693,46.144012451171875,45.96464157104492,-29.252647399902344,-10.39118480682373,45.64999008178711,-49.74879455566406,-14.356271743774414,33.212886810302734,25.463665008544922,41.46403503417969,-17.442657470703125,51.64987564086914,5.084347248077393,-18.303050994873047,-14.052766799926758,-0.43971142172813416,25.604412078857422,-0.48057740926742554,-13.004460334777832,-8.081501007080078,-14.864408493041992,11.820145606994629,-1.8041995763778687,1.264863133430481,44.665958404541016,4.7373528480529785,-40.12159729003906,-18.517616271972656,-12.808847427368164,45.856571197509766,20.10633659362793,-47.77338790893555,-18.574508666992188,-29.606983184814453,17.237825393676758,20.882823944091797,19.958005905151367,69.60885620117188,-21.351715087890625,-14.89798641204834,-3.0557777881622314,29.959184646606445,14.390485763549805,-17.692583084106445,-9.415375709533691,35.2986946105957,45.955875396728516,44.63138961791992,-15.424060821533203,72.84449768066406,-28.165462493896484,-52.03721237182617,28.009475708007812,-20.52558135986328,-17.222755432128906,-0.5676780939102173,-26.884449005126953,-38.272979736328125,25.549774169921875,-7.383963108062744,-19.51179313659668,22.904512405395508,16.321651458740234,16.59305763244629,-17.648794174194336,33.624759674072266,19.95882225036621,18.321969985961914,24.38639259338379,-18.3034725189209,0.4408472776412964,8.804899215698242,1.2829688787460327,-3.3230416774749756,2.65997052192688,-64.24105072021484,1.3401820659637451,3.2263224124908447,-47.933101654052734,25.48823356628418,19.507389068603516,-60.18961715698242,14.7753267288208,28.8529052734375,72.61444091796875,-58.51834487915039,-49.177284240722656,69.87299346923828,-6.627686977386475,14.376490592956543,-26.586517333984375,4.424489498138428,15.108884811401367,-53.46585464477539,13.512907028198242,-18.70635223388672,30.810056686401367,-18.26675033569336,-15.091644287109375,-17.8494815826416,-13.773544311523438,27.10149383544922,-45.80839157104492,30.7623233795166,-30.12649917602539,-21.397998809814453,-23.07280921936035,69.44280242919922,-44.32893371582031,-66.56072998046875,-17.50310516357422,-40.555419921875,2.5386407375335693,-46.96684265136719,-20.469898223876953,-16.2416934967041,-8.570049285888672,33.30928421020508,2.7547669410705566,-23.119340896606445,-27.109054565429688,-46.59017562866211,-22.060476303100586,-36.92708969116211,-18.635723114013672,-50.42669677734375,6.609011173248291,-46.354331970214844,1.968375325202942,-59.18849182128906,12.348669052124023,-12.739924430847168,-13.732040405273438,4.04152774810791,-17.827150344848633,-4.284065246582031,-32.89530563354492,-56.29950714111328,-45.81650161743164,-28.340469360351562,-46.011173248291016,-2.2790889739990234,40.27921676635742,-28.556957244873047,4.479152679443359,47.50306701660156,-51.36674118041992,5.87728214263916,4.306387424468994,73.98013305664062,0.7569588422775269,-20.08953285217285,70.04393005371094,19.96463966369629,16.526376724243164,-5.6401848793029785,-68.171875,49.712730407714844,5.616255283355713,-3.061676502227783,-12.071573257446289,-12.780455589294434,0.3035029172897339,-15.671290397644043,31.52874183654785,-11.004813194274902,26.615821838378906,-39.88638687133789,-10.673012733459473,4.9601922035217285,73.98455047607422,-9.499618530273438,44.80189514160156,-28.632083892822266,-5.2607855796813965,23.594684600830078,7.634980201721191,-35.50666046142578,-21.196136474609375,9.290576934814453,-22.230085372924805,20.89212417602539,6.486513137817383,26.33079719543457,33.3765754699707,12.08409309387207,-14.958069801330566,13.926131248474121,24.908700942993164,15.746755599975586,0.5251938700675964,-0.19951018691062927,-3.905735492706299,-5.201904296875,16.98056983947754,-1.3256949186325073,-8.592514991760254,-0.8056083917617798,-58.33811950683594,10.691635131835938,-8.899823188781738,-65.16300201416016,-18.018949508666992,-37.995853424072266,-32.982452392578125,11.964957237243652,31.410629272460938,-17.765701293945312,-52.392181396484375,-13.170123100280762,-58.10179138183594,-67.17687225341797,-9.207744598388672,-27.297561645507812,31.619001388549805,21.491363525390625,-61.82978057861328,-28.878217697143555,-0.49229690432548523,-16.956605911254883,-7.83737325668335,-42.000640869140625,-18.860549926757812,-12.128225326538086,43.83679962158203,-46.47966003417969,-9.614693641662598,-17.449573516845703,-4.396418571472168,-4.390411376953125,-64.03443908691406,-11.586065292358398,47.884212493896484,13.40163803100586,-20.011333465576172,-7.994632720947266,19.7406005859375,12.369041442871094,-11.108583450317383,51.43464279174805,-65.43953704833984,12.738408088684082,-22.76358985900879,-48.40635299682617,5.776554584503174,-39.10884475708008,39.079261779785156,12.701833724975586,72.69540405273438,-31.79065704345703,-7.267049789428711,-52.231040954589844,11.965012550354004,22.888689041137695,-10.87666130065918,-47.466033935546875,22.32229232788086,-22.468936920166016,-13.571125984191895,-56.85203552246094,-15.489381790161133,23.347469329833984,-59.69160461425781,8.22962474822998,2.830548048019409,31.87415885925293,-35.41778564453125,70.18180084228516,-4.788698196411133,-1.4213038682937622,23.931705474853516,-18.919116973876953,-44.73906326293945,23.68352508544922,-12.17884635925293,23.239477157592773,19.63112449645996,30.501794815063477,8.410079002380371,-14.064332962036133,-17.802427291870117,-22.907060623168945,71.51396942138672,25.09895896911621,-45.014156341552734,-17.294872283935547,16.916349411010742,-9.784934043884277,2.3386459350585938,11.861003875732422,3.4211974143981934,-4.2638630867004395,-50.7326774597168,-36.72906494140625,-22.752269744873047,44.16432571411133,13.838150024414062,9.757796287536621,22.579017639160156,-29.460594177246094,-28.058940887451172,-55.24502944946289,11.342860221862793,0.21330933272838593,-14.60621166229248,11.831024169921875,-22.149856567382812,-14.087179183959961,-61.64872360229492,51.50309371948242,-19.288036346435547,29.603893280029297,51.97325897216797,-10.546008110046387,-8.554810523986816,-21.41691017150879,-9.704607009887695,6.94652795791626,-13.016939163208008,-4.279716968536377,-44.46773910522461,-1.334161400794983,12.464255332946777,25.73775863647461,35.85476303100586,-46.388282775878906,1.1379635334014893,45.34957504272461,-31.922937393188477,49.832889556884766,23.403461456298828,50.622711181640625,20.371299743652344,-22.494504928588867,-54.65963363647461,74.96308135986328,-65.02027893066406,39.770606994628906,12.04515266418457,-49.11153030395508,-28.426443099975586,15.369003295898438,43.34519958496094,-22.106454849243164,16.327152252197266,16.532285690307617,-49.67375946044922,-17.24905014038086,16.742958068847656,-0.5171843767166138,19.700529098510742,21.283126831054688,-67.4782485961914,15.319572448730469,-10.638181686401367,19.307641983032227,27.95809555053711,-9.71315860748291,25.860736846923828,27.177934646606445,-17.06266212463379,-8.46582317352295,1.0760571956634521,-11.012883186340332,45.74606704711914,51.10468673706055,-44.297908782958984,25.5607852935791,1.0381050109863281,22.217592239379883,14.039894104003906,-20.180410385131836,-16.38697052001953,-47.7545166015625,18.68801498413086,29.180152893066406,-14.551714897155762,30.30477523803711,-65.18954467773438,30.61733055114746,6.229971885681152,-67.70883178710938,24.253000259399414,-43.569847106933594,-19.173948287963867,6.16677188873291,-6.389864921569824,27.63452911376953,-10.787043571472168,51.4819450378418,-8.060325622558594,23.929643630981445,12.68989086151123,-13.694731712341309,-9.273422241210938,25.504526138305664,-61.6798210144043,5.2189154624938965,3.7680575847625732,-5.595037460327148,-60.656394958496094,3.969104528427124,-22.495235443115234,-58.710506439208984,-67.16544342041016,45.0123176574707,-53.534828186035156,-46.8539924621582,74.40365600585938,-17.172483444213867,-9.154280662536621,1.5800344944000244,4.008662223815918,-13.996232986450195,36.68163299560547,-7.3391571044921875,-14.252964973449707,-5.3217902183532715,10.994629859924316,-14.023406982421875,26.2962646484375,17.75380516052246,-68.25525665283203,28.058664321899414,51.2824821472168,-12.532146453857422,13.084948539733887,44.7445182800293,-41.92780303955078,-47.35186767578125,6.732094764709473,-13.016609191894531,7.1526031494140625,49.219547271728516,8.334709167480469,17.172698974609375,12.1864652633667,-68.0411605834961,-28.621055603027344,-8.644713401794434,-3.7591235637664795,70.3663101196289,24.18745994567871,27.32257843017578,25.593381881713867,11.597649574279785,16.342567443847656,30.65423583984375,10.244155883789062,-11.342291831970215,19.21613121032715,15.62999153137207,30.144428253173828,-67.82559204101562,13.633113861083984,45.3169059753418,24.52488136291504,46.25044250488281,29.00960922241211,31.08011245727539,25.273460388183594,30.50990867614746,25.985788345336914,15.814825057983398,-65.50431060791016,29.20745086669922,-43.28971481323242,-7.122335433959961,49.46881103515625,14.561604499816895,6.318309307098389,13.748021125793457,16.217174530029297,9.40689468383789,-68.28173828125,51.23200988769531,15.87130069732666,2.4630792140960693,12.774553298950195,16.210153579711914,22.447433471679688,-48.944862365722656,-9.56250286102295,14.47692584991455,-6.249186992645264,-59.94712448120117,-37.58356475830078,74.57389068603516,-60.520145416259766,-4.601602077484131,22.895822525024414,15.644267082214355,-23.61372947692871,14.543746948242188,17.856618881225586,19.36896514892578,-2.9462180137634277,-27.174959182739258,-54.24826431274414,-3.8686037063598633,14.041399002075195,-58.006797790527344,23.801904678344727,10.156813621520996,-28.447124481201172,-15.581372261047363,-58.547401428222656,-6.951250076293945,-18.2916259765625,15.473265647888184,-6.207080841064453,-17.468488693237305,-12.931008338928223,12.444170951843262,17.327720642089844,-44.16964340209961,32.747074127197266,20.80184555053711,4.199071884155273,-1.5189627408981323,-46.84994125366211,-56.19411849975586,-20.411720275878906,-0.20165956020355225,-30.757183074951172,-12.844449043273926,-57.87567901611328,44.55252456665039,22.772926330566406,-66.279541015625,-15.984256744384766,-10.339468955993652,-67.48947143554688,15.878249168395996,25.455825805664062,-42.73637008666992,-1.2471548318862915,44.75819396972656,-19.375917434692383,-10.513139724731445,13.64321517944336,-11.808632850646973,24.12409782409668,-2.118479013442993,10.42613697052002,21.663969039916992,50.394981384277344,22.969932556152344,50.01114273071289,-32.31376266479492,-0.4949706494808197,-44.8409309387207,-21.269309997558594,25.449831008911133,-1.4898816347122192,6.320510387420654,-17.111770629882812,16.397289276123047,-35.40525436401367,-7.560996055603027,-65.91046905517578,44.48551940917969,-12.935648918151855,-12.3755464553833,-42.38303756713867,4.198834419250488,-57.64860153198242,-1.6080878973007202,-66.30963897705078,-4.850733757019043,26.43549346923828,21.376306533813477,-63.77116394042969,-13.783734321594238,28.019012451171875,22.419981002807617,-17.83366584777832,2.8567733764648438,23.263538360595703,19.702960968017578,-46.269405364990234,2.7186405658721924,4.877857685089111,20.021923065185547,-18.658998489379883,-45.37705993652344,71.93543243408203,-39.86751937866211,-36.98859786987305,27.056835174560547,-5.638682842254639,-23.075462341308594,69.08387756347656,33.75360870361328,16.707502365112305,47.27934265136719,-15.873251914978027,-37.5867805480957,50.44992446899414,10.298219680786133,-23.847829818725586,-57.63084030151367,-1.2675853967666626,29.57919692993164,-17.107370376586914,11.7540922164917,-22.732824325561523,-9.505924224853516,-42.05215072631836,-6.020541191101074,14.191045761108398,-13.958479881286621,-39.28261184692383,-62.56287384033203,-2.111257791519165,-20.87468910217285,7.364277362823486,13.84789752960205,46.139015197753906,12.948538780212402,-10.384170532226562,4.637385845184326,0.7159069180488586,-11.066934585571289,15.802075386047363,-14.393045425415039,-2.897418975830078,-30.5,-18.38311004638672,-14.655900955200195,-59.42219161987305,71.97086334228516,-26.843690872192383,-66.71194458007812,5.277796268463135,-14.952080726623535,6.220493316650391,45.867767333984375,-31.32822036743164,-38.97844696044922,-26.911117553710938,-21.033702850341797,25.016258239746094,5.812858581542969,31.183712005615234,-56.30312728881836,-49.032379150390625,-15.502630233764648,2.279006242752075,-40.38864517211914,-47.98911666870117,-15.549280166625977,-0.2184663712978363,-17.24163055419922,-41.84571838378906,3.134272336959839,3.0455591678619385,-27.358604431152344,18.33798599243164,47.70598602294922,69.45211791992188,31.922204971313477,33.42588424682617,30.365880966186523,19.951122283935547,14.68135929107666,-3.0703682899475098,-35.03935623168945,10.94872760772705,7.185976505279541,-29.698261260986328,17.905338287353516,21.133312225341797,-3.8350939750671387,-15.488302230834961,17.06918716430664,-66.33538055419922,-11.684247016906738,22.421098709106445,-59.81934356689453,-53.74628829956055,44.24161911010742,-12.201737403869629,31.08417320251465,25.412994384765625,-34.72500228881836,-0.016145966947078705,15.36793041229248,8.281424522399902,-14.982885360717773,-5.225465297698975,0.8575649857521057,-18.69392967224121,74.49895477294922,42.53466033935547,-14.383950233459473,-27.31458854675293,13.844453811645508,50.514408111572266,70.20390319824219,72.55815124511719,-21.00927734375,30.25315284729004,-56.37428665161133,-6.918336868286133,51.643218994140625,24.67951011657715,12.777667045593262,29.772003173828125,-14.996356964111328,-10.934757232666016,19.919836044311523,-3.7396674156188965,-70.90003204345703,12.3408784866333,74.12942504882812,-67.6916732788086,-18.71895408630371,21.073436737060547,4.510905742645264,40.37215805053711,-44.86222457885742,14.782679557800293,-21.9112548828125,-29.707807540893555,-13.757747650146484,8.305593490600586,-14.778179168701172,69.01445007324219,-44.94919204711914,-65.0932388305664,-17.11882972717285,46.151092529296875,-17.930736541748047,12.40324592590332,-44.90547561645508,-0.9460980296134949,19.623367309570312,17.47488784790039,49.348426818847656,-63.937129974365234,-17.39021873474121,-1.1340972185134888,-25.21552085876465,18.308908462524414,-1.3207581043243408,1.9630063772201538,-20.52866554260254,-19.135684967041016,46.3496208190918,-3.6976847648620605,-15.926244735717773,-16.749292373657227,0.18566644191741943,0.560916006565094,-14.208791732788086,11.068501472473145,4.329562664031982,8.262283325195312,-16.69692039489746,28.663429260253906,71.4224624633789,16.615690231323242,-5.564367771148682,14.123872756958008,15.130751609802246,6.879878044128418,18.53009033203125,-19.401784896850586,14.107762336730957,24.78816795349121,-31.20896339416504,-2.686508893966675,32.954044342041016,-45.710227966308594,46.47091293334961,20.49325180053711,13.494529724121094,0.027861177921295166,72.89708709716797,-19.72934341430664,-4.370701789855957,25.463825225830078,29.805030822753906,21.270408630371094,38.27076721191406,5.547335147857666,14.904648780822754,19.198894500732422,-6.465547561645508,21.231542587280273,9.811847686767578,29.890012741088867,6.833683013916016,47.60711669921875,-40.41714096069336,-46.54725646972656,35.00019454956055,23.27640724182129,12.57104206085205,-47.49216079711914,-62.62664031982422,-21.809112548828125,-8.910855293273926,48.72804260253906,-68.1032943725586,28.785152435302734,-68.62855529785156,29.97075843811035,-1.0765467882156372,31.05595588684082,-13.040102005004883,19.57227325439453,51.01719284057617,-13.930694580078125,-53.384586334228516,-3.2793028354644775,37.97886657714844,8.05540943145752,-46.59502029418945,-1.4759083986282349,34.944122314453125,12.583512306213379,-10.052894592285156,-13.529158592224121,17.45354652404785,11.54494857788086,18.604421615600586,-21.66015625,-2.052757740020752,-47.609004974365234,14.72480583190918,-14.220425605773926,41.85441207885742,-15.632564544677734,10.76578426361084,14.164627075195312,30.19293212890625,44.62884521484375,25.313085556030273,-9.26283073425293,-39.23558807373047,30.199594497680664,-66.61229705810547,-33.59797668457031,3.905646800994873,-28.136442184448242,9.06759262084961,-12.888774871826172,-58.313941955566406,1.5134756565093994,32.86314392089844,-47.34317398071289,7.789102554321289,15.199146270751953,-62.17914581298828,16.718416213989258,75.50283813476562,-45.251075744628906,-69.04589080810547,-60.85597229003906,-66.81242370605469,-26.440610885620117,-10.243218421936035,-0.05782466009259224,-56.12603759765625,-33.35460662841797,31.988107681274414,-66.92886352539062,20.690860748291016,-62.61397933959961,-13.139599800109863,24.224613189697266,3.1695497035980225,15.618500709533691,44.70768737792969,72.63289642333984,-3.8557887077331543,-41.54191970825195,-20.23409652709961,52.69853210449219,8.5689058303833,46.13501739501953,-44.678714752197266,-8.164407730102539,-42.26008987426758,24.39141845703125,-7.311575889587402,15.365745544433594,-30.561939239501953,-49.16602325439453,69.57577514648438,45.54685592651367,-9.508721351623535,-18.991382598876953,31.39822769165039,-9.029365539550781,30.421276092529297,7.278372764587402,-15.24074649810791,24.445924758911133,44.845821380615234,73.92366027832031,13.35858154296875,-60.52231979370117,23.913806915283203,-20.6483154296875,-9.758662223815918,-16.66852569580078,-22.257091522216797,-3.4191627502441406,31.421234130859375,71.47154998779297,29.736299514770508,-20.596799850463867,2.1819007396698,-12.854862213134766,-6.982345104217529,13.762598037719727,45.00971603393555,8.60435962677002,-40.141719818115234,-64.47490692138672,16.609508514404297,-4.3557963371276855,49.326560974121094,-37.38582229614258,44.96079635620117,-6.271099090576172,-64.24678802490234,14.410989761352539,-16.38368797302246,-44.07992172241211,25.52645492553711,25.77915382385254,15.451359748840332,6.8268723487854,-66.73829650878906,-36.58407211303711,-14.565816879272461,10.554444313049316,-9.712357521057129,-23.414831161499023,-1.3066883087158203,-13.06290340423584,-65.10139465332031,17.06194496154785,22.77646255493164,-48.1730842590332,-16.229347229003906,-16.577259063720703,0.3207324147224426,-28.326004028320312,-53.333404541015625,20.716989517211914,12.108041763305664,25.502660751342773,-16.04389762878418,9.699246406555176,28.806249618530273,-58.35524368286133,-0.5258226990699768,12.165715217590332,30.037639617919922,27.80740737915039,-9.07877254486084,20.34053611755371,11.501642227172852,16.473770141601562,-66.74410247802734,-11.324584007263184,-42.3218994140625,30.052581787109375,-21.199462890625,-65.60244750976562,4.470271110534668,19.937284469604492,-41.30580139160156,-18.65162467956543,22.423507690429688,-63.826107025146484,-58.29020309448242,29.06582260131836,6.839841365814209,4.495900630950928,46.54690933227539,73.17160034179688,-14.718781471252441,8.785279273986816,14.110462188720703,-42.27185821533203,7.170391082763672,-23.3277530670166,28.725679397583008,-59.2299919128418,-12.343278884887695,21.530742645263672,12.66268539428711,11.865117073059082,-65.86711883544922,-51.2945442199707,12.768465995788574,-22.86054039001465,-11.476036071777344,52.26861572265625,-40.65143585205078,42.374603271484375,29.548707962036133,31.527490615844727,6.593217849731445,51.0790901184082,-19.445316314697266,3.9992594718933105,-53.94097137451172,22.675586700439453,71.03878784179688,49.84703063964844,-12.841964721679688,-17.81068992614746,0.8927088975906372,-65.14258575439453,-1.607570767402649,-67.48939514160156,18.077407836914062,25.42005729675293,24.00554847717285,-15.392779350280762,20.68460464477539,19.369199752807617,-48.079078674316406,12.198877334594727,14.921812057495117,-18.5295467376709,46.029273986816406,-19.41777801513672,-57.622352600097656,-2.42551589012146,28.68729591369629,-39.98018264770508,-26.96369171142578,-42.21849060058594,31.01946449279785,24.919954299926758,33.56045150756836,12.912327766418457,-65.47074127197266,4.567371845245361,25.503082275390625,25.634130477905273,-14.82540225982666,1.4480438232421875,50.70562744140625,17.007686614990234,-63.70113754272461,-19.38914680480957,23.9359130859375,-45.599483489990234,-17.544618606567383,-14.939614295959473,8.384833335876465,-4.366538047790527,-56.34852600097656,-67.8277359008789,1.7160922288894653,3.403693437576294,22.559694290161133,22.537885665893555,37.04814910888672,-28.066057205200195,51.949790954589844,13.051618576049805,31.250877380371094,44.55215835571289,17.268842697143555,33.91767883300781,0.938789963722229,32.64890670776367,-36.33580780029297,18.800914764404297,0.7020069360733032,23.58104133605957,7.560754776000977,-42.024051666259766,49.76211929321289,52.2010498046875,-11.443201065063477,-21.7257080078125,-3.398850440979004,74.88531494140625,13.212075233459473,-0.7846580147743225,21.049453735351562,-4.787216663360596,-56.79572677612305,-10.742293357849121,-58.89809799194336,3.3259003162384033,25.338777542114258,-2.808774709701538,39.29795837402344,74.4391860961914,-52.14280700683594,-0.6956546306610107,-9.209239959716797,17.109966278076172,9.497632026672363,17.37031364440918,-20.807785034179688,22.458011627197266,-16.000394821166992,-45.2453727722168,42.01042556762695,13.116484642028809,18.345354080200195,13.752903938293457,44.27185821533203,-10.940845489501953,-41.196624755859375,31.29458999633789,-48.920143127441406,-4.100620269775391,28.912006378173828,-21.043710708618164,-13.379576683044434,16.079612731933594,-18.01897621154785,-17.36943244934082,25.40510368347168,44.15330123901367,-64.3018569946289,-12.3939208984375,2.420114278793335,-34.558006286621094,-37.08208084106445,-45.87949752807617,75.53775024414062,31.31890869140625,-5.433694839477539,5.246913433074951,-4.822889804840088,1.0375465154647827,4.197957515716553,3.8078675270080566,-45.99288558959961,0.2056235820055008,-17.560293197631836,-46.778621673583984,17.309911727905273,-14.42227840423584,16.939868927001953,44.415748596191406,16.59724235534668,-12.490256309509277,23.309743881225586,-13.16869068145752,-16.943822860717773,-11.232133865356445,-9.665180206298828,-47.97183609008789,-66.5591049194336,-20.13430404663086,-9.47866153717041,-14.857856750488281,-19.179540634155273,4.520529270172119,22.458362579345703,15.656805992126465,2.6953065395355225,20.296409606933594,-46.295162200927734,-51.566139221191406,1.6309481859207153,-13.905411720275879,31.480440139770508,-46.640010833740234,3.1320793628692627,-45.93915557861328,-20.904407501220703,-14.508882522583008,11.7151460647583,-47.657737731933594,49.466461181640625,-19.235326766967773,46.546199798583984,-46.146453857421875,-7.124065399169922,-40.22715377807617,41.97490692138672,-19.93124771118164,31.08952522277832,-22.786266326904297,13.181586265563965,-23.14960289001465,-8.530570983886719,25.34804916381836,23.785022735595703,-9.18112564086914,12.21432113647461,-20.415756225585938,-56.90555191040039,2.6890594959259033,4.7324090003967285,5.835673809051514,15.159998893737793,-48.74541473388672,12.0051908493042,25.895689010620117,-44.74230194091797,-14.293538093566895,-6.716833114624023,-12.408950805664062,-3.9268605709075928,-14.364608764648438,48.55287551879883,19.518163681030273,-16.372873306274414,-58.484580993652344,-57.09561538696289,29.876794815063477,-15.660287857055664,-7.824551582336426,-68.56970977783203,12.491154670715332,-17.50282859802246,28.656352996826172,46.409393310546875,42.59479904174805,-58.342594146728516,2.053541421890259,17.427127838134766,-0.630752682685852,-48.45178985595703,46.738380432128906,-21.586702346801758,-9.819235801696777,44.37810134887695,-32.92184066772461,14.58857250213623,33.857696533203125,11.645833015441895,8.232757568359375,17.393409729003906,-68.04641723632812,32.166404724121094,-5.746387958526611,20.842891693115234,30.97823143005371,42.601898193359375,-29.906700134277344,-22.768796920776367,-36.905635833740234,-64.25186157226562,31.74750328063965,-37.735103607177734,75.54306030273438,30.238256454467773,-51.76417922973633,-63.05448532104492,-7.197848796844482,-49.8706169128418,23.813982009887695,-51.656341552734375,52.09708023071289,-4.050722122192383,69.1034164428711,-44.37038803100586,-13.828082084655762,-19.298677444458008,7.813436031341553,44.141822814941406,-56.375694274902344,21.35685157775879,11.906639099121094,11.724506378173828,6.335056781768799,8.882143020629883,11.991207122802734,29.068265914916992,19.11302375793457,15.357561111450195,-49.55070877075195,28.912431716918945,24.160686492919922,32.395423889160156,14.459239959716797,-18.106887817382812,-12.99201488494873,-38.615882873535156,13.497617721557617,16.844247817993164,14.055203437805176,-65.48023986816406,-21.290653228759766,-42.79830551147461,-5.692662239074707,-58.19084167480469,20.453933715820312,44.92617416381836,27.95801544189453,-68.84607696533203,28.209991455078125,-57.998130798339844,14.372270584106445,20.600332260131836,-3.363785982131958,19.7325382232666,-12.656054496765137,-23.71624183654785,-19.701656341552734,1.3184260129928589,3.6190619468688965,15.311051368713379,-68.66348266601562,-12.121781349182129,49.78409957885742,24.65340232849121,74.5328140258789,69.98348999023438,-52.003047943115234,11.000755310058594,18.073387145996094,26.410308837890625,-1.3806676864624023,-26.25444221496582,11.448569297790527,-22.046340942382812,12.559845924377441,-30.015056610107422,-0.9908402562141418,69.82195281982422,28.731821060180664,33.44667053222656,-9.661270141601562,-18.21219253540039,51.697383880615234,-60.60354995727539,27.663597106933594,-49.028541564941406,23.859460830688477,20.929485321044922,-46.82392501831055,45.32993698120117,24.254249572753906,-9.696348190307617,-41.447021484375,-18.15804100036621,11.722128868103027,25.960683822631836,45.61109924316406,71.34342956542969,12.302987098693848,18.45573616027832,16.242053985595703,7.758752822875977,-50.0443229675293,15.321968078613281,23.652912139892578,-35.9279670715332,-22.16562271118164,15.646199226379395,16.434663772583008,-44.18531799316406,-23.198904037475586,-50.580020904541016,-67.78529357910156,32.85031509399414,-68.23345947265625,-58.168087005615234,44.608924865722656,-67.98548889160156,22.31273078918457,-21.511383056640625,14.550873756408691,-57.580291748046875,30.9024715423584,39.25284194946289,-64.9244155883789,51.04834747314453,-18.654577255249023,-50.028804779052734,-17.083045959472656,31.210779190063477,-46.0218505859375,25.363800048828125,14.817505836486816,31.66176414489746,-52.14330291748047,29.42552947998047,-68.61363983154297,9.433826446533203,14.425559997558594,-14.179396629333496,69.10920715332031,9.827940940856934,-46.23532485961914,12.809439659118652,1.4712018966674805,-21.169464111328125,-14.609101295471191,-3.236689329147339,36.20547103881836,49.41940689086914,-57.41303253173828,-53.10495376586914,-56.48190689086914,14.813159942626953,19.498327255249023,20.4967041015625,-12.686903953552246,-14.163229942321777,11.961526870727539,-47.57023620605469,-19.11720085144043,49.16572189331055,-59.93230438232422,-4.828693866729736,-3.307478427886963,-66.24010467529297,26.959247589111328,40.571533203125,5.279711723327637,-66.18640899658203,-37.032432556152344,49.813720703125,-6.91556978225708,12.831085205078125,-8.572151184082031,28.898942947387695,-9.943808555603027,29.959978103637695,6.286680221557617,14.649028778076172,-42.441688537597656,-20.374670028686523,44.323734283447266,32.948448181152344,-18.460651397705078,-22.86343002319336,-57.0435676574707,29.287269592285156,-0.49976983666419983,-5.396122932434082,-68.01885986328125,-56.189266204833984,6.435453414916992,28.386600494384766,-19.591764450073242,-48.964412689208984,40.628074645996094,31.256359100341797,-3.0176401138305664,8.779023170471191,-5.020561695098877,-14.545788764953613,28.641223907470703,-70.26863861083984,17.570444107055664,-3.374344825744629,24.479190826416016,17.0329647064209,7.908638000488281,-19.708419799804688,23.20684051513672,-23.036537170410156,-56.27629470825195,38.852699279785156,-9.815295219421387,45.15345764160156,-39.30391311645508,-45.452239990234375,-47.45414733886719,2.211529493331909,-11.907233238220215,-65.69439697265625,10.14487361907959,49.221614837646484,-0.30556124448776245,23.25050163269043,4.539600372314453,-41.0319938659668,18.01719856262207,-12.06441879272461,-12.366897583007812,29.962810516357422,22.558273315429688,49.474830627441406,-6.268551826477051,-1.9959977865219116,48.09974670410156,47.00971984863281,-19.40447425842285,-48.37612533569336,29.070262908935547,-65.36107635498047,-56.62346649169922,73.96337890625,35.797157287597656,51.00917053222656,23.000995635986328,-9.597290992736816,12.203484535217285,14.527253150939941,46.00356674194336,44.28385543823242,19.66654396057129,-18.433048248291016,12.97222900390625,15.904797554016113,-13.572372436523438,70.05193328857422,51.58236312866211,-2.186028242111206,51.229095458984375,24.217329025268555,-11.497748374938965,-31.574438095092773,9.980059623718262,-67.12621307373047,4.655601978302002,32.13404846191406,44.53596496582031,69.2923583984375,30.289705276489258,19.091751098632812,-2.2829458713531494,25.899024963378906,-58.97370147705078,44.224098205566406,8.28344440460205,0.6220951080322266,6.5845417976379395,24.070053100585938,31.7614688873291,27.240999221801758,-67.85295104980469,14.842206001281738,21.63227081298828,-16.450424194335938,32.33720779418945,-15.539490699768066,-17.978071212768555,18.035184860229492,-13.649824142456055,2.4816644191741943,-34.836978912353516,-3.3561902046203613,8.303961753845215,-54.26020431518555,-14.41246223449707,-16.901958465576172,-0.9679149389266968,9.256324768066406,18.123807907104492,48.536407470703125,34.51348876953125,-13.920411109924316,-66.05390930175781,3.649015426635742,0.4514833986759186,32.55485153198242,18.109554290771484,-9.836609840393066,-2.6547598838806152,-29.37806510925293,45.07791519165039,21.768085479736328,-46.45512771606445,-34.64848709106445,24.65340805053711,15.31192684173584,21.2716064453125,16.709918975830078,-19.58582878112793,-64.75016784667969,3.7195887565612793,-66.75847625732422,32.49973678588867,-14.772818565368652,-36.51475524902344,46.186344146728516,15.500109672546387,-20.27907943725586],\"yaxis\":\"y\",\"type\":\"scattergl\"}],                        {\"template\":{\"data\":{\"histogram2dcontour\":[{\"type\":\"histogram2dcontour\",\"colorbar\":{\"outlinewidth\":0,\"ticks\":\"\"},\"colorscale\":[[0.0,\"#0d0887\"],[0.1111111111111111,\"#46039f\"],[0.2222222222222222,\"#7201a8\"],[0.3333333333333333,\"#9c179e\"],[0.4444444444444444,\"#bd3786\"],[0.5555555555555556,\"#d8576b\"],[0.6666666666666666,\"#ed7953\"],[0.7777777777777778,\"#fb9f3a\"],[0.8888888888888888,\"#fdca26\"],[1.0,\"#f0f921\"]]}],\"choropleth\":[{\"type\":\"choropleth\",\"colorbar\":{\"outlinewidth\":0,\"ticks\":\"\"}}],\"histogram2d\":[{\"type\":\"histogram2d\",\"colorbar\":{\"outlinewidth\":0,\"ticks\":\"\"},\"colorscale\":[[0.0,\"#0d0887\"],[0.1111111111111111,\"#46039f\"],[0.2222222222222222,\"#7201a8\"],[0.3333333333333333,\"#9c179e\"],[0.4444444444444444,\"#bd3786\"],[0.5555555555555556,\"#d8576b\"],[0.6666666666666666,\"#ed7953\"],[0.7777777777777778,\"#fb9f3a\"],[0.8888888888888888,\"#fdca26\"],[1.0,\"#f0f921\"]]}],\"heatmap\":[{\"type\":\"heatmap\",\"colorbar\":{\"outlinewidth\":0,\"ticks\":\"\"},\"colorscale\":[[0.0,\"#0d0887\"],[0.1111111111111111,\"#46039f\"],[0.2222222222222222,\"#7201a8\"],[0.3333333333333333,\"#9c179e\"],[0.4444444444444444,\"#bd3786\"],[0.5555555555555556,\"#d8576b\"],[0.6666666666666666,\"#ed7953\"],[0.7777777777777778,\"#fb9f3a\"],[0.8888888888888888,\"#fdca26\"],[1.0,\"#f0f921\"]]}],\"heatmapgl\":[{\"type\":\"heatmapgl\",\"colorbar\":{\"outlinewidth\":0,\"ticks\":\"\"},\"colorscale\":[[0.0,\"#0d0887\"],[0.1111111111111111,\"#46039f\"],[0.2222222222222222,\"#7201a8\"],[0.3333333333333333,\"#9c179e\"],[0.4444444444444444,\"#bd3786\"],[0.5555555555555556,\"#d8576b\"],[0.6666666666666666,\"#ed7953\"],[0.7777777777777778,\"#fb9f3a\"],[0.8888888888888888,\"#fdca26\"],[1.0,\"#f0f921\"]]}],\"contourcarpet\":[{\"type\":\"contourcarpet\",\"colorbar\":{\"outlinewidth\":0,\"ticks\":\"\"}}],\"contour\":[{\"type\":\"contour\",\"colorbar\":{\"outlinewidth\":0,\"ticks\":\"\"},\"colorscale\":[[0.0,\"#0d0887\"],[0.1111111111111111,\"#46039f\"],[0.2222222222222222,\"#7201a8\"],[0.3333333333333333,\"#9c179e\"],[0.4444444444444444,\"#bd3786\"],[0.5555555555555556,\"#d8576b\"],[0.6666666666666666,\"#ed7953\"],[0.7777777777777778,\"#fb9f3a\"],[0.8888888888888888,\"#fdca26\"],[1.0,\"#f0f921\"]]}],\"surface\":[{\"type\":\"surface\",\"colorbar\":{\"outlinewidth\":0,\"ticks\":\"\"},\"colorscale\":[[0.0,\"#0d0887\"],[0.1111111111111111,\"#46039f\"],[0.2222222222222222,\"#7201a8\"],[0.3333333333333333,\"#9c179e\"],[0.4444444444444444,\"#bd3786\"],[0.5555555555555556,\"#d8576b\"],[0.6666666666666666,\"#ed7953\"],[0.7777777777777778,\"#fb9f3a\"],[0.8888888888888888,\"#fdca26\"],[1.0,\"#f0f921\"]]}],\"mesh3d\":[{\"type\":\"mesh3d\",\"colorbar\":{\"outlinewidth\":0,\"ticks\":\"\"}}],\"scatter\":[{\"fillpattern\":{\"fillmode\":\"overlay\",\"size\":10,\"solidity\":0.2},\"type\":\"scatter\"}],\"parcoords\":[{\"type\":\"parcoords\",\"line\":{\"colorbar\":{\"outlinewidth\":0,\"ticks\":\"\"}}}],\"scatterpolargl\":[{\"type\":\"scatterpolargl\",\"marker\":{\"colorbar\":{\"outlinewidth\":0,\"ticks\":\"\"}}}],\"bar\":[{\"error_x\":{\"color\":\"#2a3f5f\"},\"error_y\":{\"color\":\"#2a3f5f\"},\"marker\":{\"line\":{\"color\":\"#E5ECF6\",\"width\":0.5},\"pattern\":{\"fillmode\":\"overlay\",\"size\":10,\"solidity\":0.2}},\"type\":\"bar\"}],\"scattergeo\":[{\"type\":\"scattergeo\",\"marker\":{\"colorbar\":{\"outlinewidth\":0,\"ticks\":\"\"}}}],\"scatterpolar\":[{\"type\":\"scatterpolar\",\"marker\":{\"colorbar\":{\"outlinewidth\":0,\"ticks\":\"\"}}}],\"histogram\":[{\"marker\":{\"pattern\":{\"fillmode\":\"overlay\",\"size\":10,\"solidity\":0.2}},\"type\":\"histogram\"}],\"scattergl\":[{\"type\":\"scattergl\",\"marker\":{\"colorbar\":{\"outlinewidth\":0,\"ticks\":\"\"}}}],\"scatter3d\":[{\"type\":\"scatter3d\",\"line\":{\"colorbar\":{\"outlinewidth\":0,\"ticks\":\"\"}},\"marker\":{\"colorbar\":{\"outlinewidth\":0,\"ticks\":\"\"}}}],\"scattermapbox\":[{\"type\":\"scattermapbox\",\"marker\":{\"colorbar\":{\"outlinewidth\":0,\"ticks\":\"\"}}}],\"scatterternary\":[{\"type\":\"scatterternary\",\"marker\":{\"colorbar\":{\"outlinewidth\":0,\"ticks\":\"\"}}}],\"scattercarpet\":[{\"type\":\"scattercarpet\",\"marker\":{\"colorbar\":{\"outlinewidth\":0,\"ticks\":\"\"}}}],\"carpet\":[{\"aaxis\":{\"endlinecolor\":\"#2a3f5f\",\"gridcolor\":\"white\",\"linecolor\":\"white\",\"minorgridcolor\":\"white\",\"startlinecolor\":\"#2a3f5f\"},\"baxis\":{\"endlinecolor\":\"#2a3f5f\",\"gridcolor\":\"white\",\"linecolor\":\"white\",\"minorgridcolor\":\"white\",\"startlinecolor\":\"#2a3f5f\"},\"type\":\"carpet\"}],\"table\":[{\"cells\":{\"fill\":{\"color\":\"#EBF0F8\"},\"line\":{\"color\":\"white\"}},\"header\":{\"fill\":{\"color\":\"#C8D4E3\"},\"line\":{\"color\":\"white\"}},\"type\":\"table\"}],\"barpolar\":[{\"marker\":{\"line\":{\"color\":\"#E5ECF6\",\"width\":0.5},\"pattern\":{\"fillmode\":\"overlay\",\"size\":10,\"solidity\":0.2}},\"type\":\"barpolar\"}],\"pie\":[{\"automargin\":true,\"type\":\"pie\"}]},\"layout\":{\"autotypenumbers\":\"strict\",\"colorway\":[\"#636efa\",\"#EF553B\",\"#00cc96\",\"#ab63fa\",\"#FFA15A\",\"#19d3f3\",\"#FF6692\",\"#B6E880\",\"#FF97FF\",\"#FECB52\"],\"font\":{\"color\":\"#2a3f5f\"},\"hovermode\":\"closest\",\"hoverlabel\":{\"align\":\"left\"},\"paper_bgcolor\":\"white\",\"plot_bgcolor\":\"#E5ECF6\",\"polar\":{\"bgcolor\":\"#E5ECF6\",\"angularaxis\":{\"gridcolor\":\"white\",\"linecolor\":\"white\",\"ticks\":\"\"},\"radialaxis\":{\"gridcolor\":\"white\",\"linecolor\":\"white\",\"ticks\":\"\"}},\"ternary\":{\"bgcolor\":\"#E5ECF6\",\"aaxis\":{\"gridcolor\":\"white\",\"linecolor\":\"white\",\"ticks\":\"\"},\"baxis\":{\"gridcolor\":\"white\",\"linecolor\":\"white\",\"ticks\":\"\"},\"caxis\":{\"gridcolor\":\"white\",\"linecolor\":\"white\",\"ticks\":\"\"}},\"coloraxis\":{\"colorbar\":{\"outlinewidth\":0,\"ticks\":\"\"}},\"colorscale\":{\"sequential\":[[0.0,\"#0d0887\"],[0.1111111111111111,\"#46039f\"],[0.2222222222222222,\"#7201a8\"],[0.3333333333333333,\"#9c179e\"],[0.4444444444444444,\"#bd3786\"],[0.5555555555555556,\"#d8576b\"],[0.6666666666666666,\"#ed7953\"],[0.7777777777777778,\"#fb9f3a\"],[0.8888888888888888,\"#fdca26\"],[1.0,\"#f0f921\"]],\"sequentialminus\":[[0.0,\"#0d0887\"],[0.1111111111111111,\"#46039f\"],[0.2222222222222222,\"#7201a8\"],[0.3333333333333333,\"#9c179e\"],[0.4444444444444444,\"#bd3786\"],[0.5555555555555556,\"#d8576b\"],[0.6666666666666666,\"#ed7953\"],[0.7777777777777778,\"#fb9f3a\"],[0.8888888888888888,\"#fdca26\"],[1.0,\"#f0f921\"]],\"diverging\":[[0,\"#8e0152\"],[0.1,\"#c51b7d\"],[0.2,\"#de77ae\"],[0.3,\"#f1b6da\"],[0.4,\"#fde0ef\"],[0.5,\"#f7f7f7\"],[0.6,\"#e6f5d0\"],[0.7,\"#b8e186\"],[0.8,\"#7fbc41\"],[0.9,\"#4d9221\"],[1,\"#276419\"]]},\"xaxis\":{\"gridcolor\":\"white\",\"linecolor\":\"white\",\"ticks\":\"\",\"title\":{\"standoff\":15},\"zerolinecolor\":\"white\",\"automargin\":true,\"zerolinewidth\":2},\"yaxis\":{\"gridcolor\":\"white\",\"linecolor\":\"white\",\"ticks\":\"\",\"title\":{\"standoff\":15},\"zerolinecolor\":\"white\",\"automargin\":true,\"zerolinewidth\":2},\"scene\":{\"xaxis\":{\"backgroundcolor\":\"#E5ECF6\",\"gridcolor\":\"white\",\"linecolor\":\"white\",\"showbackground\":true,\"ticks\":\"\",\"zerolinecolor\":\"white\",\"gridwidth\":2},\"yaxis\":{\"backgroundcolor\":\"#E5ECF6\",\"gridcolor\":\"white\",\"linecolor\":\"white\",\"showbackground\":true,\"ticks\":\"\",\"zerolinecolor\":\"white\",\"gridwidth\":2},\"zaxis\":{\"backgroundcolor\":\"#E5ECF6\",\"gridcolor\":\"white\",\"linecolor\":\"white\",\"showbackground\":true,\"ticks\":\"\",\"zerolinecolor\":\"white\",\"gridwidth\":2}},\"shapedefaults\":{\"line\":{\"color\":\"#2a3f5f\"}},\"annotationdefaults\":{\"arrowcolor\":\"#2a3f5f\",\"arrowhead\":0,\"arrowwidth\":1},\"geo\":{\"bgcolor\":\"white\",\"landcolor\":\"#E5ECF6\",\"subunitcolor\":\"white\",\"showland\":true,\"showlakes\":true,\"lakecolor\":\"white\"},\"title\":{\"x\":0.05},\"mapbox\":{\"style\":\"light\"}}},\"xaxis\":{\"anchor\":\"y\",\"domain\":[0.0,1.0],\"title\":{\"text\":\"Componente 1\"}},\"yaxis\":{\"anchor\":\"x\",\"domain\":[0.0,1.0],\"title\":{\"text\":\"Componente 2\"}},\"legend\":{\"tracegroupgap\":0},\"margin\":{\"t\":60},\"title\":{\"text\":\"Reducci\\u00f3n de dimensionalidad de las caracter\\u00edsticas LRMFP mediante t-SNE\"}},                        {\"responsive\": true}                    ).then(function(){\n",
              "                            \n",
              "var gd = document.getElementById('7198023d-96fa-4d0d-9582-b21dc1b93a1e');\n",
              "var x = new MutationObserver(function (mutations, observer) {{\n",
              "        var display = window.getComputedStyle(gd).display;\n",
              "        if (!display || display === 'none') {{\n",
              "            console.log([gd, 'removed!']);\n",
              "            Plotly.purge(gd);\n",
              "            observer.disconnect();\n",
              "        }}\n",
              "}});\n",
              "\n",
              "// Listen for the removal of the full notebook cells\n",
              "var notebookContainer = gd.closest('#notebook-container');\n",
              "if (notebookContainer) {{\n",
              "    x.observe(notebookContainer, {childList: true});\n",
              "}}\n",
              "\n",
              "// Listen for the clearing of the current output cell\n",
              "var outputEl = gd.closest('.output');\n",
              "if (outputEl) {{\n",
              "    x.observe(outputEl, {childList: true});\n",
              "}}\n",
              "\n",
              "                        })                };                            </script>        </div>\n",
              "</body>\n",
              "</html>"
            ]
          },
          "metadata": {}
        }
      ]
    },
    {
      "cell_type": "markdown",
      "source": [
        "### 1.3.3 Clustering"
      ],
      "metadata": {
        "tags": [],
        "cell_id": "75015b8bec9f4985ae3535276edb9cf6",
        "deepnote_cell_height": 61.866668701171875,
        "deepnote_cell_type": "markdown",
        "id": "j7ZpHH_AZIdu"
      }
    },
    {
      "cell_type": "markdown",
      "source": [
        "#### 1.3.3.1 Método del Codo [1 puntos]"
      ],
      "metadata": {
        "tags": [],
        "cell_id": "01eb144ba7b844c98b0f68dc07f1ba38",
        "deepnote_cell_height": 53.866668701171875,
        "deepnote_cell_type": "markdown",
        "id": "VVRpdtJaZIdu"
      }
    },
    {
      "cell_type": "markdown",
      "source": [
        "Utilizando la clase creada para escalamiento, aplique el método del codo para visualizar cual es el número de clusters que mejor se ajustan a los datos. Realice esto utilizando el algoritmo K-means dentro de un pipeline para un $k \\in [1,20]$, donde k representa el número de clusters del k-means. Para la realización de esta sección y la próxima (1.3.3.2), considere los mismos pasos utilizados para el t-sne, pero **permutando el algoritmo de reducción de dimensionalidad por k-means.**\n",
        "\n",
        "A través del grafico obtenido, comente y justifique que valor de k escogería para realizar el k-means."
      ],
      "metadata": {
        "tags": [],
        "cell_id": "de1f59f512af42618d3a5b084f84b460",
        "deepnote_cell_height": 223.06666564941406,
        "deepnote_cell_type": "markdown",
        "id": "BNxJtnTEZIdv"
      }
    },
    {
      "cell_type": "markdown",
      "source": [
        "**Respuesta:**"
      ],
      "metadata": {
        "tags": [],
        "cell_id": "a268dbe1c26b4dccbaa8c976005c9141",
        "deepnote_cell_height": 52.26666259765625,
        "deepnote_cell_type": "markdown",
        "id": "_86Etyh_ZIdv"
      }
    },
    {
      "cell_type": "code",
      "source": [
        "# Medida de desempeño del clustering (inertia/sse)\n",
        "inertias = []\n",
        "\n",
        "# Iteramos sobre las posibles cantidades de clusters k  \n",
        "for k in range(1,21):\n",
        "\n",
        "  # K-Means (Paso 3 del pipeline)\n",
        "  clustering = KMeans(n_clusters=k,random_state=0)\n",
        "\n",
        "  # Nuevo pipeline (reemplaza t-SNE por K-Means)\n",
        "  pipeline = Pipeline([\n",
        "      ('caracteristicas',caracteristicas),\n",
        "      ('escalamiento', escalamiento),\n",
        "      ('clustering',clustering)  \n",
        "  ])\n",
        "    \n",
        "  # Ajustamos el clustering a los datos\n",
        "  pipeline.fit_transform(df_retail)\n",
        "\n",
        "  # Calculamos el valor de inertia\n",
        "  inertia = pipeline.named_steps['clustering'].inertia_\n",
        "\n",
        "  # Agregamos inertia y la cantidad de clusters k a la lista inertias\n",
        "  inertias.append([k,inertia])\n",
        "\n",
        "# Imprimimos inertias de acuerdo al número de clusters\n",
        "inertias"
      ],
      "metadata": {
        "colab": {
          "base_uri": "https://localhost:8080/"
        },
        "id": "WXM790FhtsZ9",
        "outputId": "36daac52-dc7f-41af-826c-8480e2af8057"
      },
      "execution_count": 10,
      "outputs": [
        {
          "output_type": "stream",
          "name": "stderr",
          "text": [
            "/usr/local/lib/python3.10/dist-packages/sklearn/cluster/_kmeans.py:870: FutureWarning:\n",
            "\n",
            "The default value of `n_init` will change from 10 to 'auto' in 1.4. Set the value of `n_init` explicitly to suppress the warning\n",
            "\n",
            "/usr/local/lib/python3.10/dist-packages/sklearn/cluster/_kmeans.py:870: FutureWarning:\n",
            "\n",
            "The default value of `n_init` will change from 10 to 'auto' in 1.4. Set the value of `n_init` explicitly to suppress the warning\n",
            "\n",
            "/usr/local/lib/python3.10/dist-packages/sklearn/cluster/_kmeans.py:870: FutureWarning:\n",
            "\n",
            "The default value of `n_init` will change from 10 to 'auto' in 1.4. Set the value of `n_init` explicitly to suppress the warning\n",
            "\n",
            "/usr/local/lib/python3.10/dist-packages/sklearn/cluster/_kmeans.py:870: FutureWarning:\n",
            "\n",
            "The default value of `n_init` will change from 10 to 'auto' in 1.4. Set the value of `n_init` explicitly to suppress the warning\n",
            "\n",
            "/usr/local/lib/python3.10/dist-packages/sklearn/cluster/_kmeans.py:870: FutureWarning:\n",
            "\n",
            "The default value of `n_init` will change from 10 to 'auto' in 1.4. Set the value of `n_init` explicitly to suppress the warning\n",
            "\n",
            "/usr/local/lib/python3.10/dist-packages/sklearn/cluster/_kmeans.py:870: FutureWarning:\n",
            "\n",
            "The default value of `n_init` will change from 10 to 'auto' in 1.4. Set the value of `n_init` explicitly to suppress the warning\n",
            "\n",
            "/usr/local/lib/python3.10/dist-packages/sklearn/cluster/_kmeans.py:870: FutureWarning:\n",
            "\n",
            "The default value of `n_init` will change from 10 to 'auto' in 1.4. Set the value of `n_init` explicitly to suppress the warning\n",
            "\n",
            "/usr/local/lib/python3.10/dist-packages/sklearn/cluster/_kmeans.py:870: FutureWarning:\n",
            "\n",
            "The default value of `n_init` will change from 10 to 'auto' in 1.4. Set the value of `n_init` explicitly to suppress the warning\n",
            "\n",
            "/usr/local/lib/python3.10/dist-packages/sklearn/cluster/_kmeans.py:870: FutureWarning:\n",
            "\n",
            "The default value of `n_init` will change from 10 to 'auto' in 1.4. Set the value of `n_init` explicitly to suppress the warning\n",
            "\n",
            "/usr/local/lib/python3.10/dist-packages/sklearn/cluster/_kmeans.py:870: FutureWarning:\n",
            "\n",
            "The default value of `n_init` will change from 10 to 'auto' in 1.4. Set the value of `n_init` explicitly to suppress the warning\n",
            "\n",
            "/usr/local/lib/python3.10/dist-packages/sklearn/cluster/_kmeans.py:870: FutureWarning:\n",
            "\n",
            "The default value of `n_init` will change from 10 to 'auto' in 1.4. Set the value of `n_init` explicitly to suppress the warning\n",
            "\n",
            "/usr/local/lib/python3.10/dist-packages/sklearn/cluster/_kmeans.py:870: FutureWarning:\n",
            "\n",
            "The default value of `n_init` will change from 10 to 'auto' in 1.4. Set the value of `n_init` explicitly to suppress the warning\n",
            "\n",
            "/usr/local/lib/python3.10/dist-packages/sklearn/cluster/_kmeans.py:870: FutureWarning:\n",
            "\n",
            "The default value of `n_init` will change from 10 to 'auto' in 1.4. Set the value of `n_init` explicitly to suppress the warning\n",
            "\n",
            "/usr/local/lib/python3.10/dist-packages/sklearn/cluster/_kmeans.py:870: FutureWarning:\n",
            "\n",
            "The default value of `n_init` will change from 10 to 'auto' in 1.4. Set the value of `n_init` explicitly to suppress the warning\n",
            "\n",
            "/usr/local/lib/python3.10/dist-packages/sklearn/cluster/_kmeans.py:870: FutureWarning:\n",
            "\n",
            "The default value of `n_init` will change from 10 to 'auto' in 1.4. Set the value of `n_init` explicitly to suppress the warning\n",
            "\n",
            "/usr/local/lib/python3.10/dist-packages/sklearn/cluster/_kmeans.py:870: FutureWarning:\n",
            "\n",
            "The default value of `n_init` will change from 10 to 'auto' in 1.4. Set the value of `n_init` explicitly to suppress the warning\n",
            "\n",
            "/usr/local/lib/python3.10/dist-packages/sklearn/cluster/_kmeans.py:870: FutureWarning:\n",
            "\n",
            "The default value of `n_init` will change from 10 to 'auto' in 1.4. Set the value of `n_init` explicitly to suppress the warning\n",
            "\n",
            "/usr/local/lib/python3.10/dist-packages/sklearn/cluster/_kmeans.py:870: FutureWarning:\n",
            "\n",
            "The default value of `n_init` will change from 10 to 'auto' in 1.4. Set the value of `n_init` explicitly to suppress the warning\n",
            "\n",
            "/usr/local/lib/python3.10/dist-packages/sklearn/cluster/_kmeans.py:870: FutureWarning:\n",
            "\n",
            "The default value of `n_init` will change from 10 to 'auto' in 1.4. Set the value of `n_init` explicitly to suppress the warning\n",
            "\n",
            "/usr/local/lib/python3.10/dist-packages/sklearn/cluster/_kmeans.py:870: FutureWarning:\n",
            "\n",
            "The default value of `n_init` will change from 10 to 'auto' in 1.4. Set the value of `n_init` explicitly to suppress the warning\n",
            "\n"
          ]
        },
        {
          "output_type": "execute_result",
          "data": {
            "text/plain": [
              "[[1, 843.297603434736],\n",
              " [2, 342.35739758914883],\n",
              " [3, 190.05900547742755],\n",
              " [4, 130.39204774667354],\n",
              " [5, 110.35816196787013],\n",
              " [6, 94.50718719634969],\n",
              " [7, 80.14745635766371],\n",
              " [8, 70.59313709774923],\n",
              " [9, 64.7340066842003],\n",
              " [10, 59.32167705082989],\n",
              " [11, 54.81543318878257],\n",
              " [12, 51.24757522982154],\n",
              " [13, 48.27474353494779],\n",
              " [14, 45.65230005888543],\n",
              " [15, 42.46615485145095],\n",
              " [16, 40.25664173195106],\n",
              " [17, 38.22067314041627],\n",
              " [18, 36.82517643331182],\n",
              " [19, 35.22927329038768],\n",
              " [20, 33.512897631631844]]"
            ]
          },
          "metadata": {},
          "execution_count": 10
        }
      ]
    },
    {
      "cell_type": "code",
      "source": [
        "# Agregamos a un dataframe\n",
        "df_inertias = pd.DataFrame(inertias, columns=[\"n° clusters\", \"inertia\"])\n",
        "\n",
        "# Visualizamos el método del codo\n",
        "fig = px.line(\n",
        "    df_inertias,\n",
        "    x=\"n° clusters\",\n",
        "    y=\"inertia\",\n",
        "    title=\"Método del Codo con K-Means\",\n",
        "    height=600,\n",
        ")\n",
        "fig.update_traces(mode='lines+markers')\n",
        "fig.show()"
      ],
      "metadata": {
        "colab": {
          "base_uri": "https://localhost:8080/",
          "height": 617
        },
        "id": "Iqk06EtYzkCa",
        "outputId": "cb1e4075-93b4-40c7-99c2-e2855763b35c"
      },
      "execution_count": 11,
      "outputs": [
        {
          "output_type": "display_data",
          "data": {
            "text/html": [
              "<html>\n",
              "<head><meta charset=\"utf-8\" /></head>\n",
              "<body>\n",
              "    <div>            <script src=\"https://cdnjs.cloudflare.com/ajax/libs/mathjax/2.7.5/MathJax.js?config=TeX-AMS-MML_SVG\"></script><script type=\"text/javascript\">if (window.MathJax && window.MathJax.Hub && window.MathJax.Hub.Config) {window.MathJax.Hub.Config({SVG: {font: \"STIX-Web\"}});}</script>                <script type=\"text/javascript\">window.PlotlyConfig = {MathJaxConfig: 'local'};</script>\n",
              "        <script charset=\"utf-8\" src=\"https://cdn.plot.ly/plotly-2.20.0.min.js\"></script>                <div id=\"37a9615b-d8fe-41bc-9b34-0f4e8dcc2e6d\" class=\"plotly-graph-div\" style=\"height:600px; width:100%;\"></div>            <script type=\"text/javascript\">                                    window.PLOTLYENV=window.PLOTLYENV || {};                                    if (document.getElementById(\"37a9615b-d8fe-41bc-9b34-0f4e8dcc2e6d\")) {                    Plotly.newPlot(                        \"37a9615b-d8fe-41bc-9b34-0f4e8dcc2e6d\",                        [{\"hovertemplate\":\"n\\u00b0 clusters=%{x}<br>inertia=%{y}<extra></extra>\",\"legendgroup\":\"\",\"line\":{\"color\":\"#636efa\",\"dash\":\"solid\"},\"marker\":{\"symbol\":\"circle\"},\"mode\":\"lines+markers\",\"name\":\"\",\"orientation\":\"v\",\"showlegend\":false,\"x\":[1,2,3,4,5,6,7,8,9,10,11,12,13,14,15,16,17,18,19,20],\"xaxis\":\"x\",\"y\":[843.297603434736,342.35739758914883,190.05900547742755,130.39204774667354,110.35816196787013,94.50718719634969,80.14745635766371,70.59313709774923,64.7340066842003,59.32167705082989,54.81543318878257,51.24757522982154,48.27474353494779,45.65230005888543,42.46615485145095,40.25664173195106,38.22067314041627,36.82517643331182,35.22927329038768,33.512897631631844],\"yaxis\":\"y\",\"type\":\"scatter\"}],                        {\"template\":{\"data\":{\"histogram2dcontour\":[{\"type\":\"histogram2dcontour\",\"colorbar\":{\"outlinewidth\":0,\"ticks\":\"\"},\"colorscale\":[[0.0,\"#0d0887\"],[0.1111111111111111,\"#46039f\"],[0.2222222222222222,\"#7201a8\"],[0.3333333333333333,\"#9c179e\"],[0.4444444444444444,\"#bd3786\"],[0.5555555555555556,\"#d8576b\"],[0.6666666666666666,\"#ed7953\"],[0.7777777777777778,\"#fb9f3a\"],[0.8888888888888888,\"#fdca26\"],[1.0,\"#f0f921\"]]}],\"choropleth\":[{\"type\":\"choropleth\",\"colorbar\":{\"outlinewidth\":0,\"ticks\":\"\"}}],\"histogram2d\":[{\"type\":\"histogram2d\",\"colorbar\":{\"outlinewidth\":0,\"ticks\":\"\"},\"colorscale\":[[0.0,\"#0d0887\"],[0.1111111111111111,\"#46039f\"],[0.2222222222222222,\"#7201a8\"],[0.3333333333333333,\"#9c179e\"],[0.4444444444444444,\"#bd3786\"],[0.5555555555555556,\"#d8576b\"],[0.6666666666666666,\"#ed7953\"],[0.7777777777777778,\"#fb9f3a\"],[0.8888888888888888,\"#fdca26\"],[1.0,\"#f0f921\"]]}],\"heatmap\":[{\"type\":\"heatmap\",\"colorbar\":{\"outlinewidth\":0,\"ticks\":\"\"},\"colorscale\":[[0.0,\"#0d0887\"],[0.1111111111111111,\"#46039f\"],[0.2222222222222222,\"#7201a8\"],[0.3333333333333333,\"#9c179e\"],[0.4444444444444444,\"#bd3786\"],[0.5555555555555556,\"#d8576b\"],[0.6666666666666666,\"#ed7953\"],[0.7777777777777778,\"#fb9f3a\"],[0.8888888888888888,\"#fdca26\"],[1.0,\"#f0f921\"]]}],\"heatmapgl\":[{\"type\":\"heatmapgl\",\"colorbar\":{\"outlinewidth\":0,\"ticks\":\"\"},\"colorscale\":[[0.0,\"#0d0887\"],[0.1111111111111111,\"#46039f\"],[0.2222222222222222,\"#7201a8\"],[0.3333333333333333,\"#9c179e\"],[0.4444444444444444,\"#bd3786\"],[0.5555555555555556,\"#d8576b\"],[0.6666666666666666,\"#ed7953\"],[0.7777777777777778,\"#fb9f3a\"],[0.8888888888888888,\"#fdca26\"],[1.0,\"#f0f921\"]]}],\"contourcarpet\":[{\"type\":\"contourcarpet\",\"colorbar\":{\"outlinewidth\":0,\"ticks\":\"\"}}],\"contour\":[{\"type\":\"contour\",\"colorbar\":{\"outlinewidth\":0,\"ticks\":\"\"},\"colorscale\":[[0.0,\"#0d0887\"],[0.1111111111111111,\"#46039f\"],[0.2222222222222222,\"#7201a8\"],[0.3333333333333333,\"#9c179e\"],[0.4444444444444444,\"#bd3786\"],[0.5555555555555556,\"#d8576b\"],[0.6666666666666666,\"#ed7953\"],[0.7777777777777778,\"#fb9f3a\"],[0.8888888888888888,\"#fdca26\"],[1.0,\"#f0f921\"]]}],\"surface\":[{\"type\":\"surface\",\"colorbar\":{\"outlinewidth\":0,\"ticks\":\"\"},\"colorscale\":[[0.0,\"#0d0887\"],[0.1111111111111111,\"#46039f\"],[0.2222222222222222,\"#7201a8\"],[0.3333333333333333,\"#9c179e\"],[0.4444444444444444,\"#bd3786\"],[0.5555555555555556,\"#d8576b\"],[0.6666666666666666,\"#ed7953\"],[0.7777777777777778,\"#fb9f3a\"],[0.8888888888888888,\"#fdca26\"],[1.0,\"#f0f921\"]]}],\"mesh3d\":[{\"type\":\"mesh3d\",\"colorbar\":{\"outlinewidth\":0,\"ticks\":\"\"}}],\"scatter\":[{\"fillpattern\":{\"fillmode\":\"overlay\",\"size\":10,\"solidity\":0.2},\"type\":\"scatter\"}],\"parcoords\":[{\"type\":\"parcoords\",\"line\":{\"colorbar\":{\"outlinewidth\":0,\"ticks\":\"\"}}}],\"scatterpolargl\":[{\"type\":\"scatterpolargl\",\"marker\":{\"colorbar\":{\"outlinewidth\":0,\"ticks\":\"\"}}}],\"bar\":[{\"error_x\":{\"color\":\"#2a3f5f\"},\"error_y\":{\"color\":\"#2a3f5f\"},\"marker\":{\"line\":{\"color\":\"#E5ECF6\",\"width\":0.5},\"pattern\":{\"fillmode\":\"overlay\",\"size\":10,\"solidity\":0.2}},\"type\":\"bar\"}],\"scattergeo\":[{\"type\":\"scattergeo\",\"marker\":{\"colorbar\":{\"outlinewidth\":0,\"ticks\":\"\"}}}],\"scatterpolar\":[{\"type\":\"scatterpolar\",\"marker\":{\"colorbar\":{\"outlinewidth\":0,\"ticks\":\"\"}}}],\"histogram\":[{\"marker\":{\"pattern\":{\"fillmode\":\"overlay\",\"size\":10,\"solidity\":0.2}},\"type\":\"histogram\"}],\"scattergl\":[{\"type\":\"scattergl\",\"marker\":{\"colorbar\":{\"outlinewidth\":0,\"ticks\":\"\"}}}],\"scatter3d\":[{\"type\":\"scatter3d\",\"line\":{\"colorbar\":{\"outlinewidth\":0,\"ticks\":\"\"}},\"marker\":{\"colorbar\":{\"outlinewidth\":0,\"ticks\":\"\"}}}],\"scattermapbox\":[{\"type\":\"scattermapbox\",\"marker\":{\"colorbar\":{\"outlinewidth\":0,\"ticks\":\"\"}}}],\"scatterternary\":[{\"type\":\"scatterternary\",\"marker\":{\"colorbar\":{\"outlinewidth\":0,\"ticks\":\"\"}}}],\"scattercarpet\":[{\"type\":\"scattercarpet\",\"marker\":{\"colorbar\":{\"outlinewidth\":0,\"ticks\":\"\"}}}],\"carpet\":[{\"aaxis\":{\"endlinecolor\":\"#2a3f5f\",\"gridcolor\":\"white\",\"linecolor\":\"white\",\"minorgridcolor\":\"white\",\"startlinecolor\":\"#2a3f5f\"},\"baxis\":{\"endlinecolor\":\"#2a3f5f\",\"gridcolor\":\"white\",\"linecolor\":\"white\",\"minorgridcolor\":\"white\",\"startlinecolor\":\"#2a3f5f\"},\"type\":\"carpet\"}],\"table\":[{\"cells\":{\"fill\":{\"color\":\"#EBF0F8\"},\"line\":{\"color\":\"white\"}},\"header\":{\"fill\":{\"color\":\"#C8D4E3\"},\"line\":{\"color\":\"white\"}},\"type\":\"table\"}],\"barpolar\":[{\"marker\":{\"line\":{\"color\":\"#E5ECF6\",\"width\":0.5},\"pattern\":{\"fillmode\":\"overlay\",\"size\":10,\"solidity\":0.2}},\"type\":\"barpolar\"}],\"pie\":[{\"automargin\":true,\"type\":\"pie\"}]},\"layout\":{\"autotypenumbers\":\"strict\",\"colorway\":[\"#636efa\",\"#EF553B\",\"#00cc96\",\"#ab63fa\",\"#FFA15A\",\"#19d3f3\",\"#FF6692\",\"#B6E880\",\"#FF97FF\",\"#FECB52\"],\"font\":{\"color\":\"#2a3f5f\"},\"hovermode\":\"closest\",\"hoverlabel\":{\"align\":\"left\"},\"paper_bgcolor\":\"white\",\"plot_bgcolor\":\"#E5ECF6\",\"polar\":{\"bgcolor\":\"#E5ECF6\",\"angularaxis\":{\"gridcolor\":\"white\",\"linecolor\":\"white\",\"ticks\":\"\"},\"radialaxis\":{\"gridcolor\":\"white\",\"linecolor\":\"white\",\"ticks\":\"\"}},\"ternary\":{\"bgcolor\":\"#E5ECF6\",\"aaxis\":{\"gridcolor\":\"white\",\"linecolor\":\"white\",\"ticks\":\"\"},\"baxis\":{\"gridcolor\":\"white\",\"linecolor\":\"white\",\"ticks\":\"\"},\"caxis\":{\"gridcolor\":\"white\",\"linecolor\":\"white\",\"ticks\":\"\"}},\"coloraxis\":{\"colorbar\":{\"outlinewidth\":0,\"ticks\":\"\"}},\"colorscale\":{\"sequential\":[[0.0,\"#0d0887\"],[0.1111111111111111,\"#46039f\"],[0.2222222222222222,\"#7201a8\"],[0.3333333333333333,\"#9c179e\"],[0.4444444444444444,\"#bd3786\"],[0.5555555555555556,\"#d8576b\"],[0.6666666666666666,\"#ed7953\"],[0.7777777777777778,\"#fb9f3a\"],[0.8888888888888888,\"#fdca26\"],[1.0,\"#f0f921\"]],\"sequentialminus\":[[0.0,\"#0d0887\"],[0.1111111111111111,\"#46039f\"],[0.2222222222222222,\"#7201a8\"],[0.3333333333333333,\"#9c179e\"],[0.4444444444444444,\"#bd3786\"],[0.5555555555555556,\"#d8576b\"],[0.6666666666666666,\"#ed7953\"],[0.7777777777777778,\"#fb9f3a\"],[0.8888888888888888,\"#fdca26\"],[1.0,\"#f0f921\"]],\"diverging\":[[0,\"#8e0152\"],[0.1,\"#c51b7d\"],[0.2,\"#de77ae\"],[0.3,\"#f1b6da\"],[0.4,\"#fde0ef\"],[0.5,\"#f7f7f7\"],[0.6,\"#e6f5d0\"],[0.7,\"#b8e186\"],[0.8,\"#7fbc41\"],[0.9,\"#4d9221\"],[1,\"#276419\"]]},\"xaxis\":{\"gridcolor\":\"white\",\"linecolor\":\"white\",\"ticks\":\"\",\"title\":{\"standoff\":15},\"zerolinecolor\":\"white\",\"automargin\":true,\"zerolinewidth\":2},\"yaxis\":{\"gridcolor\":\"white\",\"linecolor\":\"white\",\"ticks\":\"\",\"title\":{\"standoff\":15},\"zerolinecolor\":\"white\",\"automargin\":true,\"zerolinewidth\":2},\"scene\":{\"xaxis\":{\"backgroundcolor\":\"#E5ECF6\",\"gridcolor\":\"white\",\"linecolor\":\"white\",\"showbackground\":true,\"ticks\":\"\",\"zerolinecolor\":\"white\",\"gridwidth\":2},\"yaxis\":{\"backgroundcolor\":\"#E5ECF6\",\"gridcolor\":\"white\",\"linecolor\":\"white\",\"showbackground\":true,\"ticks\":\"\",\"zerolinecolor\":\"white\",\"gridwidth\":2},\"zaxis\":{\"backgroundcolor\":\"#E5ECF6\",\"gridcolor\":\"white\",\"linecolor\":\"white\",\"showbackground\":true,\"ticks\":\"\",\"zerolinecolor\":\"white\",\"gridwidth\":2}},\"shapedefaults\":{\"line\":{\"color\":\"#2a3f5f\"}},\"annotationdefaults\":{\"arrowcolor\":\"#2a3f5f\",\"arrowhead\":0,\"arrowwidth\":1},\"geo\":{\"bgcolor\":\"white\",\"landcolor\":\"#E5ECF6\",\"subunitcolor\":\"white\",\"showland\":true,\"showlakes\":true,\"lakecolor\":\"white\"},\"title\":{\"x\":0.05},\"mapbox\":{\"style\":\"light\"}}},\"xaxis\":{\"anchor\":\"y\",\"domain\":[0.0,1.0],\"title\":{\"text\":\"n\\u00b0 clusters\"}},\"yaxis\":{\"anchor\":\"x\",\"domain\":[0.0,1.0],\"title\":{\"text\":\"inertia\"}},\"legend\":{\"tracegroupgap\":0},\"title\":{\"text\":\"M\\u00e9todo del Codo con K-Means\"},\"height\":600},                        {\"responsive\": true}                    ).then(function(){\n",
              "                            \n",
              "var gd = document.getElementById('37a9615b-d8fe-41bc-9b34-0f4e8dcc2e6d');\n",
              "var x = new MutationObserver(function (mutations, observer) {{\n",
              "        var display = window.getComputedStyle(gd).display;\n",
              "        if (!display || display === 'none') {{\n",
              "            console.log([gd, 'removed!']);\n",
              "            Plotly.purge(gd);\n",
              "            observer.disconnect();\n",
              "        }}\n",
              "}});\n",
              "\n",
              "// Listen for the removal of the full notebook cells\n",
              "var notebookContainer = gd.closest('#notebook-container');\n",
              "if (notebookContainer) {{\n",
              "    x.observe(notebookContainer, {childList: true});\n",
              "}}\n",
              "\n",
              "// Listen for the clearing of the current output cell\n",
              "var outputEl = gd.closest('.output');\n",
              "if (outputEl) {{\n",
              "    x.observe(outputEl, {childList: true});\n",
              "}}\n",
              "\n",
              "                        })                };                            </script>        </div>\n",
              "</body>\n",
              "</html>"
            ]
          },
          "metadata": {}
        }
      ]
    },
    {
      "cell_type": "markdown",
      "source": [
        "Notamos del gráfico que el valor de $k=3$ es adecuado: en este punto se produce una disminución significativamente menor en el valor de inertia y es el que más se asemeja a un codo (notar que de $k=4$ en adelante los valores de inertia no disminuyen casi nada en comparación a lo que sucede antes de $k=3$)."
      ],
      "metadata": {
        "id": "B1f2_xDz1sX9"
      }
    },
    {
      "cell_type": "markdown",
      "source": [
        "#### 1.3.3.2 Segmentación de Clientes con K-Means 🎁 [1 punto]"
      ],
      "metadata": {
        "tags": [],
        "cell_id": "3bb5d86bc1e54cf18a851e71c2c3a3c1",
        "deepnote_cell_height": 53.866668701171875,
        "deepnote_cell_type": "markdown",
        "id": "kcSem2LfZIdw"
      }
    },
    {
      "cell_type": "markdown",
      "source": [
        "En base a la elección de k realizada en la sección anterior, utilice este valor escogido y entrene un modelo de K-means utilizando el mismo pipeline de scikit-learn utilizado anteriormente.\n",
        "\n",
        "Una vez ajustado los datos, genere una tabla con los promedios (o medianas) para cada uno de los atributos, agrupando estos por el clúster que pertenecen. ¿Es posible observar agrupaciones coherentes?, ¿Qué tipo de clientes posee el retail?, Justifique su respuesta y no decepcione a Mr. Lepin.\n"
      ],
      "metadata": {
        "tags": [],
        "cell_id": "f8c3b4d105754ccb8a1ce6dfd606a40e",
        "deepnote_cell_height": 200.6666717529297,
        "deepnote_cell_type": "markdown",
        "id": "pNnwvInTZIdw"
      }
    },
    {
      "cell_type": "markdown",
      "source": [
        "**Respuesta:**"
      ],
      "metadata": {
        "tags": [],
        "cell_id": "dbce893901024a828d2b875798e27674",
        "deepnote_cell_height": 52.26666259765625,
        "deepnote_cell_type": "markdown",
        "id": "vLozTaUYZIdw"
      }
    },
    {
      "cell_type": "code",
      "source": [
        "# K-Means con k=3 optimo segun el metodo del codo (Paso 3 del pipeline)\n",
        "clustering = KMeans(n_clusters=3,random_state=0)\n",
        "\n",
        "# Pipeline\n",
        "pipeline = Pipeline([\n",
        "    ('caracteristicas',caracteristicas),\n",
        "    ('escalamiento', escalamiento),\n",
        "    ('clustering',clustering)  \n",
        "])\n",
        "  \n",
        "# Ajustamos el clustering a los datos\n",
        "pipeline.fit_transform(df_retail)\n",
        "\n",
        "# Obtenemos clusters (label 0,1 o 2) para cada dato\n",
        "clusters = pipeline.named_steps['clustering'].labels_\n",
        "\n",
        "# Obtenemos el dataframe de características LRMFP (aplicamos paso 1 del pipeline)\n",
        "df_caracteristicas = (pipeline.named_steps['caracteristicas'].fit_transform(df_retail))\n",
        "\n",
        "# Obtenemos los datos escalados (aplicamos paso 2 del pipeline)\n",
        "X_escalamiento = pipeline.named_steps['escalamiento'].fit_transform(df_caracteristicas)\n",
        "df_escalamiento = pd.DataFrame({\n",
        "    'Length':X_escalamiento[:,0],\n",
        "    'Recency':X_escalamiento[:,1],\n",
        "    'Monetary':X_escalamiento[:,2],\n",
        "    'Frecuency':X_escalamiento[:,3],\n",
        "    'Periodicity':X_escalamiento[:,4]\n",
        "})"
      ],
      "metadata": {
        "tags": [],
        "cell_id": "375d5f6e310c442d82a9c940805fc6d2",
        "deepnote_cell_height": 65.86666870117188,
        "deepnote_cell_type": "code",
        "id": "ti8T-_niZIeA",
        "colab": {
          "base_uri": "https://localhost:8080/"
        },
        "outputId": "87d1e7a3-2184-45f7-8bf0-a2e330d1cc3d"
      },
      "outputs": [
        {
          "output_type": "stream",
          "name": "stderr",
          "text": [
            "/usr/local/lib/python3.10/dist-packages/sklearn/cluster/_kmeans.py:870: FutureWarning:\n",
            "\n",
            "The default value of `n_init` will change from 10 to 'auto' in 1.4. Set the value of `n_init` explicitly to suppress the warning\n",
            "\n"
          ]
        }
      ],
      "execution_count": 12
    },
    {
      "cell_type": "markdown",
      "source": [
        "Agregamos los clusters respectivos de cada dato al dataframe escalado:"
      ],
      "metadata": {
        "id": "FZJ2VA4kOvjL"
      }
    },
    {
      "cell_type": "code",
      "source": [
        "df_escalamiento_labels = (\n",
        "    pd.concat([df_escalamiento, pd.DataFrame(clusters, columns=['Cluster'])], axis=1)\n",
        ")\n",
        "df_escalamiento_labels"
      ],
      "metadata": {
        "colab": {
          "base_uri": "https://localhost:8080/",
          "height": 423
        },
        "id": "4V8nyuENPPgu",
        "outputId": "ae5e19a8-47fc-4f45-bc72-b83784fc7381"
      },
      "execution_count": 13,
      "outputs": [
        {
          "output_type": "execute_result",
          "data": {
            "text/plain": [
              "        Length   Recency  Monetary  Frecuency  Periodicity  Cluster\n",
              "0     0.525469  0.439678  0.004658   0.005391     0.121547        1\n",
              "1     0.099196  0.005362  0.008331   0.012219     0.022099        0\n",
              "2     0.000000  0.195710  0.004563   0.003055     0.000000        0\n",
              "3     0.485255  0.112601  0.012109   0.017790     0.088398        1\n",
              "4     0.000000  0.026810  0.006175   0.003235     0.000000        0\n",
              "...        ...       ...       ...        ...          ...      ...\n",
              "4161  0.737265  0.045576  0.000430   0.038455     0.066298        1\n",
              "4162  0.000000  0.176944  0.007255   0.004492     0.000000        0\n",
              "4163  0.000000  0.790885  0.016808   0.001617     0.000000        2\n",
              "4164  0.662198  0.297587  0.008686   0.011500     0.165746        1\n",
              "4165  0.504021  0.045576  0.012815   0.014735     0.082873        1\n",
              "\n",
              "[4166 rows x 6 columns]"
            ],
            "text/html": [
              "\n",
              "  <div id=\"df-9c464669-88b4-41bb-a790-cd794fa3c852\">\n",
              "    <div class=\"colab-df-container\">\n",
              "      <div>\n",
              "<style scoped>\n",
              "    .dataframe tbody tr th:only-of-type {\n",
              "        vertical-align: middle;\n",
              "    }\n",
              "\n",
              "    .dataframe tbody tr th {\n",
              "        vertical-align: top;\n",
              "    }\n",
              "\n",
              "    .dataframe thead th {\n",
              "        text-align: right;\n",
              "    }\n",
              "</style>\n",
              "<table border=\"1\" class=\"dataframe\">\n",
              "  <thead>\n",
              "    <tr style=\"text-align: right;\">\n",
              "      <th></th>\n",
              "      <th>Length</th>\n",
              "      <th>Recency</th>\n",
              "      <th>Monetary</th>\n",
              "      <th>Frecuency</th>\n",
              "      <th>Periodicity</th>\n",
              "      <th>Cluster</th>\n",
              "    </tr>\n",
              "  </thead>\n",
              "  <tbody>\n",
              "    <tr>\n",
              "      <th>0</th>\n",
              "      <td>0.525469</td>\n",
              "      <td>0.439678</td>\n",
              "      <td>0.004658</td>\n",
              "      <td>0.005391</td>\n",
              "      <td>0.121547</td>\n",
              "      <td>1</td>\n",
              "    </tr>\n",
              "    <tr>\n",
              "      <th>1</th>\n",
              "      <td>0.099196</td>\n",
              "      <td>0.005362</td>\n",
              "      <td>0.008331</td>\n",
              "      <td>0.012219</td>\n",
              "      <td>0.022099</td>\n",
              "      <td>0</td>\n",
              "    </tr>\n",
              "    <tr>\n",
              "      <th>2</th>\n",
              "      <td>0.000000</td>\n",
              "      <td>0.195710</td>\n",
              "      <td>0.004563</td>\n",
              "      <td>0.003055</td>\n",
              "      <td>0.000000</td>\n",
              "      <td>0</td>\n",
              "    </tr>\n",
              "    <tr>\n",
              "      <th>3</th>\n",
              "      <td>0.485255</td>\n",
              "      <td>0.112601</td>\n",
              "      <td>0.012109</td>\n",
              "      <td>0.017790</td>\n",
              "      <td>0.088398</td>\n",
              "      <td>1</td>\n",
              "    </tr>\n",
              "    <tr>\n",
              "      <th>4</th>\n",
              "      <td>0.000000</td>\n",
              "      <td>0.026810</td>\n",
              "      <td>0.006175</td>\n",
              "      <td>0.003235</td>\n",
              "      <td>0.000000</td>\n",
              "      <td>0</td>\n",
              "    </tr>\n",
              "    <tr>\n",
              "      <th>...</th>\n",
              "      <td>...</td>\n",
              "      <td>...</td>\n",
              "      <td>...</td>\n",
              "      <td>...</td>\n",
              "      <td>...</td>\n",
              "      <td>...</td>\n",
              "    </tr>\n",
              "    <tr>\n",
              "      <th>4161</th>\n",
              "      <td>0.737265</td>\n",
              "      <td>0.045576</td>\n",
              "      <td>0.000430</td>\n",
              "      <td>0.038455</td>\n",
              "      <td>0.066298</td>\n",
              "      <td>1</td>\n",
              "    </tr>\n",
              "    <tr>\n",
              "      <th>4162</th>\n",
              "      <td>0.000000</td>\n",
              "      <td>0.176944</td>\n",
              "      <td>0.007255</td>\n",
              "      <td>0.004492</td>\n",
              "      <td>0.000000</td>\n",
              "      <td>0</td>\n",
              "    </tr>\n",
              "    <tr>\n",
              "      <th>4163</th>\n",
              "      <td>0.000000</td>\n",
              "      <td>0.790885</td>\n",
              "      <td>0.016808</td>\n",
              "      <td>0.001617</td>\n",
              "      <td>0.000000</td>\n",
              "      <td>2</td>\n",
              "    </tr>\n",
              "    <tr>\n",
              "      <th>4164</th>\n",
              "      <td>0.662198</td>\n",
              "      <td>0.297587</td>\n",
              "      <td>0.008686</td>\n",
              "      <td>0.011500</td>\n",
              "      <td>0.165746</td>\n",
              "      <td>1</td>\n",
              "    </tr>\n",
              "    <tr>\n",
              "      <th>4165</th>\n",
              "      <td>0.504021</td>\n",
              "      <td>0.045576</td>\n",
              "      <td>0.012815</td>\n",
              "      <td>0.014735</td>\n",
              "      <td>0.082873</td>\n",
              "      <td>1</td>\n",
              "    </tr>\n",
              "  </tbody>\n",
              "</table>\n",
              "<p>4166 rows × 6 columns</p>\n",
              "</div>\n",
              "      <button class=\"colab-df-convert\" onclick=\"convertToInteractive('df-9c464669-88b4-41bb-a790-cd794fa3c852')\"\n",
              "              title=\"Convert this dataframe to an interactive table.\"\n",
              "              style=\"display:none;\">\n",
              "        \n",
              "  <svg xmlns=\"http://www.w3.org/2000/svg\" height=\"24px\"viewBox=\"0 0 24 24\"\n",
              "       width=\"24px\">\n",
              "    <path d=\"M0 0h24v24H0V0z\" fill=\"none\"/>\n",
              "    <path d=\"M18.56 5.44l.94 2.06.94-2.06 2.06-.94-2.06-.94-.94-2.06-.94 2.06-2.06.94zm-11 1L8.5 8.5l.94-2.06 2.06-.94-2.06-.94L8.5 2.5l-.94 2.06-2.06.94zm10 10l.94 2.06.94-2.06 2.06-.94-2.06-.94-.94-2.06-.94 2.06-2.06.94z\"/><path d=\"M17.41 7.96l-1.37-1.37c-.4-.4-.92-.59-1.43-.59-.52 0-1.04.2-1.43.59L10.3 9.45l-7.72 7.72c-.78.78-.78 2.05 0 2.83L4 21.41c.39.39.9.59 1.41.59.51 0 1.02-.2 1.41-.59l7.78-7.78 2.81-2.81c.8-.78.8-2.07 0-2.86zM5.41 20L4 18.59l7.72-7.72 1.47 1.35L5.41 20z\"/>\n",
              "  </svg>\n",
              "      </button>\n",
              "      \n",
              "  <style>\n",
              "    .colab-df-container {\n",
              "      display:flex;\n",
              "      flex-wrap:wrap;\n",
              "      gap: 12px;\n",
              "    }\n",
              "\n",
              "    .colab-df-convert {\n",
              "      background-color: #E8F0FE;\n",
              "      border: none;\n",
              "      border-radius: 50%;\n",
              "      cursor: pointer;\n",
              "      display: none;\n",
              "      fill: #1967D2;\n",
              "      height: 32px;\n",
              "      padding: 0 0 0 0;\n",
              "      width: 32px;\n",
              "    }\n",
              "\n",
              "    .colab-df-convert:hover {\n",
              "      background-color: #E2EBFA;\n",
              "      box-shadow: 0px 1px 2px rgba(60, 64, 67, 0.3), 0px 1px 3px 1px rgba(60, 64, 67, 0.15);\n",
              "      fill: #174EA6;\n",
              "    }\n",
              "\n",
              "    [theme=dark] .colab-df-convert {\n",
              "      background-color: #3B4455;\n",
              "      fill: #D2E3FC;\n",
              "    }\n",
              "\n",
              "    [theme=dark] .colab-df-convert:hover {\n",
              "      background-color: #434B5C;\n",
              "      box-shadow: 0px 1px 3px 1px rgba(0, 0, 0, 0.15);\n",
              "      filter: drop-shadow(0px 1px 2px rgba(0, 0, 0, 0.3));\n",
              "      fill: #FFFFFF;\n",
              "    }\n",
              "  </style>\n",
              "\n",
              "      <script>\n",
              "        const buttonEl =\n",
              "          document.querySelector('#df-9c464669-88b4-41bb-a790-cd794fa3c852 button.colab-df-convert');\n",
              "        buttonEl.style.display =\n",
              "          google.colab.kernel.accessAllowed ? 'block' : 'none';\n",
              "\n",
              "        async function convertToInteractive(key) {\n",
              "          const element = document.querySelector('#df-9c464669-88b4-41bb-a790-cd794fa3c852');\n",
              "          const dataTable =\n",
              "            await google.colab.kernel.invokeFunction('convertToInteractive',\n",
              "                                                     [key], {});\n",
              "          if (!dataTable) return;\n",
              "\n",
              "          const docLinkHtml = 'Like what you see? Visit the ' +\n",
              "            '<a target=\"_blank\" href=https://colab.research.google.com/notebooks/data_table.ipynb>data table notebook</a>'\n",
              "            + ' to learn more about interactive tables.';\n",
              "          element.innerHTML = '';\n",
              "          dataTable['output_type'] = 'display_data';\n",
              "          await google.colab.output.renderOutput(dataTable, element);\n",
              "          const docLink = document.createElement('div');\n",
              "          docLink.innerHTML = docLinkHtml;\n",
              "          element.appendChild(docLink);\n",
              "        }\n",
              "      </script>\n",
              "    </div>\n",
              "  </div>\n",
              "  "
            ]
          },
          "metadata": {},
          "execution_count": 13
        }
      ]
    },
    {
      "cell_type": "markdown",
      "source": [
        "Agrupando según cluster calculamos los promedios para cada uno de los atributos:"
      ],
      "metadata": {
        "id": "oTAQrQSvRnQY"
      }
    },
    {
      "cell_type": "code",
      "source": [
        "promedios_por_cluster = df_escalamiento_labels.groupby('Cluster').mean()\n",
        "promedios_por_cluster"
      ],
      "metadata": {
        "colab": {
          "base_uri": "https://localhost:8080/",
          "height": 174
        },
        "id": "aa9r_yORRnGC",
        "outputId": "1d302557-7fa5-4ded-ed22-e36f34f78a43"
      },
      "execution_count": 14,
      "outputs": [
        {
          "output_type": "execute_result",
          "data": {
            "text/plain": [
              "           Length   Recency  Monetary  Frecuency  Periodicity\n",
              "Cluster                                                      \n",
              "0        0.111857  0.141842  0.011000   0.008620     0.030439\n",
              "1        0.746528  0.096804  0.014933   0.029631     0.116944\n",
              "2        0.068748  0.669955  0.011709   0.005046     0.021742"
            ],
            "text/html": [
              "\n",
              "  <div id=\"df-93a79cf1-a0c6-4c06-8719-a4a7fbf08313\">\n",
              "    <div class=\"colab-df-container\">\n",
              "      <div>\n",
              "<style scoped>\n",
              "    .dataframe tbody tr th:only-of-type {\n",
              "        vertical-align: middle;\n",
              "    }\n",
              "\n",
              "    .dataframe tbody tr th {\n",
              "        vertical-align: top;\n",
              "    }\n",
              "\n",
              "    .dataframe thead th {\n",
              "        text-align: right;\n",
              "    }\n",
              "</style>\n",
              "<table border=\"1\" class=\"dataframe\">\n",
              "  <thead>\n",
              "    <tr style=\"text-align: right;\">\n",
              "      <th></th>\n",
              "      <th>Length</th>\n",
              "      <th>Recency</th>\n",
              "      <th>Monetary</th>\n",
              "      <th>Frecuency</th>\n",
              "      <th>Periodicity</th>\n",
              "    </tr>\n",
              "    <tr>\n",
              "      <th>Cluster</th>\n",
              "      <th></th>\n",
              "      <th></th>\n",
              "      <th></th>\n",
              "      <th></th>\n",
              "      <th></th>\n",
              "    </tr>\n",
              "  </thead>\n",
              "  <tbody>\n",
              "    <tr>\n",
              "      <th>0</th>\n",
              "      <td>0.111857</td>\n",
              "      <td>0.141842</td>\n",
              "      <td>0.011000</td>\n",
              "      <td>0.008620</td>\n",
              "      <td>0.030439</td>\n",
              "    </tr>\n",
              "    <tr>\n",
              "      <th>1</th>\n",
              "      <td>0.746528</td>\n",
              "      <td>0.096804</td>\n",
              "      <td>0.014933</td>\n",
              "      <td>0.029631</td>\n",
              "      <td>0.116944</td>\n",
              "    </tr>\n",
              "    <tr>\n",
              "      <th>2</th>\n",
              "      <td>0.068748</td>\n",
              "      <td>0.669955</td>\n",
              "      <td>0.011709</td>\n",
              "      <td>0.005046</td>\n",
              "      <td>0.021742</td>\n",
              "    </tr>\n",
              "  </tbody>\n",
              "</table>\n",
              "</div>\n",
              "      <button class=\"colab-df-convert\" onclick=\"convertToInteractive('df-93a79cf1-a0c6-4c06-8719-a4a7fbf08313')\"\n",
              "              title=\"Convert this dataframe to an interactive table.\"\n",
              "              style=\"display:none;\">\n",
              "        \n",
              "  <svg xmlns=\"http://www.w3.org/2000/svg\" height=\"24px\"viewBox=\"0 0 24 24\"\n",
              "       width=\"24px\">\n",
              "    <path d=\"M0 0h24v24H0V0z\" fill=\"none\"/>\n",
              "    <path d=\"M18.56 5.44l.94 2.06.94-2.06 2.06-.94-2.06-.94-.94-2.06-.94 2.06-2.06.94zm-11 1L8.5 8.5l.94-2.06 2.06-.94-2.06-.94L8.5 2.5l-.94 2.06-2.06.94zm10 10l.94 2.06.94-2.06 2.06-.94-2.06-.94-.94-2.06-.94 2.06-2.06.94z\"/><path d=\"M17.41 7.96l-1.37-1.37c-.4-.4-.92-.59-1.43-.59-.52 0-1.04.2-1.43.59L10.3 9.45l-7.72 7.72c-.78.78-.78 2.05 0 2.83L4 21.41c.39.39.9.59 1.41.59.51 0 1.02-.2 1.41-.59l7.78-7.78 2.81-2.81c.8-.78.8-2.07 0-2.86zM5.41 20L4 18.59l7.72-7.72 1.47 1.35L5.41 20z\"/>\n",
              "  </svg>\n",
              "      </button>\n",
              "      \n",
              "  <style>\n",
              "    .colab-df-container {\n",
              "      display:flex;\n",
              "      flex-wrap:wrap;\n",
              "      gap: 12px;\n",
              "    }\n",
              "\n",
              "    .colab-df-convert {\n",
              "      background-color: #E8F0FE;\n",
              "      border: none;\n",
              "      border-radius: 50%;\n",
              "      cursor: pointer;\n",
              "      display: none;\n",
              "      fill: #1967D2;\n",
              "      height: 32px;\n",
              "      padding: 0 0 0 0;\n",
              "      width: 32px;\n",
              "    }\n",
              "\n",
              "    .colab-df-convert:hover {\n",
              "      background-color: #E2EBFA;\n",
              "      box-shadow: 0px 1px 2px rgba(60, 64, 67, 0.3), 0px 1px 3px 1px rgba(60, 64, 67, 0.15);\n",
              "      fill: #174EA6;\n",
              "    }\n",
              "\n",
              "    [theme=dark] .colab-df-convert {\n",
              "      background-color: #3B4455;\n",
              "      fill: #D2E3FC;\n",
              "    }\n",
              "\n",
              "    [theme=dark] .colab-df-convert:hover {\n",
              "      background-color: #434B5C;\n",
              "      box-shadow: 0px 1px 3px 1px rgba(0, 0, 0, 0.15);\n",
              "      filter: drop-shadow(0px 1px 2px rgba(0, 0, 0, 0.3));\n",
              "      fill: #FFFFFF;\n",
              "    }\n",
              "  </style>\n",
              "\n",
              "      <script>\n",
              "        const buttonEl =\n",
              "          document.querySelector('#df-93a79cf1-a0c6-4c06-8719-a4a7fbf08313 button.colab-df-convert');\n",
              "        buttonEl.style.display =\n",
              "          google.colab.kernel.accessAllowed ? 'block' : 'none';\n",
              "\n",
              "        async function convertToInteractive(key) {\n",
              "          const element = document.querySelector('#df-93a79cf1-a0c6-4c06-8719-a4a7fbf08313');\n",
              "          const dataTable =\n",
              "            await google.colab.kernel.invokeFunction('convertToInteractive',\n",
              "                                                     [key], {});\n",
              "          if (!dataTable) return;\n",
              "\n",
              "          const docLinkHtml = 'Like what you see? Visit the ' +\n",
              "            '<a target=\"_blank\" href=https://colab.research.google.com/notebooks/data_table.ipynb>data table notebook</a>'\n",
              "            + ' to learn more about interactive tables.';\n",
              "          element.innerHTML = '';\n",
              "          dataTable['output_type'] = 'display_data';\n",
              "          await google.colab.output.renderOutput(dataTable, element);\n",
              "          const docLink = document.createElement('div');\n",
              "          docLink.innerHTML = docLinkHtml;\n",
              "          element.appendChild(docLink);\n",
              "        }\n",
              "      </script>\n",
              "    </div>\n",
              "  </div>\n",
              "  "
            ]
          },
          "metadata": {},
          "execution_count": 14
        }
      ]
    },
    {
      "cell_type": "markdown",
      "source": [
        "Sabemos por las definiciones vistas al inicio que a mayor valor de Length (L), Monetary (M), Frecuency (F), Periodicity (P) y menor valor de Recency (R) mayor es la fidelidad del cliente. Con esto, de la tabla podemos observar claramente los 3 grupos formados de clientes:\n",
        "\n",
        "- Cluster 1: Clientes muy fieles. Tienen los valores más grandes de las características LMFP y el menor valor para la característica R.\n",
        "- Cluster 0: Cliente regulares. Tienen el segundo valor más alto para las características LFP y el segundo menor valor para la característica R.\n",
        "- Cluster 2: Clientes ocasionales. Tienen el valor más bajo para las características LFP y el valor más alto (por mucho) para la característica R (lo que prueba el desinterés de los usuarios)."
      ],
      "metadata": {
        "id": "wrCd864sTdJH"
      }
    },
    {
      "cell_type": "markdown",
      "source": [
        "#### 1.3.3.3 Plot de K-Means 📈 [0.5 puntos]\n",
        "\n"
      ],
      "metadata": {
        "tags": [],
        "cell_id": "f79d1fa6b1a64b6f97bffc62b037a663",
        "deepnote_cell_height": 53.866668701171875,
        "deepnote_cell_type": "markdown",
        "id": "1JfPv1x9ZIeB"
      }
    },
    {
      "cell_type": "markdown",
      "source": [
        "Por último, Mr. Lepin, impaciente de no entender lo que usted intenta explicarle, le solicita que por favor muestre algún resultado \"visual\" de los grupos encontrados.\n",
        "\n",
        "Para esto, grafique nuevamente las características encontradas usando `T-SNE` (no calcule de nuevo, simplemente utilice las proyecciones encontradas) y agregue las labels calculadas con kmeans como el argumento `color`.   \n",
        "\n",
        "Comente: ¿Se separan bien los distintos clusters en la visualización?\n"
      ],
      "metadata": {
        "tags": [],
        "cell_id": "2d0348435e814f16b8957dfbc6384a88",
        "owner_user_id": "d50c3174-babb-4861-9c71-7e3af66458b8",
        "deepnote_cell_height": 192.26666259765625,
        "deepnote_cell_type": "markdown",
        "id": "uaQjHul-ZIeC"
      }
    },
    {
      "cell_type": "markdown",
      "source": [
        "**Respuesta:**"
      ],
      "metadata": {
        "tags": [],
        "cell_id": "e805388b96c04ea8a06a262229c2f799",
        "deepnote_cell_height": 52.26666259765625,
        "deepnote_cell_type": "markdown",
        "id": "lWh4Sc9LZIeC"
      }
    },
    {
      "cell_type": "code",
      "source": [
        "# Agregamos los clusters respectivos de cada dato al dataframe t-SNE\n",
        "df_tsne_labels = (\n",
        "    pd.concat([df_tsne, pd.DataFrame(clusters, columns=['Cluster'])], axis=1)\n",
        ")\n",
        "df_tsne_labels"
      ],
      "metadata": {
        "colab": {
          "base_uri": "https://localhost:8080/",
          "height": 423
        },
        "id": "N8Xo77UIWvur",
        "outputId": "aa9a0c5d-7565-48d3-ef65-615b5d5cd875"
      },
      "execution_count": 18,
      "outputs": [
        {
          "output_type": "execute_result",
          "data": {
            "text/plain": [
              "      Componente 1  Componente 2  Cluster\n",
              "0        -6.092624     16.849468        1\n",
              "1        -8.642876    -39.352886        0\n",
              "2       -58.655277    -26.779863        0\n",
              "3        10.007330    -16.572449        1\n",
              "4        15.210716    -51.652348        0\n",
              "...            ...           ...      ...\n",
              "4161     36.589722    -14.772819        1\n",
              "4162    -51.869366    -36.514755        0\n",
              "4163     -7.680365     46.186344        2\n",
              "4164     10.793542     15.500110        1\n",
              "4165      8.902930    -20.279079        1\n",
              "\n",
              "[4166 rows x 3 columns]"
            ],
            "text/html": [
              "\n",
              "  <div id=\"df-48e1cc3e-5214-4c0b-ae85-1a1ca87295aa\">\n",
              "    <div class=\"colab-df-container\">\n",
              "      <div>\n",
              "<style scoped>\n",
              "    .dataframe tbody tr th:only-of-type {\n",
              "        vertical-align: middle;\n",
              "    }\n",
              "\n",
              "    .dataframe tbody tr th {\n",
              "        vertical-align: top;\n",
              "    }\n",
              "\n",
              "    .dataframe thead th {\n",
              "        text-align: right;\n",
              "    }\n",
              "</style>\n",
              "<table border=\"1\" class=\"dataframe\">\n",
              "  <thead>\n",
              "    <tr style=\"text-align: right;\">\n",
              "      <th></th>\n",
              "      <th>Componente 1</th>\n",
              "      <th>Componente 2</th>\n",
              "      <th>Cluster</th>\n",
              "    </tr>\n",
              "  </thead>\n",
              "  <tbody>\n",
              "    <tr>\n",
              "      <th>0</th>\n",
              "      <td>-6.092624</td>\n",
              "      <td>16.849468</td>\n",
              "      <td>1</td>\n",
              "    </tr>\n",
              "    <tr>\n",
              "      <th>1</th>\n",
              "      <td>-8.642876</td>\n",
              "      <td>-39.352886</td>\n",
              "      <td>0</td>\n",
              "    </tr>\n",
              "    <tr>\n",
              "      <th>2</th>\n",
              "      <td>-58.655277</td>\n",
              "      <td>-26.779863</td>\n",
              "      <td>0</td>\n",
              "    </tr>\n",
              "    <tr>\n",
              "      <th>3</th>\n",
              "      <td>10.007330</td>\n",
              "      <td>-16.572449</td>\n",
              "      <td>1</td>\n",
              "    </tr>\n",
              "    <tr>\n",
              "      <th>4</th>\n",
              "      <td>15.210716</td>\n",
              "      <td>-51.652348</td>\n",
              "      <td>0</td>\n",
              "    </tr>\n",
              "    <tr>\n",
              "      <th>...</th>\n",
              "      <td>...</td>\n",
              "      <td>...</td>\n",
              "      <td>...</td>\n",
              "    </tr>\n",
              "    <tr>\n",
              "      <th>4161</th>\n",
              "      <td>36.589722</td>\n",
              "      <td>-14.772819</td>\n",
              "      <td>1</td>\n",
              "    </tr>\n",
              "    <tr>\n",
              "      <th>4162</th>\n",
              "      <td>-51.869366</td>\n",
              "      <td>-36.514755</td>\n",
              "      <td>0</td>\n",
              "    </tr>\n",
              "    <tr>\n",
              "      <th>4163</th>\n",
              "      <td>-7.680365</td>\n",
              "      <td>46.186344</td>\n",
              "      <td>2</td>\n",
              "    </tr>\n",
              "    <tr>\n",
              "      <th>4164</th>\n",
              "      <td>10.793542</td>\n",
              "      <td>15.500110</td>\n",
              "      <td>1</td>\n",
              "    </tr>\n",
              "    <tr>\n",
              "      <th>4165</th>\n",
              "      <td>8.902930</td>\n",
              "      <td>-20.279079</td>\n",
              "      <td>1</td>\n",
              "    </tr>\n",
              "  </tbody>\n",
              "</table>\n",
              "<p>4166 rows × 3 columns</p>\n",
              "</div>\n",
              "      <button class=\"colab-df-convert\" onclick=\"convertToInteractive('df-48e1cc3e-5214-4c0b-ae85-1a1ca87295aa')\"\n",
              "              title=\"Convert this dataframe to an interactive table.\"\n",
              "              style=\"display:none;\">\n",
              "        \n",
              "  <svg xmlns=\"http://www.w3.org/2000/svg\" height=\"24px\"viewBox=\"0 0 24 24\"\n",
              "       width=\"24px\">\n",
              "    <path d=\"M0 0h24v24H0V0z\" fill=\"none\"/>\n",
              "    <path d=\"M18.56 5.44l.94 2.06.94-2.06 2.06-.94-2.06-.94-.94-2.06-.94 2.06-2.06.94zm-11 1L8.5 8.5l.94-2.06 2.06-.94-2.06-.94L8.5 2.5l-.94 2.06-2.06.94zm10 10l.94 2.06.94-2.06 2.06-.94-2.06-.94-.94-2.06-.94 2.06-2.06.94z\"/><path d=\"M17.41 7.96l-1.37-1.37c-.4-.4-.92-.59-1.43-.59-.52 0-1.04.2-1.43.59L10.3 9.45l-7.72 7.72c-.78.78-.78 2.05 0 2.83L4 21.41c.39.39.9.59 1.41.59.51 0 1.02-.2 1.41-.59l7.78-7.78 2.81-2.81c.8-.78.8-2.07 0-2.86zM5.41 20L4 18.59l7.72-7.72 1.47 1.35L5.41 20z\"/>\n",
              "  </svg>\n",
              "      </button>\n",
              "      \n",
              "  <style>\n",
              "    .colab-df-container {\n",
              "      display:flex;\n",
              "      flex-wrap:wrap;\n",
              "      gap: 12px;\n",
              "    }\n",
              "\n",
              "    .colab-df-convert {\n",
              "      background-color: #E8F0FE;\n",
              "      border: none;\n",
              "      border-radius: 50%;\n",
              "      cursor: pointer;\n",
              "      display: none;\n",
              "      fill: #1967D2;\n",
              "      height: 32px;\n",
              "      padding: 0 0 0 0;\n",
              "      width: 32px;\n",
              "    }\n",
              "\n",
              "    .colab-df-convert:hover {\n",
              "      background-color: #E2EBFA;\n",
              "      box-shadow: 0px 1px 2px rgba(60, 64, 67, 0.3), 0px 1px 3px 1px rgba(60, 64, 67, 0.15);\n",
              "      fill: #174EA6;\n",
              "    }\n",
              "\n",
              "    [theme=dark] .colab-df-convert {\n",
              "      background-color: #3B4455;\n",
              "      fill: #D2E3FC;\n",
              "    }\n",
              "\n",
              "    [theme=dark] .colab-df-convert:hover {\n",
              "      background-color: #434B5C;\n",
              "      box-shadow: 0px 1px 3px 1px rgba(0, 0, 0, 0.15);\n",
              "      filter: drop-shadow(0px 1px 2px rgba(0, 0, 0, 0.3));\n",
              "      fill: #FFFFFF;\n",
              "    }\n",
              "  </style>\n",
              "\n",
              "      <script>\n",
              "        const buttonEl =\n",
              "          document.querySelector('#df-48e1cc3e-5214-4c0b-ae85-1a1ca87295aa button.colab-df-convert');\n",
              "        buttonEl.style.display =\n",
              "          google.colab.kernel.accessAllowed ? 'block' : 'none';\n",
              "\n",
              "        async function convertToInteractive(key) {\n",
              "          const element = document.querySelector('#df-48e1cc3e-5214-4c0b-ae85-1a1ca87295aa');\n",
              "          const dataTable =\n",
              "            await google.colab.kernel.invokeFunction('convertToInteractive',\n",
              "                                                     [key], {});\n",
              "          if (!dataTable) return;\n",
              "\n",
              "          const docLinkHtml = 'Like what you see? Visit the ' +\n",
              "            '<a target=\"_blank\" href=https://colab.research.google.com/notebooks/data_table.ipynb>data table notebook</a>'\n",
              "            + ' to learn more about interactive tables.';\n",
              "          element.innerHTML = '';\n",
              "          dataTable['output_type'] = 'display_data';\n",
              "          await google.colab.output.renderOutput(dataTable, element);\n",
              "          const docLink = document.createElement('div');\n",
              "          docLink.innerHTML = docLinkHtml;\n",
              "          element.appendChild(docLink);\n",
              "        }\n",
              "      </script>\n",
              "    </div>\n",
              "  </div>\n",
              "  "
            ]
          },
          "metadata": {},
          "execution_count": 18
        }
      ]
    },
    {
      "cell_type": "code",
      "source": [
        "# Visualizamos los puntos y sus clusters\n",
        "fig = px.scatter(df_tsne_labels, x='Componente 1', y='Componente 2',color='Cluster')\n",
        "fig.update_layout(\n",
        "    title = 'Clusters de Clientes'\n",
        ")\n",
        "fig.show()"
      ],
      "metadata": {
        "colab": {
          "base_uri": "https://localhost:8080/",
          "height": 542
        },
        "id": "r1SbUAS5XDDa",
        "outputId": "9ab4373b-e708-4363-ca1e-96933728a494"
      },
      "execution_count": 22,
      "outputs": [
        {
          "output_type": "display_data",
          "data": {
            "text/html": [
              "<html>\n",
              "<head><meta charset=\"utf-8\" /></head>\n",
              "<body>\n",
              "    <div>            <script src=\"https://cdnjs.cloudflare.com/ajax/libs/mathjax/2.7.5/MathJax.js?config=TeX-AMS-MML_SVG\"></script><script type=\"text/javascript\">if (window.MathJax && window.MathJax.Hub && window.MathJax.Hub.Config) {window.MathJax.Hub.Config({SVG: {font: \"STIX-Web\"}});}</script>                <script type=\"text/javascript\">window.PlotlyConfig = {MathJaxConfig: 'local'};</script>\n",
              "        <script charset=\"utf-8\" src=\"https://cdn.plot.ly/plotly-2.20.0.min.js\"></script>                <div id=\"8537525e-b4b5-41d7-b7cd-a0dd25054e43\" class=\"plotly-graph-div\" style=\"height:525px; width:100%;\"></div>            <script type=\"text/javascript\">                                    window.PLOTLYENV=window.PLOTLYENV || {};                                    if (document.getElementById(\"8537525e-b4b5-41d7-b7cd-a0dd25054e43\")) {                    Plotly.newPlot(                        \"8537525e-b4b5-41d7-b7cd-a0dd25054e43\",                        [{\"hovertemplate\":\"Componente 1=%{x}<br>Componente 2=%{y}<br>Cluster=%{marker.color}<extra></extra>\",\"legendgroup\":\"\",\"marker\":{\"color\":[1,0,0,1,0,0,0,2,0,0,1,1,1,1,2,2,1,2,1,2,1,0,1,2,0,1,0,0,0,0,1,1,2,0,1,2,1,0,1,2,1,0,0,0,0,0,0,0,0,2,1,1,0,0,1,0,0,0,2,0,1,1,0,0,1,1,2,1,0,2,0,0,0,0,0,1,0,0,2,0,0,0,2,2,1,1,1,0,0,1,0,1,2,1,1,2,0,1,0,1,2,2,1,2,1,1,0,2,1,0,2,1,0,1,1,0,0,2,1,2,2,0,0,1,1,0,0,0,2,0,0,1,0,0,1,2,0,0,0,1,0,2,0,1,1,1,1,0,2,1,0,1,1,1,0,0,0,1,1,1,0,2,1,1,0,0,1,2,0,2,0,1,2,1,1,1,1,1,1,1,0,0,2,0,0,0,1,2,1,1,0,1,1,2,2,0,2,0,2,1,1,1,1,0,0,0,2,0,0,2,0,2,0,2,2,0,1,1,2,1,1,2,0,0,0,1,1,1,0,2,1,1,0,0,0,2,2,0,1,2,1,1,0,0,1,1,1,0,0,0,1,0,0,0,0,0,2,2,0,2,0,1,1,2,0,2,1,2,0,0,1,0,1,2,0,2,0,0,2,1,0,0,0,0,1,0,0,0,2,2,0,1,0,0,1,2,1,0,1,2,0,1,1,2,1,1,1,0,1,1,0,0,2,1,0,1,2,0,1,0,0,2,2,0,1,0,0,0,1,0,2,1,0,1,1,1,1,1,1,1,0,0,0,1,0,2,1,1,0,0,0,2,0,1,1,1,2,1,0,1,1,1,2,1,1,1,2,1,0,1,1,2,1,1,1,1,2,0,2,2,0,0,2,1,1,2,2,2,1,1,0,1,0,0,0,0,2,1,1,1,0,2,1,1,0,1,2,1,1,2,1,1,1,1,0,2,1,0,1,0,2,1,0,1,0,2,1,2,1,0,1,1,0,1,1,1,2,1,0,2,0,2,1,1,1,0,0,0,0,0,2,1,2,0,2,1,0,0,1,1,0,1,2,1,2,0,2,2,1,0,2,1,0,1,1,2,0,1,0,1,1,0,1,1,1,0,2,0,2,0,1,0,2,1,1,0,1,1,1,0,1,0,1,0,2,1,2,1,2,1,1,0,2,0,0,2,1,0,1,0,0,0,1,0,0,0,0,1,2,0,1,1,0,2,1,1,0,1,1,0,0,1,2,0,0,0,2,2,1,1,2,0,1,2,2,0,1,2,1,2,2,0,0,1,2,0,1,0,1,1,2,1,1,1,1,1,1,1,2,2,1,1,0,1,1,2,0,1,0,1,0,1,1,0,0,1,0,0,1,1,0,0,0,0,1,1,0,0,1,1,1,0,1,1,1,1,1,0,0,2,2,2,2,1,2,1,0,1,2,1,0,0,0,1,0,1,1,0,0,2,0,0,0,1,2,1,1,1,0,0,0,1,1,1,0,1,2,2,2,1,0,0,0,1,0,0,0,0,0,0,0,0,1,0,0,1,0,1,1,0,0,0,2,2,2,1,0,1,0,0,2,1,1,1,1,2,1,1,2,2,0,1,2,2,1,1,0,0,0,1,1,2,1,2,1,1,0,0,0,0,2,1,0,2,1,1,1,1,0,2,1,2,0,2,1,1,1,0,1,1,2,0,2,0,1,1,1,0,1,1,2,1,1,1,1,2,1,1,1,2,0,0,0,1,0,2,0,1,2,1,1,1,1,0,0,1,0,2,1,2,1,0,0,1,1,1,0,1,2,1,0,0,0,0,0,0,1,2,0,1,0,1,1,1,1,0,1,0,0,1,1,0,1,1,0,1,0,0,1,2,1,1,2,1,1,1,1,1,0,0,0,0,1,2,0,1,2,1,0,2,2,1,1,2,1,0,1,2,0,2,2,2,1,0,2,0,0,2,1,1,1,1,0,2,2,0,1,0,0,1,1,1,0,1,0,1,1,0,1,1,0,2,1,1,0,1,1,0,0,2,0,2,0,1,1,0,1,0,0,2,0,0,0,1,1,2,1,2,2,1,0,0,0,1,2,0,1,1,1,2,1,0,1,0,1,0,1,1,2,2,1,1,1,0,1,1,0,2,1,2,0,0,1,1,2,2,0,1,2,1,1,0,2,0,2,2,0,1,2,1,1,2,1,1,2,1,0,2,0,2,1,1,0,0,1,1,0,0,2,2,1,0,1,1,1,1,1,1,0,1,0,1,2,1,0,2,1,1,1,1,2,2,1,0,0,2,0,0,1,0,0,1,0,0,2,1,1,1,2,1,1,0,1,2,0,0,0,1,1,1,1,1,1,1,1,2,2,1,1,1,0,1,1,1,1,0,1,2,1,0,1,1,2,0,2,2,0,1,0,0,1,0,0,1,0,0,1,1,2,0,0,1,1,2,2,0,1,1,1,1,0,1,1,0,0,0,1,0,1,0,0,0,1,0,1,2,1,0,0,1,1,0,1,1,1,1,0,1,0,0,1,1,0,2,0,1,1,0,2,0,2,0,0,0,2,0,1,1,1,2,2,0,1,0,0,0,0,2,1,1,1,1,1,1,2,1,2,1,1,1,1,0,1,1,0,0,2,1,0,1,1,1,1,1,0,2,0,2,2,2,0,0,1,1,1,0,1,0,1,1,0,2,1,0,1,1,1,1,1,1,2,1,1,1,1,1,0,1,1,2,0,0,2,1,1,2,2,1,1,1,2,0,1,0,1,1,0,2,1,0,1,1,1,1,2,1,0,0,1,0,0,0,2,2,2,1,0,1,1,0,0,0,1,0,0,1,0,0,1,1,0,1,0,2,1,1,0,1,1,0,2,1,1,1,0,0,1,0,1,0,2,0,0,1,0,1,0,0,0,0,1,0,0,1,2,1,0,0,2,0,0,1,0,0,0,1,1,1,0,0,1,0,0,0,0,2,2,1,1,1,0,1,0,1,0,2,1,1,1,1,1,1,0,1,0,1,1,1,1,0,1,1,1,0,0,2,0,2,1,0,0,2,0,1,1,2,0,1,1,2,0,0,2,0,1,0,1,1,0,2,0,0,1,0,2,0,1,2,1,0,2,0,2,2,0,0,0,0,1,1,0,2,0,2,1,1,0,1,1,1,2,2,1,1,1,0,0,1,0,1,0,0,1,1,1,1,1,1,0,0,0,1,0,0,1,1,1,1,1,0,0,0,0,0,0,1,1,0,1,0,0,2,1,1,0,2,1,1,1,2,1,0,2,2,2,0,1,1,1,1,1,0,2,1,0,0,1,0,0,1,1,1,1,2,0,0,1,1,1,1,2,0,1,0,1,1,2,2,0,2,0,1,0,1,1,0,1,1,1,1,2,2,1,1,1,0,2,1,1,1,0,1,1,0,1,2,2,1,1,0,1,0,0,0,0,0,0,1,1,2,0,1,0,2,1,1,0,2,0,1,1,0,1,2,0,2,0,0,2,2,1,1,1,1,1,0,0,0,0,0,0,1,2,1,1,1,1,1,0,1,0,0,0,0,2,1,1,2,1,2,1,2,1,1,2,1,1,2,1,1,0,1,0,1,1,0,2,2,2,0,0,0,0,1,2,2,1,1,1,1,2,0,2,1,0,0,0,1,0,2,1,0,0,0,1,1,1,2,0,1,1,0,1,1,1,0,2,0,0,0,1,2,0,2,2,0,1,1,0,0,1,0,0,2,1,1,0,0,2,1,0,0,1,0,2,2,0,1,1,0,1,0,2,1,0,1,1,2,2,2,0,0,0,2,0,2,0,2,1,2,2,0,1,0,1,2,0,1,0,1,2,0,0,2,1,2,1,1,1,1,1,0,1,1,2,1,0,2,0,0,1,1,1,2,1,0,1,0,0,0,1,0,2,1,1,1,0,1,0,2,1,1,0,1,0,1,1,1,0,2,2,0,2,1,1,2,1,2,0,2,0,2,2,1,1,1,1,1,0,0,1,0,1,1,0,1,1,1,0,1,1,2,1,2,2,0,2,1,0,2,0,0,0,0,0,2,1,2,1,2,1,2,1,0,1,1,1,0,2,2,0,2,2,1,2,0,1,1,0,2,1,0,2,0,2,2,0,2,2,1,1,1,1,2,2,0,0,2,1,0,2,1,2,0,1,1,1,0,1,0,1,1,1,0,0,0,0,2,1,0,2,0,1,0,2,1,1,1,1,0,0,1,0,2,0,1,1,0,0,1,1,2,1,1,1,1,1,1,0,1,1,1,1,0,1,0,0,1,1,1,0,1,2,1,2,2,2,0,1,1,1,2,1,0,2,1,0,2,0,1,2,0,2,1,1,1,1,0,2,2,0,1,0,0,0,2,0,0,0,0,0,0,1,2,0,0,2,0,0,2,0,0,0,0,2,1,0,0,1,1,0,1,0,2,0,1,1,1,1,2,1,1,2,0,0,1,1,1,1,1,1,1,0,1,0,1,0,0,2,1,0,0,1,2,2,1,2,1,1,2,1,1,0,2,2,0,1,1,0,0,2,1,2,0,0,1,2,1,1,1,2,1,2,0,1,1,0,0,2,2,1,0,0,1,0,1,0,0,2,1,0,0,2,0,0,1,1,1,1,1,2,0,2,1,1,1,0,2,2,0,2,0,2,0,1,1,0,2,1,0,2,2,1,2,0,1,0,0,0,0,2,1,2,0,0,0,0,0,2,1,2,0,1,2,2,1,0,1,1,1,0,1,0,1,1,2,2,0,0,0,1,1,1,1,1,0,1,0,2,0,2,1,0,0,1,1,0,2,0,2,2,2,1,1,1,1,1,2,0,1,1,1,0,2,1,2,1,1,1,2,1,2,2,1,0,2,1,0,0,0,1,1,0,0,2,1,0,2,0,2,2,1,0,1,1,1,1,2,0,1,0,1,1,0,2,1,1,2,0,1,2,0,0,0,1,1,1,0,1,0,1,1,2,0,1,0,0,1,2,0,0,2,0,1,0,1,0,2,1,2,1,1,0,2,1,2,2,0,1,1,0,1,1,1,1,1,1,2,0,2,2,0,1,1,0,1,2,0,2,1,2,0,0,2,0,0,1,1,1,1,1,2,0,1,2,1,1,0,0,0,1,1,1,0,0,1,0,2,2,1,0,0,1,1,0,1,1,2,0,0,0,0,0,1,0,1,1,1,1,2,1,1,0,2,2,1,1,0,0,0,1,1,2,0,1,0,0,2,1,1,2,1,2,1,0,0,2,0,2,1,1,0,2,1,1,2,1,2,1,1,0,0,1,0,0,0,2,1,0,0,0,1,1,2,1,0,1,1,0,0,1,1,1,0,0,2,1,1,1,2,2,0,0,1,1,0,0,0,1,1,0,0,1,2,1,1,2,1,1,2,1,0,1,1,1,1,1,0,1,0,1,1,2,0,2,1,1,1,0,2,1,0,2,0,0,1,1,0,2,0,1,2,1,2,2,1,0,1,0,1,0,1,1,1,2,0,1,1,2,2,0,0,1,0,1,2,0,2,1,0,1,1,1,1,0,0,1,1,2,0,1,0,0,0,0,1,2,0,0,1,2,1,0,0,1,2,2,0,1,1,0,0,2,2,2,2,0,0,0,0,0,2,2,1,1,0,0,1,0,1,2,1,2,0,0,2,0,0,0,2,1,0,1,0,0,2,1,0,0,0,1,2,0,1,2,1,1,0,0,0,2,1,0,2,0,1,0,0,1,0,2,1,1,0,0,0,1,0,1,0,1,1,0,1,1,1,0,0,1,2,1,0,0,0,2,1,2,1,1,0,0,0,0,2,1,0,0,2,1,1,1,1,0,0,0,2,0,2,2,0,2,0,0,0,2,2,0,1,2,0,1,1,1,2,0,2,0,1,0,1,1,1,0,0,1,1,1,1,2,2,0,1,1,2,1,0,1,0,1,1,1,2,0,0,1,1,2,1,0,2,2,2,1,2,0,0,1,1,0,1,0,0,1,0,0,1,1,1,1,1,1,1,1,1,0,0,0,1,1,0,0,1,0,2,1,0,1,1,2,0,0,2,0,1,0,1,1,0,1,0,1,0,1,1,1,1,0,2,0,1,0,2,0,0,1,0,0,0,1,1,0,1,0,0,0,0,0,0,1,0,1,0,0,0,1,1,1,0,1,1,0,0,0,0,0,1,2,0,1,2,0,1,0,2,0,1,2,1,1,1,0,2,0,1,0,0,0,1,1,0,2,0,0,1,2,1,2,0,0,1,1,0,0,2,0,2,1,2,2,1,1,1,2,1,1,1,0,0,2,1,0,1,0,0,0,0,1,0,0,1,1,1,0,1,0,0,1,0,1,2,0,0,1,0,1,0,1,0,2,0,0,1,1,1,0,1,2,2,0,0,1,1,0,2,0,1,1,0,1,0,2,1,2,0,1,0,1,2,1,0,2,0,1,0,0,1,0,1,0,2,0,2,0,1,2,1,0,2,0,2,2,2,2,1,1,1,2,2,0,1,1,0,2,1,1,1,0,0,0,2,1,2,2,0,0,0,2,1,0,1,1,1,0,2,0,2,2,1,1,1,0,1,1,1,0,1,1,1,2,0,0,2,0,2,1,2,2,0,0,2,0,2,0,0,0,2,2,1,1,1,0,1,1,0,1,1,0,1,0,1,2,0,1,2,1,1,1,0,2,2,0,1,1,2,1,1,0,0,1,1,1,1,0,1,1,0,2,0,1,1,1,1,1,2,1,1,2,1,0,1,0,1,0,1,0,1,0,0,0,2,0,0,2,0,0,0,2,0,2,1,1,1,1,1,1,1,0,2,2,1,1,2,0,0,1,1,2,2,2,1,1,0,0,0,1,2,2,1,1,1,1,2,1,1,1,1,1,0,1,2,2,2,1,1,1,1,1,1,0,1,0,1,2,1,2,1,1,2,0,2,1,0,1,1,2,0,1,1,1,0,0,2,0,1,1,1,0,1,1,1,1,0,0,1,1,0,1,1,0,1,0,1,1,1,1,1,1,1,2,0,2,2,0,1,0,0,1,0,0,0,0,2,1,0,1,1,0,1,2,0,1,2,1,1,2,1,2,1,1,2,2,2,2,0,1,0,0,1,1,1,0,2,0,1,0,2,1,0,0,1,0,1,0,0,1,2,0,0,1,1,1,0,1,2,0,0,1,2,1,0,2,0,0,1,0,1,2,2,1,2,1,0,2,1,0,0,0,2,1,2,0,1,0,0,1,1,0,0,0,1,0,1,2,1,1,1,1,1,1,1,1,0,1,0,0,2,0,0,2,0,1,2,0,0,0,1,1,1,1,0,0,1,0,0,0,1,1,1,0,0,1,0,2,2,2,2,1,1,1,2,0,0,1,1,0,1,2,1,1,2,0,0,2,0,0,2,1,1,1,0,1,1,1,1,1,1,0,2,2,1,0,1,2,2,2,1,1,0,1,2,2,1,1,0,1,1,1,0,1,2,0,0,1,1,2,0,1,1,0,1,2,0,2,0,0,1,2,0,0,0,0,2,2,2,0,0,0,0,1,0,0,0,1,2,1,1,1,1,1,0,0,1,1,0,1,2,1,0,1,2,1,1,0,1,1,0,0,2,0,2,1,0,0,2,1,1,1,1,2,2,2,1,2,1,1,2,1,2,2,0,0,2,1,0,0,0,1,0,2,0,2,0,1,0,1,0,2,2,1,0,1,2,1,0,0,2,1,1,1,2,1,1,1,1,0,1,0,2,1,1,1,1,2,1,0,0,1,0,0,0,0,1,1,0,0,1,0,0,1,0,1,2,0,0,0,0,0,1,0,0,0,2,0,1,0,1,1,0,1,2,2,1,0,0,2,2,2,0,1,0,1,1,1,0,0,2,2,1,1,1,1,1,1,0,1,2,2,2,0,1,1,1,1,1,1,1,2,1,1,1,1,1,1,2,0,0,0,2,1,2,0,2,1,0,1,1,0,1,2,1,1,0,0,0,1,0,1,0,0,0,1,1,0,0,0,0,0,0,2,2,1,0,1,1,0,0,1,1,1,1,1,1,2,0,1,0,1,0,0,1,1,0,0,1,0,0,1,2,1,2,2,1,0,1,0,1,0,1,0,1,2,0,1,0,0,1,0,0,2,0,2,1,2,1,2,0,0,0,2,2,2,1,1,0,0,0,0,2,1,2,1,2,1,0,1,1,0,2,0,0,1,1,0,0,0,1,2,1,2,0,1,1,2,1,0,2,2,0,1,1,0,1,1,0,0,0,0,0,1,1,2,2,0,2,2,1,2,1,2,0,2,0,1,1,2,1,0,2,2,1,1,1,2,1,0,1,1,0,0,0,0,2,1,2,2,0,0,1,1,1,1,0,2,1,0,2,1,1,1,2,0,0,1,0,1,2,0,1,1,0,1,1,2,0,0,0,0,0,0,2,2,1,0,0,0,1,0,0,1,1,0,1,1,1,2,1,0,2,1,1,1,0,0,0,0,1,1,0,0,1,1,0,1,0,0,0,1,1,0,0,0,1,0,1,0,2,1,2,0,1,0,2,1,2,0,2,0,1,1,1,1,1,0,0,0,0,2,2,0,1,1,0,1,0,1,1,0,2,1,0,0,0,1,1,0,0,1,1,1,2,2,0,0,2,0,0,2,1,0,2,0,1,2,1,1,1,0,1,1,2,1,2,0,1,0,0,1,0,2,1,0,0,0,0,2,0,2,1,2,0,1,0,1,2,0,2,0,1,0,1,1,1,1,1,0,1,1,1,1,1,1,0,1,1,1,0,1,0,1,0,1,2,1,0,2,0,2,1,0,1,1,0,1,0,2,2,0,1,2,1,2,2,0,1,2,2,0,0,1,0,2,0,0,2,2,1,1,1,2,0,1,0,1,2,0,2,1,1,0,1,2,1,2,2,0,1,2,1,0,1,2,0,0,1,2,0,0,0,0,1,0,0,2,0,1,1,1,0,1,2,0,2,1,0,1,1,0,2,1,1,0,1,0,1,2,1,2,1,0,2,0,1,1,0,2,2,0,0,0,1,1,2,1,1,2,0,1,2,0,0,0,0,2,2,2,0,0,2,1,2,0,1,1,1,1,1,0,1,2,1,0,0,0,1,1,0,0,0,1,1,0,0,2,1,1,1,1,0,1,0,2,1,1,2,1,0,2,0,0,2,0,2,0,0,0,0,0,0,2,2,0,2,1,0,2,0,1,1,1,2,1,1,2,2,0,0,2,0,0,2,2,2,1,1,1,1,2,2,2,1,0,1,0,2,2,1,2,2,0,0,1,0,0,2,2,2,1,2,0,2,0,2,2,1,0,2,1,1,0,1,1,1,1,0,1,2,1,2,0,1,1,0,0,1,1,1,2,2,2,0,0,1,0,1,1,1,0,0,2,2,0,0,2,2,2,1,0,0,2,0,2,1,0,2,1,1],\"coloraxis\":\"coloraxis\",\"symbol\":\"circle\"},\"mode\":\"markers\",\"name\":\"\",\"showlegend\":false,\"x\":[-6.092623710632324,-8.642875671386719,-58.655277252197266,10.007329940795898,15.210716247558594,-7.653363227844238,-28.41797637939453,-50.60346603393555,-12.614988327026367,1.042196273803711,38.37379455566406,38.22035217285156,35.31095504760742,7.6368889808654785,-22.82120704650879,-23.602453231811523,16.290681838989258,-24.37628936767578,16.73141098022461,-24.226512908935547,0.2678733766078949,-14.101346015930176,16.083965301513672,-50.73136520385742,-12.776128768920898,2.2856576442718506,13.085891723632812,17.7757568359375,-37.800193786621094,-9.3423490524292,24.460405349731445,2.3997435569763184,-43.50132751464844,-14.036508560180664,23.44661521911621,0.582276463508606,33.52345657348633,-37.149169921875,36.1981086730957,-46.63117218017578,39.9930534362793,-7.701732635498047,-6.904299259185791,-39.70899200439453,-29.504396438598633,-4.789172172546387,-19.121383666992188,-47.828895568847656,1.0227388143539429,-9.295601844787598,42.27265930175781,13.0150728225708,-12.788190841674805,-13.881492614746094,49.43093490600586,-14.161298751831055,-8.801107406616211,-56.2377815246582,-6.27510929107666,15.436436653137207,7.520321369171143,48.4455680847168,-6.706052303314209,9.81967830657959,40.44163131713867,55.70203399658203,-18.725927352905273,10.02651309967041,18.284168243408203,-7.142617225646973,-42.46702575683594,-18.943374633789062,-16.422203063964844,-23.892654418945312,-29.744277954101562,17.95793342590332,-55.82577896118164,-19.24827003479004,-37.43373107910156,-51.282833099365234,-44.32371139526367,-13.060705184936523,-43.533203125,6.603333950042725,69.22183227539062,68.52685546875,40.6557502746582,-29.425127029418945,-9.449904441833496,18.475980758666992,-8.57137680053711,26.40030860900879,-24.834867477416992,41.839656829833984,1.6636395454406738,-47.64301681518555,-52.779048919677734,59.05239486694336,-19.98752784729004,15.816201210021973,-17.629972457885742,-30.11051368713379,23.434709548950195,-51.78599548339844,13.286187171936035,4.271300315856934,-28.11231803894043,-45.96173095703125,17.107208251953125,-53.67804718017578,-17.04085350036621,0.4589739739894867,-41.87575912475586,57.01150894165039,36.599124908447266,-10.353189468383789,-28.11915397644043,-47.07646942138672,17.4996337890625,5.5005083084106445,-19.07346534729004,-28.14280128479004,11.379955291748047,17.138694763183594,59.89270782470703,-9.453734397888184,-55.843292236328125,-39.08854675292969,-18.007736206054688,-13.395256042480469,-55.809139251708984,33.705589294433594,-14.502853393554688,-28.491607666015625,43.20481491088867,-15.554434776306152,-12.066920280456543,-23.01913833618164,-5.051290512084961,42.19112014770508,-15.091292381286621,-48.55449295043945,-3.919423818588257,60.54034423828125,38.09867477416992,9.225462913513184,27.920019149780273,-12.95974349975586,-44.799503326416016,33.79558181762695,-39.9600944519043,0.5126170516014099,15.598394393920898,51.46213912963867,-20.979907989501953,-12.239044189453125,-20.655662536621094,52.20306396484375,49.96501541137695,16.675052642822266,4.151307582855225,-51.88828659057617,47.338462829589844,28.675174713134766,-22.88861083984375,-13.5396146774292,10.739340782165527,-28.04904556274414,-0.7446731328964233,-44.05669021606445,-16.069000244140625,3.8980801105499268,-18.10110855102539,7.188197135925293,20.167625427246094,24.99724006652832,27.758981704711914,50.46268081665039,24.9471435546875,44.26942443847656,-13.456023216247559,-55.08013916015625,-47.17225646972656,-44.389163970947266,-7.513518810272217,-57.628936767578125,27.985288619995117,-24.233991622924805,16.799589157104492,22.4910945892334,-6.193454265594482,45.515785217285156,25.568103790283203,-35.918724060058594,-40.782588958740234,-18.456716537475586,-31.9502010345459,-16.994779586791992,-18.647687911987305,49.295108795166016,70.6098403930664,69.41218566894531,59.57698440551758,16.84414291381836,-39.516544342041016,-42.06676483154297,-18.97911834716797,-6.037734508514404,-43.99671936035156,-14.848442077636719,-18.524505615234375,-43.34544372558594,-39.888404846191406,-18.520978927612305,-23.783506393432617,0.5320630669593811,58.72279357910156,65.42081451416016,-24.243085861206055,61.80686950683594,58.07146453857422,-43.12852096557617,-2.6683623790740967,-13.290617942810059,2.635658025741577,17.98166847229004,23.11216163635254,6.820357322692871,8.504786491394043,-44.9412727355957,3.774374008178711,40.5013427734375,-7.467711448669434,16.419702529907227,-7.357196807861328,-46.5447998046875,-25.960020065307617,-9.183621406555176,-5.234670639038086,-51.72976303100586,61.55641174316406,72.99584197998047,-7.66359806060791,-58.981781005859375,47.49185562133789,17.36337661743164,52.447078704833984,-51.77608871459961,-51.242164611816406,17.30002784729004,-5.539315700531006,-8.766350746154785,14.604985237121582,-54.857879638671875,-53.69133377075195,-39.51521301269531,-50.96189498901367,-50.08823776245117,-12.62998104095459,-3.6970374584198,-50.791015625,16.019285202026367,56.68461608886719,-39.826499938964844,-1.1922500133514404,-48.090003967285156,-6.654211521148682,-35.91462707519531,-37.134830474853516,-23.849964141845703,17.4492130279541,-30.692115783691406,26.630708694458008,-49.73025894165039,-8.633835792541504,-23.5682373046875,-14.255906105041504,-37.16208267211914,-47.33860397338867,4.532564640045166,-39.01483917236328,-10.212618827819824,-4.435825824737549,-27.60152816772461,41.87717819213867,-4.9069085121154785,8.200353622436523,-12.801063537597656,-25.14598846435547,-12.913551330566406,-13.933585166931152,-6.570765018463135,-16.538219451904297,-50.394493103027344,47.16695022583008,-36.00824737548828,35.494815826416016,-13.951337814331055,43.82273864746094,-53.11695098876953,-47.99275588989258,40.89480209350586,54.31161880493164,-51.0195198059082,21.262691497802734,64.12733459472656,13.017935752868652,0.5978081822395325,26.241092681884766,53.50034713745117,-6.724645137786865,5.027772426605225,0.9073660373687744,16.969270706176758,-41.7907600402832,20.965576171875,-11.836767196655273,-8.015352249145508,13.910470008850098,9.949637413024902,-50.39122009277344,7.575902938842773,-30.337011337280273,-18.8959903717041,16.183612823486328,-41.3619270324707,-11.600205421447754,-28.201580047607422,55.574214935302734,-7.534382343292236,3.664768934249878,26.466073989868164,-55.75044250488281,67.52626037597656,26.260238647460938,5.451066970825195,7.109227657318115,11.003098487854004,38.9726448059082,8.160787582397461,8.378866195678711,-5.698484897613525,3.4625377655029297,4.897808074951172,-8.176835060119629,-48.447025299072266,4.249423027038574,4.355791091918945,-36.56169509887695,-42.926788330078125,-50.006736755371094,-19.796594619750977,-13.070965766906738,28.876890182495117,15.778120040893555,24.634492874145508,-51.418418884277344,46.60032653808594,-17.80487060546875,17.3477840423584,13.169557571411133,38.76752853393555,-12.372047424316406,71.30516052246094,7.6833391189575195,39.99551773071289,-41.93021774291992,40.8920783996582,-6.491267204284668,5.3577728271484375,43.730628967285156,-17.098186492919922,48.712310791015625,23.390575408935547,16.62120819091797,43.6046028137207,-0.1611613929271698,18.442106246948242,-29.440725326538086,-9.256549835205078,-57.58783721923828,15.793157577514648,-2.7941946983337402,60.32857894897461,44.92808151245117,-45.22996520996094,-18.42606544494629,-18.579225540161133,-10.52542781829834,9.54518985748291,-39.78312301635742,22.328521728515625,12.918133735656738,2.6253161430358887,-59.012874603271484,-5.297196388244629,-38.045631408691406,43.061424255371094,59.563804626464844,22.416488647460938,-35.957115173339844,-51.362003326416016,33.8465576171875,39.760215759277344,-37.72536849975586,48.43668746948242,-4.2082343101501465,43.97643280029297,16.623254776000977,-39.83485412597656,26.141897201538086,25.73533058166504,35.91102981567383,8.906421661376953,3.275545358657837,-0.4734567701816559,7.008555889129639,15.079727172851562,17.209360122680664,-9.632430076599121,-0.6683512330055237,56.38959503173828,-20.253135681152344,57.29033660888672,-22.662662506103516,-47.69520568847656,28.32386016845703,-0.8161696791648865,23.753578186035156,16.11691665649414,-3.2547240257263184,61.25785827636719,-53.96456527709961,-2.9074621200561523,19.3812313079834,41.82542037963867,-19.887269973754883,55.486732482910156,-50.41475296020508,-47.43733215332031,-14.423964500427246,-6.716920375823975,11.789794921875,41.926002502441406,4.123794078826904,18.95951271057129,-0.8876048922538757,-16.181671142578125,-8.862037658691406,-50.201690673828125,4.73736572265625,51.374271392822266,-16.109235763549805,-9.046770095825195,-17.451948165893555,-1.6006951332092285,-14.90079402923584,-51.288204193115234,58.584693908691406,13.679509162902832,-12.101271629333496,68.81371307373047,-27.67860984802246,18.120786666870117,-29.510671615600586,-52.75293731689453,-53.2874755859375,-19.48942756652832,14.781915664672852,-40.77069854736328,-30.10215950012207,6.376486301422119,-18.65684700012207,5.666421890258789,11.09177017211914,-35.865760803222656,-19.32862663269043,-4.4367852210998535,-50.768104553222656,61.2129020690918,69.0715103149414,-39.2409782409668,9.07652759552002,72.27092742919922,35.648216247558594,-44.94517135620117,-18.84503173828125,10.597827911376953,-0.9117982387542725,-39.7451171875,72.59650421142578,-4.057610511779785,-8.899968147277832,24.685930252075195,71.21735382080078,-6.00807523727417,59.63417053222656,-7.032669544219971,20.727468490600586,-8.850502967834473,21.367029190063477,-35.127872467041016,25.405702590942383,-14.24669361114502,-52.981300354003906,35.120216369628906,2.0385639667510986,29.65731430053711,-5.465380668640137,21.93121910095215,29.936935424804688,-13.056138038635254,-3.2425031661987305,-25.071889877319336,4.756043434143066,-45.464115142822266,37.33344650268555,-21.720216751098633,22.238584518432617,-49.868431091308594,-16.957054138183594,-38.80227279663086,54.20065689086914,-6.260418891906738,-7.907558441162109,-58.3559684753418,-4.3647356033325195,55.20888900756836,-45.950836181640625,-52.049530029296875,20.175996780395508,57.78257751464844,-4.7599616050720215,-25.959857940673828,28.535385131835938,39.11394500732422,-4.476163387298584,40.7479362487793,19.172847747802734,3.9471845626831055,-39.01887512207031,56.66469955444336,-20.960058212280273,-35.951778411865234,-37.7330322265625,2.5000998973846436,-51.7891731262207,-50.95032501220703,60.86283874511719,70.7840347290039,-13.397732734680176,-50.70848083496094,55.21169662475586,-31.289064407348633,-36.85561752319336,9.227282524108887,22.57379722595215,-26.82855224609375,-9.571636199951172,-8.336812019348145,-13.417275428771973,-37.16565704345703,-39.52434539794922,-0.3415854871273041,-36.45235824584961,-14.263249397277832,65.17244720458984,-14.863868713378906,46.94241714477539,48.663978576660156,-5.2478861808776855,55.90085983276367,18.672481536865234,31.31510353088379,-9.117103576660156,53.03263473510742,9.25017261505127,17.538135528564453,-31.106752395629883,-48.700172424316406,21.83326530456543,36.584007263183594,-5.6666364669799805,30.895193099975586,26.666259765625,-18.917972564697266,5.304834365844727,1.592969298362732,-19.545833587646484,38.5125846862793,-29.809206008911133,7.271209239959717,-0.03373695909976959,-52.23704147338867,-1.5847285985946655,27.7285213470459,-26.545751571655273,-19.171924591064453,20.903425216674805,27.45131492614746,14.581787109375,0.20009979605674744,-56.85948181152344,-9.628995895385742,42.93305969238281,9.580609321594238,-13.644025802612305,-58.217002868652344,40.18536376953125,63.62992477416992,62.316097259521484,-29.73247528076172,25.926822662353516,22.227689743041992,4.508514404296875,16.39607810974121,33.915565490722656,-58.435359954833984,-26.282411575317383,-26.285505294799805,-26.22445297241211,-39.045040130615234,-21.275667190551758,6.8064069747924805,0.588697075843811,27.184858322143555,-12.643954277038574,36.10670852661133,-14.513872146606445,15.326240539550781,-4.6554274559021,3.1908113956451416,-12.809615135192871,7.880020618438721,-17.519372940063477,5.358791351318359,34.03571319580078,-50.70600891113281,-14.180024147033691,-40.452152252197266,-4.573467254638672,-9.50527572631836,-54.3021240234375,14.385824203491211,6.589796543121338,23.557785034179688,53.23796463012695,68.84503936767578,-22.587085723876953,-8.049103736877441,-51.40141677856445,62.128692626953125,47.064186096191406,4.605172634124756,-18.326278686523438,23.45719337463379,-17.781328201293945,-51.91122055053711,-12.778543472290039,21.245967864990234,-9.699207305908203,-14.729620933532715,-19.921520233154297,25.09604835510254,-10.137142181396484,-11.89293098449707,-28.79924964904785,-50.57527160644531,-20.19597625732422,18.227794647216797,16.6170711517334,-16.04811668395996,40.06047821044922,-19.438932418823242,-57.13919448852539,24.880605697631836,-51.33350372314453,55.522552490234375,34.05373764038086,-8.331876754760742,-19.930206298828125,-41.10321044921875,-38.102699279785156,1.8447059392929077,-15.767950057983398,59.335941314697266,-16.58087730407715,14.117180824279785,-55.75834274291992,-24.70633888244629,-46.47069549560547,14.808392524719238,23.874332427978516,9.009485244750977,19.86616325378418,-24.510740280151367,66.1587905883789,30.926368713378906,-30.05500030517578,-23.590179443359375,-9.747952461242676,13.910018920898438,-9.825718879699707,-17.560100555419922,60.742855072021484,25.23027992248535,-49.79652786254883,-55.66487121582031,-23.740625381469727,54.82962417602539,9.593023300170898,-42.21225357055664,23.955251693725586,-30.18687629699707,-6.031591415405273,27.692794799804688,-4.635876655578613,-4.075721740722656,-21.64102554321289,-51.7026481628418,-19.071481704711914,10.583218574523926,-4.039087772369385,-25.471790313720703,13.685606956481934,62.455902099609375,23.026769638061523,29.660675048828125,-19.173961639404297,-16.98713493347168,48.2950553894043,-18.1857967376709,-6.7285308837890625,-24.043771743774414,9.233016014099121,35.725616455078125,18.631288528442383,-8.912003517150879,13.896952629089355,68.39473724365234,-10.401583671569824,-20.61935806274414,-15.426712036132812,-23.077133178710938,17.098459243774414,10.335803031921387,2.845240592956543,-27.899662017822266,24.173152923583984,51.08989715576172,-25.075332641601562,27.058879852294922,54.451820373535156,7.858684062957764,48.39265441894531,-10.093202590942383,60.843849182128906,47.258338928222656,43.5032958984375,-5.760868072509766,-18.297245025634766,-22.132564544677734,0.15364369750022888,-4.217842102050781,-11.336736679077148,-16.46201515197754,-40.948089599609375,53.731571197509766,-0.21742944419384003,8.807387351989746,6.7829461097717285,22.67820167541504,5.6131391525268555,-39.35822296142578,-57.99801254272461,52.406158447265625,-8.470312118530273,-10.829957008361816,27.698322296142578,-21.238801956176758,46.01175308227539,-1.3703930377960205,-21.935148239135742,36.56769561767578,-1.8156156539916992,3.950100898742676,1.7243176698684692,60.04749298095703,-23.709138870239258,19.069332122802734,1.9899165630340576,-13.43429946899414,-27.669572830200195,-43.810264587402344,4.947597980499268,10.03107738494873,15.79930591583252,0.682331383228302,-10.438628196716309,46.27805709838867,-47.645172119140625,40.5307731628418,32.49000930786133,39.11006164550781,72.12242126464844,-30.458498001098633,3.952512264251709,-10.737919807434082,-11.385453224182129,58.542842864990234,33.50284194946289,-29.139965057373047,59.64295196533203,48.610538482666016,-29.840181350708008,37.70830535888672,-26.310632705688477,-38.70458221435547,21.16845703125,2.723468542098999,-7.303028583526611,-5.731639385223389,-51.56779861450195,6.57118558883667,30.759326934814453,62.40764617919922,31.78824234008789,32.079803466796875,-39.600215911865234,-16.190088272094727,-17.229331970214844,-9.858183860778809,62.72011947631836,-21.145376205444336,2.110399007797241,6.648074626922607,-8.47509479522705,8.10501480102539,-19.168743133544922,-51.21793746948242,-42.13433837890625,45.172142028808594,55.856014251708984,-22.027090072631836,5.592276573181152,2.268174648284912,37.53466796875,-18.1976375579834,-15.91368579864502,-15.491772651672363,-47.171539306640625,8.283485412597656,54.04384231567383,4.29161262512207,-40.56462860107422,11.387773513793945,-9.801362991333008,1.1976103782653809,21.376523971557617,17.065542221069336,49.067108154296875,31.97833824157715,-57.525123596191406,-34.442596435546875,-19.63528823852539,-53.45586395263672,48.952301025390625,-17.324522018432617,-17.254535675048828,46.597984313964844,3.347820281982422,43.817752838134766,9.564248085021973,37.141387939453125,-39.24911880493164,53.72626495361328,17.143566131591797,-21.24289321899414,40.382713317871094,20.39873695373535,-17.749629974365234,-37.94527053833008,34.94112777709961,34.066192626953125,-7.517477035522461,24.260690689086914,55.669921875,-27.299509048461914,-5.940041542053223,-5.808296203613281,-51.79627990722656,-20.79633903503418,-7.9757819175720215,11.65792179107666,15.73867130279541,-50.79954528808594,21.424175262451172,-9.507402420043945,-31.19076156616211,-21.902446746826172,-54.099884033203125,-7.097949981689453,-19.001296997070312,51.59647750854492,71.77787780761719,-49.53896713256836,22.39535140991211,-22.926528930664062,-52.60713577270508,23.57835578918457,-56.890350341796875,-56.74559783935547,-39.224918365478516,26.814273834228516,-25.61159896850586,-11.628662109375,13.67550277709961,19.547245025634766,37.52322006225586,-36.11978530883789,9.616445541381836,-47.142364501953125,31.113243103027344,-27.77280616760254,9.862404823303223,-7.4284281730651855,16.898609161376953,17.228517532348633,-19.131681442260742,-18.973596572875977,50.68518829345703,22.507356643676758,29.848852157592773,-20.01279640197754,60.941009521484375,39.935821533203125,-7.024657726287842,-47.01778030395508,36.90278244018555,-52.83402633666992,-36.593727111816406,-19.04682731628418,32.5211067199707,23.773418426513672,-46.91902542114258,-16.582103729248047,-57.51382064819336,59.71717071533203,0.27952179312705994,62.40951919555664,10.470297813415527,-9.999259948730469,-21.24863624572754,-21.71875,-25.31664276123047,-10.47881031036377,-38.679534912109375,68.49757385253906,-1.076263189315796,59.17160415649414,33.88446044921875,-17.504066467285156,32.65711212158203,24.57628631591797,-42.51918029785156,65.86114501953125,-23.143625259399414,-42.7273063659668,-27.068130493164062,-16.266511917114258,17.68967056274414,-4.880743503570557,-24.3862361907959,-22.213333129882812,48.38737869262695,11.415434837341309,3.930572509765625,-43.44047164916992,-14.668164253234863,-53.13590621948242,25.467212677001953,-38.88815689086914,6.955827236175537,65.52086639404297,3.3257360458374023,29.357458114624023,40.42384338378906,6.476174831390381,-57.47861099243164,33.152000427246094,-18.014789581298828,-5.415817737579346,-47.214176177978516,25.531551361083984,-50.46826934814453,-19.048418045043945,28.35259246826172,41.220855712890625,49.55903244018555,31.845537185668945,-18.619667053222656,-46.980003356933594,57.91526412963867,-44.52018737792969,-20.784107208251953,-22.017791748046875,-13.644895553588867,-16.273122787475586,20.012996673583984,-39.411502838134766,-39.228538513183594,42.625282287597656,9.360763549804688,-17.017349243164062,1.7174993753433228,43.93889236450195,19.232913970947266,42.788719177246094,-36.26874923706055,49.37138748168945,-2.5652272701263428,-6.530499458312988,9.655123710632324,-47.77082443237305,-13.99278450012207,3.122589588165283,-9.543601989746094,46.064125061035156,37.488563537597656,33.754539489746094,-5.8401665687561035,33.81648635864258,-9.40953540802002,51.412193298339844,7.352001190185547,-29.29315948486328,-15.074728965759277,15.20079231262207,32.79616928100586,44.31855010986328,-11.218015670776367,9.375004768371582,42.75434494018555,41.70956802368164,16.363529205322266,-14.110716819763184,-4.35246467590332,-26.198423385620117,8.549328804016113,-31.308305740356445,22.211185455322266,49.11497497558594,-22.926450729370117,-17.57382583618164,-7.401371479034424,7.333232879638672,-13.369537353515625,33.98009490966797,-44.045169830322266,-40.45138168334961,4.16718864440918,-12.440585136413574,-8.970396995544434,35.91115188598633,-22.86231803894043,-57.75088119506836,29.455251693725586,49.44702911376953,-25.811758041381836,-12.526931762695312,-19.068607330322266,0.9300124645233154,46.662044525146484,-48.31634521484375,-10.342494010925293,-13.821990013122559,35.527557373046875,30.21587562561035,55.377296447753906,41.59404373168945,16.649072647094727,21.92776870727539,54.59567642211914,-8.072272300720215,-5.373382568359375,-57.04867172241211,23.151334762573242,-14.948906898498535,8.451027870178223,-57.04714584350586,-8.355245590209961,-44.2364501953125,30.6887264251709,-17.58159637451172,26.00749397277832,-46.65364456176758,37.74982833862305,-9.53994369506836,-34.30629348754883,54.35655212402344,7.361396312713623,-38.263675689697266,47.776283264160156,62.9869384765625,48.343971252441406,41.525108337402344,-9.19871997833252,25.342145919799805,-19.6193904876709,-11.443116188049316,55.966800689697266,54.03141403198242,-11.638239860534668,-28.61474609375,-9.783819198608398,61.06867980957031,35.486289978027344,-5.393808364868164,-6.632023811340332,-15.678784370422363,-17.006898880004883,-42.17783737182617,-52.426544189453125,-48.49925994873047,-50.98955154418945,-12.105278015136719,26.03495979309082,8.516161918640137,43.547855377197266,-49.802276611328125,-15.42016315460205,-25.53719711303711,18.224811553955078,-39.2996940612793,2.3797268867492676,-18.059921264648438,-9.309971809387207,-33.41972732543945,69.31499481201172,69.61615753173828,44.870094299316406,15.106302261352539,13.508435249328613,27.38704490661621,-49.31984329223633,60.01362991333008,-0.3036259412765503,9.279523849487305,28.53775405883789,43.705528259277344,44.332820892333984,10.873722076416016,27.962718963623047,63.28604507446289,1.5254031419754028,-11.418370246887207,-12.466590881347656,53.61858367919922,-23.046611785888672,35.81719970703125,8.099838256835938,59.15180587768555,41.26336669921875,25.856393814086914,-14.950308799743652,-23.552038192749023,-27.88855743408203,4.913596153259277,-4.308064937591553,-27.596588134765625,-4.593587875366211,-7.235559463500977,26.707780838012695,36.679222106933594,70.06218719482422,-4.340357780456543,40.54158401489258,-42.227230072021484,69.3470230102539,38.262733459472656,-29.330381393432617,-22.92971420288086,54.81315612792969,-59.36751937866211,-8.954000473022461,60.1169319152832,21.430585861206055,7.357237339019775,40.9807243347168,18.021257400512695,-3.002591371536255,38.90736389160156,3.4203741550445557,52.307613372802734,16.53499412536621,-7.069650650024414,-48.23872375488281,25.553159713745117,26.151939392089844,-7.417130470275879,-57.84376907348633,-12.64581298828125,-52.97837448120117,9.688417434692383,42.89771270751953,-13.409027099609375,-8.718474388122559,53.586151123046875,62.59587860107422,45.68011474609375,8.153428077697754,-26.247732162475586,28.218833923339844,-5.681378364562988,45.67152786254883,25.596458435058594,-36.93548583984375,-18.907779693603516,35.24421310424805,-39.910396575927734,45.92311096191406,73.0042953491211,26.31587028503418,68.6739273071289,-22.000003814697266,57.71642303466797,-48.417572021484375,-16.525529861450195,4.079508304595947,0.827995240688324,-24.34589385986328,-8.137079238891602,-6.055229187011719,-25.582075119018555,-17.620498657226562,14.95571517944336,-5.162203788757324,34.28662872314453,6.135633945465088,-3.280916213989258,-5.211518287658691,-17.324323654174805,15.35051155090332,-43.07337188720703,-6.992437362670898,23.89222526550293,4.3338799476623535,-8.202975273132324,44.70957565307617,5.574219703674316,-30.97465705871582,40.21034240722656,-14.29304027557373,-31.441017150878906,6.094991207122803,25.5299072265625,-8.897194862365723,39.18342208862305,22.907655715942383,-12.068920135498047,-52.85557174682617,43.47978591918945,49.644012451171875,41.32804489135742,-54.171791076660156,-30.013484954833984,43.88985824584961,-37.44014358520508,3.4730234146118164,-15.761117935180664,-49.41445541381836,-3.380175828933716,1.4630182981491089,26.199495315551758,-57.91481399536133,25.558927536010742,-12.436580657958984,-17.173572540283203,-13.44030475616455,-54.96815872192383,0.23238679766654968,-16.45728302001953,-3.9889211654663086,9.948254585266113,-18.153066635131836,37.92707061767578,-44.26899337768555,-6.686775207519531,-7.34866189956665,0.05710265040397644,-24.562652587890625,28.057287216186523,7.557504653930664,-12.373648643493652,-51.0471305847168,-5.693179607391357,33.95098876953125,51.24578857421875,-22.417484283447266,-44.03429412841797,23.485553741455078,-9.593728065490723,-44.41469192504883,-58.12565231323242,-28.659828186035156,-32.130435943603516,5.679508209228516,16.077014923095703,24.109695434570312,40.51646423339844,-29.742023468017578,17.491559982299805,-27.462949752807617,42.599605560302734,-19.16080665588379,-10.503159523010254,-4.2727885246276855,45.061012268066406,34.65139389038086,56.13671875,16.94118309020996,37.30867004394531,-27.047266006469727,32.099754333496094,0.045535143464803696,71.9559326171875,65.12715911865234,23.247526168823242,29.499544143676758,-18.686317443847656,8.369768142700195,26.335742950439453,51.73744583129883,-4.784728050231934,-51.650814056396484,-50.61551284790039,-4.363224983215332,-25.934921264648438,10.787741661071777,-49.351863861083984,-45.018218994140625,-14.420251846313477,-22.45464324951172,20.659404754638672,26.8177547454834,-50.22290802001953,-23.358793258666992,44.60041046142578,58.66184997558594,-27.452747344970703,-12.832852363586426,-6.857705593109131,-50.387939453125,-48.047672271728516,39.80634689331055,-22.122478485107422,27.573867797851562,30.002513885498047,-18.48089599609375,-9.663162231445312,-13.911717414855957,-19.25812530517578,34.242919921875,-14.619304656982422,-47.98466110229492,-18.3056640625,27.3607234954834,-22.491188049316406,10.479379653930664,-6.816639423370361,-52.145538330078125,-20.298851013183594,4.496582508087158,-29.221805572509766,-13.500539779663086,-54.46580505371094,1.3448413610458374,-39.415306091308594,47.885337829589844,-1.8893685340881348,-10.342456817626953,-48.166168212890625,-51.65296173095703,-51.367740631103516,27.28742027282715,60.48187255859375,-6.03006649017334,37.07313537597656,20.840818405151367,37.474700927734375,-11.029041290283203,-27.369991302490234,52.33478546142578,10.971358299255371,15.469766616821289,-10.686956405639648,-45.64908218383789,27.206289291381836,13.827859878540039,59.99824905395508,2.207038402557373,9.824318885803223,39.99885177612305,-8.534751892089844,59.27658462524414,22.42641830444336,29.23780059814453,28.85462188720703,-11.663686752319336,-19.968524932861328,-19.89278221130371,43.541160583496094,-46.9864387512207,-39.83745574951172,18.32223129272461,13.43625545501709,48.815330505371094,46.847633361816406,29.227420806884766,-4.329109191894531,-51.23938751220703,-51.953216552734375,4.770177364349365,-17.626617431640625,-10.01058292388916,24.88055419921875,44.79570388793945,-5.9959635734558105,51.12697219848633,-19.475114822387695,12.73824691772461,-11.614889144897461,34.73316955566406,45.802921295166016,-53.4339485168457,-27.08229637145996,27.32550811767578,53.5800666809082,53.72494125366211,-7.442232608795166,26.38783836364746,-51.04175567626953,-15.600738525390625,6.561002731323242,-46.50920486450195,-27.441606521606445,22.63309669494629,41.60527420043945,45.120601654052734,33.983558654785156,29.780153274536133,-11.293007850646973,-9.852686882019043,34.356590270996094,-27.918668746948242,-4.416210174560547,-0.0837663933634758,-18.026765823364258,14.959136009216309,2.5011115074157715,31.44985008239746,25.273399353027344,28.24272918701172,-0.18331992626190186,-0.060505930334329605,-10.945405006408691,56.51374053955078,23.454792022705078,50.23579788208008,4.694932460784912,-49.4221076965332,-13.37682056427002,41.4024658203125,1.7227038145065308,38.17558670043945,3.811103582382202,-42.98601531982422,-18.660781860351562,-38.675132751464844,-22.80179214477539,-28.546281814575195,38.78731918334961,2.254915237426758,72.73495483398438,39.55282211303711,-40.93751525878906,38.951839447021484,9.981134414672852,20.972047805786133,32.52641677856445,-27.365400314331055,-12.37951946258545,53.836761474609375,30.036577224731445,57.86258316040039,-44.17079544067383,0.40015122294425964,61.567928314208984,13.496923446655273,36.07573318481445,-12.670162200927734,29.34458351135254,16.622228622436523,-15.203871726989746,48.30864334106445,-22.55548858642578,-19.231813430786133,56.42315673828125,37.08760070800781,-23.152793884277344,32.913551330566406,-42.8621711730957,-15.101572036743164,-57.61100387573242,-7.254055500030518,-58.613346099853516,-46.231868743896484,14.606324195861816,47.814414978027344,-6.691587448120117,-38.54243087768555,34.976043701171875,-53.19626235961914,-52.3819465637207,24.604507446289062,19.7664737701416,-11.796477317810059,-47.666812896728516,16.774553298950195,39.46776580810547,55.23695755004883,16.831954956054688,7.873058795928955,-25.474754333496094,-14.026653289794922,-50.61871337890625,-6.979141712188721,-5.298701286315918,-9.227462768554688,-21.550037384033203,43.213626861572266,73.0784912109375,14.915484428405762,35.14919662475586,27.98700714111328,-0.45531579852104187,-6.908193111419678,-36.133819580078125,5.776252269744873,1.4741082191467285,-16.860742568969727,5.721048355102539,-52.42417907714844,-8.891335487365723,22.077682495117188,8.04348373413086,55.05304718017578,47.399227142333984,11.774882316589355,12.954764366149902,-39.66618728637695,-11.860572814941406,-11.665060043334961,-52.779884338378906,1.7733415365219116,23.614240646362305,29.674808502197266,-18.43760108947754,33.70558166503906,-21.147192001342773,72.80474090576172,-45.54306411743164,40.7912712097168,45.41416931152344,-43.60309600830078,21.129783630371094,-2.9004719257354736,-10.252791404724121,16.148500442504883,6.6809844970703125,-52.06395721435547,34.49684524536133,-52.79453659057617,0.36820122599601746,71.25650787353516,-57.79113006591797,-20.012971878051758,-5.78876256942749,-32.634986877441406,-9.468226432800293,-8.968339920043945,-41.32712173461914,1.8863517045974731,23.10373878479004,-42.1830940246582,-47.61986541748047,38.21677780151367,71.69776916503906,23.663745880126953,20.61201286315918,-43.574249267578125,1.4584810733795166,-15.788615226745605,21.812965393066406,0.9861136078834534,-11.351428031921387,-14.093066215515137,25.219511032104492,-15.318808555603027,-31.44220542907715,-4.764590263366699,-12.474311828613281,-17.112112045288086,-17.646793365478516,13.210563659667969,66.4948501586914,8.286598205566406,-31.077505111694336,-13.014914512634277,56.711158752441406,59.51350784301758,-36.76995086669922,67.4340591430664,30.625566482543945,13.579524040222168,-58.731964111328125,-7.094196319580078,-31.112703323364258,12.446329116821289,-43.813636779785156,60.51544189453125,-42.560855865478516,-2.8420844078063965,-9.979475975036621,-52.83715057373047,-37.04570007324219,26.779539108276367,49.71699905395508,-8.166091918945312,-9.264634132385254,53.8197135925293,-38.88935470581055,-18.82440185546875,-10.995941162109375,64.90033721923828,20.521291732788086,-12.395310401916504,-57.45711135864258,-42.464664459228516,17.112045288085938,-15.164613723754883,-18.128902435302734,36.512046813964844,-40.981178283691406,-9.379825592041016,-18.160154342651367,-49.353153228759766,27.048551559448242,58.46965408325195,-13.021675109863281,16.822874069213867,-57.76125717163086,-25.591711044311523,8.111713409423828,-42.47316360473633,53.68624496459961,-3.0045111179351807,-18.445995330810547,-42.26166915893555,-47.04975509643555,15.9776029586792,-15.570746421813965,-20.04952049255371,-7.723114013671875,3.0334432125091553,-52.9730339050293,-43.911964416503906,-40.420188903808594,51.20998001098633,-37.25438690185547,-49.943260192871094,-15.441988945007324,64.35417175292969,-40.740333557128906,34.2833251953125,-10.194986343383789,-10.007019996643066,16.80077362060547,-58.547767639160156,26.868989944458008,-28.7253475189209,-12.263038635253906,4.343441486358643,-40.135040283203125,25.914113998413086,-46.6134147644043,20.791133880615234,0.8973128199577332,9.123950958251953,42.5880241394043,44.057342529296875,-39.54825973510742,31.815773010253906,28.16399574279785,-20.48541259765625,50.28291702270508,-12.865514755249023,-18.84194564819336,-38.89337158203125,-27.044584274291992,13.152143478393555,33.66913604736328,30.650100708007812,-51.38672637939453,56.16679000854492,-56.64525604248047,-1.6381255388259888,-47.867462158203125,-2.957700252532959,-20.643352508544922,49.952144622802734,-5.269476890563965,-22.877727508544922,15.652823448181152,2.426863193511963,40.15406036376953,-8.403624534606934,2.7137420177459717,-40.25642013549805,-51.87821578979492,48.61054992675781,23.595434188842773,-8.79125690460205,47.532108306884766,-12.497838973999023,48.342891693115234,29.255695343017578,12.887946128845215,-9.75399398803711,-21.60580825805664,-50.16651916503906,-57.63604736328125,-28.09525489807129,14.598612785339355,39.638404846191406,4.933225631713867,20.29860496520996,-2.820176839828491,-21.841041564941406,-24.819276809692383,-20.26609230041504,6.978443145751953,-31.64579200744629,28.327829360961914,58.055458068847656,61.94576644897461,36.968326568603516,61.01348114013672,-7.064009189605713,-3.6506104469299316,2.110456943511963,-18.476835250854492,49.356170654296875,23.80118179321289,-47.97287368774414,10.826314926147461,73.10152435302734,27.410770416259766,-10.683866500854492,51.41274642944336,6.294961929321289,-39.26081466674805,15.445799827575684,-51.74639892578125,-51.164939880371094,-6.8858771324157715,-25.680723190307617,22.784849166870117,-8.189396858215332,-25.020858764648438,-42.34846878051758,-8.42009162902832,-6.757673740386963,-31.145687103271484,-13.675777435302734,-29.05021858215332,10.175569534301758,-50.44955825805664,29.93030548095703,-48.535064697265625,32.13545227050781,-5.945699691772461,34.570858001708984,-36.8305778503418,22.219284057617188,10.46712589263916,51.328670501708984,-20.826322555541992,9.105687141418457,-6.200812816619873,-30.99605941772461,-15.505465507507324,-15.832907676696777,60.77322769165039,-29.696605682373047,-0.1352880895137787,37.59737777709961,28.859371185302734,-50.294551849365234,9.375117301940918,23.793638229370117,-43.024173736572266,-0.8674301505088806,-3.5703680515289307,-8.815417289733887,-9.872526168823242,-44.068939208984375,-49.96826934814453,6.599689960479736,26.769943237304688,43.584293365478516,26.792579650878906,21.998512268066406,-6.865438938140869,-18.14508819580078,-51.1624641418457,-58.87255859375,-52.056556701660156,27.2808837890625,-40.248741149902344,-9.739080429077148,1.5208016633987427,-42.28911209106445,-5.849583625793457,49.26547622680664,2.3966078758239746,72.39886474609375,-53.322731018066406,-4.454442501068115,-15.543031692504883,16.13701629638672,-3.6502459049224854,-1.9263300895690918,1.45989191532135,17.801414489746094,12.352208137512207,-3.6722567081451416,1.791692852973938,46.962379455566406,-10.324417114257812,-51.09971237182617,-13.433510780334473,21.255306243896484,-7.426233768463135,-29.54713249206543,34.16054153442383,52.79518127441406,47.489200592041016,10.955636978149414,16.041349411010742,-10.836886405944824,72.21195983886719,-58.770042419433594,-39.12507629394531,-23.73590850830078,58.72172546386719,27.522994995117188,18.53407859802246,-19.215011596679688,54.494544982910156,13.386043548583984,-44.726139068603516,31.15683364868164,35.33979797363281,61.1081428527832,70.44322204589844,2.6971027851104736,37.53746795654297,-30.659809112548828,8.461102485656738,8.932258605957031,34.63391876220703,7.4620208740234375,-41.03861999511719,36.92517852783203,-22.201847076416016,-28.745159149169922,8.746587753295898,67.1637191772461,50.15151596069336,-18.138259887695312,4.537049770355225,-3.3100359439849854,27.565202713012695,-6.852915287017822,-26.783113479614258,0.3531107008457184,-48.49991226196289,60.65133285522461,18.417654037475586,27.73941993713379,-46.05632400512695,27.301128387451172,-23.589956283569336,-43.90604019165039,7.645716667175293,-13.266091346740723,-11.883060455322266,-15.082306861877441,17.36890983581543,-35.7542724609375,-13.197088241577148,-6.685906410217285,5.563369274139404,3.524686336517334,11.385605812072754,-4.10414981842041,-8.39629077911377,-12.290894508361816,-44.55121994018555,-51.16954040527344,22.518613815307617,-6.590299606323242,0.07913130521774292,-15.067380905151367,-52.70137405395508,-11.057465553283691,-5.252322673797607,-57.70836639404297,-5.904170989990234,-15.640257835388184,-51.846317291259766,53.56406784057617,-25.2108154296875,-20.500173568725586,-17.037574768066406,8.96883487701416,-39.83079147338867,8.577770233154297,-11.87319278717041,-18.988224029541016,-15.630237579345703,-12.760759353637695,3.000312328338623,-6.803537845611572,43.67585372924805,15.893031120300293,-45.93260192871094,26.54758644104004,34.192440032958984,-26.283674240112305,24.371068954467773,-30.406999588012695,-3.7328593730926514,-44.83674621582031,53.13505172729492,17.041894912719727,23.361257553100586,34.23540115356445,-30.758729934692383,28.37712287902832,10.281770706176758,-0.7285745143890381,-4.841198921203613,-57.08718490600586,7.827234268188477,44.31877136230469,62.21034622192383,28.900056838989258,30.62035369873047,26.699228286743164,16.12543487548828,-38.74245071411133,1.4285118579864502,-30.681255340576172,52.47791290283203,-1.7558554410934448,-44.09259033203125,-5.445372581481934,8.47752857208252,18.482341766357422,14.216282844543457,17.55967140197754,-30.914281845092773,-51.446224212646484,41.650970458984375,-13.928964614868164,28.738773345947266,14.480146408081055,-16.69110679626465,-7.657522678375244,22.39181137084961,-18.841901779174805,-45.36456298828125,-29.14668846130371,-7.011623382568359,54.8486442565918,13.219404220581055,-37.18441390991211,-57.64870834350586,-4.304631233215332,10.644371032714844,-52.825958251953125,-23.541799545288086,-9.413156509399414,3.1063170433044434,-17.696765899658203,26.347225189208984,7.71470308303833,10.109648704528809,-32.8995475769043,47.11800003051758,-51.555870056152344,-36.026573181152344,-9.117403030395508,62.379703521728516,-13.523082733154297,-4.986692905426025,-47.83444595336914,-17.39859962463379,33.437950134277344,-12.479930877685547,-7.018109321594238,44.310028076171875,-4.968314170837402,4.1248955726623535,-15.71453857421875,-45.45365905761719,-19.53112030029297,41.981563568115234,-22.083599090576172,-8.808490753173828,-50.17716598510742,-0.3873101472854614,-27.12326431274414,27.758594512939453,43.876075744628906,-6.728006362915039,31.43787384033203,60.323463439941406,-4.774909496307373,-30.60234260559082,-9.954700469970703,27.855066299438477,64.00572967529297,24.64548110961914,-11.548870086669922,-5.873867034912109,-18.378215789794922,-18.988224029541016,-52.653873443603516,-10.122711181640625,-18.246244430541992,-40.716285705566406,72.89249420166016,49.0968017578125,-19.87738037109375,1.5169506072998047,13.32595443725586,-41.89077377319336,-19.79345703125,8.968767166137695,34.61266326904297,-18.047088623046875,-27.118946075439453,52.378841400146484,-17.289499282836914,-0.33812078833580017,-18.256208419799805,-31.551639556884766,1.9044318199157715,21.706758499145508,-51.71627426147461,-54.68585205078125,-47.42274475097656,-12.744919776916504,-5.4482011795043945,-11.141454696655273,-53.22238540649414,63.049015045166016,-34.981014251708984,-10.251747131347656,69.59630584716797,-20.861988067626953,-43.74248504638672,28.709266662597656,-4.545012950897217,30.08306312561035,21.013954162597656,39.81040573120117,-6.340423107147217,-1.3571884632110596,-31.874250411987305,7.033750534057617,18.36162567138672,-26.775920867919922,6.980208873748779,-12.887430191040039,-26.534191131591797,-17.612878799438477,36.523136138916016,0.7112634778022766,62.450035095214844,16.257043838500977,23.600393295288086,-38.96022415161133,24.792238235473633,-15.303954124450684,-46.249359130859375,-12.645149230957031,-12.333733558654785,46.32758712768555,-1.7311532497406006,-12.844347953796387,16.575546264648438,17.135601043701172,15.004388809204102,-48.36564254760742,-53.454376220703125,1.2010406255722046,-30.74831199645996,-18.583192825317383,3.990054130554199,-1.4312490224838257,34.184791564941406,54.39457702636719,40.75825500488281,-28.80931282043457,-47.99675369262695,31.042016983032227,20.65347671508789,34.26319122314453,-24.294677734375,-52.524635314941406,43.90229034423828,-17.59788703918457,23.964590072631836,34.54310607910156,-5.001038074493408,-43.27561950683594,42.12385177612305,-19.737022399902344,0.40334829688072205,-0.7721102833747864,-7.460511207580566,-31.101669311523438,44.391578674316406,-19.225114822387695,-13.026927947998047,-57.55036544799805,59.460025787353516,49.10454177856445,-4.041298866271973,-58.0318603515625,-48.84372329711914,5.620754718780518,-54.19002914428711,-41.096893310546875,-14.093793869018555,-49.05951690673828,-7.436690807342529,3.6860225200653076,-18.9716739654541,37.997581481933594,42.827362060546875,-6.761679649353027,39.231842041015625,2.631382703781128,-12.44762134552002,39.09634780883789,-51.643863677978516,33.41925048828125,14.018115997314453,11.759735107421875,-22.42936134338379,49.83439254760742,66.6429672241211,-0.2056562900543213,-17.850597381591797,8.037737846374512,-1.992990255355835,-14.999157905578613,-11.2101469039917,11.996916770935059,25.80586051940918,49.913002014160156,53.86940002441406,5.428220272064209,54.30805206298828,-15.207059860229492,43.09552764892578,53.3865852355957,-37.16810607910156,-5.179470539093018,50.03668212890625,-7.289411544799805,-41.890281677246094,5.67143440246582,-0.25229236483573914,-17.62615203857422,-29.689228057861328,-15.80567455291748,15.046285629272461,-3.037527322769165,-49.80625915527344,47.01055145263672,17.776107788085938,-34.91291046142578,68.74873352050781,-41.13188552856445,29.909042358398438,53.751644134521484,1.4371906518936157,-27.502185821533203,71.03614044189453,-17.96712303161621,-50.935874938964844,-8.847373008728027,35.58943557739258,28.996809005737305,-9.665492057800293,18.519229888916016,25.802684783935547,31.644882202148438,30.194509506225586,59.117557525634766,18.912399291992188,-19.639495849609375,-10.80258560180664,-30.437782287597656,0.008988995105028152,-13.410435676574707,41.30072021484375,69.6220703125,16.154613494873047,28.081483840942383,-21.055513381958008,-11.337181091308594,-0.4446104168891907,18.873525619506836,-22.055503845214844,-40.4406852722168,-3.251124858856201,-48.77214813232422,-49.78007888793945,-57.62932205200195,-2.9887783527374268,67.67606353759766,49.86320114135742,44.44086837768555,31.436660766601562,-12.974209785461426,-38.972015380859375,41.57256317138672,-36.302337646484375,1.5863085985183716,58.373050689697266,-57.200504302978516,-7.625947952270508,-29.213577270507812,15.46297836303711,47.442527770996094,4.4478535652160645,-43.352081298828125,-23.025081634521484,59.798797607421875,-20.92259407043457,-15.563104629516602,-16.50272560119629,-2.2190093994140625,8.48936653137207,-9.421305656433105,34.11751937866211,24.885051727294922,-6.966099739074707,60.318748474121094,51.43394470214844,-5.179337024688721,-20.121124267578125,-9.230754852294922,-37.912635803222656,-5.649369716644287,-19.265464782714844,2.2606287002563477,-11.369521141052246,41.65493392944336,23.313915252685547,44.539703369140625,15.928780555725098,-18.827970504760742,5.208859920501709,17.3400936126709,-28.590373992919922,-52.4901237487793,-0.47065502405166626,3.4593417644500732,40.39644241333008,-20.883861541748047,-21.33919906616211,-5.933140754699707,62.92165756225586,8.451143264770508,-22.535547256469727,-42.92897415161133,-9.78752326965332,-55.162139892578125,-40.58306884765625,-31.363922119140625,28.89828109741211,49.230533599853516,-23.03873062133789,27.234067916870117,6.6184000968933105,4.4754743576049805,-23.02460479736328,-11.343329429626465,-43.20521545410156,-41.577301025390625,-17.739425659179688,53.53948211669922,35.49114990234375,-13.741106033325195,-28.655553817749023,60.951904296875,0.6885135769844055,-51.7972297668457,69.96170806884766,-53.56459426879883,2.9857704639434814,-3.0702614784240723,-17.535289764404297,2.169729232788086,44.28370666503906,-18.01685905456543,-16.774559020996094,-14.038212776184082,-52.905723571777344,43.60767364501953,-14.356405258178711,-42.920753479003906,-58.228668212890625,61.46887969970703,-4.080668926239014,-30.818679809570312,46.578346252441406,-54.973182678222656,67.42964172363281,16.962404251098633,-11.286799430847168,-9.707959175109863,58.92732620239258,2.573289155960083,8.018312454223633,-57.54080581665039,-22.7056827545166,-4.200438499450684,6.944124221801758,15.911907196044922,43.83626937866211,-35.792869567871094,-22.352802276611328,-39.842193603515625,-28.570741653442383,19.769926071166992,6.166614532470703,-51.305484771728516,-21.894826889038086,-47.34920120239258,4.382394790649414,53.88081359863281,-9.951347351074219,-40.98983383178711,2.8793528079986572,-17.966838836669922,13.851869583129883,34.478084564208984,-9.658151626586914,26.362442016601562,27.626487731933594,-20.102930068969727,-6.535227298736572,-40.967384338378906,-4.478245258331299,8.170292854309082,54.01880645751953,24.19660186767578,70.21137237548828,-22.213191986083984,37.31996154785156,-6.92537784576416,35.10227584838867,9.31201171875,-52.22746276855469,-9.730903625488281,-44.46828842163086,3.6148059368133545,10.949210166931152,41.91362380981445,-21.89072036743164,-50.778621673583984,49.048309326171875,16.948572158813477,-10.155716896057129,-12.00707721710205,-39.33827590942383,41.91813659667969,37.445430755615234,-0.535243570804596,-14.017107963562012,5.688635349273682,6.663969993591309,-29.765533447265625,51.7307243347168,-46.37675094604492,-46.249610900878906,53.43225860595703,-41.67794418334961,69.30150604248047,-49.85666275024414,63.75731658935547,-51.913597106933594,61.154518127441406,9.957518577575684,60.98040008544922,-19.63775634765625,5.969137191772461,27.566186904907227,68.60081481933594,-46.62147903442383,-25.567502975463867,-16.747516632080078,-58.707515716552734,5.683993816375732,-40.23633575439453,45.0876350402832,-14.308460235595703,-18.922754287719727,-11.463618278503418,41.781150817871094,19.302656173706055,42.26405715942383,23.36468505859375,43.7010383605957,2.7349038124084473,-3.64721417427063,-1.9938172101974487,59.35102462768555,20.72928810119629,-2.578608274459839,18.503875732421875,69.0628433227539,17.88067054748535,-4.179867744445801,-20.217458724975586,11.595866203308105,44.261253356933594,-52.15888977050781,-13.185436248779297,-29.136999130249023,38.53474426269531,-20.177875518798828,33.62298583984375,11.655887603759766,-17.651060104370117,59.449066162109375,-17.775367736816406,-22.42217254638672,18.723556518554688,34.1921272277832,24.613901138305664,14.493871688842773,17.15958595275879,-5.85176944732666,-52.55073165893555,-14.018464088439941,-9.354241371154785,-49.882659912109375,-21.685073852539062,-14.58070182800293,-19.640403747558594,13.666637420654297,-21.688304901123047,-22.15976333618164,33.344871520996094,33.3326530456543,-12.089947700500488,-45.48770523071289,46.585445404052734,9.49488353729248,50.50424575805664,-43.22397232055664,37.81193542480469,-10.12930965423584,-44.55689239501953,-3.628800868988037,4.147272109985352,-13.676262855529785,12.825112342834473,-55.782005310058594,-5.778719902038574,63.37554931640625,-55.07484436035156,61.35051345825195,2.323726177215576,-14.221714973449707,-38.64448547363281,24.897741317749023,-8.018430709838867,-18.541093826293945,-0.9750227928161621,10.475637435913086,-38.384765625,-24.061304092407227,17.875789642333984,-37.784576416015625,46.87031555175781,68.46331787109375,-9.71303939819336,9.509157180786133,-4.239372730255127,-19.17743682861328,36.2574462890625,-10.149263381958008,-49.93864822387695,-16.36939239501953,14.487038612365723,-41.254478454589844,-8.003884315490723,60.54533767700195,8.981149673461914,-26.092304229736328,42.46786880493164,2.956209421157837,-10.0231351852417,3.0524871349334717,2.2932634353637695,29.713207244873047,-10.190655708312988,64.23079681396484,-6.545005798339844,44.008724212646484,29.46184730529785,-8.345417976379395,30.714509963989258,29.46956443786621,55.07956314086914,1.1519489288330078,-30.733850479125977,10.846454620361328,-40.84062576293945,43.90811538696289,-23.66322135925293,-6.139195442199707,-14.988995552062988,-52.02276611328125,7.902493953704834,-19.52709197998047,8.88964557647705,0.7780768871307373,-13.756030082702637,-11.61022663116455,-57.033897399902344,-16.950345993041992,-51.80457305908203,6.163506984710693,-1.5917059183120728,-10.078163146972656,3.6071388721466064,8.655766487121582,8.485942840576172,-8.71331787109375,19.614572525024414,-13.899486541748047,-50.08464431762695,3.244810104370117,-1.0116795301437378,-7.73195219039917,-18.936670303344727,-41.34634017944336,-39.420494079589844,-16.48766326904297,-10.6228609085083,1.9700565338134766,-24.35035514831543,-22.964218139648438,-2.6471402645111084,-17.410907745361328,44.76764678955078,-2.191195249557495,-7.047995090484619,45.53926467895508,48.87857437133789,25.98326873779297,-34.206993103027344,-5.771613597869873,-26.80337905883789,-23.34660530090332,22.816843032836914,-51.319820404052734,15.121528625488281,53.054054260253906,15.318743705749512,-48.50639724731445,-9.544427871704102,44.76068878173828,40.13643264770508,-2.8429672718048096,5.0024518966674805,8.646142959594727,-44.844913482666016,-52.6035041809082,9.732125282287598,9.993611335754395,-11.897204399108887,38.733333587646484,-44.81992721557617,7.863106727600098,-14.145520210266113,35.76017761230469,62.516700744628906,59.525970458984375,-1.759648084640503,-3.764298439025879,-14.853495597839355,8.005538940429688,50.4528923034668,-20.733943939208984,28.165578842163086,-10.145992279052734,-46.31440734863281,-6.034323215484619,3.1662397384643555,16.05445098876953,-0.9839935898780823,-14.09416389465332,-39.438011169433594,56.840660095214844,11.073196411132812,-55.69370651245117,30.7485294342041,-55.60887145996094,-50.63325500488281,52.988792419433594,-7.147814750671387,3.4807050228118896,54.95861053466797,-4.913916110992432,11.042986869812012,46.90860366821289,45.71437072753906,25.568090438842773,36.66862106323242,64.3386459350586,33.5428466796875,-26.977453231811523,-17.154863357543945,-20.209789276123047,8.194256782531738,4.331183433532715,-18.417993545532227,-25.57801055908203,6.824787139892578,-14.986695289611816,-51.528377532958984,61.45188522338867,-28.379323959350586,46.69986343383789,46.61513137817383,-9.467798233032227,-30.638227462768555,13.814742088317871,0.6406200528144836,-39.257266998291016,14.537028312683105,-55.939273834228516,25.06421661376953,60.35857391357422,-37.62861251831055,39.931732177734375,-3.9684813022613525,33.445255279541016,0.8025517463684082,42.7592658996582,32.88847351074219,4.805044174194336,65.46858978271484,-20.959714889526367,-24.455595016479492,-57.797794342041016,8.363937377929688,-5.654325485229492,1.3925994634628296,-8.035367965698242,4.917609691619873,35.01789855957031,-12.448530197143555,-27.715303421020508,-11.41441822052002,8.454119682312012,18.26305389404297,-8.520743370056152,47.52912139892578,-21.419248580932617,-11.297890663146973,-57.35091018676758,-43.79941177368164,-14.289310455322266,-8.745857238769531,30.57341766357422,17.637205123901367,5.226077556610107,-5.825558185577393,-41.95313262939453,9.258336067199707,39.25543975830078,26.892681121826172,48.70710372924805,-14.41921615600586,31.090682983398438,8.642836570739746,-15.223976135253906,12.959131240844727,-44.51533508300781,-59.90483474731445,-11.564870834350586,21.816360473632812,-43.23912048339844,-59.0810546875,-2.0976510047912598,-14.008462905883789,17.545040130615234,-8.100037574768066,-12.449817657470703,-6.980576992034912,-29.0974178314209,21.195730209350586,-0.5973773002624512,25.409019470214844,8.110610961914062,17.895681381225586,-5.105949878692627,-14.282357215881348,-10.976632118225098,44.08631896972656,-44.45118713378906,-48.482643127441406,-19.292442321777344,18.585411071777344,50.68683624267578,-41.93489074707031,-20.07465171813965,-16.527841567993164,-41.54117202758789,14.145471572875977,-9.786216735839844,22.162925720214844,7.83007287979126,-14.330945014953613,-5.3574538230896,41.555294036865234,21.199819564819336,-51.67168426513672,-13.664069175720215,-50.47798538208008,-6.595694541931152,-30.859386444091797,10.437519073486328,-17.193885803222656,-49.604652404785156,38.722679138183594,42.69865417480469,68.78939056396484,-51.17795944213867,35.194278717041016,15.571513175964355,9.687115669250488,-3.997729778289795,-38.306793212890625,-10.841655731201172,11.302367210388184,-11.186943054199219,-0.232004314661026,-27.03133773803711,-9.727017402648926,-39.46918869018555,6.42128849029541,31.089378356933594,-51.68864822387695,-12.164243698120117,42.158721923828125,51.28290939331055,17.317466735839844,16.431615829467773,6.244176387786865,9.622673988342285,-5.733340740203857,37.117584228515625,-57.82847213745117,51.097896575927734,-15.935222625732422,3.936936616897583,-58.30026626586914,-0.15384894609451294,-55.82759094238281,14.094021797180176,-12.374080657958984,10.562215805053711,-44.312339782714844,-33.991703033447266,-15.14663028717041,-3.0122461318969727,36.862464904785156,-0.4976564645767212,34.529293060302734,3.6300806999206543,22.695589065551758,-10.400660514831543,-12.539432525634766,0.8961629867553711,-4.335289478302002,67.97946166992188,54.746368408203125,-41.85795593261719,-24.513317108154297,2.288789749145508,52.175289154052734,5.6834540367126465,18.837905883789062,5.473574638366699,-14.95804214477539,-42.09162521362305,59.39501190185547,-8.763660430908203,-11.008875846862793,36.47962188720703,16.2203369140625,24.967910766601562,-23.49232292175293,32.50615310668945,-18.507247924804688,-23.69664192199707,-12.233536720275879,50.46333694458008,7.391297340393066,-16.264892578125,27.86946678161621,-28.185752868652344,13.134820938110352,-41.46311569213867,-18.98525047302246,-14.480774879455566,1.6063495874404907,-38.50395965576172,11.279714584350586,-18.11821174621582,25.919599533081055,-11.607258796691895,-24.948110580444336,-43.87102127075195,-25.063982009887695,-11.333271026611328,-23.42584800720215,-43.9030647277832,26.676794052124023,28.907535552978516,8.335427284240723,-5.030176162719727,-25.973907470703125,-20.92860984802246,31.522480010986328,-3.349748134613037,-44.6913948059082,-42.53036117553711,53.13338851928711,26.255420684814453,0.13620786368846893,15.393017768859863,-51.79803466796875,-6.293679237365723,4.094767093658447,34.66317367553711,-50.79068374633789,-24.504032135009766,-18.86993408203125,-57.494747161865234,-37.82221221923828,-51.79539489746094,-0.11646020412445068,-18.169565200805664,41.89292526245117,5.347143173217773,5.442080020904541,2.7421045303344727,-30.301143646240234,-0.47537922859191895,-49.98334503173828,-22.99795913696289,47.19062805175781,24.090478897094727,3.5219712257385254,-1.7173633575439453,29.05278968811035,37.884361267089844,18.803377151489258,-24.407575607299805,28.292160034179688,8.910613059997559,65.27273559570312,-46.10149002075195,-45.97940444946289,-25.78547477722168,-3.3231041431427,-14.129072189331055,-16.56142234802246,27.140748977661133,-17.025148391723633,-29.38871955871582,2.866379737854004,-38.85113525390625,-8.852590560913086,-18.166975021362305,-42.70519256591797,-12.241939544677734,13.083854675292969,-12.917281150817871,-53.027435302734375,-39.658042907714844,30.011079788208008,69.5346450805664,34.067989349365234,15.584266662597656,35.212181091308594,48.71360778808594,-40.62942886352539,60.44672775268555,66.97718048095703,-8.748496055603027,46.258323669433594,-42.18837356567383,40.674888610839844,-50.03536605834961,0.7800865173339844,19.93750762939453,-19.861228942871094,26.493362426757812,20.987783432006836,15.586283683776855,-13.329207420349121,-4.232383728027344,-25.62307357788086,-45.122554779052734,25.363332748413086,14.542118072509766,-21.653810501098633,5.4630961418151855,9.30194091796875,-54.93560791015625,-16.42706871032715,55.23331069946289,35.157188415527344,47.44558334350586,27.70271110534668,6.469643592834473,41.62327575683594,24.375286102294922,4.387152194976807,-49.5789794921875,-18.099767684936523,10.66330337524414,5.200861930847168,20.286867141723633,49.09953689575195,6.1834540367126465,-25.609405517578125,35.02104187011719,47.730594635009766,-52.671241760253906,10.591318130493164,-9.776514053344727,21.48319435119629,-27.030033111572266,-5.3113884925842285,-20.797245025634766,44.320125579833984,-26.227378845214844,6.708523273468018,-6.883432865142822,-29.187849044799805,-8.815911293029785,8.947663307189941,-37.82117462158203,-43.88289260864258,-9.035456657409668,-55.21258544921875,-14.217790603637695,-12.114550590515137,-44.671844482421875,-15.32300853729248,-45.515480041503906,18.667654037475586,26.39533042907715,28.067995071411133,37.051753997802734,26.987375259399414,22.79633140563965,-10.29337215423584,-6.0540289878845215,-50.1110725402832,-29.540632247924805,23.5616397857666,52.01833724975586,2.7078542709350586,-22.953384399414062,-16.98111343383789,22.05179786682129,6.374568939208984,-45.92256546020508,-17.364850997924805,-49.402584075927734,64.93064880371094,57.97016525268555,2.5209360122680664,-18.394725799560547,1.4817086458206177,21.982030868530273,1.3516597747802734,-52.16361618041992,49.24361038208008,64.24398040771484,39.46022033691406,37.410797119140625,-24.412919998168945,55.01218032836914,22.489072799682617,56.01948928833008,69.51041412353516,27.514585494995117,-17.75689125061035,69.74082946777344,-2.2366106510162354,-50.31330871582031,-22.8652400970459,60.93645095825195,50.7202262878418,60.79560852050781,38.64625930786133,63.84443283081055,31.199304580688477,-20.81475257873535,53.05635070800781,-11.787814140319824,40.07505798339844,-13.443399429321289,44.9437141418457,-47.44013977050781,51.151058197021484,-2.4873673915863037,-50.381744384765625,-6.8925652503967285,-26.227848052978516,-1.7368831634521484,-8.00973892211914,60.14478302001953,49.152957916259766,-16.423011779785156,15.664021492004395,28.911638259887695,15.378275871276855,20.214277267456055,-29.997623443603516,-51.14724349975586,-10.553791046142578,10.716185569763184,-2.722646474838257,51.45865249633789,10.587313652038574,-8.032238006591797,17.21886444091797,33.26628875732422,28.999439239501953,19.74770164489746,-11.637421607971191,-39.93220901489258,16.698938369750977,70.97771453857422,-27.09652328491211,27.10648536682129,72.5799789428711,-57.78847885131836,26.475109100341797,-29.032196044921875,39.9185676574707,34.83681869506836,59.63555908203125,44.582664489746094,27.24620246887207,47.856529235839844,55.52024459838867,-11.335575103759766,-23.451120376586914,-18.77193832397461,-15.406813621520996,-7.094955921173096,-1.7263106107711792,-41.866943359375,14.253823280334473,27.627702713012695,-21.014650344848633,-12.031356811523438,-47.190528869628906,9.619623184204102,5.691562175750732,49.99834442138672,-5.652404308319092,3.013685703277588,8.637299537658691,4.234402656555176,30.811885833740234,-51.39052963256836,-22.022232055664062,5.5277605056762695,0.35146287083625793,15.58127212524414,2.1907174587249756,-13.972614288330078,42.6059455871582,-24.044692993164062,26.933767318725586,39.46602249145508,-32.04469680786133,-31.046606063842773,-25.819067001342773,-30.9748477935791,-13.338363647460938,14.5103120803833,-20.281057357788086,-57.44428253173828,58.42584991455078,16.115800857543945,5.682624340057373,-6.348936080932617,-13.339266777038574,-11.47857666015625,1.6662843227386475,-18.30391502380371,6.6318888664245605,11.065126419067383,-44.814483642578125,-21.934125900268555,13.767060279846191,12.535473823547363,26.351900100708008,-19.865243911743164,-39.36970520019531,61.3868522644043,-32.532379150390625,5.431453227996826,-51.286556243896484,34.445945739746094,28.226179122924805,8.455146789550781,-14.707291603088379,62.86966323852539,-10.90562915802002,-3.788529634475708,-28.911916732788086,10.87143325805664,-53.118896484375,17.742733001708984,-8.735352516174316,-4.578885078430176,-11.511268615722656,-8.788637161254883,56.64717483520508,-5.536532878875732,3.422466278076172,0.7004979252815247,-22.707427978515625,34.95838165283203,-11.29415512084961,7.265997409820557,-10.216334342956543,-22.2114200592041,40.387977600097656,-6.905200004577637,-31.29640769958496,-6.746278285980225,-51.05054473876953,46.48921203613281,-51.31736373901367,2.8860929012298584,43.63621520996094,-7.521600723266602,-4.978295803070068,52.3791389465332,23.917619705200195,-12.560005187988281,3.658961534500122,-38.480133056640625,31.997644424438477,-9.398999214172363,17.879636764526367,-36.564842224121094,52.20730209350586,33.60457229614258,0.4669627845287323,14.733694076538086,47.15461730957031,31.07282257080078,45.75437545776367,43.89707565307617,-58.15400695800781,32.1347541809082,0.6625823974609375,-29.735637664794922,-8.581674575805664,-13.839367866516113,5.988667011260986,-28.04291534423828,-17.2941837310791,24.10794448852539,-4.1951494216918945,-14.794570922851562,-50.05723190307617,-11.811165809631348,28.69405174255371,54.435577392578125,10.81213665008545,44.73920822143555,10.880436897277832,-44.63969421386719,37.179988861083984,-14.014860153198242,-12.606446266174316,-15.367268562316895,26.956920623779297,6.429335594177246,9.584793090820312,-14.766214370727539,-13.162474632263184,25.393692016601562,-57.968788146972656,-52.5641975402832,-14.244441032409668,-1.0741240978240967,-48.12582015991211,50.34510040283203,33.06033706665039,68.29485321044922,-19.17123031616211,-5.5282301902771,-51.38941192626953,27.100170135498047,28.052309036254883,-19.13105010986328,28.817787170410156,-16.155397415161133,36.1274528503418,15.334169387817383,-10.853557586669922,-8.918235778808594,-13.142556190490723,-11.060503005981445,8.524675369262695,-38.852115631103516,-36.71146011352539,10.57121753692627,43.162784576416016,56.00796890258789,-13.499695777893066,-0.2758035361766815,33.723453521728516,14.2412109375,33.65312957763672,43.71385192871094,0.05249640718102455,-58.008934020996094,-10.539236068725586,-40.853355407714844,47.83467483520508,-11.899314880371094,44.29317855834961,-18.93926429748535,-1.2745730876922607,-0.9994620680809021,30.447628021240234,50.76079559326172,-29.294546127319336,42.581966400146484,-26.201492309570312,-49.786197662353516,35.56562805175781,31.538360595703125,1.003845453262329,31.26984405517578,38.8974609375,24.138702392578125,-7.121241569519043,69.93738555908203,-10.207202911376953,6.0752363204956055,-3.9298579692840576,62.04578399658203,13.391889572143555,-42.46245193481445,-43.5619010925293,33.4442024230957,5.115785121917725,-12.488105773925781,4.629006862640381,-49.215389251708984,2.0032870769500732,0.6972575187683105,-43.64876174926758,2.1476833820343018,36.91338348388672,-5.898979663848877,-14.451004981994629,-20.06462287902832,-45.76929473876953,-39.13016128540039,-17.073579788208008,-10.568770408630371,-13.480029106140137,-19.172929763793945,-6.407163619995117,-9.413068771362305,-11.386775970458984,33.438026428222656,-27.599470138549805,-5.684491157531738,-58.22941207885742,17.968860626220703,-6.391586780548096,26.293432235717773,37.51319885253906,44.72810745239258,28.330204010009766,30.709293365478516,-15.253418922424316,-14.779240608215332,13.558809280395508,12.753067970275879,-54.31904220581055,50.620025634765625,-9.502922058105469,-5.3122100830078125,-38.66779327392578,14.498456954956055,-19.807037353515625,-8.492032051086426,66.59380340576172,-58.21492004394531,7.130716800689697,48.5588264465332,-13.762828826904297,-39.00408935546875,-47.91762161254883,-7.279863357543945,-6.850318908691406,28.427621841430664,-12.112361907958984,-39.90294647216797,-5.82159423828125,8.005545616149902,27.70029640197754,21.221702575683594,24.01436424255371,-11.03302001953125,-41.23514938354492,-46.576393127441406,18.21038055419922,-11.338976860046387,21.052709579467773,67.11770629882812,-50.00637435913086,25.667890548706055,-47.8219108581543,-9.695409774780273,-52.69522476196289,-3.2866439819335938,-46.71087646484375,24.994503021240234,-15.307104110717773,-42.049949645996094,1.8168524503707886,6.033876895904541,0.21115516126155853,-10.75374698638916,-7.003126621246338,-19.49247169494629,-4.132001876831055,52.08906555175781,-27.767690658569336,52.210445404052734,-47.603858947753906,-53.24160385131836,-30.644269943237305,48.035701751708984,-39.661354064941406,27.744403839111328,-40.88621520996094,3.3577115535736084,-3.658903121948242,-39.26133728027344,-47.286380767822266,7.381765365600586,47.582740783691406,34.91645812988281,-11.883076667785645,59.6607666015625,28.121007919311523,7.250226020812988,16.941083908081055,-5.351924419403076,70.0853500366211,0.083303302526474,-40.368343353271484,36.895660400390625,10.44446849822998,70.7508773803711,36.42338180541992,6.606061935424805,16.806154251098633,-40.27968215942383,-50.98160171508789,31.797664642333984,-18.307861328125,-15.832581520080566,-13.212773323059082,-57.864437103271484,26.969451904296875,38.35694122314453,-31.9129581451416,-41.15473556518555,33.39939880371094,-46.263275146484375,-11.107635498046875,31.28293800354004,2.7697408199310303,10.675745964050293,-9.260859489440918,-45.186893463134766,-6.662139892578125,9.569808959960938,-18.76662826538086,-57.65312194824219,42.01295852661133,-20.170795440673828,11.927871704101562,-15.728894233703613,-24.268163681030273,-17.7380428314209,67.26251220703125,1.2145525217056274,33.82224655151367,48.91982650756836,-13.79906177520752,48.16624069213867,-2.948415756225586,-5.063145637512207,34.62123489379883,-22.98775863647461,-13.332158088684082,-26.546335220336914,-49.902671813964844,-22.68900489807129,-29.650291442871094,39.389835357666016,-29.66090202331543,25.90620994567871,36.82733917236328,49.14111328125,-10.073718070983887,-43.16342544555664,-0.8828608989715576,-2.7434511184692383,46.869873046875,9.825502395629883,43.86138916015625,38.954742431640625,53.44804000854492,21.3407039642334,-7.458061695098877,19.00116729736328,-0.20346742868423462,-3.574517011642456,-16.89251136779785,-26.270442962646484,26.956783294677734,31.175186157226562,4.090874671936035,47.19119644165039,6.413515567779541,42.10555648803711,43.509490966796875,-3.7261962890625,49.99911880493164,27.28983497619629,3.6670241355895996,26.655609130859375,36.8387451171875,34.92896270751953,8.199028015136719,-5.234023094177246,-52.76961135864258,5.130815029144287,-16.365556716918945,35.490543365478516,-13.605886459350586,-13.881292343139648,1.3158107995986938,40.11383056640625,-8.895618438720703,61.84724807739258,40.91068649291992,-23.260345458984375,48.67020797729492,-18.981767654418945,60.192501068115234,21.29550552368164,-7.449604034423828,-51.488494873046875,-6.571774482727051,72.42855072021484,-14.214451789855957,7.266317367553711,-9.51027774810791,-46.15174865722656,6.474768161773682,34.67257308959961,59.059165954589844,-42.39663314819336,-55.01484680175781,-16.77530288696289,-41.28068542480469,-13.30620288848877,-39.67607498168945,-16.291671752929688,-51.773555755615234,57.721134185791016,-55.07719039916992,35.690250396728516,61.41606521606445,-32.1376838684082,-37.0550422668457,36.72554397583008,30.471906661987305,60.8441047668457,4.172892093658447,29.78923225402832,53.63494873046875,-53.14988327026367,5.054144859313965,47.116485595703125,-8.236917495727539,35.18646240234375,2.0375490188598633,-5.671072483062744,3.7668728828430176,67.70417022705078,-15.677430152893066,-4.853049278259277,52.5707893371582,5.46929407119751,-31.992177963256836,27.254674911499023,-47.8039436340332,5.070040702819824,-10.088530540466309,-6.601059913635254,37.312801361083984,-13.876445770263672,54.296409606933594,-29.642791748046875,10.136039733886719,-12.767370223999023,46.72344970703125,11.210721969604492,46.86953353881836,-31.5001277923584,-19.749229431152344,38.87202072143555,-7.6631903648376465,14.644482612609863,44.381797790527344,-2.3156251907348633,-42.60074234008789,-24.293251037597656,-18.022859573364258,-34.541812896728516,29.9854736328125,-25.403724670410156,21.105083465576172,-22.01413345336914,-57.86906814575195,-21.559005737304688,-36.52727508544922,-28.35968780517578,-4.613479137420654,-17.12308120727539,7.771451473236084,22.284250259399414,-26.750581741333008,6.5214362144470215,-39.484954833984375,2.2253031730651855,-16.998111724853516,21.13789176940918,-51.166202545166016,40.912109375,-29.29372787475586,56.11614227294922,-42.417938232421875,71.74342346191406,17.602535247802734,-15.869373321533203,-2.6299941539764404,1.3476487398147583,13.714191436767578,7.735295295715332,62.50785446166992,-15.804120063781738,-59.089935302734375,-16.137916564941406,52.765987396240234,-22.154943466186523,48.355228424072266,-20.002412796020508,6.647838115692139,3.769453525543213,22.618789672851562,-19.922916412353516,16.92329216003418,-41.199214935302734,-16.879283905029297,-53.263912200927734,1.4335399866104126,8.908040046691895,26.46365737915039,-8.524882316589355,35.81694030761719,29.297504425048828,-5.354135513305664,-3.5505893230438232,10.902312278747559,-5.170032024383545,-42.12412643432617,27.014110565185547,48.44411087036133,-30.095783233642578,-44.68168640136719,-13.5852632522583,-21.62161636352539,-51.57376480102539,37.759342193603516,-3.6694743633270264,69.21329498291016,-22.395811080932617,-25.42490577697754,-47.325557708740234,-12.341675758361816,67.11934661865234,-0.5202769041061401,-51.64042282104492,3.6635429859161377,-23.94976806640625,-30.322040557861328,-24.30377769470215,22.683530807495117,30.291587829589844,44.633975982666016,-10.402497291564941,43.41828536987305,-6.639277458190918,61.962459564208984,-3.05220627784729,7.417170524597168,-41.497222900390625,12.977832794189453,-7.807107925415039,-19.536888122558594,26.006654739379883,-42.92938232421875,-10.103866577148438,14.821172714233398,-5.02964448928833,15.27889347076416,-10.090764999389648,40.9357795715332,55.011444091796875,-12.176572799682617,-52.06172180175781,44.565162658691406,-17.94261360168457,-39.526981353759766,41.097312927246094,28.46489715576172,17.96819496154785,-38.39963150024414,-40.96539306640625,-13.87215805053711,32.61476516723633,-6.87572717666626,-2.775432825088501,-17.61343002319336,-12.119891166687012,25.791627883911133,33.93696594238281,-3.6271450519561768,34.76272964477539,59.5652961730957,-2.8485465049743652,5.822696685791016,-44.82229232788086,-29.023494720458984,-11.954591751098633,-50.53294372558594,-6.069561004638672,-9.677534103393555,-19.022174835205078,17.361671447753906,-10.031363487243652,-39.14102554321289,-25.879737854003906,9.861531257629395,-6.800830364227295,-4.302507400512695,28.184904098510742,30.2305850982666,17.41063117980957,66.85416412353516,27.707761764526367,66.478271484375,-37.751651763916016,-4.738379001617432,-0.15295864641666412,-21.96002769470215,35.8072624206543,5.405747890472412,42.013179779052734,-10.910080909729004,-42.529117584228516,-5.520224094390869,-14.462363243103027,44.67330551147461,6.194530487060547,-0.1479840725660324,-27.524385452270508,26.99936866760254,55.76222610473633,-21.292024612426758,58.45916748046875,-10.826957702636719,-40.16195297241211,-12.718535423278809,49.60787582397461,37.667057037353516,-17.009662628173828,-10.06179141998291,-44.58738327026367,4.572663307189941,-16.62245750427246,55.257164001464844,-43.18573760986328,-15.650562286376953,18.93290138244629,-7.905181407928467,-3.785156011581421,37.524810791015625,-17.64899253845215,-40.31381607055664,17.136432647705078,-24.45179557800293,-6.076819896697998,-17.701330184936523,-4.228214263916016,21.138458251953125,56.26682662963867,27.774450302124023,4.064024448394775,38.158721923828125,-54.274784088134766,9.93273639678955,-21.911664962768555,-10.615108489990234,-46.89472579956055,-52.968833923339844,-43.48528289794922,10.744970321655273,53.26405715942383,-8.010581970214844,50.6909065246582,-6.71719217300415,8.870983123779297,35.35993576049805,-51.293312072753906,-11.088324546813965,38.67051696777344,-56.06235122680664,9.98590087890625,-30.01731300354004,37.66654968261719,45.157039642333984,1.5555092096328735,-4.211584091186523,-8.325803756713867,35.53110122680664,35.34079360961914,-6.886499881744385,-5.216098308563232,8.336769104003906,-41.8988037109375,-53.593868255615234,-10.46496868133545,16.1437931060791,-6.749517440795898,4.2706618309021,-44.87006759643555,5.693504810333252,-10.627376556396484,46.36134338378906,-46.485599517822266,57.290252685546875,12.370708465576172,61.89497756958008,-4.431097984313965,42.575340270996094,41.000484466552734,-31.054515838623047,47.527618408203125,-5.200982570648193,-9.939863204956055,3.8502283096313477,-11.454039573669434,-6.167702674865723,33.56583786010742,-12.012200355529785,-9.687172889709473,43.834930419921875,16.795045852661133,-26.922344207763672,-6.693284034729004,-44.654876708984375,-16.2774600982666,16.653602600097656,-29.959306716918945,22.10999298095703,0.1493585854768753,-19.792314529418945,34.372947692871094,-59.056068420410156,73.09883117675781,-38.08515548706055,-30.15630340576172,-32.17319107055664,-12.370673179626465,40.5736083984375,-9.474797248840332,72.99348449707031,39.542503356933594,35.78700637817383,38.02240753173828,16.402957916259766,16.6458797454834,24.03607749938965,62.09758377075195,44.56990051269531,56.14448928833008,7.055809020996094,37.890716552734375,-14.205140113830566,69.21717071533203,7.629631519317627,43.5308952331543,5.687272548675537,7.485784530639648,-29.644163131713867,39.88581848144531,9.674673080444336,54.63196563720703,6.250295639038086,24.655433654785156,-6.915308952331543,-19.108280181884766,13.283023834228516,-19.045358657836914,66.97297668457031,-5.016600131988525,53.94001007080078,26.23198890686035,-7.417773723602295,19.746980667114258,-13.232742309570312,-45.937232971191406,-52.978240966796875,-5.9375433921813965,44.74124526977539,-17.66216278076172,53.808475494384766,-10.072675704956055,-1.4571187496185303,15.834237098693848,55.31597137451172,-53.51868438720703,-17.886198043823242,-38.20418167114258,-56.369571685791016,71.83403778076172,-2.9174082279205322,-52.79790496826172,-19.288389205932617,-9.26842975616455,1.666136622428894,-49.26411437988281,33.62636947631836,23.680112838745117,33.70988082885742,-21.94826889038086,-26.266178131103516,34.71402359008789,-43.01921081542969,41.18220901489258,-20.282413482666016,-45.26197052001953,8.22294807434082,42.429298400878906,49.45248794555664,-9.291964530944824,4.748330116271973,-51.351890563964844,61.61294174194336,-11.994651794433594,-4.0983967781066895,-12.89736270904541,67.83429718017578,-13.932852745056152,3.5416502952575684,17.315017700195312,68.5018081665039,-21.9863338470459,-11.645402908325195,-2.164823293685913,-1.9461652040481567,-53.188533782958984,-11.045177459716797,-4.898481369018555,17.764148712158203,-17.587860107421875,37.53415298461914,-5.090325832366943,-30.442651748657227,3.146286725997925,-7.061672210693359,48.813777923583984,6.17865514755249,12.17739200592041,12.438932418823242,33.873287200927734,-42.18849182128906,2.1229684352874756,-31.778749465942383,25.252309799194336,-6.935583591461182,5.258127212524414,33.94384765625,-4.11800479888916,-50.961944580078125,31.28337287902832,41.77384948730469,14.825723648071289,35.194252014160156,-4.170534610748291,35.435089111328125,-18.14468002319336,8.627791404724121,0.09964883327484131,25.072338104248047,-16.225753784179688,-52.54408264160156,-41.135902404785156,2.4025557041168213,24.583152770996094,-40.893306732177734,-47.24888229370117,-16.762561798095703,13.784331321716309,17.40455436706543,5.959355354309082,51.55118179321289,33.79950714111328,-53.035491943359375,33.95106506347656,50.57615280151367,-51.985164642333984,19.168659210205078,7.289383888244629,-13.114500999450684,12.338065147399902,-38.30455780029297,-4.93863582611084,-5.580440998077393,-20.022933959960938,-33.51777267456055,-46.314449310302734,-4.919813632965088,-8.897531509399414,-30.811967849731445,40.08256149291992,-12.848735809326172,-3.4898974895477295,63.53681564331055,9.512231826782227,22.952449798583984,11.116584777832031,52.6148681640625,-12.687396049499512,31.71625328063965,-2.9091930389404297,37.539459228515625,-3.9465670585632324,-4.930685043334961,10.08306884765625,59.98567581176758,8.862364768981934,-39.705230712890625,-8.586004257202148,5.648342132568359,26.836711883544922,47.52457809448242,-55.5302619934082,-44.0820426940918,-41.73213195800781,47.587379455566406,1.6552622318267822,13.967755317687988,1.530014157295227,-19.842544555664062,37.35607147216797,-7.026690483093262,-52.81889343261719,43.12226867675781,42.72376251220703,-53.16238784790039,3.2380635738372803,-59.11810302734375,-15.541351318359375,1.549042820930481,-30.02958106994629,-43.33028030395508,-2.0970733165740967,8.37354850769043,-10.214764595031738,-3.04789137840271,18.67533302307129,-42.250160217285156,-43.60530471801758,-20.064090728759766,-50.46428298950195,-23.01974105834961,-39.459659576416016,-22.013988494873047,24.927642822265625,-18.15622329711914,-53.66565704345703,-43.174957275390625,9.38083553314209,43.78724670410156,53.032161712646484,-14.58243179321289,19.768278121948242,16.175338745117188,-15.352595329284668,-7.686898708343506,-12.066232681274414,18.773578643798828,-50.064292907714844,5.57865571975708,11.336801528930664,-5.929257392883301,-46.01048278808594,-27.423349380493164,63.21794891357422,47.477333068847656,10.744122505187988,55.46498489379883,-35.35737991333008,0.7100971341133118,-11.816511154174805,33.245155334472656,-12.462916374206543,45.65030288696289,-47.93070983886719,1.4612668752670288,-22.416667938232422,6.9856719970703125,-26.209285736083984,-18.8322811126709,-40.95682144165039,-14.436240196228027,12.938152313232422,5.287358283996582,-6.678865909576416,-49.18964767456055,4.486856937408447,0.8521735668182373,35.768856048583984,-52.894962310791016,-39.00267791748047,-50.843727111816406,9.039555549621582,1.5570073127746582,-43.7602424621582,1.4800602197647095,-42.65652084350586,-25.0391845703125,51.56907653808594,35.15840530395508,2.412036895751953,55.75428771972656,66.74657440185547,32.272403717041016,47.3192138671875,1.1684662103652954,39.129947662353516,-53.621673583984375,16.89913558959961,-43.00562286376953,-12.644026756286621,9.018717765808105,13.778712272644043,-37.445701599121094,-18.24624252319336,31.83074951171875,13.459118843078613,34.58811569213867,-11.13945484161377,-17.08306884765625,-46.99053955078125,-51.2770881652832,4.926828861236572,4.117843151092529,-18.852434158325195,36.35348892211914,58.4327278137207,9.357500076293945,-38.81294250488281,-56.48247146606445,-0.7426020503044128,-16.65471839904785,17.973682403564453,-50.74631881713867,-16.741344451904297,-19.45401382446289,-11.970056533813477,46.3120002746582,-12.90427303314209,-20.864768981933594,-44.37874984741211,-6.3298468589782715,-48.09969711303711,36.5897216796875,-51.86936569213867,-7.680364608764648,10.79354190826416,8.90293025970459],\"xaxis\":\"x\",\"y\":[16.849468231201172,-39.35288619995117,-26.779863357543945,-16.57244873046875,-51.652347564697266,-45.553890228271484,-59.78036117553711,26.947105407714844,-37.9925651550293,-61.024391174316406,31.621095657348633,12.32563591003418,-8.740864753723145,13.259099960327148,46.34122848510742,49.33420181274414,-1.5681300163269043,31.32524299621582,-0.5219607353210449,31.05099105834961,-4.900346755981445,-42.21849822998047,-15.200822830200195,23.713415145874023,-10.49339485168457,6.335657596588135,-55.75584411621094,-46.270206451416016,-53.44953536987305,-0.6630523204803467,3.3434555530548096,6.324250221252441,40.47798156738281,-36.71818542480469,-16.707368850708008,45.63642120361328,-3.5935440063476562,-54.07590103149414,-7.787858009338379,3.32124400138855,-5.005002498626709,-18.404640197753906,-7.2841901779174805,-1.3430051803588867,-59.02432632446289,-14.94614315032959,-64.72234344482422,-13.885003089904785,-22.729856491088867,47.329219818115234,12.130888938903809,-1.39811372756958,-42.420230865478516,-11.985513687133789,12.819267272949219,-21.544921875,-9.219650268554688,-16.859390258789062,46.68903350830078,-48.33587646484375,-21.78243637084961,-12.755111694335938,-23.673315048217773,-58.36170196533203,19.56034278869629,11.739457130432129,33.07615280151367,16.945878982543945,-46.745513916015625,72.32577514648438,-48.021671295166016,-43.11371612548828,-17.6580810546875,-0.18274134397506714,-42.686859130859375,14.833436965942383,-28.298999786376953,-15.590795516967773,44.98125076293945,-13.752608299255371,-45.78105545043945,15.319092750549316,7.581265449523926,44.94511032104492,13.214119911193848,14.272995948791504,-15.595878601074219,-59.00828170776367,-19.85163116455078,-8.026601791381836,-17.220657348632812,-16.12237548828125,22.066143035888672,-11.151995658874512,7.714347839355469,6.365349292755127,-36.22927474975586,20.58327293395996,-64.54641723632812,-16.112276077270508,49.91069030761719,51.13096618652344,6.757929801940918,23.60550308227539,5.913430213928223,-8.770065307617188,-59.0235710144043,35.73274230957031,15.055032730102539,-40.36956787109375,49.986900329589844,-4.430575847625732,-11.074685096740723,24.4652042388916,-10.3142671585083,9.284968376159668,2.454744577407837,6.3494720458984375,-3.8104729652404785,45.56187057495117,25.95954704284668,-58.763427734375,-55.65839767456055,15.063002586364746,18.132816314697266,6.603506088256836,-17.398414611816406,-1.8459898233413696,18.697494506835938,-40.06382751464844,-17.137983322143555,33.49250793457031,-36.23366165161133,-60.26582717895508,-12.190932273864746,49.694793701171875,-24.85308837890625,0.3109050393104553,-15.869873046875,30.909700393676758,-32.47475814819336,32.20209503173828,-5.369520664215088,21.93783950805664,30.893829345703125,-11.264409065246582,-0.4629269242286682,-46.81134796142578,3.534867763519287,-11.443403244018555,-0.5599884986877441,4.650625228881836,-19.938188552856445,30.73499870300293,-64.52806854248047,-25.557741165161133,-63.80451202392578,25.127267837524414,15.294288635253906,-4.799997806549072,-67.3735580444336,23.641237258911133,-16.45022964477539,-3.145453691482544,5.7288737297058105,-40.23149490356445,6.693681240081787,4.875685214996338,-21.986452102661133,8.567124366760254,-32.56437301635742,-21.757596969604492,49.69911575317383,-0.8259238004684448,-14.095128059387207,11.938796997070312,0.4854143261909485,-14.01732349395752,12.00710391998291,-6.639577865600586,-22.23061180114746,-28.38920021057129,4.710123538970947,-45.72142028808594,-7.422791957855225,-28.040706634521484,-17.26888656616211,31.201589584350586,25.103099822998047,25.05078125,-64.3880615234375,-16.548307418823242,24.08114242553711,44.2619514465332,41.49277114868164,-65.2483139038086,21.211442947387695,-16.677104949951172,17.298063278198242,-12.416956901550293,12.671635627746582,17.267263412475586,27.4001407623291,-48.939823150634766,-10.178362846374512,-47.555824279785156,50.740394592285156,-15.945969581604004,-47.81444549560547,13.83552360534668,-14.626856803894043,39.64561080932617,-52.520233154296875,13.561346054077148,31.208786010742188,-21.863679885864258,25.116397857666016,23.328859329223633,29.596149444580078,28.155988693237305,12.73564624786377,39.4709358215332,-22.747648239135742,-21.448396682739258,-18.487220764160156,-17.921005249023438,-12.7617826461792,4.542572975158691,-59.762630462646484,4.241221904754639,3.1283822059631348,-7.152688980102539,-45.40842819213867,-49.40449142456055,-49.63473129272461,6.929577350616455,52.84479522705078,2.2568461894989014,12.631210327148438,11.409631729125977,24.512287139892578,8.865192413330078,-16.31902313232422,-18.95452117919922,-8.951848030090332,14.235679626464844,22.34111785888672,-14.137001991271973,-12.499323844909668,-47.470306396484375,4.834212303161621,-38.18162155151367,-51.14285659790039,-16.61379051208496,-20.494962692260742,-7.719053745269775,25.363792419433594,9.023098945617676,-45.0942268371582,45.537109375,-13.65047550201416,-12.441104888916016,29.183879852294922,42.70267105102539,-22.538789749145508,6.47685432434082,17.440128326416016,45.48832702636719,-54.879390716552734,0.3290058672428131,25.450733184814453,-58.61579132080078,6.531450271606445,8.678818702697754,-41.35891342163086,49.28578186035156,-29.505395889282227,-47.73204040527344,6.627030849456787,12.797100067138672,-1.8873127698898315,-7.899279594421387,-66.86612701416016,-0.43450313806533813,-6.871597766876221,-3.68234920501709,-59.37335205078125,-23.011539459228516,21.967025756835938,13.777335166931152,-35.280033111572266,12.722599029541016,-41.99420928955078,-13.225597381591797,15.411580085754395,46.5007438659668,8.732894897460938,12.894734382629395,32.68709182739258,17.541303634643555,-13.10622787475586,9.36021900177002,15.137372970581055,28.609115600585938,-19.561574935913086,23.672494888305664,7.6398234367370605,-23.004959106445312,29.509138107299805,18.370141983032227,-1.3709666728973389,-67.45664978027344,44.888389587402344,-17.662160873413086,-10.31255054473877,-1.9825915098190308,17.485008239746094,-41.880767822265625,7.3792219161987305,-60.97813034057617,-13.274120330810547,45.06808853149414,50.03167724609375,-15.422619819641113,-15.360929489135742,0.18255427479743958,-22.157114028930664,0.2266129106283188,10.11449146270752,-44.67131423950195,44.84165954589844,-13.623976707458496,-25.475080490112305,20.671710968017578,22.943647384643555,-15.485271453857422,16.591264724731445,-13.332525253295898,-9.100275039672852,-12.198963165283203,-59.63197326660156,-18.405681610107422,-64.04035186767578,5.978666305541992,-67.15399932861328,31.415130615234375,-9.590965270996094,12.893407821655273,-54.60091781616211,-45.61188507080078,-39.294708251953125,18.39192008972168,-18.63869857788086,-9.597586631774902,-1.1772867441177368,-13.483372688293457,16.198396682739258,32.47404479980469,-64.2209701538086,-16.219682693481445,8.385188102722168,19.994619369506836,20.678760528564453,13.42215633392334,-12.12321662902832,19.68503189086914,39.931819915771484,13.001130104064941,-66.34758758544922,-21.767353057861328,24.45895004272461,14.205806732177734,25.232471466064453,-17.806346893310547,15.187274932861328,23.12238121032715,69.58132934570312,-46.56174087524414,21.16172981262207,47.57718276977539,-28.257217407226562,-49.85355758666992,73.67926025390625,13.607343673706055,-14.458185195922852,4.45817756652832,50.38023376464844,33.12311935424805,17.006092071533203,-12.821194648742676,-7.996661186218262,-3.4162495136260986,-57.87123489379883,-23.213130950927734,-27.540748596191406,-46.25069046020508,44.128173828125,30.503293991088867,24.623809814453125,-2.9918265342712402,-48.912174224853516,26.08056640625,14.213953018188477,-12.49444580078125,-0.9674813747406006,23.665616989135742,72.39125061035156,24.179214477539062,-9.151765823364258,42.737831115722656,-2.156888484954834,10.976616859436035,10.122296333312988,-0.3058576285839081,-67.73210144042969,70.20613861083984,9.645753860473633,-51.54778289794922,-12.706974983215332,8.957016944885254,70.03046417236328,9.790746688842773,-45.70523452758789,12.1931791305542,-43.61566925048828,33.520835876464844,29.19583511352539,43.102516174316406,25.82474708557129,-49.218563079833984,-3.8021061420440674,18.883182525634766,-39.575923919677734,-1.635170340538025,-4.581719398498535,30.997875213623047,16.813007354736328,27.845752716064453,-38.1268196105957,6.082018852233887,2.5713229179382324,71.79581451416016,14.45412540435791,-10.05180835723877,-9.708989143371582,-48.05818176269531,-18.41684341430664,-32.40528869628906,-41.15750503540039,-35.10289764404297,43.53874588012695,12.763663291931152,21.672014236450195,0.9865635633468628,22.483978271484375,14.724658966064453,-18.32370376586914,-13.974952697753906,18.20975112915039,5.3648681640625,-48.072776794433594,14.346169471740723,22.96351432800293,-5.155883312225342,51.224517822265625,-39.978187561035156,18.175745010375977,13.344830513000488,-6.673627853393555,-9.71463680267334,20.759374618530273,-21.646080017089844,-42.51401901245117,-24.214988708496094,17.265485763549805,46.848731994628906,-44.782161712646484,16.662212371826172,-13.89266586303711,26.306102752685547,17.97197723388672,-51.86479949951172,-9.26395320892334,10.590985298156738,12.123942375183105,-44.109092712402344,32.49184036254883,-60.4521484375,70.70906829833984,-52.14613723754883,10.136953353881836,-22.921831130981445,70.65929412841797,-3.8118016719818115,12.201447486877441,-43.78861999511719,12.274291038513184,12.370403289794922,-19.472763061523438,-1.4162073135375977,9.072680473327637,-54.966312408447266,-3.822222948074341,-29.31954002380371,18.20821762084961,13.23822021484375,69.25735473632812,-16.20939826965332,72.13099670410156,-19.13018226623535,-15.573881149291992,-31.351926803588867,45.641258239746094,0.7722454071044922,-63.282691955566406,4.8552751541137695,-12.886675834655762,1.0691823959350586,-2.8465466499328613,-13.439202308654785,-47.512210845947266,-5.575829029083252,25.78529167175293,-24.7426700592041,-42.97834396362305,-31.0843505859375,-21.999835968017578,14.957510948181152,35.718624114990234,-37.46056365966797,-14.136226654052734,12.283647537231445,8.99443531036377,53.0997314453125,-3.1391656398773193,19.610734939575195,-21.91549301147461,-4.200243949890137,-5.375061511993408,-66.88218688964844,-1.8295048475265503,22.214767456054688,20.509965896606445,-48.928104400634766,-54.371925354003906,-68.01142120361328,12.804706573486328,24.5025634765625,26.56421661376953,13.283143997192383,21.178550720214844,-37.10567092895508,10.242563247680664,50.24021530151367,45.55218505859375,-57.83824920654297,-9.553200721740723,51.928184509277344,20.00238037109375,47.826934814453125,15.702118873596191,-47.733585357666016,-54.68114471435547,-0.0006025747861713171,46.01128387451172,-37.74020767211914,26.98897933959961,10.165438652038574,15.879640579223633,16.539216995239258,73.38628387451172,10.153499603271484,24.629356384277344,14.442891120910645,11.509921073913574,23.222190856933594,-20.78423500061035,-5.548228740692139,50.76810073852539,31.613473892211914,9.041363716125488,11.273345947265625,-66.28909301757812,-20.89728546142578,19.865036010742188,32.253448486328125,-67.78787994384766,-7.753232955932617,-14.992321014404297,-12.388999938964844,-56.1218376159668,10.984540939331055,1.0361303091049194,-35.50724792480469,-19.726465225219727,9.9423189163208,-0.4565761089324951,-65.90177917480469,9.040423393249512,18.70868682861328,-52.17430114746094,-13.517950057983398,-27.773588180541992,-44.508663177490234,-16.451156616210938,-10.138355255126953,-46.51065444946289,-20.557462692260742,12.57699966430664,24.544418334960938,27.901416778564453,-59.45174789428711,6.152695178985596,-8.265605926513672,-14.123477935791016,-12.0949125289917,-9.660455703735352,-26.048696517944336,-60.300254821777344,22.10114097595215,31.75655174255371,43.579524993896484,24.370203018188477,14.051352500915527,69.81973266601562,-5.945799827575684,-10.98867130279541,-7.837496280670166,49.16590881347656,-17.021760940551758,-5.381590366363525,-17.911279678344727,-10.730338096618652,-12.254744529724121,-64.98240661621094,6.586371898651123,-12.752617835998535,-37.52717971801758,3.847550392150879,42.00115203857422,-67.51113891601562,-45.30305862426758,-16.76699447631836,14.282785415649414,44.63214111328125,-10.12693977355957,14.952138900756836,17.482669830322266,-41.52797317504883,-7.6316938400268555,-35.034019470214844,21.432783126831055,33.273048400878906,5.533226013183594,-64.4438247680664,3.50996470451355,14.0291166305542,15.455711364746094,16.390281677246094,-0.48671412467956543,2.549910545349121,9.292291641235352,-65.01806640625,11.976020812988281,5.081172943115234,-37.22759246826172,-58.528053283691406,-35.34968566894531,-47.587860107421875,-46.389732360839844,-48.648685455322266,10.005704879760742,13.520055770874023,-42.97947692871094,-20.242977142333984,3.7530951499938965,-34.89718246459961,23.290319442749023,15.645533561706543,-18.553319931030273,-45.376407623291016,-53.23469161987305,44.6259651184082,44.721187591552734,21.241409301757812,20.063695907592773,-46.55171203613281,8.262190818786621,-17.113245010375977,0.39990442991256714,34.75807189941406,-18.629398345947266,30.22422981262207,16.25532341003418,24.415231704711914,22.528392791748047,17.685958862304688,29.552337646484375,50.78654098510742,31.56991195678711,3.0187323093414307,14.567262649536133,72.81148529052734,15.109428405761719,20.000486373901367,-4.727596282958984,-38.69866180419922,-16.43758773803711,5.227077960968018,17.86077880859375,16.115642547607422,2.7028303146362305,-4.221883296966553,22.228271484375,13.007070541381836,7.719230651855469,-18.444942474365234,-16.10948944091797,-44.15781784057617,-36.435333251953125,31.712121963500977,5.9139814376831055,-18.658159255981445,50.07809829711914,3.9131405353546143,18.458717346191406,-17.485994338989258,-20.649261474609375,-64.9452896118164,50.41120529174805,33.119258880615234,32.71023178100586,-48.803714752197266,30.649791717529297,-5.372101783752441,18.778852462768555,-11.835732460021973,-0.9187679290771484,-1.161749243736267,18.193397521972656,47.87882614135742,1.4743760824203491,20.889493942260742,-40.888816833496094,-0.05313190445303917,7.09841251373291,7.160249710083008,-1.3816742897033691,9.59561824798584,29.473384857177734,51.240108489990234,7.422103404998779,27.72679901123047,17.188779830932617,-13.974124908447266,47.4948616027832,22.429931640625,33.15879821777344,-5.0884552001953125,71.84034729003906,-65.34534454345703,3.8689234256744385,-9.444836616516113,5.3118391036987305,-23.970182418823242,50.174583435058594,0.2452392280101776,19.95430564880371,43.044044494628906,-12.487388610839844,13.056378364562988,9.528180122375488,14.107410430908203,-51.96537780761719,-20.746030807495117,26.053911209106445,-39.94739532470703,73.80357360839844,-3.8168914318084717,50.98712921142578,33.5505256652832,-22.278236389160156,-44.052711486816406,-7.139328479766846,-4.397744178771973,12.667593955993652,-8.486753463745117,17.475984573364258,31.15169906616211,-4.809098243713379,-15.666781425476074,-38.527164459228516,-57.41994857788086,-12.535225868225098,-66.06693267822266,-60.852935791015625,-3.7043097019195557,46.03021240234375,-30.26163673400879,-15.0360689163208,-42.17327117919922,12.13697338104248,-18.221403121948242,-7.3489227294921875,11.072549819946289,-56.646949768066406,2.1380248069763184,-9.055425643920898,-31.465261459350586,15.387898445129395,-3.95603346824646,-55.23602294921875,23.371013641357422,24.09571075439453,-59.684051513671875,-4.262618541717529,-61.2231559753418,-54.6770133972168,24.699342727661133,44.845149993896484,12.233320236206055,17.13446807861328,12.255631446838379,14.113289833068848,15.72193717956543,19.267518997192383,15.598527908325195,-17.718427658081055,-7.647624492645264,11.892898559570312,-64.17742156982422,9.218911170959473,28.7220516204834,51.32931900024414,-17.14558219909668,-15.53663158416748,46.537940979003906,-13.350255966186523,-65.17626190185547,11.880169868469238,40.97182083129883,-14.444313049316406,28.066133499145508,51.44706726074219,6.199284553527832,-16.45864486694336,-17.685710906982422,17.99454116821289,-15.635743141174316,15.199177742004395,5.990787029266357,44.70377731323242,23.83391761779785,-67.61068725585938,42.1014404296875,-56.42530059814453,6.715785980224609,44.5616455078125,-0.4300942122936249,-12.822083473205566,-13.19692611694336,15.44416332244873,-28.214460372924805,43.740882873535156,27.686716079711914,-37.678279876708984,24.78067398071289,-67.27189636230469,8.810824394226074,15.528961181640625,-23.028236389160156,-6.554902076721191,-57.859230041503906,-4.4067535400390625,-7.056129455566406,27.260637283325195,-15.93831729888916,5.336709976196289,-11.779428482055664,-4.826104640960693,-66.68574523925781,44.53480529785156,-9.023375511169434,-4.050938129425049,-18.455183029174805,29.91470718383789,15.214166641235352,-62.623931884765625,-69.47710418701172,71.74826049804688,-35.5499267578125,14.20065975189209,-16.12333869934082,14.619413375854492,13.4869966506958,-13.360102653503418,-12.4877347946167,-45.30760192871094,-44.027305603027344,48.62274932861328,-20.859468460083008,-69.4017333984375,-47.658138275146484,28.986865997314453,12.186003684997559,33.30984878540039,8.279237747192383,23.692033767700195,17.72209930419922,9.079276084899902,-18.37067985534668,-19.464679718017578,-54.04983901977539,-13.8071928024292,51.33449935913086,-9.5648832321167,8.093493461608887,24.510061264038086,16.76786994934082,46.13587188720703,-17.058530807495117,-12.650751113891602,-20.124834060668945,-1.123301386833191,-18.898365020751953,-66.83795166015625,-3.3284926414489746,-13.083358764648438,50.94078063964844,24.57109832763672,15.721112251281738,9.637301445007324,28.316425323486328,10.748912811279297,15.527548789978027,10.35030746459961,-70.3145523071289,5.600674152374268,17.439058303833008,15.189970016479492,-54.602020263671875,-29.65242576599121,31.651596069335938,-13.521145820617676,5.82094144821167,22.60369873046875,-27.174072265625,25.179779052734375,44.40229415893555,29.254817962646484,-15.451278686523438,9.810063362121582,23.539871215820312,-47.31051254272461,22.222421646118164,47.54786682128906,-3.9163477420806885,18.199443817138672,72.37763214111328,25.258197784423828,18.319116592407227,13.788482666015625,-19.004682540893555,23.843435287475586,38.610931396484375,26.890512466430664,4.267808437347412,2.582045793533325,-58.28068923950195,23.083343505859375,14.521063804626465,12.049041748046875,-44.46141052246094,-42.99208450317383,33.19111251831055,8.466607093811035,-66.75802612304688,-46.056488037109375,49.33490753173828,15.192435264587402,4.8217453956604,-2.23028826713562,4.137325286865234,17.4399356842041,3.1200249195098877,19.819843292236328,-15.788308143615723,-1.8970762491226196,-29.37095069885254,31.892314910888672,-28.559965133666992,16.41046714782715,5.424733638763428,-4.836346626281738,-38.163490295410156,31.893386840820312,1.0001286268234253,-5.689144134521484,23.845529556274414,-12.603666305541992,25.68496322631836,34.447959899902344,26.103422164916992,-48.394649505615234,-64.35657501220703,21.28571128845215,12.87575626373291,-47.461402893066406,-19.75510025024414,-7.329888820648193,-53.04012680053711,-12.339451789855957,-57.9893684387207,-65.53780364990234,68.97274017333984,24.44989013671875,-11.799311637878418,-3.664680242538452,46.32255172729492,-10.247881889343262,16.629608154296875,3.7924935817718506,-18.768510818481445,5.415112018585205,-10.068130493164062,-67.45181274414062,2.473330020904541,-17.381717681884766,-14.863886833190918,13.973943710327148,16.633092880249023,-3.6419177055358887,10.55221939086914,14.384147644042969,15.558257102966309,20.580333709716797,49.45350646972656,-19.544910430908203,-15.710165977478027,13.254210472106934,-23.228422164916992,-17.81540298461914,-6.289743900299072,32.19062423706055,-18.34376335144043,3.6364691257476807,16.904888153076172,51.187042236328125,12.508008003234863,-57.409912109375,-12.462937355041504,-11.514506340026855,37.050777435302734,-65.01441955566406,72.05162048339844,44.17359924316406,-11.061807632446289,-12.141775131225586,-45.36810302734375,0.26446613669395447,7.079195499420166,-10.285955429077148,-7.989109039306641,19.632780075073242,-42.62336730957031,-27.316268920898438,-1.3164830207824707,15.392043113708496,25.408954620361328,-41.4919548034668,-66.030517578125,-0.24083462357521057,28.81709098815918,32.61239242553711,48.396366119384766,-20.11796760559082,31.68792152404785,27.993507385253906,16.21761703491211,23.40192413330078,-52.46968078613281,6.764498233795166,22.902450561523438,-16.837997436523438,-65.17672729492188,-28.710386276245117,-18.46735382080078,-38.008544921875,15.331914901733398,-28.946144104003906,-66.3683853149414,-45.69070053100586,-20.29754066467285,-30.241594314575195,-2.666177749633789,34.98390197753906,-17.66101837158203,10.60466480255127,-55.560123443603516,12.858346939086914,4.4261274337768555,-53.663455963134766,-10.968539237976074,24.60959815979004,33.218082427978516,-11.790624618530273,-45.25071716308594,5.3465166091918945,0.6867812275886536,-14.91639232635498,22.852863311767578,18.612579345703125,-47.29210662841797,4.6850666999816895,-0.12293274700641632,20.23937225341797,19.215106964111328,-22.34076690673828,73.19662475585938,-39.73482131958008,13.420103073120117,1.6235315799713135,-35.911739349365234,-12.93405532836914,25.98975944519043,4.183055400848389,6.603509426116943,-11.626753807067871,-16.74785614013672,28.89324951171875,48.785316467285156,0.9169660806655884,-16.921415328979492,-7.401980400085449,-67.76423645019531,0.4521799385547638,5.417688369750977,40.43157196044922,14.883875846862793,17.32244110107422,32.505775451660156,-9.147368431091309,14.528331756591797,9.653578758239746,32.28302764892578,12.666459083557129,70.44825744628906,15.824395179748535,-5.695603370666504,23.25389289855957,-12.00890064239502,-60.563289642333984,-20.872970581054688,29.005361557006836,-64.49523162841797,-14.741455078125,21.220853805541992,23.580013275146484,0.729415237903595,-13.042142868041992,17.046905517578125,21.88335609436035,23.190406799316406,-2.308955430984497,-39.31835174560547,25.175962448120117,4.639881134033203,44.89735794067383,45.51092529296875,49.665096282958984,-14.388689041137695,-67.61073303222656,-14.544282913208008,18.30309295654297,13.150701522827148,-68.25328826904297,31.39645767211914,1.501848578453064,14.665789604187012,19.327573776245117,-44.984901428222656,37.09302520751953,19.915550231933594,-26.534299850463867,6.689655780792236,19.30262565612793,-10.487957954406738,-18.493244171142578,13.11414623260498,15.039292335510254,73.7652587890625,9.986539840698242,3.9161579608917236,27.89613151550293,-11.95876407623291,10.763521194458008,-38.23868179321289,29.888715744018555,29.478206634521484,73.177978515625,-19.507125854492188,-37.64931106567383,18.22203254699707,-17.358966827392578,30.995141983032227,49.49142837524414,71.8387222290039,17.87128257751465,29.36792755126953,15.286892890930176,44.44379806518555,2.1212148666381836,7.269968032836914,1.9066146612167358,-14.089641571044922,4.505253314971924,-54.007179260253906,32.98203659057617,-8.277609825134277,-8.452692031860352,-13.887807846069336,8.80246639251709,6.794651031494141,12.886920928955078,25.570634841918945,27.71395492553711,-13.51793098449707,9.819225311279297,7.485605239868164,-8.832234382629395,-44.49162673950195,-44.417232513427734,71.49063873291016,31.43743133544922,28.77358055114746,-6.220642566680908,-45.605037689208984,-12.224651336669922,-22.06234359741211,-8.958647727966309,-2.836458206176758,-16.665695190429688,-4.702200889587402,-11.593318939208984,-43.764251708984375,30.202823638916016,-67.63874816894531,-67.08841705322266,-17.03875160217285,14.368033409118652,-58.818904876708984,-6.011410713195801,-10.06031322479248,49.74002456665039,-10.513724327087402,5.931035041809082,-66.6254653930664,13.163491249084473,-8.868237495422363,-47.11336135864258,18.209911346435547,-14.942436218261719,-12.46459674835205,12.871478080749512,-20.759925842285156,-44.56204605102539,33.139671325683594,-54.22725296020508,-23.019289016723633,-17.242698669433594,25.889646530151367,-0.6126589179039001,-19.91786766052246,-0.8433058857917786,-21.43329429626465,-4.1266937255859375,-9.39893627166748,-17.256675720214844,-9.479784965515137,-16.513654708862305,4.623993873596191,9.433731079101562,-20.039579391479492,-9.349218368530273,29.492198944091797,11.590829849243164,-45.4683723449707,-23.544845581054688,46.575008392333984,-18.55628204345703,0.18889418244361877,-5.1500678062438965,-56.84891891479492,5.647854328155518,-34.70109176635742,12.956282615661621,-11.75229549407959,11.85004711151123,1.7930915355682373,-45.251495361328125,-14.239250183105469,4.391088962554932,-12.163126945495605,-25.94622802734375,-56.866180419921875,21.647363662719727,44.576053619384766,-13.133194923400879,3.016050100326538,12.87333869934082,-59.4579963684082,25.544418334960938,-62.48700714111328,-11.885509490966797,0.5560355186462402,47.66581726074219,16.67608642578125,14.605962753295898,19.576276779174805,18.84529685974121,-4.680198669433594,32.36993408203125,-60.1121711730957,15.323334693908691,-8.383288383483887,10.778203964233398,25.643840789794922,3.619187831878662,19.668657302856445,-44.42912673950195,-14.39317798614502,24.59075355529785,29.13718605041504,-9.007240295410156,-34.9828987121582,26.936735153198242,-21.308856964111328,22.09942626953125,-1.1802380084991455,-13.360678672790527,-45.09243392944336,15.605208396911621,-41.77234649658203,22.570384979248047,21.305553436279297,28.107866287231445,0.44724634289741516,-6.638119220733643,17.803869247436523,51.171409606933594,-40.56161117553711,-6.942917823791504,9.396409034729004,-38.168617248535156,12.499759674072266,-41.899436950683594,-3.636608123779297,-15.872570991516113,-15.331711769104004,74.3262939453125,-35.694610595703125,-45.497684478759766,-4.693970680236816,-39.90260314941406,32.99979782104492,-28.33248519897461,22.30674934387207,33.94761276245117,7.418883323669434,-1.1332621574401855,11.846551895141602,-0.38651227951049805,44.65736389160156,50.75519561767578,-20.52425193786621,-15.38124942779541,-62.628353118896484,-2.0168955326080322,-13.861434936523438,-4.27353048324585,-32.79454803466797,31.979116439819336,-35.32634353637695,25.451492309570312,-20.570560455322266,28.298194885253906,-15.379173278808594,-16.59956169128418,6.283054351806641,12.024075508117676,47.01935577392578,23.156749725341797,26.237634658813477,16.437000274658203,-18.657695770263672,-31.060348510742188,-45.842403411865234,10.642756462097168,-49.10969543457031,11.861262321472168,-62.5916633605957,-59.80463790893555,-5.088274955749512,11.982362747192383,17.306514739990234,25.624433517456055,19.503387451171875,-19.956275939941406,6.5739569664001465,-64.21808624267578,11.639485359191895,-3.9416403770446777,-12.345861434936523,-1.8565174341201782,-17.542375564575195,7.5227251052856445,32.818599700927734,-11.335693359375,-1.6614363193511963,-46.30121994018555,-14.233903884887695,-14.398538589477539,-64.04966735839844,-65.97482299804688,-30.54532241821289,6.016855239868164,-17.199045181274414,-16.005949020385742,28.654096603393555,-15.24701976776123,-58.56156539916992,46.65699768066406,27.273761749267578,-17.179691314697266,-37.65242004394531,22.67987060546875,-1.9646204710006714,25.711223602294922,14.887351036071777,73.20315551757812,-3.427844524383545,-37.43215560913086,22.754173278808594,45.17997741699219,32.77374267578125,-62.56438064575195,26.298002243041992,31.194265365600586,33.664859771728516,21.111051559448242,0.08024702221155167,-23.269798278808594,72.99441528320312,26.571256637573242,5.2186808586120605,-46.29236602783203,-0.3731095492839813,-46.17839431762695,-48.65812301635742,0.5720937252044678,-18.011198043823242,29.741321563720703,-12.661903381347656,44.777099609375,-18.989013671875,-23.353172302246094,9.67724323272705,-16.407751083374023,25.183197021484375,-19.377044677734375,9.072614669799805,-31.336700439453125,30.42576026916504,-8.51363468170166,9.637173652648926,-17.911794662475586,2.8363709449768066,32.97195053100586,-5.587854862213135,24.089210510253906,-54.92858123779297,10.091655731201172,-65.35408782958984,9.82494831085205,-17.442777633666992,-10.04533863067627,-18.102819442749023,-4.7224225997924805,-8.323237419128418,-19.383636474609375,50.7287712097168,13.966946601867676,23.237895965576172,-1.2269072532653809,22.30426025390625,-12.729761123657227,44.984657287597656,17.201923370361328,14.339678764343262,16.96976089477539,-20.315208435058594,0.9050024747848511,-15.424860954284668,-14.801756858825684,24.02983856201172,24.684669494628906,30.18778419494629,22.594823837280273,-16.119657516479492,5.557052135467529,15.921085357666016,-11.837244987487793,-9.86346435546875,-29.94997215270996,-0.6693469882011414,-19.599613189697266,-45.332969665527344,-6.601687908172607,-9.801058769226074,73.1457290649414,-6.865660190582275,27.965444564819336,-37.43818283081055,13.98056411743164,-15.091933250427246,-3.26595401763916,-40.28480529785156,32.807315826416016,-48.88798141479492,10.453145980834961,10.74370002746582,-50.638797760009766,13.751446723937988,52.5857048034668,-32.04591751098633,28.49903678894043,-17.360565185546875,-66.79632568359375,47.96517562866211,51.680023193359375,31.492687225341797,8.09185791015625,14.32021713256836,31.36036491394043,9.321592330932617,-12.563130378723145,-1.1320298910140991,-48.75366973876953,-65.78079986572266,-18.446575164794922,-47.49889373779297,-15.864141464233398,11.556966781616211,11.684671401977539,-18.886173248291016,-3.9668209552764893,19.825847625732422,14.677144050598145,-56.596519470214844,9.065793991088867,-8.135939598083496,-20.824806213378906,-8.906566619873047,-14.999002456665039,44.559513092041016,-3.9702351093292236,-1.3111023902893066,25.395662307739258,20.46062469482422,51.247615814208984,9.691207885742188,4.795860767364502,9.740059852600098,-16.05359649658203,39.09861373901367,-8.499448776245117,16.10506248474121,75.15309143066406,-13.990242004394531,-4.489103317260742,-40.58971405029297,16.220516204833984,-39.51685333251953,-4.671205043792725,13.716116905212402,-18.62169647216797,26.520185470581055,74.2466049194336,21.092546463012695,12.58700942993164,-38.334022521972656,1.1195356845855713,-62.68056869506836,-9.641839981079102,40.105228424072266,33.465702056884766,30.278858184814453,11.575799942016602,25.296855926513672,-2.0798628330230713,38.25607681274414,-63.551025390625,20.555339813232422,-3.6239960193634033,-10.757684707641602,-25.710886001586914,-47.028404235839844,-16.970195770263672,-13.621136665344238,49.81855773925781,16.80995750427246,-35.24569320678711,-13.684565544128418,-16.22373390197754,5.035971641540527,20.476076126098633,-1.7772133350372314,50.28014373779297,-23.270214080810547,21.616464614868164,19.278657913208008,-48.132999420166016,20.89238166809082,0.614447295665741,8.039344787597656,-19.028621673583984,73.9418716430664,-59.011375427246094,-57.76956558227539,-9.596295356750488,27.889759063720703,38.849979400634766,-14.619868278503418,48.097938537597656,15.336282730102539,-54.9180908203125,-12.81672477722168,14.857734680175781,-39.36454772949219,-8.7239351272583,15.840231895446777,-8.483145713806152,-61.7343864440918,20.44145393371582,25.447193145751953,-5.22437858581543,-35.318626403808594,-29.412548065185547,40.40922546386719,-19.058244705200195,10.050959587097168,-46.97111892700195,-12.822408676147461,-10.165617942810059,75.33712768554688,32.83369064331055,-13.36324405670166,-0.9514391422271729,19.7619686126709,-38.8267936706543,-12.393129348754883,-19.432771682739258,51.43092346191406,-22.88762092590332,-11.588293075561523,11.665545463562012,4.915907382965088,25.40461540222168,40.18802261352539,6.23185920715332,-49.11282730102539,-33.16921615600586,-64.61087799072266,46.88914489746094,-67.2763442993164,17.57002067565918,-12.006415367126465,42.08794403076172,28.2628116607666,45.349205017089844,9.13032054901123,-17.767358779907227,18.97785186767578,0.4873117506504059,-3.723163604736328,74.14940643310547,-30.573442459106445,-11.13847827911377,-26.094728469848633,7.502649307250977,49.17967224121094,-31.197166442871094,-64.99295806884766,43.036380767822266,-14.168004035949707,34.018829345703125,-8.454015731811523,4.617996692657471,15.449568748474121,-3.6187453269958496,-4.418196201324463,-7.701663970947266,-12.809067726135254,-17.27113151550293,20.627090454101562,17.775676727294922,-30.56410026550293,32.58592224121094,-2.6764214038848877,-61.20146942138672,6.409419536590576,19.29166030883789,1.749894618988037,10.934088706970215,27.90935707092285,-27.72768211364746,-1.511306643486023,-38.33274459838867,-8.928339958190918,-63.62208938598633,-13.793021202087402,-6.709835529327393,51.10969161987305,-5.186331748962402,-4.836624622344971,-7.368938446044922,3.1511852741241455,2.243411064147949,-0.15978172421455383,19.683914184570312,25.357105255126953,30.52676773071289,-22.39792251586914,15.530023574829102,-39.257354736328125,16.41375160217285,0.9595035910606384,14.323714256286621,7.200050354003906,51.29319763183594,8.933095932006836,-21.72015380859375,5.104788780212402,-0.21406903862953186,-15.354696273803711,44.8004035949707,-11.995738983154297,45.344364166259766,-42.124237060546875,31.357051849365234,-45.69618225097656,44.60837936401367,50.015724182128906,20.366838455200195,13.47104549407959,27.518007278442383,17.10439682006836,27.203628540039062,-70.84617614746094,-22.291854858398438,-14.633378982543945,-46.523582458496094,29.835439682006836,-16.243865966796875,-13.279183387756348,4.513832092285156,7.766504287719727,9.93602466583252,-21.770519256591797,29.192873001098633,-2.150308609008789,41.527950286865234,-8.629840850830078,10.566940307617188,26.179855346679688,-17.033315658569336,31.62143898010254,29.753698348999023,-67.1233139038086,51.74707794189453,-46.48998260498047,2.9860708713531494,-43.61695861816406,-43.9352912902832,-31.41070556640625,48.52043914794922,-20.01520538330078,23.89207649230957,27.511625289916992,33.252628326416016,28.328760147094727,46.07621383666992,-11.540666580200195,-54.765968322753906,-12.503727912902832,16.291532516479492,12.268771171569824,-46.289390563964844,45.18171691894531,73.90863800048828,-44.06526184082031,49.774295806884766,22.8874568939209,17.112651824951172,20.176471710205078,-22.22345733642578,28.37151527404785,19.168725967407227,-14.204385757446289,44.44816589355469,-3.8178882598876953,-47.53624725341797,69.46818542480469,-3.6343400478363037,75.2525405883789,75.16956329345703,-45.31977844238281,29.589202880859375,45.08021545410156,24.71751594543457,-4.008820533752441,30.2669734954834,-18.8981876373291,46.48569869995117,24.793058395385742,-37.43560791015625,-19.961322784423828,25.07079315185547,-18.067333221435547,-9.312639236450195,47.42720031738281,-4.424403667449951,40.21672439575195,-68.89958190917969,-11.933364868164062,7.404229640960693,10.655984878540039,-14.888801574707031,9.176024436950684,-46.42525100708008,-18.010032653808594,5.809505462646484,15.444194793701172,-18.018129348754883,-46.68143081665039,-57.5319709777832,-22.980241775512695,44.73265075683594,-16.90351676940918,-31.967004776000977,28.22649383544922,-27.2737979888916,-12.295172691345215,-42.512245178222656,49.05259704589844,-3.4818003177642822,12.603763580322266,31.014795303344727,-20.893070220947266,-52.80735397338867,-32.2889404296875,10.726882934570312,-18.976436614990234,41.25615310668945,-0.04676278680562973,13.34475326538086,-3.5951919555664062,-47.76404571533203,-15.87553596496582,27.109859466552734,14.425918579101562,3.932448148727417,15.804571151733398,-9.414117813110352,17.5989990234375,17.688034057617188,0.08375083655118942,15.973567962646484,-58.57793045043945,-4.000278949737549,-3.1644039154052734,31.324207305908203,-12.051777839660645,-10.082508087158203,-6.8478803634643555,-42.12077331542969,2.1405081748962402,16.252302169799805,20.38167381286621,32.38962173461914,-14.725303649902344,-22.770517349243164,45.40848159790039,7.621546268463135,70.75041198730469,22.168193817138672,44.765907287597656,-13.193320274353027,21.961200714111328,24.90567970275879,-1.2750614881515503,35.128421783447266,29.953262329101562,5.560947418212891,8.353585243225098,-1.0053458213806152,-26.320510864257812,21.2308292388916,-18.321975708007812,-16.06089973449707,46.17100143432617,-40.05654525756836,73.11164855957031,-0.6779751181602478,0.5038770437240601,-1.2664704322814941,9.38917064666748,3.344653367996216,13.627620697021484,3.655778169631958,-37.44644546508789,-19.05229377746582,-66.947265625,-13.55054759979248,-35.88512420654297,20.56137466430664,13.220311164855957,-66.85128021240234,-21.126663208007812,3.5476744174957275,-15.197720527648926,-35.51045608520508,19.28802490234375,22.68165397644043,-0.4890483617782593,-14.692915916442871,44.94821548461914,-10.414606094360352,-59.8336067199707,20.708202362060547,-62.30784225463867,-40.88154220581055,-35.246246337890625,-65.18989562988281,71.69114685058594,-16.00096321105957,-49.95790481567383,-12.601237297058105,-5.117303848266602,30.151233673095703,-61.13555145263672,-15.102829933166504,-58.18077850341797,46.04839324951172,-43.009193420410156,14.288692474365234,-16.10679817199707,30.303800582885742,-11.457524299621582,20.757579803466797,29.56082534790039,12.480423927307129,69.87226867675781,-19.409984588623047,-30.09351921081543,13.960309982299805,-3.7812328338623047,28.35779571533203,19.226572036743164,29.31446075439453,21.362998962402344,-19.24624252319336,-4.410759449005127,-3.9917171001434326,-41.53877258300781,14.078242301940918,-9.878741264343262,-45.48491668701172,72.13449096679688,-12.683967590332031,-46.58819580078125,-51.8380126953125,-12.314024925231934,49.885459899902344,24.92936897277832,-16.27065086364746,48.69057083129883,6.8350019454956055,14.20230484008789,24.45383644104004,12.827808380126953,-11.356938362121582,-15.203680038452148,36.683921813964844,50.576995849609375,-44.1497688293457,27.88328742980957,1.2027051448822021,-47.66910934448242,-29.583261489868164,45.48854446411133,-15.997446060180664,20.04827308654785,1.7665027379989624,-10.24281120300293,0.9942452311515808,49.91640853881836,-3.979722499847412,-3.221738338470459,-16.361764907836914,20.978002548217773,15.975513458251953,24.143030166625977,-48.82304763793945,11.44668960571289,19.732213973999023,-36.365318298339844,-17.322463989257812,6.903526306152344,23.140661239624023,27.558876037597656,4.0959792137146,-48.86404800415039,14.71896743774414,-23.67214012145996,3.847059726715088,-40.09235763549805,-44.620025634765625,17.03215217590332,-7.190756320953369,3.936594009399414,-35.7010612487793,28.59010887145996,-13.008161544799805,-60.45418167114258,30.122737884521484,-10.041769027709961,-0.1152949184179306,-11.182914733886719,23.29144859313965,45.93195343017578,-58.468257904052734,48.475303649902344,-4.495631694793701,23.798965454101562,28.451372146606445,-26.226137161254883,71.71702575683594,17.82568359375,-29.70220184326172,20.077592849731445,9.827286720275879,24.069011688232422,-11.153154373168945,9.330187797546387,17.04131317138672,-46.991477966308594,44.130489349365234,4.791350364685059,-11.043591499328613,16.656082153320312,44.926918029785156,-17.315425872802734,23.485198974609375,-60.22367477416992,25.85431480407715,9.12393569946289,-23.155569076538086,-65.08585357666016,-57.93026351928711,45.44832229614258,-2.6911659240722656,24.168115615844727,-19.621110916137695,-42.445682525634766,-28.027647018432617,-46.85964584350586,-31.24947166442871,16.348072052001953,26.793014526367188,43.431522369384766,-32.39478302001953,15.680207252502441,33.86678695678711,7.728423118591309,18.69165802001953,-18.282264709472656,-0.03521423414349556,-4.816902160644531,12.035277366638184,-63.89755630493164,16.85890769958496,-59.655242919921875,10.572367668151855,-18.143564224243164,50.88937759399414,44.822914123535156,-41.32660675048828,-0.41872406005859375,-67.53878021240234,33.07080841064453,-6.559868335723877,18.684690475463867,-15.191648483276367,27.405696868896484,-5.165623664855957,26.79746437072754,-47.96495056152344,35.972347259521484,-32.33796310424805,20.176916122436523,14.565884590148926,-9.578670501708984,1.5336484909057617,-19.851032257080078,25.03464126586914,-51.50869369506836,32.109718322753906,-14.861581802368164,69.06446075439453,22.096525192260742,33.93409729003906,12.681721687316895,-4.393176078796387,14.336126327514648,15.07686710357666,-11.565753936767578,22.79361915588379,-12.902874946594238,-10.443796157836914,-19.506505966186523,28.590572357177734,0.6142221093177795,11.501553535461426,-4.695497035980225,50.22608947753906,3.988952159881592,27.969568252563477,4.964162826538086,39.61955261230469,30.657489776611328,13.03512954711914,45.00045394897461,-3.864748239517212,-18.178653717041016,50.68855667114258,13.295554161071777,-63.183197021484375,-13.231315612792969,-18.953615188598633,25.95762062072754,22.395559310913086,-67.0164794921875,-26.559856414794922,31.734651565551758,-17.304903030395508,-20.799556732177734,41.667625427246094,-31.570274353027344,31.957439422607422,73.2410659790039,7.150321960449219,-62.25191116333008,29.790342330932617,-14.768784523010254,17.446731567382812,32.57209777832031,44.470184326171875,1.705784559249878,-7.3070268630981445,-38.05509948730469,-17.729948043823242,14.244935989379883,-56.897865295410156,51.853694915771484,17.670045852661133,16.52632713317871,68.63423919677734,-48.105918884277344,-22.11554527282715,69.49951171875,12.670320510864258,-22.44413948059082,-58.1926155090332,23.933420181274414,-12.995256423950195,26.571739196777344,-67.56230163574219,17.369165420532227,-31.345443725585938,-16.73806381225586,16.832040786743164,45.31450653076172,-47.154788970947266,12.772154808044434,-41.865806579589844,2.0582809448242188,-23.788551330566406,70.48553466796875,-40.50840377807617,-59.33076095581055,14.252965927124023,-51.54274368286133,16.20973014831543,-13.956686973571777,-15.517749786376953,-49.427955627441406,43.60344314575195,13.197999000549316,41.72285079956055,1.4797266721725464,27.29806137084961,-18.82308006286621,51.34597396850586,13.618571281433105,50.63004684448242,27.863569259643555,-67.00752258300781,-7.360253810882568,20.226388931274414,11.158299446105957,25.882061004638672,29.6767520904541,-11.148791313171387,-20.000213623046875,12.436269760131836,-15.939576148986816,25.51449966430664,-23.995969772338867,50.53847122192383,68.64469909667969,-37.198829650878906,-15.174941062927246,16.43198585510254,-52.87417221069336,2.8145556449890137,23.484508514404297,-14.755619049072266,42.60786437988281,-15.591127395629883,21.58683967590332,-5.682385444641113,-22.64108657836914,31.712934494018555,-39.37808609008789,-18.914594650268555,-3.708375930786133,18.36043930053711,32.799861907958984,-3.3368968963623047,-11.321069717407227,16.316556930541992,-53.76250457763672,-11.268365859985352,46.34563064575195,0.6212520599365234,12.250892639160156,-26.33111572265625,-17.0302734375,-58.53511047363281,-5.10933256149292,15.408782005310059,-21.476797103881836,-47.96685791015625,0.5458406805992126,25.524911880493164,-0.5141832232475281,49.663002014160156,49.99894332885742,15.64290714263916,-59.72929382324219,-1.2484991550445557,19.45343017578125,5.811006546020508,-0.7034912705421448,18.865041732788086,13.010723114013672,71.40205383300781,-47.39094161987305,-39.10527420043945,-53.500022888183594,-43.8599739074707,12.673089981079102,-5.563381195068359,-21.567459106445312,32.819461822509766,26.062358856201172,-10.272011756896973,-19.275314331054688,30.057918548583984,5.354397296905518,-4.503469944000244,0.17263005673885345,20.603891372680664,70.21613311767578,3.909507989883423,11.082611083984375,-64.78260040283203,-41.90772247314453,-15.950498580932617,27.927114486694336,-20.419212341308594,23.433794021606445,-11.681248664855957,20.678876876831055,-15.745160102844238,-51.673187255859375,49.65774154663086,29.49630355834961,32.49371337890625,23.772092819213867,-0.22067183256149292,44.40678405761719,12.90202808380127,5.178459644317627,-32.28902053833008,38.69463348388672,-53.57628631591797,17.404821395874023,27.843685150146484,32.06586837768555,1.4022501707077026,20.841217041015625,26.61951446533203,-4.795348167419434,11.352746963500977,12.080859184265137,17.43425750732422,2.9814422130584717,-5.9847235679626465,-65.0211181640625,-67.39229583740234,-16.89541244506836,-29.313579559326172,-64.11327362060547,-35.81491470336914,19.12483787536621,-10.114189147949219,-9.24160385131836,-47.27845764160156,-31.047998428344727,19.148717880249023,9.136967658996582,51.39136505126953,-11.864166259765625,-17.519275665283203,21.73661231994629,14.453022003173828,-25.467443466186523,9.391807556152344,19.986412048339844,-20.819061279296875,17.15933609008789,-21.150671005249023,-41.47969436645508,45.84223937988281,15.998230934143066,13.015870094299316,24.445703506469727,46.691192626953125,23.806842803955078,-51.3609733581543,-56.82265853881836,-3.6191747188568115,-11.09975528717041,-36.232242584228516,1.332521915435791,-37.263858795166016,12.49472713470459,19.035245895385742,-9.722907066345215,0.8261952996253967,0.9375680088996887,13.601700782775879,-2.0208702087402344,31.71366310119629,71.65300750732422,-0.8842694163322449,-17.155561447143555,20.600629806518555,12.405929565429688,-52.415157318115234,-0.024967093020677567,12.26858139038086,15.212835311889648,9.281122207641602,14.997148513793945,0.7433027625083923,-7.56667423248291,-42.559730529785156,12.208919525146484,-9.618121147155762,12.383774757385254,-9.37922191619873,38.81685256958008,1.5832465887069702,14.89881706237793,32.44797134399414,0.5161583423614502,27.734615325927734,-11.4878511428833,-52.84218978881836,74.28141784667969,-36.76362228393555,-7.906614780426025,23.98897361755371,29.32056427001953,-13.819682121276855,14.943249702453613,-63.857513427734375,12.669349670410156,51.62814712524414,24.695022583007812,5.693564414978027,5.745766639709473,25.406261444091797,-11.308181762695312,17.400146484375,-35.70817184448242,22.99311065673828,-35.29962921142578,27.160558700561523,6.157585620880127,15.927433013916016,25.555435180664062,-56.3510627746582,11.081421852111816,14.099075317382812,35.61246109008789,51.83536148071289,-39.33797073364258,-27.47437858581543,-17.324138641357422,-2.808225154876709,-14.915127754211426,49.74463653564453,-42.40349197387695,19.597997665405273,13.467985153198242,-48.732704162597656,32.901405334472656,27.02952766418457,-14.481794357299805,-4.840673923492432,-9.163500785827637,-13.403639793395996,27.87940788269043,24.422719955444336,46.08141326904297,-48.24623107910156,14.544829368591309,-47.232025146484375,-8.194735527038574,-0.08962356299161911,-57.9710578918457,-2.910818099975586,13.233952522277832,-26.804964065551758,1.7639796733856201,-17.780683517456055,26.07280731201172,14.200102806091309,-55.891578674316406,-68.16695404052734,29.068344116210938,23.271379470825195,51.606510162353516,-47.89392852783203,15.816009521484375,4.363587856292725,-48.92997741699219,-49.83427429199219,73.15534973144531,12.150066375732422,49.46604919433594,46.96332931518555,-38.74534225463867,-47.42713165283203,-20.5546817779541,0.4078446626663208,-50.29124450683594,48.58427429199219,33.85601043701172,28.443456649780273,32.02632522583008,6.844872951507568,-45.63698959350586,-15.275254249572754,-58.116085052490234,32.42032241821289,38.71187973022461,-13.33940315246582,20.644357681274414,-50.0682373046875,-9.477726936340332,45.17200469970703,-30.651870727539062,-57.327552795410156,-15.795111656188965,46.321678161621094,26.44035530090332,-16.40172576904297,16.696163177490234,-63.65607452392578,-10.33808708190918,41.62941360473633,29.58510971069336,2.3879880905151367,-29.689992904663086,-18.323041915893555,-0.48768118023872375,44.2637825012207,3.8719608783721924,-8.009995460510254,45.22761535644531,33.796653747558594,18.533449172973633,-8.032340049743652,-57.913082122802734,-46.363346099853516,15.496058464050293,31.89090347290039,9.419322967529297,8.506916999816895,-33.40291213989258,-0.772878885269165,-54.11307144165039,-40.758338928222656,10.752679824829102,-57.777713775634766,52.422183990478516,30.68859100341797,7.520119667053223,-29.483684539794922,-63.65901184082031,-21.37036895751953,-17.80326271057129,-39.27321243286133,25.588397979736328,-15.588760375976562,24.534526824951172,0.6278727650642395,-39.26359939575195,1.6272685527801514,29.399723052978516,16.435911178588867,-18.201723098754883,-56.96006393432617,11.496687889099121,41.46574783325195,24.543771743774414,-0.7616193890571594,-23.507272720336914,-47.706703186035156,23.67853355407715,-2.646118402481079,14.733272552490234,-0.13119593262672424,-0.395896852016449,-26.84034538269043,-21.077957153320312,-28.88408088684082,-15.630278587341309,24.58574676513672,-15.10239028930664,-22.314952850341797,-45.762638092041016,44.5221061706543,-3.875640392303467,-3.320415735244751,12.178725242614746,-20.017242431640625,-18.837167739868164,-35.0545768737793,-20.9732666015625,69.36119079589844,-24.13287353515625,16.608362197875977,40.176368713378906,-52.094703674316406,13.337881088256836,-8.529313087463379,-66.9659423828125,4.700616359710693,46.144012451171875,45.96464157104492,-29.252647399902344,-10.39118480682373,45.64999008178711,-49.74879455566406,-14.356271743774414,33.212886810302734,25.463665008544922,41.46403503417969,-17.442657470703125,51.64987564086914,5.084347248077393,-18.303050994873047,-14.052766799926758,-0.43971142172813416,25.604412078857422,-0.48057740926742554,-13.004460334777832,-8.081501007080078,-14.864408493041992,11.820145606994629,-1.8041995763778687,1.264863133430481,44.665958404541016,4.7373528480529785,-40.12159729003906,-18.517616271972656,-12.808847427368164,45.856571197509766,20.10633659362793,-47.77338790893555,-18.574508666992188,-29.606983184814453,17.237825393676758,20.882823944091797,19.958005905151367,69.60885620117188,-21.351715087890625,-14.89798641204834,-3.0557777881622314,29.959184646606445,14.390485763549805,-17.692583084106445,-9.415375709533691,35.2986946105957,45.955875396728516,44.63138961791992,-15.424060821533203,72.84449768066406,-28.165462493896484,-52.03721237182617,28.009475708007812,-20.52558135986328,-17.222755432128906,-0.5676780939102173,-26.884449005126953,-38.272979736328125,25.549774169921875,-7.383963108062744,-19.51179313659668,22.904512405395508,16.321651458740234,16.59305763244629,-17.648794174194336,33.624759674072266,19.95882225036621,18.321969985961914,24.38639259338379,-18.3034725189209,0.4408472776412964,8.804899215698242,1.2829688787460327,-3.3230416774749756,2.65997052192688,-64.24105072021484,1.3401820659637451,3.2263224124908447,-47.933101654052734,25.48823356628418,19.507389068603516,-60.18961715698242,14.7753267288208,28.8529052734375,72.61444091796875,-58.51834487915039,-49.177284240722656,69.87299346923828,-6.627686977386475,14.376490592956543,-26.586517333984375,4.424489498138428,15.108884811401367,-53.46585464477539,13.512907028198242,-18.70635223388672,30.810056686401367,-18.26675033569336,-15.091644287109375,-17.8494815826416,-13.773544311523438,27.10149383544922,-45.80839157104492,30.7623233795166,-30.12649917602539,-21.397998809814453,-23.07280921936035,69.44280242919922,-44.32893371582031,-66.56072998046875,-17.50310516357422,-40.555419921875,2.5386407375335693,-46.96684265136719,-20.469898223876953,-16.2416934967041,-8.570049285888672,33.30928421020508,2.7547669410705566,-23.119340896606445,-27.109054565429688,-46.59017562866211,-22.060476303100586,-36.92708969116211,-18.635723114013672,-50.42669677734375,6.609011173248291,-46.354331970214844,1.968375325202942,-59.18849182128906,12.348669052124023,-12.739924430847168,-13.732040405273438,4.04152774810791,-17.827150344848633,-4.284065246582031,-32.89530563354492,-56.29950714111328,-45.81650161743164,-28.340469360351562,-46.011173248291016,-2.2790889739990234,40.27921676635742,-28.556957244873047,4.479152679443359,47.50306701660156,-51.36674118041992,5.87728214263916,4.306387424468994,73.98013305664062,0.7569588422775269,-20.08953285217285,70.04393005371094,19.96463966369629,16.526376724243164,-5.6401848793029785,-68.171875,49.712730407714844,5.616255283355713,-3.061676502227783,-12.071573257446289,-12.780455589294434,0.3035029172897339,-15.671290397644043,31.52874183654785,-11.004813194274902,26.615821838378906,-39.88638687133789,-10.673012733459473,4.9601922035217285,73.98455047607422,-9.499618530273438,44.80189514160156,-28.632083892822266,-5.2607855796813965,23.594684600830078,7.634980201721191,-35.50666046142578,-21.196136474609375,9.290576934814453,-22.230085372924805,20.89212417602539,6.486513137817383,26.33079719543457,33.3765754699707,12.08409309387207,-14.958069801330566,13.926131248474121,24.908700942993164,15.746755599975586,0.5251938700675964,-0.19951018691062927,-3.905735492706299,-5.201904296875,16.98056983947754,-1.3256949186325073,-8.592514991760254,-0.8056083917617798,-58.33811950683594,10.691635131835938,-8.899823188781738,-65.16300201416016,-18.018949508666992,-37.995853424072266,-32.982452392578125,11.964957237243652,31.410629272460938,-17.765701293945312,-52.392181396484375,-13.170123100280762,-58.10179138183594,-67.17687225341797,-9.207744598388672,-27.297561645507812,31.619001388549805,21.491363525390625,-61.82978057861328,-28.878217697143555,-0.49229690432548523,-16.956605911254883,-7.83737325668335,-42.000640869140625,-18.860549926757812,-12.128225326538086,43.83679962158203,-46.47966003417969,-9.614693641662598,-17.449573516845703,-4.396418571472168,-4.390411376953125,-64.03443908691406,-11.586065292358398,47.884212493896484,13.40163803100586,-20.011333465576172,-7.994632720947266,19.7406005859375,12.369041442871094,-11.108583450317383,51.43464279174805,-65.43953704833984,12.738408088684082,-22.76358985900879,-48.40635299682617,5.776554584503174,-39.10884475708008,39.079261779785156,12.701833724975586,72.69540405273438,-31.79065704345703,-7.267049789428711,-52.231040954589844,11.965012550354004,22.888689041137695,-10.87666130065918,-47.466033935546875,22.32229232788086,-22.468936920166016,-13.571125984191895,-56.85203552246094,-15.489381790161133,23.347469329833984,-59.69160461425781,8.22962474822998,2.830548048019409,31.87415885925293,-35.41778564453125,70.18180084228516,-4.788698196411133,-1.4213038682937622,23.931705474853516,-18.919116973876953,-44.73906326293945,23.68352508544922,-12.17884635925293,23.239477157592773,19.63112449645996,30.501794815063477,8.410079002380371,-14.064332962036133,-17.802427291870117,-22.907060623168945,71.51396942138672,25.09895896911621,-45.014156341552734,-17.294872283935547,16.916349411010742,-9.784934043884277,2.3386459350585938,11.861003875732422,3.4211974143981934,-4.2638630867004395,-50.7326774597168,-36.72906494140625,-22.752269744873047,44.16432571411133,13.838150024414062,9.757796287536621,22.579017639160156,-29.460594177246094,-28.058940887451172,-55.24502944946289,11.342860221862793,0.21330933272838593,-14.60621166229248,11.831024169921875,-22.149856567382812,-14.087179183959961,-61.64872360229492,51.50309371948242,-19.288036346435547,29.603893280029297,51.97325897216797,-10.546008110046387,-8.554810523986816,-21.41691017150879,-9.704607009887695,6.94652795791626,-13.016939163208008,-4.279716968536377,-44.46773910522461,-1.334161400794983,12.464255332946777,25.73775863647461,35.85476303100586,-46.388282775878906,1.1379635334014893,45.34957504272461,-31.922937393188477,49.832889556884766,23.403461456298828,50.622711181640625,20.371299743652344,-22.494504928588867,-54.65963363647461,74.96308135986328,-65.02027893066406,39.770606994628906,12.04515266418457,-49.11153030395508,-28.426443099975586,15.369003295898438,43.34519958496094,-22.106454849243164,16.327152252197266,16.532285690307617,-49.67375946044922,-17.24905014038086,16.742958068847656,-0.5171843767166138,19.700529098510742,21.283126831054688,-67.4782485961914,15.319572448730469,-10.638181686401367,19.307641983032227,27.95809555053711,-9.71315860748291,25.860736846923828,27.177934646606445,-17.06266212463379,-8.46582317352295,1.0760571956634521,-11.012883186340332,45.74606704711914,51.10468673706055,-44.297908782958984,25.5607852935791,1.0381050109863281,22.217592239379883,14.039894104003906,-20.180410385131836,-16.38697052001953,-47.7545166015625,18.68801498413086,29.180152893066406,-14.551714897155762,30.30477523803711,-65.18954467773438,30.61733055114746,6.229971885681152,-67.70883178710938,24.253000259399414,-43.569847106933594,-19.173948287963867,6.16677188873291,-6.389864921569824,27.63452911376953,-10.787043571472168,51.4819450378418,-8.060325622558594,23.929643630981445,12.68989086151123,-13.694731712341309,-9.273422241210938,25.504526138305664,-61.6798210144043,5.2189154624938965,3.7680575847625732,-5.595037460327148,-60.656394958496094,3.969104528427124,-22.495235443115234,-58.710506439208984,-67.16544342041016,45.0123176574707,-53.534828186035156,-46.8539924621582,74.40365600585938,-17.172483444213867,-9.154280662536621,1.5800344944000244,4.008662223815918,-13.996232986450195,36.68163299560547,-7.3391571044921875,-14.252964973449707,-5.3217902183532715,10.994629859924316,-14.023406982421875,26.2962646484375,17.75380516052246,-68.25525665283203,28.058664321899414,51.2824821472168,-12.532146453857422,13.084948539733887,44.7445182800293,-41.92780303955078,-47.35186767578125,6.732094764709473,-13.016609191894531,7.1526031494140625,49.219547271728516,8.334709167480469,17.172698974609375,12.1864652633667,-68.0411605834961,-28.621055603027344,-8.644713401794434,-3.7591235637664795,70.3663101196289,24.18745994567871,27.32257843017578,25.593381881713867,11.597649574279785,16.342567443847656,30.65423583984375,10.244155883789062,-11.342291831970215,19.21613121032715,15.62999153137207,30.144428253173828,-67.82559204101562,13.633113861083984,45.3169059753418,24.52488136291504,46.25044250488281,29.00960922241211,31.08011245727539,25.273460388183594,30.50990867614746,25.985788345336914,15.814825057983398,-65.50431060791016,29.20745086669922,-43.28971481323242,-7.122335433959961,49.46881103515625,14.561604499816895,6.318309307098389,13.748021125793457,16.217174530029297,9.40689468383789,-68.28173828125,51.23200988769531,15.87130069732666,2.4630792140960693,12.774553298950195,16.210153579711914,22.447433471679688,-48.944862365722656,-9.56250286102295,14.47692584991455,-6.249186992645264,-59.94712448120117,-37.58356475830078,74.57389068603516,-60.520145416259766,-4.601602077484131,22.895822525024414,15.644267082214355,-23.61372947692871,14.543746948242188,17.856618881225586,19.36896514892578,-2.9462180137634277,-27.174959182739258,-54.24826431274414,-3.8686037063598633,14.041399002075195,-58.006797790527344,23.801904678344727,10.156813621520996,-28.447124481201172,-15.581372261047363,-58.547401428222656,-6.951250076293945,-18.2916259765625,15.473265647888184,-6.207080841064453,-17.468488693237305,-12.931008338928223,12.444170951843262,17.327720642089844,-44.16964340209961,32.747074127197266,20.80184555053711,4.199071884155273,-1.5189627408981323,-46.84994125366211,-56.19411849975586,-20.411720275878906,-0.20165956020355225,-30.757183074951172,-12.844449043273926,-57.87567901611328,44.55252456665039,22.772926330566406,-66.279541015625,-15.984256744384766,-10.339468955993652,-67.48947143554688,15.878249168395996,25.455825805664062,-42.73637008666992,-1.2471548318862915,44.75819396972656,-19.375917434692383,-10.513139724731445,13.64321517944336,-11.808632850646973,24.12409782409668,-2.118479013442993,10.42613697052002,21.663969039916992,50.394981384277344,22.969932556152344,50.01114273071289,-32.31376266479492,-0.4949706494808197,-44.8409309387207,-21.269309997558594,25.449831008911133,-1.4898816347122192,6.320510387420654,-17.111770629882812,16.397289276123047,-35.40525436401367,-7.560996055603027,-65.91046905517578,44.48551940917969,-12.935648918151855,-12.3755464553833,-42.38303756713867,4.198834419250488,-57.64860153198242,-1.6080878973007202,-66.30963897705078,-4.850733757019043,26.43549346923828,21.376306533813477,-63.77116394042969,-13.783734321594238,28.019012451171875,22.419981002807617,-17.83366584777832,2.8567733764648438,23.263538360595703,19.702960968017578,-46.269405364990234,2.7186405658721924,4.877857685089111,20.021923065185547,-18.658998489379883,-45.37705993652344,71.93543243408203,-39.86751937866211,-36.98859786987305,27.056835174560547,-5.638682842254639,-23.075462341308594,69.08387756347656,33.75360870361328,16.707502365112305,47.27934265136719,-15.873251914978027,-37.5867805480957,50.44992446899414,10.298219680786133,-23.847829818725586,-57.63084030151367,-1.2675853967666626,29.57919692993164,-17.107370376586914,11.7540922164917,-22.732824325561523,-9.505924224853516,-42.05215072631836,-6.020541191101074,14.191045761108398,-13.958479881286621,-39.28261184692383,-62.56287384033203,-2.111257791519165,-20.87468910217285,7.364277362823486,13.84789752960205,46.139015197753906,12.948538780212402,-10.384170532226562,4.637385845184326,0.7159069180488586,-11.066934585571289,15.802075386047363,-14.393045425415039,-2.897418975830078,-30.5,-18.38311004638672,-14.655900955200195,-59.42219161987305,71.97086334228516,-26.843690872192383,-66.71194458007812,5.277796268463135,-14.952080726623535,6.220493316650391,45.867767333984375,-31.32822036743164,-38.97844696044922,-26.911117553710938,-21.033702850341797,25.016258239746094,5.812858581542969,31.183712005615234,-56.30312728881836,-49.032379150390625,-15.502630233764648,2.279006242752075,-40.38864517211914,-47.98911666870117,-15.549280166625977,-0.2184663712978363,-17.24163055419922,-41.84571838378906,3.134272336959839,3.0455591678619385,-27.358604431152344,18.33798599243164,47.70598602294922,69.45211791992188,31.922204971313477,33.42588424682617,30.365880966186523,19.951122283935547,14.68135929107666,-3.0703682899475098,-35.03935623168945,10.94872760772705,7.185976505279541,-29.698261260986328,17.905338287353516,21.133312225341797,-3.8350939750671387,-15.488302230834961,17.06918716430664,-66.33538055419922,-11.684247016906738,22.421098709106445,-59.81934356689453,-53.74628829956055,44.24161911010742,-12.201737403869629,31.08417320251465,25.412994384765625,-34.72500228881836,-0.016145966947078705,15.36793041229248,8.281424522399902,-14.982885360717773,-5.225465297698975,0.8575649857521057,-18.69392967224121,74.49895477294922,42.53466033935547,-14.383950233459473,-27.31458854675293,13.844453811645508,50.514408111572266,70.20390319824219,72.55815124511719,-21.00927734375,30.25315284729004,-56.37428665161133,-6.918336868286133,51.643218994140625,24.67951011657715,12.777667045593262,29.772003173828125,-14.996356964111328,-10.934757232666016,19.919836044311523,-3.7396674156188965,-70.90003204345703,12.3408784866333,74.12942504882812,-67.6916732788086,-18.71895408630371,21.073436737060547,4.510905742645264,40.37215805053711,-44.86222457885742,14.782679557800293,-21.9112548828125,-29.707807540893555,-13.757747650146484,8.305593490600586,-14.778179168701172,69.01445007324219,-44.94919204711914,-65.0932388305664,-17.11882972717285,46.151092529296875,-17.930736541748047,12.40324592590332,-44.90547561645508,-0.9460980296134949,19.623367309570312,17.47488784790039,49.348426818847656,-63.937129974365234,-17.39021873474121,-1.1340972185134888,-25.21552085876465,18.308908462524414,-1.3207581043243408,1.9630063772201538,-20.52866554260254,-19.135684967041016,46.3496208190918,-3.6976847648620605,-15.926244735717773,-16.749292373657227,0.18566644191741943,0.560916006565094,-14.208791732788086,11.068501472473145,4.329562664031982,8.262283325195312,-16.69692039489746,28.663429260253906,71.4224624633789,16.615690231323242,-5.564367771148682,14.123872756958008,15.130751609802246,6.879878044128418,18.53009033203125,-19.401784896850586,14.107762336730957,24.78816795349121,-31.20896339416504,-2.686508893966675,32.954044342041016,-45.710227966308594,46.47091293334961,20.49325180053711,13.494529724121094,0.027861177921295166,72.89708709716797,-19.72934341430664,-4.370701789855957,25.463825225830078,29.805030822753906,21.270408630371094,38.27076721191406,5.547335147857666,14.904648780822754,19.198894500732422,-6.465547561645508,21.231542587280273,9.811847686767578,29.890012741088867,6.833683013916016,47.60711669921875,-40.41714096069336,-46.54725646972656,35.00019454956055,23.27640724182129,12.57104206085205,-47.49216079711914,-62.62664031982422,-21.809112548828125,-8.910855293273926,48.72804260253906,-68.1032943725586,28.785152435302734,-68.62855529785156,29.97075843811035,-1.0765467882156372,31.05595588684082,-13.040102005004883,19.57227325439453,51.01719284057617,-13.930694580078125,-53.384586334228516,-3.2793028354644775,37.97886657714844,8.05540943145752,-46.59502029418945,-1.4759083986282349,34.944122314453125,12.583512306213379,-10.052894592285156,-13.529158592224121,17.45354652404785,11.54494857788086,18.604421615600586,-21.66015625,-2.052757740020752,-47.609004974365234,14.72480583190918,-14.220425605773926,41.85441207885742,-15.632564544677734,10.76578426361084,14.164627075195312,30.19293212890625,44.62884521484375,25.313085556030273,-9.26283073425293,-39.23558807373047,30.199594497680664,-66.61229705810547,-33.59797668457031,3.905646800994873,-28.136442184448242,9.06759262084961,-12.888774871826172,-58.313941955566406,1.5134756565093994,32.86314392089844,-47.34317398071289,7.789102554321289,15.199146270751953,-62.17914581298828,16.718416213989258,75.50283813476562,-45.251075744628906,-69.04589080810547,-60.85597229003906,-66.81242370605469,-26.440610885620117,-10.243218421936035,-0.05782466009259224,-56.12603759765625,-33.35460662841797,31.988107681274414,-66.92886352539062,20.690860748291016,-62.61397933959961,-13.139599800109863,24.224613189697266,3.1695497035980225,15.618500709533691,44.70768737792969,72.63289642333984,-3.8557887077331543,-41.54191970825195,-20.23409652709961,52.69853210449219,8.5689058303833,46.13501739501953,-44.678714752197266,-8.164407730102539,-42.26008987426758,24.39141845703125,-7.311575889587402,15.365745544433594,-30.561939239501953,-49.16602325439453,69.57577514648438,45.54685592651367,-9.508721351623535,-18.991382598876953,31.39822769165039,-9.029365539550781,30.421276092529297,7.278372764587402,-15.24074649810791,24.445924758911133,44.845821380615234,73.92366027832031,13.35858154296875,-60.52231979370117,23.913806915283203,-20.6483154296875,-9.758662223815918,-16.66852569580078,-22.257091522216797,-3.4191627502441406,31.421234130859375,71.47154998779297,29.736299514770508,-20.596799850463867,2.1819007396698,-12.854862213134766,-6.982345104217529,13.762598037719727,45.00971603393555,8.60435962677002,-40.141719818115234,-64.47490692138672,16.609508514404297,-4.3557963371276855,49.326560974121094,-37.38582229614258,44.96079635620117,-6.271099090576172,-64.24678802490234,14.410989761352539,-16.38368797302246,-44.07992172241211,25.52645492553711,25.77915382385254,15.451359748840332,6.8268723487854,-66.73829650878906,-36.58407211303711,-14.565816879272461,10.554444313049316,-9.712357521057129,-23.414831161499023,-1.3066883087158203,-13.06290340423584,-65.10139465332031,17.06194496154785,22.77646255493164,-48.1730842590332,-16.229347229003906,-16.577259063720703,0.3207324147224426,-28.326004028320312,-53.333404541015625,20.716989517211914,12.108041763305664,25.502660751342773,-16.04389762878418,9.699246406555176,28.806249618530273,-58.35524368286133,-0.5258226990699768,12.165715217590332,30.037639617919922,27.80740737915039,-9.07877254486084,20.34053611755371,11.501642227172852,16.473770141601562,-66.74410247802734,-11.324584007263184,-42.3218994140625,30.052581787109375,-21.199462890625,-65.60244750976562,4.470271110534668,19.937284469604492,-41.30580139160156,-18.65162467956543,22.423507690429688,-63.826107025146484,-58.29020309448242,29.06582260131836,6.839841365814209,4.495900630950928,46.54690933227539,73.17160034179688,-14.718781471252441,8.785279273986816,14.110462188720703,-42.27185821533203,7.170391082763672,-23.3277530670166,28.725679397583008,-59.2299919128418,-12.343278884887695,21.530742645263672,12.66268539428711,11.865117073059082,-65.86711883544922,-51.2945442199707,12.768465995788574,-22.86054039001465,-11.476036071777344,52.26861572265625,-40.65143585205078,42.374603271484375,29.548707962036133,31.527490615844727,6.593217849731445,51.0790901184082,-19.445316314697266,3.9992594718933105,-53.94097137451172,22.675586700439453,71.03878784179688,49.84703063964844,-12.841964721679688,-17.81068992614746,0.8927088975906372,-65.14258575439453,-1.607570767402649,-67.48939514160156,18.077407836914062,25.42005729675293,24.00554847717285,-15.392779350280762,20.68460464477539,19.369199752807617,-48.079078674316406,12.198877334594727,14.921812057495117,-18.5295467376709,46.029273986816406,-19.41777801513672,-57.622352600097656,-2.42551589012146,28.68729591369629,-39.98018264770508,-26.96369171142578,-42.21849060058594,31.01946449279785,24.919954299926758,33.56045150756836,12.912327766418457,-65.47074127197266,4.567371845245361,25.503082275390625,25.634130477905273,-14.82540225982666,1.4480438232421875,50.70562744140625,17.007686614990234,-63.70113754272461,-19.38914680480957,23.9359130859375,-45.599483489990234,-17.544618606567383,-14.939614295959473,8.384833335876465,-4.366538047790527,-56.34852600097656,-67.8277359008789,1.7160922288894653,3.403693437576294,22.559694290161133,22.537885665893555,37.04814910888672,-28.066057205200195,51.949790954589844,13.051618576049805,31.250877380371094,44.55215835571289,17.268842697143555,33.91767883300781,0.938789963722229,32.64890670776367,-36.33580780029297,18.800914764404297,0.7020069360733032,23.58104133605957,7.560754776000977,-42.024051666259766,49.76211929321289,52.2010498046875,-11.443201065063477,-21.7257080078125,-3.398850440979004,74.88531494140625,13.212075233459473,-0.7846580147743225,21.049453735351562,-4.787216663360596,-56.79572677612305,-10.742293357849121,-58.89809799194336,3.3259003162384033,25.338777542114258,-2.808774709701538,39.29795837402344,74.4391860961914,-52.14280700683594,-0.6956546306610107,-9.209239959716797,17.109966278076172,9.497632026672363,17.37031364440918,-20.807785034179688,22.458011627197266,-16.000394821166992,-45.2453727722168,42.01042556762695,13.116484642028809,18.345354080200195,13.752903938293457,44.27185821533203,-10.940845489501953,-41.196624755859375,31.29458999633789,-48.920143127441406,-4.100620269775391,28.912006378173828,-21.043710708618164,-13.379576683044434,16.079612731933594,-18.01897621154785,-17.36943244934082,25.40510368347168,44.15330123901367,-64.3018569946289,-12.3939208984375,2.420114278793335,-34.558006286621094,-37.08208084106445,-45.87949752807617,75.53775024414062,31.31890869140625,-5.433694839477539,5.246913433074951,-4.822889804840088,1.0375465154647827,4.197957515716553,3.8078675270080566,-45.99288558959961,0.2056235820055008,-17.560293197631836,-46.778621673583984,17.309911727905273,-14.42227840423584,16.939868927001953,44.415748596191406,16.59724235534668,-12.490256309509277,23.309743881225586,-13.16869068145752,-16.943822860717773,-11.232133865356445,-9.665180206298828,-47.97183609008789,-66.5591049194336,-20.13430404663086,-9.47866153717041,-14.857856750488281,-19.179540634155273,4.520529270172119,22.458362579345703,15.656805992126465,2.6953065395355225,20.296409606933594,-46.295162200927734,-51.566139221191406,1.6309481859207153,-13.905411720275879,31.480440139770508,-46.640010833740234,3.1320793628692627,-45.93915557861328,-20.904407501220703,-14.508882522583008,11.7151460647583,-47.657737731933594,49.466461181640625,-19.235326766967773,46.546199798583984,-46.146453857421875,-7.124065399169922,-40.22715377807617,41.97490692138672,-19.93124771118164,31.08952522277832,-22.786266326904297,13.181586265563965,-23.14960289001465,-8.530570983886719,25.34804916381836,23.785022735595703,-9.18112564086914,12.21432113647461,-20.415756225585938,-56.90555191040039,2.6890594959259033,4.7324090003967285,5.835673809051514,15.159998893737793,-48.74541473388672,12.0051908493042,25.895689010620117,-44.74230194091797,-14.293538093566895,-6.716833114624023,-12.408950805664062,-3.9268605709075928,-14.364608764648438,48.55287551879883,19.518163681030273,-16.372873306274414,-58.484580993652344,-57.09561538696289,29.876794815063477,-15.660287857055664,-7.824551582336426,-68.56970977783203,12.491154670715332,-17.50282859802246,28.656352996826172,46.409393310546875,42.59479904174805,-58.342594146728516,2.053541421890259,17.427127838134766,-0.630752682685852,-48.45178985595703,46.738380432128906,-21.586702346801758,-9.819235801696777,44.37810134887695,-32.92184066772461,14.58857250213623,33.857696533203125,11.645833015441895,8.232757568359375,17.393409729003906,-68.04641723632812,32.166404724121094,-5.746387958526611,20.842891693115234,30.97823143005371,42.601898193359375,-29.906700134277344,-22.768796920776367,-36.905635833740234,-64.25186157226562,31.74750328063965,-37.735103607177734,75.54306030273438,30.238256454467773,-51.76417922973633,-63.05448532104492,-7.197848796844482,-49.8706169128418,23.813982009887695,-51.656341552734375,52.09708023071289,-4.050722122192383,69.1034164428711,-44.37038803100586,-13.828082084655762,-19.298677444458008,7.813436031341553,44.141822814941406,-56.375694274902344,21.35685157775879,11.906639099121094,11.724506378173828,6.335056781768799,8.882143020629883,11.991207122802734,29.068265914916992,19.11302375793457,15.357561111450195,-49.55070877075195,28.912431716918945,24.160686492919922,32.395423889160156,14.459239959716797,-18.106887817382812,-12.99201488494873,-38.615882873535156,13.497617721557617,16.844247817993164,14.055203437805176,-65.48023986816406,-21.290653228759766,-42.79830551147461,-5.692662239074707,-58.19084167480469,20.453933715820312,44.92617416381836,27.95801544189453,-68.84607696533203,28.209991455078125,-57.998130798339844,14.372270584106445,20.600332260131836,-3.363785982131958,19.7325382232666,-12.656054496765137,-23.71624183654785,-19.701656341552734,1.3184260129928589,3.6190619468688965,15.311051368713379,-68.66348266601562,-12.121781349182129,49.78409957885742,24.65340232849121,74.5328140258789,69.98348999023438,-52.003047943115234,11.000755310058594,18.073387145996094,26.410308837890625,-1.3806676864624023,-26.25444221496582,11.448569297790527,-22.046340942382812,12.559845924377441,-30.015056610107422,-0.9908402562141418,69.82195281982422,28.731821060180664,33.44667053222656,-9.661270141601562,-18.21219253540039,51.697383880615234,-60.60354995727539,27.663597106933594,-49.028541564941406,23.859460830688477,20.929485321044922,-46.82392501831055,45.32993698120117,24.254249572753906,-9.696348190307617,-41.447021484375,-18.15804100036621,11.722128868103027,25.960683822631836,45.61109924316406,71.34342956542969,12.302987098693848,18.45573616027832,16.242053985595703,7.758752822875977,-50.0443229675293,15.321968078613281,23.652912139892578,-35.9279670715332,-22.16562271118164,15.646199226379395,16.434663772583008,-44.18531799316406,-23.198904037475586,-50.580020904541016,-67.78529357910156,32.85031509399414,-68.23345947265625,-58.168087005615234,44.608924865722656,-67.98548889160156,22.31273078918457,-21.511383056640625,14.550873756408691,-57.580291748046875,30.9024715423584,39.25284194946289,-64.9244155883789,51.04834747314453,-18.654577255249023,-50.028804779052734,-17.083045959472656,31.210779190063477,-46.0218505859375,25.363800048828125,14.817505836486816,31.66176414489746,-52.14330291748047,29.42552947998047,-68.61363983154297,9.433826446533203,14.425559997558594,-14.179396629333496,69.10920715332031,9.827940940856934,-46.23532485961914,12.809439659118652,1.4712018966674805,-21.169464111328125,-14.609101295471191,-3.236689329147339,36.20547103881836,49.41940689086914,-57.41303253173828,-53.10495376586914,-56.48190689086914,14.813159942626953,19.498327255249023,20.4967041015625,-12.686903953552246,-14.163229942321777,11.961526870727539,-47.57023620605469,-19.11720085144043,49.16572189331055,-59.93230438232422,-4.828693866729736,-3.307478427886963,-66.24010467529297,26.959247589111328,40.571533203125,5.279711723327637,-66.18640899658203,-37.032432556152344,49.813720703125,-6.91556978225708,12.831085205078125,-8.572151184082031,28.898942947387695,-9.943808555603027,29.959978103637695,6.286680221557617,14.649028778076172,-42.441688537597656,-20.374670028686523,44.323734283447266,32.948448181152344,-18.460651397705078,-22.86343002319336,-57.0435676574707,29.287269592285156,-0.49976983666419983,-5.396122932434082,-68.01885986328125,-56.189266204833984,6.435453414916992,28.386600494384766,-19.591764450073242,-48.964412689208984,40.628074645996094,31.256359100341797,-3.0176401138305664,8.779023170471191,-5.020561695098877,-14.545788764953613,28.641223907470703,-70.26863861083984,17.570444107055664,-3.374344825744629,24.479190826416016,17.0329647064209,7.908638000488281,-19.708419799804688,23.20684051513672,-23.036537170410156,-56.27629470825195,38.852699279785156,-9.815295219421387,45.15345764160156,-39.30391311645508,-45.452239990234375,-47.45414733886719,2.211529493331909,-11.907233238220215,-65.69439697265625,10.14487361907959,49.221614837646484,-0.30556124448776245,23.25050163269043,4.539600372314453,-41.0319938659668,18.01719856262207,-12.06441879272461,-12.366897583007812,29.962810516357422,22.558273315429688,49.474830627441406,-6.268551826477051,-1.9959977865219116,48.09974670410156,47.00971984863281,-19.40447425842285,-48.37612533569336,29.070262908935547,-65.36107635498047,-56.62346649169922,73.96337890625,35.797157287597656,51.00917053222656,23.000995635986328,-9.597290992736816,12.203484535217285,14.527253150939941,46.00356674194336,44.28385543823242,19.66654396057129,-18.433048248291016,12.97222900390625,15.904797554016113,-13.572372436523438,70.05193328857422,51.58236312866211,-2.186028242111206,51.229095458984375,24.217329025268555,-11.497748374938965,-31.574438095092773,9.980059623718262,-67.12621307373047,4.655601978302002,32.13404846191406,44.53596496582031,69.2923583984375,30.289705276489258,19.091751098632812,-2.2829458713531494,25.899024963378906,-58.97370147705078,44.224098205566406,8.28344440460205,0.6220951080322266,6.5845417976379395,24.070053100585938,31.7614688873291,27.240999221801758,-67.85295104980469,14.842206001281738,21.63227081298828,-16.450424194335938,32.33720779418945,-15.539490699768066,-17.978071212768555,18.035184860229492,-13.649824142456055,2.4816644191741943,-34.836978912353516,-3.3561902046203613,8.303961753845215,-54.26020431518555,-14.41246223449707,-16.901958465576172,-0.9679149389266968,9.256324768066406,18.123807907104492,48.536407470703125,34.51348876953125,-13.920411109924316,-66.05390930175781,3.649015426635742,0.4514833986759186,32.55485153198242,18.109554290771484,-9.836609840393066,-2.6547598838806152,-29.37806510925293,45.07791519165039,21.768085479736328,-46.45512771606445,-34.64848709106445,24.65340805053711,15.31192684173584,21.2716064453125,16.709918975830078,-19.58582878112793,-64.75016784667969,3.7195887565612793,-66.75847625732422,32.49973678588867,-14.772818565368652,-36.51475524902344,46.186344146728516,15.500109672546387,-20.27907943725586],\"yaxis\":\"y\",\"type\":\"scattergl\"}],                        {\"template\":{\"data\":{\"histogram2dcontour\":[{\"type\":\"histogram2dcontour\",\"colorbar\":{\"outlinewidth\":0,\"ticks\":\"\"},\"colorscale\":[[0.0,\"#0d0887\"],[0.1111111111111111,\"#46039f\"],[0.2222222222222222,\"#7201a8\"],[0.3333333333333333,\"#9c179e\"],[0.4444444444444444,\"#bd3786\"],[0.5555555555555556,\"#d8576b\"],[0.6666666666666666,\"#ed7953\"],[0.7777777777777778,\"#fb9f3a\"],[0.8888888888888888,\"#fdca26\"],[1.0,\"#f0f921\"]]}],\"choropleth\":[{\"type\":\"choropleth\",\"colorbar\":{\"outlinewidth\":0,\"ticks\":\"\"}}],\"histogram2d\":[{\"type\":\"histogram2d\",\"colorbar\":{\"outlinewidth\":0,\"ticks\":\"\"},\"colorscale\":[[0.0,\"#0d0887\"],[0.1111111111111111,\"#46039f\"],[0.2222222222222222,\"#7201a8\"],[0.3333333333333333,\"#9c179e\"],[0.4444444444444444,\"#bd3786\"],[0.5555555555555556,\"#d8576b\"],[0.6666666666666666,\"#ed7953\"],[0.7777777777777778,\"#fb9f3a\"],[0.8888888888888888,\"#fdca26\"],[1.0,\"#f0f921\"]]}],\"heatmap\":[{\"type\":\"heatmap\",\"colorbar\":{\"outlinewidth\":0,\"ticks\":\"\"},\"colorscale\":[[0.0,\"#0d0887\"],[0.1111111111111111,\"#46039f\"],[0.2222222222222222,\"#7201a8\"],[0.3333333333333333,\"#9c179e\"],[0.4444444444444444,\"#bd3786\"],[0.5555555555555556,\"#d8576b\"],[0.6666666666666666,\"#ed7953\"],[0.7777777777777778,\"#fb9f3a\"],[0.8888888888888888,\"#fdca26\"],[1.0,\"#f0f921\"]]}],\"heatmapgl\":[{\"type\":\"heatmapgl\",\"colorbar\":{\"outlinewidth\":0,\"ticks\":\"\"},\"colorscale\":[[0.0,\"#0d0887\"],[0.1111111111111111,\"#46039f\"],[0.2222222222222222,\"#7201a8\"],[0.3333333333333333,\"#9c179e\"],[0.4444444444444444,\"#bd3786\"],[0.5555555555555556,\"#d8576b\"],[0.6666666666666666,\"#ed7953\"],[0.7777777777777778,\"#fb9f3a\"],[0.8888888888888888,\"#fdca26\"],[1.0,\"#f0f921\"]]}],\"contourcarpet\":[{\"type\":\"contourcarpet\",\"colorbar\":{\"outlinewidth\":0,\"ticks\":\"\"}}],\"contour\":[{\"type\":\"contour\",\"colorbar\":{\"outlinewidth\":0,\"ticks\":\"\"},\"colorscale\":[[0.0,\"#0d0887\"],[0.1111111111111111,\"#46039f\"],[0.2222222222222222,\"#7201a8\"],[0.3333333333333333,\"#9c179e\"],[0.4444444444444444,\"#bd3786\"],[0.5555555555555556,\"#d8576b\"],[0.6666666666666666,\"#ed7953\"],[0.7777777777777778,\"#fb9f3a\"],[0.8888888888888888,\"#fdca26\"],[1.0,\"#f0f921\"]]}],\"surface\":[{\"type\":\"surface\",\"colorbar\":{\"outlinewidth\":0,\"ticks\":\"\"},\"colorscale\":[[0.0,\"#0d0887\"],[0.1111111111111111,\"#46039f\"],[0.2222222222222222,\"#7201a8\"],[0.3333333333333333,\"#9c179e\"],[0.4444444444444444,\"#bd3786\"],[0.5555555555555556,\"#d8576b\"],[0.6666666666666666,\"#ed7953\"],[0.7777777777777778,\"#fb9f3a\"],[0.8888888888888888,\"#fdca26\"],[1.0,\"#f0f921\"]]}],\"mesh3d\":[{\"type\":\"mesh3d\",\"colorbar\":{\"outlinewidth\":0,\"ticks\":\"\"}}],\"scatter\":[{\"fillpattern\":{\"fillmode\":\"overlay\",\"size\":10,\"solidity\":0.2},\"type\":\"scatter\"}],\"parcoords\":[{\"type\":\"parcoords\",\"line\":{\"colorbar\":{\"outlinewidth\":0,\"ticks\":\"\"}}}],\"scatterpolargl\":[{\"type\":\"scatterpolargl\",\"marker\":{\"colorbar\":{\"outlinewidth\":0,\"ticks\":\"\"}}}],\"bar\":[{\"error_x\":{\"color\":\"#2a3f5f\"},\"error_y\":{\"color\":\"#2a3f5f\"},\"marker\":{\"line\":{\"color\":\"#E5ECF6\",\"width\":0.5},\"pattern\":{\"fillmode\":\"overlay\",\"size\":10,\"solidity\":0.2}},\"type\":\"bar\"}],\"scattergeo\":[{\"type\":\"scattergeo\",\"marker\":{\"colorbar\":{\"outlinewidth\":0,\"ticks\":\"\"}}}],\"scatterpolar\":[{\"type\":\"scatterpolar\",\"marker\":{\"colorbar\":{\"outlinewidth\":0,\"ticks\":\"\"}}}],\"histogram\":[{\"marker\":{\"pattern\":{\"fillmode\":\"overlay\",\"size\":10,\"solidity\":0.2}},\"type\":\"histogram\"}],\"scattergl\":[{\"type\":\"scattergl\",\"marker\":{\"colorbar\":{\"outlinewidth\":0,\"ticks\":\"\"}}}],\"scatter3d\":[{\"type\":\"scatter3d\",\"line\":{\"colorbar\":{\"outlinewidth\":0,\"ticks\":\"\"}},\"marker\":{\"colorbar\":{\"outlinewidth\":0,\"ticks\":\"\"}}}],\"scattermapbox\":[{\"type\":\"scattermapbox\",\"marker\":{\"colorbar\":{\"outlinewidth\":0,\"ticks\":\"\"}}}],\"scatterternary\":[{\"type\":\"scatterternary\",\"marker\":{\"colorbar\":{\"outlinewidth\":0,\"ticks\":\"\"}}}],\"scattercarpet\":[{\"type\":\"scattercarpet\",\"marker\":{\"colorbar\":{\"outlinewidth\":0,\"ticks\":\"\"}}}],\"carpet\":[{\"aaxis\":{\"endlinecolor\":\"#2a3f5f\",\"gridcolor\":\"white\",\"linecolor\":\"white\",\"minorgridcolor\":\"white\",\"startlinecolor\":\"#2a3f5f\"},\"baxis\":{\"endlinecolor\":\"#2a3f5f\",\"gridcolor\":\"white\",\"linecolor\":\"white\",\"minorgridcolor\":\"white\",\"startlinecolor\":\"#2a3f5f\"},\"type\":\"carpet\"}],\"table\":[{\"cells\":{\"fill\":{\"color\":\"#EBF0F8\"},\"line\":{\"color\":\"white\"}},\"header\":{\"fill\":{\"color\":\"#C8D4E3\"},\"line\":{\"color\":\"white\"}},\"type\":\"table\"}],\"barpolar\":[{\"marker\":{\"line\":{\"color\":\"#E5ECF6\",\"width\":0.5},\"pattern\":{\"fillmode\":\"overlay\",\"size\":10,\"solidity\":0.2}},\"type\":\"barpolar\"}],\"pie\":[{\"automargin\":true,\"type\":\"pie\"}]},\"layout\":{\"autotypenumbers\":\"strict\",\"colorway\":[\"#636efa\",\"#EF553B\",\"#00cc96\",\"#ab63fa\",\"#FFA15A\",\"#19d3f3\",\"#FF6692\",\"#B6E880\",\"#FF97FF\",\"#FECB52\"],\"font\":{\"color\":\"#2a3f5f\"},\"hovermode\":\"closest\",\"hoverlabel\":{\"align\":\"left\"},\"paper_bgcolor\":\"white\",\"plot_bgcolor\":\"#E5ECF6\",\"polar\":{\"bgcolor\":\"#E5ECF6\",\"angularaxis\":{\"gridcolor\":\"white\",\"linecolor\":\"white\",\"ticks\":\"\"},\"radialaxis\":{\"gridcolor\":\"white\",\"linecolor\":\"white\",\"ticks\":\"\"}},\"ternary\":{\"bgcolor\":\"#E5ECF6\",\"aaxis\":{\"gridcolor\":\"white\",\"linecolor\":\"white\",\"ticks\":\"\"},\"baxis\":{\"gridcolor\":\"white\",\"linecolor\":\"white\",\"ticks\":\"\"},\"caxis\":{\"gridcolor\":\"white\",\"linecolor\":\"white\",\"ticks\":\"\"}},\"coloraxis\":{\"colorbar\":{\"outlinewidth\":0,\"ticks\":\"\"}},\"colorscale\":{\"sequential\":[[0.0,\"#0d0887\"],[0.1111111111111111,\"#46039f\"],[0.2222222222222222,\"#7201a8\"],[0.3333333333333333,\"#9c179e\"],[0.4444444444444444,\"#bd3786\"],[0.5555555555555556,\"#d8576b\"],[0.6666666666666666,\"#ed7953\"],[0.7777777777777778,\"#fb9f3a\"],[0.8888888888888888,\"#fdca26\"],[1.0,\"#f0f921\"]],\"sequentialminus\":[[0.0,\"#0d0887\"],[0.1111111111111111,\"#46039f\"],[0.2222222222222222,\"#7201a8\"],[0.3333333333333333,\"#9c179e\"],[0.4444444444444444,\"#bd3786\"],[0.5555555555555556,\"#d8576b\"],[0.6666666666666666,\"#ed7953\"],[0.7777777777777778,\"#fb9f3a\"],[0.8888888888888888,\"#fdca26\"],[1.0,\"#f0f921\"]],\"diverging\":[[0,\"#8e0152\"],[0.1,\"#c51b7d\"],[0.2,\"#de77ae\"],[0.3,\"#f1b6da\"],[0.4,\"#fde0ef\"],[0.5,\"#f7f7f7\"],[0.6,\"#e6f5d0\"],[0.7,\"#b8e186\"],[0.8,\"#7fbc41\"],[0.9,\"#4d9221\"],[1,\"#276419\"]]},\"xaxis\":{\"gridcolor\":\"white\",\"linecolor\":\"white\",\"ticks\":\"\",\"title\":{\"standoff\":15},\"zerolinecolor\":\"white\",\"automargin\":true,\"zerolinewidth\":2},\"yaxis\":{\"gridcolor\":\"white\",\"linecolor\":\"white\",\"ticks\":\"\",\"title\":{\"standoff\":15},\"zerolinecolor\":\"white\",\"automargin\":true,\"zerolinewidth\":2},\"scene\":{\"xaxis\":{\"backgroundcolor\":\"#E5ECF6\",\"gridcolor\":\"white\",\"linecolor\":\"white\",\"showbackground\":true,\"ticks\":\"\",\"zerolinecolor\":\"white\",\"gridwidth\":2},\"yaxis\":{\"backgroundcolor\":\"#E5ECF6\",\"gridcolor\":\"white\",\"linecolor\":\"white\",\"showbackground\":true,\"ticks\":\"\",\"zerolinecolor\":\"white\",\"gridwidth\":2},\"zaxis\":{\"backgroundcolor\":\"#E5ECF6\",\"gridcolor\":\"white\",\"linecolor\":\"white\",\"showbackground\":true,\"ticks\":\"\",\"zerolinecolor\":\"white\",\"gridwidth\":2}},\"shapedefaults\":{\"line\":{\"color\":\"#2a3f5f\"}},\"annotationdefaults\":{\"arrowcolor\":\"#2a3f5f\",\"arrowhead\":0,\"arrowwidth\":1},\"geo\":{\"bgcolor\":\"white\",\"landcolor\":\"#E5ECF6\",\"subunitcolor\":\"white\",\"showland\":true,\"showlakes\":true,\"lakecolor\":\"white\"},\"title\":{\"x\":0.05},\"mapbox\":{\"style\":\"light\"}}},\"xaxis\":{\"anchor\":\"y\",\"domain\":[0.0,1.0],\"title\":{\"text\":\"Componente 1\"}},\"yaxis\":{\"anchor\":\"x\",\"domain\":[0.0,1.0],\"title\":{\"text\":\"Componente 2\"}},\"coloraxis\":{\"colorbar\":{\"title\":{\"text\":\"Cluster\"}},\"colorscale\":[[0.0,\"#0d0887\"],[0.1111111111111111,\"#46039f\"],[0.2222222222222222,\"#7201a8\"],[0.3333333333333333,\"#9c179e\"],[0.4444444444444444,\"#bd3786\"],[0.5555555555555556,\"#d8576b\"],[0.6666666666666666,\"#ed7953\"],[0.7777777777777778,\"#fb9f3a\"],[0.8888888888888888,\"#fdca26\"],[1.0,\"#f0f921\"]]},\"legend\":{\"tracegroupgap\":0},\"margin\":{\"t\":60},\"title\":{\"text\":\"Clusters de Clientes\"}},                        {\"responsive\": true}                    ).then(function(){\n",
              "                            \n",
              "var gd = document.getElementById('8537525e-b4b5-41d7-b7cd-a0dd25054e43');\n",
              "var x = new MutationObserver(function (mutations, observer) {{\n",
              "        var display = window.getComputedStyle(gd).display;\n",
              "        if (!display || display === 'none') {{\n",
              "            console.log([gd, 'removed!']);\n",
              "            Plotly.purge(gd);\n",
              "            observer.disconnect();\n",
              "        }}\n",
              "}});\n",
              "\n",
              "// Listen for the removal of the full notebook cells\n",
              "var notebookContainer = gd.closest('#notebook-container');\n",
              "if (notebookContainer) {{\n",
              "    x.observe(notebookContainer, {childList: true});\n",
              "}}\n",
              "\n",
              "// Listen for the clearing of the current output cell\n",
              "var outputEl = gd.closest('.output');\n",
              "if (outputEl) {{\n",
              "    x.observe(outputEl, {childList: true});\n",
              "}}\n",
              "\n",
              "                        })                };                            </script>        </div>\n",
              "</body>\n",
              "</html>"
            ]
          },
          "metadata": {}
        }
      ]
    },
    {
      "cell_type": "markdown",
      "source": [
        "Los clusters no se separan de manera perfecta, especialmente el cluster 1 (en rojo) de clientes muy fieles del cluster 0 (en azul) de clientes regulares. De todas formas se aprecia que el cluster 1 tiene los puntos menos dispersos que el resto de los clusters 2 (en amarillo) y 0, pero la decisión en los bordes no es muy clara, es decir, no queda claro a qué cluster asignar un punto que está alrededor del medio del gráfico (en la frontera del cluster 0 y 1). Respecto al cluster 2 de clientes ocasionales, está bien separado del resto en general, salvo cuando se acerca al medio del gráfico que es donde surge el problema de las fronteras mencionado. Este motivo nos lleva a pensar que quizás el algoritmo de clustering de K-Means no es el más adecuado para este dataset, por lo que queda propuesto para futuro verificar qué sucede con otros algoritmos."
      ],
      "metadata": {
        "id": "UBDKfRODYIs-"
      }
    },
    {
      "cell_type": "markdown",
      "source": [
        "# Conclusión\n",
        "Eso ha sido todo para el lab de hoy, recuerden que el laboratorio tiene un plazo de entrega de una semana. Cualquier duda del laboratorio, no duden en contactarnos por correo, Discord o U-cursos.\n",
        "\n",
        "![Gracias Totales!](https://i.pinimg.com/originals/65/ae/27/65ae270df87c3c4adcea997e48f60852.gif \"bruno\")\n"
      ],
      "metadata": {
        "id": "Rg4ZMq8ezAH6",
        "cell_id": "94721075d5ff44bd83601c871797ae2a",
        "deepnote_cell_height": 514.4666748046875,
        "deepnote_cell_type": "markdown"
      }
    },
    {
      "cell_type": "markdown",
      "source": [
        "<br>\n",
        "<center>\n",
        "<img src=\"https://i.kym-cdn.com/photos/images/original/001/194/195/b18.png\" width=100 height=50 />\n",
        "</center>\n",
        "<br>"
      ],
      "metadata": {
        "id": "wCL1lACBzAH7",
        "cell_id": "7e31a91f8cb744cabd0ed0287ac5257e",
        "deepnote_cell_height": 171.28334045410156,
        "deepnote_cell_type": "markdown"
      }
    },
    {
      "cell_type": "markdown",
      "source": [
        "<a style='text-decoration:none;line-height:16px;display:flex;color:#5B5B62;padding:10px;justify-content:end;' href='https://deepnote.com?utm_source=created-in-deepnote-cell&projectId=87110296-876e-426f-b91d-aaf681223468' target=\"_blank\">\n",
        "<img alt='Created in deepnote.com' style='display:inline;max-height:16px;margin:0px;margin-right:7.5px;' src='data:image/svg+xml;base64,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' > </img>\n",
        "Created in <span style='font-weight:600;margin-left:4px;'>Deepnote</span></a>"
      ],
      "metadata": {
        "created_in_deepnote_cell": true,
        "deepnote_cell_type": "markdown",
        "id": "EZKHteK2ZIeE"
      }
    }
  ],
  "nbformat": 4,
  "nbformat_minor": 0,
  "metadata": {
    "toc": {
      "sideBar": true,
      "nav_menu": {},
      "toc_cell": false,
      "title_cell": "Tabla de Contenidos",
      "toc_position": {
        "top": "150px",
        "left": "10px",
        "width": "241.867px",
        "height": "calc(100% - 180px)"
      },
      "skip_h1_title": true,
      "title_sidebar": "Contenidos",
      "base_numbering": 1,
      "number_sections": true,
      "toc_window_display": true,
      "toc_section_display": true
    },
    "colab": {
      "provenance": []
    },
    "deepnote": {},
    "kernelspec": {
      "name": "python3",
      "language": "python",
      "display_name": "Python 3"
    },
    "varInspector": {
      "cols": {
        "lenVar": 40,
        "lenName": 16,
        "lenType": 16
      },
      "kernels_config": {
        "r": {
          "library": "var_list.r",
          "varRefreshCmd": "cat(var_dic_list()) ",
          "delete_cmd_prefix": "rm(",
          "delete_cmd_postfix": ") "
        },
        "python": {
          "library": "var_list.py",
          "varRefreshCmd": "print(var_dic_list())",
          "delete_cmd_prefix": "del ",
          "delete_cmd_postfix": ""
        }
      },
      "window_display": false,
      "types_to_exclude": [
        "module",
        "function",
        "builtin_function_or_method",
        "instance",
        "_Feature"
      ]
    },
    "language_info": {
      "name": "python",
      "version": "3.8.3",
      "mimetype": "text/x-python",
      "file_extension": ".py",
      "pygments_lexer": "ipython3",
      "codemirror_mode": {
        "name": "ipython",
        "version": 3
      },
      "nbconvert_exporter": "python"
    },
    "deepnote_notebook_id": "33c253a4f84d40a091bd5023e95abb64",
    "deepnote_execution_queue": []
  }
}
