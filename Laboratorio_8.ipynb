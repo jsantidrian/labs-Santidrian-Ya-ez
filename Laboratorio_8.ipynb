{
  "cells": [
    {
      "cell_type": "markdown",
      "source": [
        "<h1><center>Laboratorio 8: Aprendizaje Supervisado 🔮</center></h1>\n",
        "\n",
        "<center><strong>MDS7202: Laboratorio de Programación Científica para Ciencia de Datos</strong></center>"
      ],
      "metadata": {
        "id": "XUZ1dFPHzAHl",
        "cell_id": "e651654461c3474fb2b0d36de22a6c14",
        "deepnote_cell_height": 103.53334045410156,
        "deepnote_cell_type": "markdown"
      }
    },
    {
      "cell_type": "markdown",
      "source": [
        "### Cuerpo Docente:\n",
        "\n",
        "- Profesor: Pablo Badilla y Ignacio Meza\n",
        "- Auxiliar: Sebastián Tinoco\n",
        "- Ayudante: Felipe Arias y Diego Cortez"
      ],
      "metadata": {
        "id": "UD8X1uhGzAHq",
        "cell_id": "7a6943958920482eb851e608d1efb6ac",
        "deepnote_cell_type": "markdown"
      }
    },
    {
      "cell_type": "markdown",
      "source": [
        "### Equipo: SUPER IMPORTANTE - notebooks sin nombre no serán revisados\n",
        "\n",
        "- Nombre de alumno 1: Javier Santidrián Salas\n",
        "- Nombre de alumno 2: Patricio Yáñez Alarcón\n"
      ],
      "metadata": {
        "id": "tXflExjqzAHr",
        "cell_id": "0202c4ed94184a289e51ca5325b8afba",
        "deepnote_cell_height": 139.5,
        "deepnote_cell_type": "markdown"
      }
    },
    {
      "cell_type": "markdown",
      "source": [
        "### **Link de repositorio de GitHub:** https://github.com/jsantidrian/labs-Santidrian-Yanez"
      ],
      "metadata": {
        "id": "AD-V0bbZzAHr",
        "cell_id": "ce180f8cd3f3485fabbe6c0959a648db",
        "deepnote_cell_height": 61.28334045410156,
        "deepnote_cell_type": "markdown"
      }
    },
    {
      "cell_type": "markdown",
      "source": [
        "## Temas a tratar\n",
        "\n",
        "- Aprendizaje Supervisado\n",
        "- Flujos de datos a través de `Pipelines`.\n",
        "\n",
        "## Reglas\n",
        "\n",
        "- **Grupos de 2 personas**\n",
        "- Asistencia **obligatoria** a instrucciones del lab (viernes 16.15). Luego, pueden quedarse trabajando en las salas o irse.\n",
        "- **No se revisarán entregas de personas ausentes**.\n",
        "- Cualquier duda fuera del horario de clases al foro. Mensajes al equipo docente serán respondidos por este medio.\n",
        "- Prohibidas las copias.\n",
        "- Pueden usar cualquer matrial del curso que estimen conveniente.\n",
        "\n",
        "## Objetivos principales del laboratorio\n",
        "\n",
        "- Comprender el funcionamiento de clasificadores/regresores.\n",
        "- Generar múltiples modelos predictivos.\n",
        "- Comprender las ventajas de crear modelos en pipeline vs hacer las operaciones a mano.\n",
        "\n",
        "El laboratorio deberá ser desarrollado sin el uso indiscriminado de iteradores nativos de python (aka \"for\", \"while\"). La idea es que aprendan a exprimir al máximo las funciones optimizadas que nos entrega `pandas`, las cuales vale mencionar, son bastante más eficientes que los iteradores nativos sobre `DataFrames`."
      ],
      "metadata": {
        "id": "6uBLPj1PzAHs",
        "cell_id": "df3ab193db4a4f09ac25dbe605e3a83a",
        "deepnote_cell_height": 603.8499755859375,
        "deepnote_cell_type": "markdown"
      }
    },
    {
      "cell_type": "markdown",
      "source": [
        "### Importamos librerias utiles 😸"
      ],
      "metadata": {
        "id": "MhISwri4zAHy",
        "cell_id": "ad2df18de2544420960174a3f424bc5c",
        "deepnote_cell_height": 61.133331298828125,
        "deepnote_cell_type": "markdown"
      }
    },
    {
      "cell_type": "code",
      "source": [
        "# Libreria Core del lab.\n",
        "import numpy as np\n",
        "import pandas as pd\n",
        "from sklearn.pipeline import Pipeline\n",
        "from sklearn.compose import ColumnTransformer\n",
        "from sklearn.model_selection import train_test_split\n",
        "\n",
        "# Pre-procesamiento\n",
        "from sklearn.preprocessing import MinMaxScaler\n",
        "from sklearn.preprocessing import StandardScaler\n",
        "from sklearn.preprocessing import FunctionTransformer\n",
        "from sklearn.preprocessing import PowerTransformer\n",
        "from sklearn.preprocessing import OneHotEncoder\n",
        "from sklearn.preprocessing import OrdinalEncoder\n",
        "\n",
        "# Clasificadores/Regresores\n",
        "from sklearn.svm import LinearSVC\n",
        "from sklearn.neighbors import KNeighborsClassifier\n",
        "from sklearn.ensemble import RandomForestClassifier\n",
        "from sklearn.tree import DecisionTreeClassifier\n",
        "from sklearn.ensemble import RandomForestRegressor\n",
        "from sklearn.svm import SVR\n",
        "\n",
        "# Metricas de evaluación\n",
        "from sklearn.metrics import classification_report\n",
        "from sklearn.metrics import accuracy_score\n",
        "from sklearn.metrics import f1_score\n",
        "from sklearn.metrics import cohen_kappa_score\n",
        "from sklearn.metrics import r2_score\n",
        "\n",
        "#Libreria para plotear\n",
        "!pip install --upgrade plotly\n",
        "import plotly.express as px\n",
        "from plotly.subplots import make_subplots\n",
        "import plotly.graph_objects as go"
      ],
      "metadata": {
        "id": "uyc33dKdzAHy",
        "colab": {
          "base_uri": "https://localhost:8080/"
        },
        "cell_id": "c99537db269c4b04970732c3cccac0c9",
        "outputId": "d6ecfad6-defb-4002-bf7b-043cd800fa2e",
        "ExecuteTime": {
          "end_time": "2021-03-29T00:08:16.884674Z",
          "start_time": "2021-03-29T00:08:16.349846Z"
        },
        "source_hash": "cb3614e",
        "owner_user_id": "badcc427-fd3d-4615-9296-faa43ec69cfb",
        "execution_start": 1636741163382,
        "execution_millis": 7630,
        "deepnote_to_be_reexecuted": false,
        "deepnote_cell_type": "code"
      },
      "outputs": [
        {
          "output_type": "stream",
          "name": "stdout",
          "text": [
            "Looking in indexes: https://pypi.org/simple, https://us-python.pkg.dev/colab-wheels/public/simple/\n",
            "Requirement already satisfied: plotly in /usr/local/lib/python3.10/dist-packages (5.13.1)\n",
            "Collecting plotly\n",
            "  Downloading plotly-5.15.0-py2.py3-none-any.whl (15.5 MB)\n",
            "\u001b[2K     \u001b[90m━━━━━━━━━━━━━━━━━━━━━━━━━━━━━━━━━━━━━━━━\u001b[0m \u001b[32m15.5/15.5 MB\u001b[0m \u001b[31m78.3 MB/s\u001b[0m eta \u001b[36m0:00:00\u001b[0m\n",
            "\u001b[?25hRequirement already satisfied: tenacity>=6.2.0 in /usr/local/lib/python3.10/dist-packages (from plotly) (8.2.2)\n",
            "Requirement already satisfied: packaging in /usr/local/lib/python3.10/dist-packages (from plotly) (23.1)\n",
            "Installing collected packages: plotly\n",
            "  Attempting uninstall: plotly\n",
            "    Found existing installation: plotly 5.13.1\n",
            "    Uninstalling plotly-5.13.1:\n",
            "      Successfully uninstalled plotly-5.13.1\n",
            "Successfully installed plotly-5.15.0\n"
          ]
        }
      ],
      "execution_count": null
    },
    {
      "cell_type": "markdown",
      "source": [
        "https://www.kaggle.com/antoinekrajnc/soccer-players-statistics"
      ],
      "metadata": {
        "id": "5FTGE74b3FBU",
        "cell_id": "3960faa7a101458896294c72b4b0758c",
        "deepnote_cell_height": 51.53334045410156,
        "deepnote_cell_type": "markdown"
      }
    },
    {
      "cell_type": "markdown",
      "source": [
        "# 1. Predicciones Futboleras\n",
        "\n",
        "<p align=\"center\">\n",
        "  <img src=\"https://drive.google.com/uc?export=view&id=1BnO4tyh3vM2P199Ec9s3JjngQ4qQ9seP\"\n",
        "\" width=\"300\">\n",
        "</p>\n",
        "\n",
        "\n",
        "Tras el trágico despido de la mítica mascota de Maipú, Renacín decide adentrarse como consultor en el mercado futbolero, el cuál (para variar...) está cargado en especulaciones.\n",
        "\n",
        "Como su principal tarea será asesorar a los directivos de los clubes sobre cuál jugador comprar y cuál no, Renacín desea generar modelos predictivos que evaluén distintas características de los jugadores; todo con el fin de tomar decisiones concretas basadas en los datos.\n",
        "\n",
        "Sin embargo, su condición de corporeo le impidió tomar la versión anterior de MDS7202, por lo que este motivo Renacín contrata a su equipo para lograr su objetivo final. Dado que aún tiene fuertes vínculos con la dirección de deportes de la municipalidad, el corporeo le entrega base de datos con las estadísticas de cada jugador para que su equipo empieze a trabajar ya con un dataset listo para ser usado.\n"
      ],
      "metadata": {
        "id": "xpOTbQcxbSiy",
        "cell_id": "f9e9147f05744f749e29d4134157f1f3",
        "deepnote_cell_height": 305.933349609375,
        "deepnote_cell_type": "markdown"
      }
    },
    {
      "cell_type": "markdown",
      "source": [
        "**Los Datos**\n",
        "\n",
        "Para este laboratorio deberán trabajar con los csv `statsplayers.csv` y `salarios.pickle`, donde deberán aplicar algoritmos de de aprendizaje supervisado (clasificación y regresión) en base a características que describen de jugadores de futbol.\n",
        "\n",
        "Para comenzar cargue el dataset señalado y a continuación vea el reporte **`Player_Stats_Report.html`** (adjunto en la carpeta del enunciado) que describe las características principales del `DataFrame`."
      ],
      "metadata": {
        "id": "jnmZfFpxTTYX",
        "cell_id": "5b831ae5e73547a1ae5f96b453f1ab2d",
        "deepnote_cell_height": 169.13333129882812,
        "deepnote_cell_type": "markdown"
      }
    },
    {
      "cell_type": "code",
      "source": [
        "from google.colab import drive\n",
        "drive.mount(\"/content/drive\")"
      ],
      "metadata": {
        "id": "Jqq-s010Iwl1",
        "colab": {
          "base_uri": "https://localhost:8080/"
        },
        "cell_id": "9b9505acaf3f4906bbfc1950b04d9dca",
        "outputId": "ba8150be-27fa-4dd5-e082-a7a740a74034",
        "source_hash": "c60dc4a7",
        "execution_start": 1636741171022,
        "execution_millis": 7,
        "deepnote_to_be_reexecuted": false,
        "deepnote_cell_type": "code"
      },
      "outputs": [
        {
          "output_type": "stream",
          "name": "stdout",
          "text": [
            "Mounted at /content/drive\n"
          ]
        }
      ],
      "execution_count": null
    },
    {
      "cell_type": "code",
      "source": [
        "df_players = pd.read_csv('/content/drive/My Drive/U/11 Semestre/Lab Progra/Labs/Lab 8/stats_players.csv')\n",
        "df_salarios = pd.read_csv('/content/drive/My Drive/U/11 Semestre/Lab Progra/Labs/Lab 8/salarios.csv')"
      ],
      "metadata": {
        "id": "bED3w3tDbSCf",
        "cell_id": "bbd60dabcba44542826c491f69c1f53c",
        "source_hash": "65944a94",
        "execution_start": 1636742947300,
        "execution_millis": 184,
        "deepnote_to_be_reexecuted": false,
        "deepnote_cell_type": "code"
      },
      "outputs": [],
      "execution_count": null
    },
    {
      "cell_type": "markdown",
      "source": [
        "Visualizamos:"
      ],
      "metadata": {
        "id": "zl6d5aEwtREn"
      }
    },
    {
      "cell_type": "code",
      "source": [
        "df_players"
      ],
      "metadata": {
        "colab": {
          "base_uri": "https://localhost:8080/",
          "height": 661
        },
        "id": "nAZD9m1dtKiz",
        "outputId": "f3b7f6c5-41d0-495a-f2e8-f0d5d88d2b0f"
      },
      "execution_count": null,
      "outputs": [
        {
          "output_type": "execute_result",
          "data": {
            "text/plain": [
              "                    Name          Nationality National_Position Club_Position  \\\n",
              "0      Cristiano Ronaldo             Portugal                LS            LW   \n",
              "1           Lionel Messi            Argentina                RW            RW   \n",
              "2                 Neymar               Brazil                LW            LW   \n",
              "3            Luis Suárez              Uruguay                LS            ST   \n",
              "4           Manuel Neuer              Germany                GK            GK   \n",
              "...                  ...                  ...               ...           ...   \n",
              "17583        Adam Dunbar  Republic of Ireland               NaN           Sub   \n",
              "17584       Dylan McGoey  Republic of Ireland               NaN           Sub   \n",
              "17585    Tommy Ouldridge              England               NaN           Res   \n",
              "17586         Mark Foden             Scotland               NaN           Sub   \n",
              "17587   Barry Richardson              England               NaN           Sub   \n",
              "\n",
              "       Height  Weight Preffered_Foot  Age        Work_Rate  Weak_foot  ...  \\\n",
              "0         185      80          Right   32       High / Low          4  ...   \n",
              "1         170      72           Left   29  Medium / Medium          4  ...   \n",
              "2         174      68          Right   25    High / Medium          5  ...   \n",
              "3         182      85          Right   30    High / Medium          4  ...   \n",
              "4         193      92          Right   31  Medium / Medium          4  ...   \n",
              "...       ...     ...            ...  ...              ...        ...  ...   \n",
              "17583     183      82          Right   19  Medium / Medium          1  ...   \n",
              "17584     185      80          Right   19  Medium / Medium          2  ...   \n",
              "17585     173      61          Right   18    High / Medium          2  ...   \n",
              "17586     180      80          Right   21  Medium / Medium          3  ...   \n",
              "17587     185      77          Right   47  Medium / Medium          2  ...   \n",
              "\n",
              "       Agility  Jumping  Heading  Shot_Power  Finishing  Long_Shots  Curve  \\\n",
              "0           90       95       85          92         93          90     81   \n",
              "1           90       68       71          85         95          88     89   \n",
              "2           96       61       62          78         89          77     79   \n",
              "3           86       69       77          87         94          86     86   \n",
              "4           52       78       25          25         13          16     14   \n",
              "...        ...      ...      ...         ...        ...         ...    ...   \n",
              "17583       27       56       14          16         13          13     11   \n",
              "17584       28       53       12          17         12          11     12   \n",
              "17585       54       61       41          44         28          42     35   \n",
              "17586       34       48       15          23         14          12     13   \n",
              "17587       38       51       12          13         11          16     12   \n",
              "\n",
              "       Freekick_Accuracy  Penalties  Volleys  \n",
              "0                     76         85       88  \n",
              "1                     90         74       85  \n",
              "2                     84         81       83  \n",
              "3                     84         85       88  \n",
              "4                     11         47       11  \n",
              "...                  ...        ...      ...  \n",
              "17583                 13         15       12  \n",
              "17584                 13         16       12  \n",
              "17585                 36         42       37  \n",
              "17586                 12         24       12  \n",
              "17587                 11         22       12  \n",
              "\n",
              "[17588 rows x 39 columns]"
            ],
            "text/html": [
              "\n",
              "  <div id=\"df-630125cf-e733-4c7d-8b78-fe17b90b8a22\">\n",
              "    <div class=\"colab-df-container\">\n",
              "      <div>\n",
              "<style scoped>\n",
              "    .dataframe tbody tr th:only-of-type {\n",
              "        vertical-align: middle;\n",
              "    }\n",
              "\n",
              "    .dataframe tbody tr th {\n",
              "        vertical-align: top;\n",
              "    }\n",
              "\n",
              "    .dataframe thead th {\n",
              "        text-align: right;\n",
              "    }\n",
              "</style>\n",
              "<table border=\"1\" class=\"dataframe\">\n",
              "  <thead>\n",
              "    <tr style=\"text-align: right;\">\n",
              "      <th></th>\n",
              "      <th>Name</th>\n",
              "      <th>Nationality</th>\n",
              "      <th>National_Position</th>\n",
              "      <th>Club_Position</th>\n",
              "      <th>Height</th>\n",
              "      <th>Weight</th>\n",
              "      <th>Preffered_Foot</th>\n",
              "      <th>Age</th>\n",
              "      <th>Work_Rate</th>\n",
              "      <th>Weak_foot</th>\n",
              "      <th>...</th>\n",
              "      <th>Agility</th>\n",
              "      <th>Jumping</th>\n",
              "      <th>Heading</th>\n",
              "      <th>Shot_Power</th>\n",
              "      <th>Finishing</th>\n",
              "      <th>Long_Shots</th>\n",
              "      <th>Curve</th>\n",
              "      <th>Freekick_Accuracy</th>\n",
              "      <th>Penalties</th>\n",
              "      <th>Volleys</th>\n",
              "    </tr>\n",
              "  </thead>\n",
              "  <tbody>\n",
              "    <tr>\n",
              "      <th>0</th>\n",
              "      <td>Cristiano Ronaldo</td>\n",
              "      <td>Portugal</td>\n",
              "      <td>LS</td>\n",
              "      <td>LW</td>\n",
              "      <td>185</td>\n",
              "      <td>80</td>\n",
              "      <td>Right</td>\n",
              "      <td>32</td>\n",
              "      <td>High / Low</td>\n",
              "      <td>4</td>\n",
              "      <td>...</td>\n",
              "      <td>90</td>\n",
              "      <td>95</td>\n",
              "      <td>85</td>\n",
              "      <td>92</td>\n",
              "      <td>93</td>\n",
              "      <td>90</td>\n",
              "      <td>81</td>\n",
              "      <td>76</td>\n",
              "      <td>85</td>\n",
              "      <td>88</td>\n",
              "    </tr>\n",
              "    <tr>\n",
              "      <th>1</th>\n",
              "      <td>Lionel Messi</td>\n",
              "      <td>Argentina</td>\n",
              "      <td>RW</td>\n",
              "      <td>RW</td>\n",
              "      <td>170</td>\n",
              "      <td>72</td>\n",
              "      <td>Left</td>\n",
              "      <td>29</td>\n",
              "      <td>Medium / Medium</td>\n",
              "      <td>4</td>\n",
              "      <td>...</td>\n",
              "      <td>90</td>\n",
              "      <td>68</td>\n",
              "      <td>71</td>\n",
              "      <td>85</td>\n",
              "      <td>95</td>\n",
              "      <td>88</td>\n",
              "      <td>89</td>\n",
              "      <td>90</td>\n",
              "      <td>74</td>\n",
              "      <td>85</td>\n",
              "    </tr>\n",
              "    <tr>\n",
              "      <th>2</th>\n",
              "      <td>Neymar</td>\n",
              "      <td>Brazil</td>\n",
              "      <td>LW</td>\n",
              "      <td>LW</td>\n",
              "      <td>174</td>\n",
              "      <td>68</td>\n",
              "      <td>Right</td>\n",
              "      <td>25</td>\n",
              "      <td>High / Medium</td>\n",
              "      <td>5</td>\n",
              "      <td>...</td>\n",
              "      <td>96</td>\n",
              "      <td>61</td>\n",
              "      <td>62</td>\n",
              "      <td>78</td>\n",
              "      <td>89</td>\n",
              "      <td>77</td>\n",
              "      <td>79</td>\n",
              "      <td>84</td>\n",
              "      <td>81</td>\n",
              "      <td>83</td>\n",
              "    </tr>\n",
              "    <tr>\n",
              "      <th>3</th>\n",
              "      <td>Luis Suárez</td>\n",
              "      <td>Uruguay</td>\n",
              "      <td>LS</td>\n",
              "      <td>ST</td>\n",
              "      <td>182</td>\n",
              "      <td>85</td>\n",
              "      <td>Right</td>\n",
              "      <td>30</td>\n",
              "      <td>High / Medium</td>\n",
              "      <td>4</td>\n",
              "      <td>...</td>\n",
              "      <td>86</td>\n",
              "      <td>69</td>\n",
              "      <td>77</td>\n",
              "      <td>87</td>\n",
              "      <td>94</td>\n",
              "      <td>86</td>\n",
              "      <td>86</td>\n",
              "      <td>84</td>\n",
              "      <td>85</td>\n",
              "      <td>88</td>\n",
              "    </tr>\n",
              "    <tr>\n",
              "      <th>4</th>\n",
              "      <td>Manuel Neuer</td>\n",
              "      <td>Germany</td>\n",
              "      <td>GK</td>\n",
              "      <td>GK</td>\n",
              "      <td>193</td>\n",
              "      <td>92</td>\n",
              "      <td>Right</td>\n",
              "      <td>31</td>\n",
              "      <td>Medium / Medium</td>\n",
              "      <td>4</td>\n",
              "      <td>...</td>\n",
              "      <td>52</td>\n",
              "      <td>78</td>\n",
              "      <td>25</td>\n",
              "      <td>25</td>\n",
              "      <td>13</td>\n",
              "      <td>16</td>\n",
              "      <td>14</td>\n",
              "      <td>11</td>\n",
              "      <td>47</td>\n",
              "      <td>11</td>\n",
              "    </tr>\n",
              "    <tr>\n",
              "      <th>...</th>\n",
              "      <td>...</td>\n",
              "      <td>...</td>\n",
              "      <td>...</td>\n",
              "      <td>...</td>\n",
              "      <td>...</td>\n",
              "      <td>...</td>\n",
              "      <td>...</td>\n",
              "      <td>...</td>\n",
              "      <td>...</td>\n",
              "      <td>...</td>\n",
              "      <td>...</td>\n",
              "      <td>...</td>\n",
              "      <td>...</td>\n",
              "      <td>...</td>\n",
              "      <td>...</td>\n",
              "      <td>...</td>\n",
              "      <td>...</td>\n",
              "      <td>...</td>\n",
              "      <td>...</td>\n",
              "      <td>...</td>\n",
              "      <td>...</td>\n",
              "    </tr>\n",
              "    <tr>\n",
              "      <th>17583</th>\n",
              "      <td>Adam Dunbar</td>\n",
              "      <td>Republic of Ireland</td>\n",
              "      <td>NaN</td>\n",
              "      <td>Sub</td>\n",
              "      <td>183</td>\n",
              "      <td>82</td>\n",
              "      <td>Right</td>\n",
              "      <td>19</td>\n",
              "      <td>Medium / Medium</td>\n",
              "      <td>1</td>\n",
              "      <td>...</td>\n",
              "      <td>27</td>\n",
              "      <td>56</td>\n",
              "      <td>14</td>\n",
              "      <td>16</td>\n",
              "      <td>13</td>\n",
              "      <td>13</td>\n",
              "      <td>11</td>\n",
              "      <td>13</td>\n",
              "      <td>15</td>\n",
              "      <td>12</td>\n",
              "    </tr>\n",
              "    <tr>\n",
              "      <th>17584</th>\n",
              "      <td>Dylan McGoey</td>\n",
              "      <td>Republic of Ireland</td>\n",
              "      <td>NaN</td>\n",
              "      <td>Sub</td>\n",
              "      <td>185</td>\n",
              "      <td>80</td>\n",
              "      <td>Right</td>\n",
              "      <td>19</td>\n",
              "      <td>Medium / Medium</td>\n",
              "      <td>2</td>\n",
              "      <td>...</td>\n",
              "      <td>28</td>\n",
              "      <td>53</td>\n",
              "      <td>12</td>\n",
              "      <td>17</td>\n",
              "      <td>12</td>\n",
              "      <td>11</td>\n",
              "      <td>12</td>\n",
              "      <td>13</td>\n",
              "      <td>16</td>\n",
              "      <td>12</td>\n",
              "    </tr>\n",
              "    <tr>\n",
              "      <th>17585</th>\n",
              "      <td>Tommy Ouldridge</td>\n",
              "      <td>England</td>\n",
              "      <td>NaN</td>\n",
              "      <td>Res</td>\n",
              "      <td>173</td>\n",
              "      <td>61</td>\n",
              "      <td>Right</td>\n",
              "      <td>18</td>\n",
              "      <td>High / Medium</td>\n",
              "      <td>2</td>\n",
              "      <td>...</td>\n",
              "      <td>54</td>\n",
              "      <td>61</td>\n",
              "      <td>41</td>\n",
              "      <td>44</td>\n",
              "      <td>28</td>\n",
              "      <td>42</td>\n",
              "      <td>35</td>\n",
              "      <td>36</td>\n",
              "      <td>42</td>\n",
              "      <td>37</td>\n",
              "    </tr>\n",
              "    <tr>\n",
              "      <th>17586</th>\n",
              "      <td>Mark Foden</td>\n",
              "      <td>Scotland</td>\n",
              "      <td>NaN</td>\n",
              "      <td>Sub</td>\n",
              "      <td>180</td>\n",
              "      <td>80</td>\n",
              "      <td>Right</td>\n",
              "      <td>21</td>\n",
              "      <td>Medium / Medium</td>\n",
              "      <td>3</td>\n",
              "      <td>...</td>\n",
              "      <td>34</td>\n",
              "      <td>48</td>\n",
              "      <td>15</td>\n",
              "      <td>23</td>\n",
              "      <td>14</td>\n",
              "      <td>12</td>\n",
              "      <td>13</td>\n",
              "      <td>12</td>\n",
              "      <td>24</td>\n",
              "      <td>12</td>\n",
              "    </tr>\n",
              "    <tr>\n",
              "      <th>17587</th>\n",
              "      <td>Barry Richardson</td>\n",
              "      <td>England</td>\n",
              "      <td>NaN</td>\n",
              "      <td>Sub</td>\n",
              "      <td>185</td>\n",
              "      <td>77</td>\n",
              "      <td>Right</td>\n",
              "      <td>47</td>\n",
              "      <td>Medium / Medium</td>\n",
              "      <td>2</td>\n",
              "      <td>...</td>\n",
              "      <td>38</td>\n",
              "      <td>51</td>\n",
              "      <td>12</td>\n",
              "      <td>13</td>\n",
              "      <td>11</td>\n",
              "      <td>16</td>\n",
              "      <td>12</td>\n",
              "      <td>11</td>\n",
              "      <td>22</td>\n",
              "      <td>12</td>\n",
              "    </tr>\n",
              "  </tbody>\n",
              "</table>\n",
              "<p>17588 rows × 39 columns</p>\n",
              "</div>\n",
              "      <button class=\"colab-df-convert\" onclick=\"convertToInteractive('df-630125cf-e733-4c7d-8b78-fe17b90b8a22')\"\n",
              "              title=\"Convert this dataframe to an interactive table.\"\n",
              "              style=\"display:none;\">\n",
              "        \n",
              "  <svg xmlns=\"http://www.w3.org/2000/svg\" height=\"24px\"viewBox=\"0 0 24 24\"\n",
              "       width=\"24px\">\n",
              "    <path d=\"M0 0h24v24H0V0z\" fill=\"none\"/>\n",
              "    <path d=\"M18.56 5.44l.94 2.06.94-2.06 2.06-.94-2.06-.94-.94-2.06-.94 2.06-2.06.94zm-11 1L8.5 8.5l.94-2.06 2.06-.94-2.06-.94L8.5 2.5l-.94 2.06-2.06.94zm10 10l.94 2.06.94-2.06 2.06-.94-2.06-.94-.94-2.06-.94 2.06-2.06.94z\"/><path d=\"M17.41 7.96l-1.37-1.37c-.4-.4-.92-.59-1.43-.59-.52 0-1.04.2-1.43.59L10.3 9.45l-7.72 7.72c-.78.78-.78 2.05 0 2.83L4 21.41c.39.39.9.59 1.41.59.51 0 1.02-.2 1.41-.59l7.78-7.78 2.81-2.81c.8-.78.8-2.07 0-2.86zM5.41 20L4 18.59l7.72-7.72 1.47 1.35L5.41 20z\"/>\n",
              "  </svg>\n",
              "      </button>\n",
              "      \n",
              "  <style>\n",
              "    .colab-df-container {\n",
              "      display:flex;\n",
              "      flex-wrap:wrap;\n",
              "      gap: 12px;\n",
              "    }\n",
              "\n",
              "    .colab-df-convert {\n",
              "      background-color: #E8F0FE;\n",
              "      border: none;\n",
              "      border-radius: 50%;\n",
              "      cursor: pointer;\n",
              "      display: none;\n",
              "      fill: #1967D2;\n",
              "      height: 32px;\n",
              "      padding: 0 0 0 0;\n",
              "      width: 32px;\n",
              "    }\n",
              "\n",
              "    .colab-df-convert:hover {\n",
              "      background-color: #E2EBFA;\n",
              "      box-shadow: 0px 1px 2px rgba(60, 64, 67, 0.3), 0px 1px 3px 1px rgba(60, 64, 67, 0.15);\n",
              "      fill: #174EA6;\n",
              "    }\n",
              "\n",
              "    [theme=dark] .colab-df-convert {\n",
              "      background-color: #3B4455;\n",
              "      fill: #D2E3FC;\n",
              "    }\n",
              "\n",
              "    [theme=dark] .colab-df-convert:hover {\n",
              "      background-color: #434B5C;\n",
              "      box-shadow: 0px 1px 3px 1px rgba(0, 0, 0, 0.15);\n",
              "      filter: drop-shadow(0px 1px 2px rgba(0, 0, 0, 0.3));\n",
              "      fill: #FFFFFF;\n",
              "    }\n",
              "  </style>\n",
              "\n",
              "      <script>\n",
              "        const buttonEl =\n",
              "          document.querySelector('#df-630125cf-e733-4c7d-8b78-fe17b90b8a22 button.colab-df-convert');\n",
              "        buttonEl.style.display =\n",
              "          google.colab.kernel.accessAllowed ? 'block' : 'none';\n",
              "\n",
              "        async function convertToInteractive(key) {\n",
              "          const element = document.querySelector('#df-630125cf-e733-4c7d-8b78-fe17b90b8a22');\n",
              "          const dataTable =\n",
              "            await google.colab.kernel.invokeFunction('convertToInteractive',\n",
              "                                                     [key], {});\n",
              "          if (!dataTable) return;\n",
              "\n",
              "          const docLinkHtml = 'Like what you see? Visit the ' +\n",
              "            '<a target=\"_blank\" href=https://colab.research.google.com/notebooks/data_table.ipynb>data table notebook</a>'\n",
              "            + ' to learn more about interactive tables.';\n",
              "          element.innerHTML = '';\n",
              "          dataTable['output_type'] = 'display_data';\n",
              "          await google.colab.output.renderOutput(dataTable, element);\n",
              "          const docLink = document.createElement('div');\n",
              "          docLink.innerHTML = docLinkHtml;\n",
              "          element.appendChild(docLink);\n",
              "        }\n",
              "      </script>\n",
              "    </div>\n",
              "  </div>\n",
              "  "
            ]
          },
          "metadata": {},
          "execution_count": 4
        }
      ]
    },
    {
      "cell_type": "code",
      "source": [
        "df_players.info()"
      ],
      "metadata": {
        "colab": {
          "base_uri": "https://localhost:8080/"
        },
        "id": "natiKpTv2Yeh",
        "outputId": "3daf8abb-1277-4608-e8ad-e7696e47603d"
      },
      "execution_count": null,
      "outputs": [
        {
          "output_type": "stream",
          "name": "stdout",
          "text": [
            "<class 'pandas.core.frame.DataFrame'>\n",
            "RangeIndex: 17588 entries, 0 to 17587\n",
            "Data columns (total 39 columns):\n",
            " #   Column             Non-Null Count  Dtype \n",
            "---  ------             --------------  ----- \n",
            " 0   Name               17588 non-null  object\n",
            " 1   Nationality        17588 non-null  object\n",
            " 2   National_Position  1075 non-null   object\n",
            " 3   Club_Position      17587 non-null  object\n",
            " 4   Height             17588 non-null  int64 \n",
            " 5   Weight             17588 non-null  int64 \n",
            " 6   Preffered_Foot     17588 non-null  object\n",
            " 7   Age                17588 non-null  int64 \n",
            " 8   Work_Rate          17588 non-null  object\n",
            " 9   Weak_foot          17588 non-null  int64 \n",
            " 10  Skill_Moves        17588 non-null  int64 \n",
            " 11  Ball_Control       17588 non-null  int64 \n",
            " 12  Dribbling          17588 non-null  int64 \n",
            " 13  Marking            17588 non-null  int64 \n",
            " 14  Sliding_Tackle     17588 non-null  int64 \n",
            " 15  Standing_Tackle    17588 non-null  int64 \n",
            " 16  Aggression         17588 non-null  int64 \n",
            " 17  Reactions          17588 non-null  int64 \n",
            " 18  Interceptions      17588 non-null  int64 \n",
            " 19  Vision             17588 non-null  int64 \n",
            " 20  Composure          17588 non-null  int64 \n",
            " 21  Crossing           17588 non-null  int64 \n",
            " 22  Short_Pass         17588 non-null  int64 \n",
            " 23  Long_Pass          17588 non-null  int64 \n",
            " 24  Acceleration       17588 non-null  int64 \n",
            " 25  Speed              17588 non-null  int64 \n",
            " 26  Stamina            17588 non-null  int64 \n",
            " 27  Strength           17588 non-null  int64 \n",
            " 28  Balance            17588 non-null  int64 \n",
            " 29  Agility            17588 non-null  int64 \n",
            " 30  Jumping            17588 non-null  int64 \n",
            " 31  Heading            17588 non-null  int64 \n",
            " 32  Shot_Power         17588 non-null  int64 \n",
            " 33  Finishing          17588 non-null  int64 \n",
            " 34  Long_Shots         17588 non-null  int64 \n",
            " 35  Curve              17588 non-null  int64 \n",
            " 36  Freekick_Accuracy  17588 non-null  int64 \n",
            " 37  Penalties          17588 non-null  int64 \n",
            " 38  Volleys            17588 non-null  int64 \n",
            "dtypes: int64(33), object(6)\n",
            "memory usage: 5.2+ MB\n"
          ]
        }
      ]
    },
    {
      "cell_type": "code",
      "source": [
        "df_salarios"
      ],
      "metadata": {
        "colab": {
          "base_uri": "https://localhost:8080/",
          "height": 423
        },
        "id": "ts83zYSF2ZNi",
        "outputId": "f1f241ad-0ef8-4481-c4d4-568526a594e0"
      },
      "execution_count": null,
      "outputs": [
        {
          "output_type": "execute_result",
          "data": {
            "text/plain": [
              "      Unnamed: 0             Player  Weekly Salary\n",
              "0           1528       Lionel Messi      1538905.0\n",
              "1           1006  Cristiano Ronaldo      1248536.0\n",
              "2           1529  Antoine Griezmann       997032.0\n",
              "3           2004             Neymar       797726.0\n",
              "4           1530        Gareth Bale       607706.0\n",
              "...          ...                ...            ...\n",
              "2529        1527    Simone Ghidotti          283.0\n",
              "2530        2539   Valentin Gendrey          100.0\n",
              "2531        1001        John Yeboah           70.0\n",
              "2532        1000    Antonis Aidonis           70.0\n",
              "2533        1002        Leon Dajaku           70.0\n",
              "\n",
              "[2534 rows x 3 columns]"
            ],
            "text/html": [
              "\n",
              "  <div id=\"df-c9415e1c-53d7-4b9c-9df2-4402c15d1099\">\n",
              "    <div class=\"colab-df-container\">\n",
              "      <div>\n",
              "<style scoped>\n",
              "    .dataframe tbody tr th:only-of-type {\n",
              "        vertical-align: middle;\n",
              "    }\n",
              "\n",
              "    .dataframe tbody tr th {\n",
              "        vertical-align: top;\n",
              "    }\n",
              "\n",
              "    .dataframe thead th {\n",
              "        text-align: right;\n",
              "    }\n",
              "</style>\n",
              "<table border=\"1\" class=\"dataframe\">\n",
              "  <thead>\n",
              "    <tr style=\"text-align: right;\">\n",
              "      <th></th>\n",
              "      <th>Unnamed: 0</th>\n",
              "      <th>Player</th>\n",
              "      <th>Weekly Salary</th>\n",
              "    </tr>\n",
              "  </thead>\n",
              "  <tbody>\n",
              "    <tr>\n",
              "      <th>0</th>\n",
              "      <td>1528</td>\n",
              "      <td>Lionel Messi</td>\n",
              "      <td>1538905.0</td>\n",
              "    </tr>\n",
              "    <tr>\n",
              "      <th>1</th>\n",
              "      <td>1006</td>\n",
              "      <td>Cristiano Ronaldo</td>\n",
              "      <td>1248536.0</td>\n",
              "    </tr>\n",
              "    <tr>\n",
              "      <th>2</th>\n",
              "      <td>1529</td>\n",
              "      <td>Antoine Griezmann</td>\n",
              "      <td>997032.0</td>\n",
              "    </tr>\n",
              "    <tr>\n",
              "      <th>3</th>\n",
              "      <td>2004</td>\n",
              "      <td>Neymar</td>\n",
              "      <td>797726.0</td>\n",
              "    </tr>\n",
              "    <tr>\n",
              "      <th>4</th>\n",
              "      <td>1530</td>\n",
              "      <td>Gareth Bale</td>\n",
              "      <td>607706.0</td>\n",
              "    </tr>\n",
              "    <tr>\n",
              "      <th>...</th>\n",
              "      <td>...</td>\n",
              "      <td>...</td>\n",
              "      <td>...</td>\n",
              "    </tr>\n",
              "    <tr>\n",
              "      <th>2529</th>\n",
              "      <td>1527</td>\n",
              "      <td>Simone Ghidotti</td>\n",
              "      <td>283.0</td>\n",
              "    </tr>\n",
              "    <tr>\n",
              "      <th>2530</th>\n",
              "      <td>2539</td>\n",
              "      <td>Valentin Gendrey</td>\n",
              "      <td>100.0</td>\n",
              "    </tr>\n",
              "    <tr>\n",
              "      <th>2531</th>\n",
              "      <td>1001</td>\n",
              "      <td>John Yeboah</td>\n",
              "      <td>70.0</td>\n",
              "    </tr>\n",
              "    <tr>\n",
              "      <th>2532</th>\n",
              "      <td>1000</td>\n",
              "      <td>Antonis Aidonis</td>\n",
              "      <td>70.0</td>\n",
              "    </tr>\n",
              "    <tr>\n",
              "      <th>2533</th>\n",
              "      <td>1002</td>\n",
              "      <td>Leon Dajaku</td>\n",
              "      <td>70.0</td>\n",
              "    </tr>\n",
              "  </tbody>\n",
              "</table>\n",
              "<p>2534 rows × 3 columns</p>\n",
              "</div>\n",
              "      <button class=\"colab-df-convert\" onclick=\"convertToInteractive('df-c9415e1c-53d7-4b9c-9df2-4402c15d1099')\"\n",
              "              title=\"Convert this dataframe to an interactive table.\"\n",
              "              style=\"display:none;\">\n",
              "        \n",
              "  <svg xmlns=\"http://www.w3.org/2000/svg\" height=\"24px\"viewBox=\"0 0 24 24\"\n",
              "       width=\"24px\">\n",
              "    <path d=\"M0 0h24v24H0V0z\" fill=\"none\"/>\n",
              "    <path d=\"M18.56 5.44l.94 2.06.94-2.06 2.06-.94-2.06-.94-.94-2.06-.94 2.06-2.06.94zm-11 1L8.5 8.5l.94-2.06 2.06-.94-2.06-.94L8.5 2.5l-.94 2.06-2.06.94zm10 10l.94 2.06.94-2.06 2.06-.94-2.06-.94-.94-2.06-.94 2.06-2.06.94z\"/><path d=\"M17.41 7.96l-1.37-1.37c-.4-.4-.92-.59-1.43-.59-.52 0-1.04.2-1.43.59L10.3 9.45l-7.72 7.72c-.78.78-.78 2.05 0 2.83L4 21.41c.39.39.9.59 1.41.59.51 0 1.02-.2 1.41-.59l7.78-7.78 2.81-2.81c.8-.78.8-2.07 0-2.86zM5.41 20L4 18.59l7.72-7.72 1.47 1.35L5.41 20z\"/>\n",
              "  </svg>\n",
              "      </button>\n",
              "      \n",
              "  <style>\n",
              "    .colab-df-container {\n",
              "      display:flex;\n",
              "      flex-wrap:wrap;\n",
              "      gap: 12px;\n",
              "    }\n",
              "\n",
              "    .colab-df-convert {\n",
              "      background-color: #E8F0FE;\n",
              "      border: none;\n",
              "      border-radius: 50%;\n",
              "      cursor: pointer;\n",
              "      display: none;\n",
              "      fill: #1967D2;\n",
              "      height: 32px;\n",
              "      padding: 0 0 0 0;\n",
              "      width: 32px;\n",
              "    }\n",
              "\n",
              "    .colab-df-convert:hover {\n",
              "      background-color: #E2EBFA;\n",
              "      box-shadow: 0px 1px 2px rgba(60, 64, 67, 0.3), 0px 1px 3px 1px rgba(60, 64, 67, 0.15);\n",
              "      fill: #174EA6;\n",
              "    }\n",
              "\n",
              "    [theme=dark] .colab-df-convert {\n",
              "      background-color: #3B4455;\n",
              "      fill: #D2E3FC;\n",
              "    }\n",
              "\n",
              "    [theme=dark] .colab-df-convert:hover {\n",
              "      background-color: #434B5C;\n",
              "      box-shadow: 0px 1px 3px 1px rgba(0, 0, 0, 0.15);\n",
              "      filter: drop-shadow(0px 1px 2px rgba(0, 0, 0, 0.3));\n",
              "      fill: #FFFFFF;\n",
              "    }\n",
              "  </style>\n",
              "\n",
              "      <script>\n",
              "        const buttonEl =\n",
              "          document.querySelector('#df-c9415e1c-53d7-4b9c-9df2-4402c15d1099 button.colab-df-convert');\n",
              "        buttonEl.style.display =\n",
              "          google.colab.kernel.accessAllowed ? 'block' : 'none';\n",
              "\n",
              "        async function convertToInteractive(key) {\n",
              "          const element = document.querySelector('#df-c9415e1c-53d7-4b9c-9df2-4402c15d1099');\n",
              "          const dataTable =\n",
              "            await google.colab.kernel.invokeFunction('convertToInteractive',\n",
              "                                                     [key], {});\n",
              "          if (!dataTable) return;\n",
              "\n",
              "          const docLinkHtml = 'Like what you see? Visit the ' +\n",
              "            '<a target=\"_blank\" href=https://colab.research.google.com/notebooks/data_table.ipynb>data table notebook</a>'\n",
              "            + ' to learn more about interactive tables.';\n",
              "          element.innerHTML = '';\n",
              "          dataTable['output_type'] = 'display_data';\n",
              "          await google.colab.output.renderOutput(dataTable, element);\n",
              "          const docLink = document.createElement('div');\n",
              "          docLink.innerHTML = docLinkHtml;\n",
              "          element.appendChild(docLink);\n",
              "        }\n",
              "      </script>\n",
              "    </div>\n",
              "  </div>\n",
              "  "
            ]
          },
          "metadata": {},
          "execution_count": 6
        }
      ]
    },
    {
      "cell_type": "code",
      "source": [
        "df_salarios.info()"
      ],
      "metadata": {
        "colab": {
          "base_uri": "https://localhost:8080/"
        },
        "id": "v8OUo0ZvtOgg",
        "outputId": "6ada1b14-1784-475e-c69f-0f60681d7a63"
      },
      "execution_count": null,
      "outputs": [
        {
          "output_type": "stream",
          "name": "stdout",
          "text": [
            "<class 'pandas.core.frame.DataFrame'>\n",
            "RangeIndex: 2534 entries, 0 to 2533\n",
            "Data columns (total 3 columns):\n",
            " #   Column         Non-Null Count  Dtype  \n",
            "---  ------         --------------  -----  \n",
            " 0   Unnamed: 0     2534 non-null   int64  \n",
            " 1   Player         2534 non-null   object \n",
            " 2   Weekly Salary  2534 non-null   float64\n",
            "dtypes: float64(1), int64(1), object(1)\n",
            "memory usage: 59.5+ KB\n"
          ]
        }
      ]
    },
    {
      "cell_type": "markdown",
      "source": [
        "## 1.1 Predicción de Seleccionados Nacionales\n",
        "\n",
        "Como primera tarea, Renacín, intrigado por la posibilidad de saber qué tan reconocido es un jugador, le consulta a su equipo si es posible predecir si un jugador será o no seleccionado nacional a partir de sus estadísticas en el juego.\n",
        "\n",
        "<p align=\"center\">\n",
        "  <img src=\"https://thumbs.gfycat.com/ThornyFrankFoxhound-size_restricted.gif\" width=\"500\">\n",
        "</p>"
      ],
      "metadata": {
        "id": "2R3b7Qe501t5",
        "cell_id": "9e9e7d5dbc2f420ba40afb038a3c7b37",
        "owner_user_id": "d50c3174-babb-4861-9c71-7e3af66458b8",
        "deepnote_cell_height": 169.93333435058594,
        "deepnote_cell_type": "markdown"
      }
    },
    {
      "cell_type": "markdown",
      "source": [
        "### 1.1.1 Generación de Labels para la Clasificación [Sin Puntaje]\n",
        "\n",
        "\n",
        "Primero comience generando las labels para la clasificación. Para esto, trabaje sobre el atributo ```National_Position``` suponiendo que los valores nulos son jugadores no seleccionados para representar a su país.\n",
        "\n",
        "Hecho esto, ¿Cuantos ejemplos por cada clase se tienen? Comente lo que observa.\n",
        "\n"
      ],
      "metadata": {
        "id": "PIe_Ha58pQRC",
        "cell_id": "4fd0ec6793474c6e8dd304827ef35c74",
        "deepnote_cell_height": 158.3333282470703,
        "deepnote_cell_type": "markdown"
      }
    },
    {
      "cell_type": "markdown",
      "source": [
        "**Respuesta:**"
      ],
      "metadata": {
        "tags": [],
        "cell_id": "4bafb6f1da424f84be4eceb20d100d91",
        "deepnote_cell_height": 51.53334045410156,
        "deepnote_cell_type": "markdown",
        "id": "RjuA658ww6bS"
      }
    },
    {
      "cell_type": "markdown",
      "source": [
        "Antes de separar en características X y variable target y, dropearemos el único dato que tiene un valor nulo en la variable Club_Position para evitar problemas más adelante en el resto del laboratorio (al separar en train-test):"
      ],
      "metadata": {
        "id": "kx2VwmAc84is"
      }
    },
    {
      "cell_type": "code",
      "source": [
        "df_players.dropna(subset=['Club_Position'],inplace=True)"
      ],
      "metadata": {
        "id": "z2RUv7FV9IyB"
      },
      "execution_count": null,
      "outputs": []
    },
    {
      "cell_type": "markdown",
      "source": [
        "Obtenemos los valores de National_Position (labels de variable objetivo) y separamos el resto de características (dropearemos el nombre del jugador también, puesto que no aporta para la predicción posterior):"
      ],
      "metadata": {
        "id": "NtNBYb-GiyE7"
      }
    },
    {
      "cell_type": "code",
      "source": [
        "X = df_players.drop(columns=['National_Position', 'Name'])\n",
        "y = df_players['National_Position']\n",
        "y"
      ],
      "metadata": {
        "id": "uwKaIuho4lqn",
        "cell_id": "c95e6cb3ab91410fb2151acbdc068908",
        "source_hash": "43ce1981",
        "execution_start": 1636741171250,
        "execution_millis": 3,
        "deepnote_to_be_reexecuted": false,
        "deepnote_cell_type": "code",
        "colab": {
          "base_uri": "https://localhost:8080/"
        },
        "outputId": "dc06acb1-c944-4471-c71a-63af9d05aef3"
      },
      "outputs": [
        {
          "output_type": "execute_result",
          "data": {
            "text/plain": [
              "0         LS\n",
              "1         RW\n",
              "2         LW\n",
              "3         LS\n",
              "4         GK\n",
              "        ... \n",
              "17583    NaN\n",
              "17584    NaN\n",
              "17585    NaN\n",
              "17586    NaN\n",
              "17587    NaN\n",
              "Name: National_Position, Length: 17587, dtype: object"
            ]
          },
          "metadata": {},
          "execution_count": 9
        }
      ],
      "execution_count": null
    },
    {
      "cell_type": "markdown",
      "source": [
        "Valores únicos para las etiquetas:"
      ],
      "metadata": {
        "id": "DTFQb1Ili1QU"
      }
    },
    {
      "cell_type": "code",
      "source": [
        "y.unique()"
      ],
      "metadata": {
        "colab": {
          "base_uri": "https://localhost:8080/"
        },
        "id": "oJyYf4B2ivlc",
        "outputId": "10e02012-19e7-4e0e-ee75-a888e1379c97"
      },
      "execution_count": null,
      "outputs": [
        {
          "output_type": "execute_result",
          "data": {
            "text/plain": [
              "array(['LS', 'RW', 'LW', 'GK', 'RS', nan, 'RCB', 'LF', 'CAM', 'Sub',\n",
              "       'LCB', 'RCM', 'LDM', 'LCM', 'LAM', 'CB', 'CDM', 'LM', 'RM', 'LB',\n",
              "       'ST', 'CM', 'RF', 'RB', 'RDM', 'RAM', 'LWB', 'RWB'], dtype=object)"
            ]
          },
          "metadata": {},
          "execution_count": 10
        }
      ]
    },
    {
      "cell_type": "markdown",
      "source": [
        "Encodearemos como clasificación binaria, asignando un 0 a los valores nan (clase negativa, los que no son seleccionados nacionales) y un 1 al resto (clase positiva, los que sí son seleccionados nacionales)"
      ],
      "metadata": {
        "id": "QleKXE7XlHQz"
      }
    },
    {
      "cell_type": "code",
      "source": [
        "# Función que asigna con un 0 a los valores nan y con un 1 al resto\n",
        "def f(x):\n",
        "  if pd.isnull(x):\n",
        "    return 0\n",
        "  else:\n",
        "    return 1\n",
        "\n",
        "# Aplicamos función a la serie de labels y\n",
        "y = y.apply(f)"
      ],
      "metadata": {
        "id": "nzRd24hMlJe3"
      },
      "execution_count": null,
      "outputs": []
    },
    {
      "cell_type": "code",
      "source": [
        "# Visualizamos\n",
        "y"
      ],
      "metadata": {
        "colab": {
          "base_uri": "https://localhost:8080/"
        },
        "id": "ifI7Xumzprsu",
        "outputId": "1c851023-2eeb-433c-a2df-a45bbcbee891"
      },
      "execution_count": null,
      "outputs": [
        {
          "output_type": "execute_result",
          "data": {
            "text/plain": [
              "0        1\n",
              "1        1\n",
              "2        1\n",
              "3        1\n",
              "4        1\n",
              "        ..\n",
              "17583    0\n",
              "17584    0\n",
              "17585    0\n",
              "17586    0\n",
              "17587    0\n",
              "Name: National_Position, Length: 17587, dtype: int64"
            ]
          },
          "metadata": {},
          "execution_count": 12
        }
      ]
    },
    {
      "cell_type": "code",
      "source": [
        "y.value_counts()"
      ],
      "metadata": {
        "colab": {
          "base_uri": "https://localhost:8080/"
        },
        "id": "TLdF3piept7N",
        "outputId": "05c75513-40d1-4c94-81c4-af4116c713fa"
      },
      "execution_count": null,
      "outputs": [
        {
          "output_type": "execute_result",
          "data": {
            "text/plain": [
              "0    16512\n",
              "1     1075\n",
              "Name: National_Position, dtype: int64"
            ]
          },
          "metadata": {},
          "execution_count": 13
        }
      ]
    },
    {
      "cell_type": "markdown",
      "source": [
        "Hay 16.512 jugadores no seleccionados nacionales y 1075 que sí lo son"
      ],
      "metadata": {
        "id": "cRIGgUyepzXt"
      }
    },
    {
      "cell_type": "markdown",
      "source": [
        "### 1.1.2 Camino a la clasificación [1 punto]\n",
        "\n",
        "<p align=\"center\">\n",
        "  <img src=\"https://c.tenor.com/SoXZJHWnhKAAAAAC/pitbull-medel.gif\" width=\"500\">\n",
        "</p>\n",
        "\n",
        "Para preprocesar el dataset, genere un `ColumnTransformer` en donde especifique las transformaciones que hay que realizar para cada columna (por ejemplo StandarScaler, MinMaxScaler, OneHotEncoder, etc...) para que puedan ser utilizadas correctamente por el modelo predictivo y guardelo en algúna variable.\n",
        "\n",
        "Luego, comente y justifique las transformaciones elegidas sobre cada una de las variables (para esto utilice el material ```Player_Stats_Report.html``` que viene en el zip del lab), al igual que las transformaciones aplicadas.\n",
        "\n",
        "Hecho lo anterior, **defina al menos 3 pipelines para la clasificación**, en donde utilice el mismo ColumnTransformer definido anteriormente, pero que varie entre cada pipeline los clasificadores.\n",
        "\n",
        "Para seleccionar los clasificadores más adecuados, utilice la siguiente guía:\n",
        "\n",
        "<p align=\"center\">\n",
        "  <img src=\"https://scikit-learn.org/stable/_static/ml_map.png\" width=\"500\">\n",
        "</p>\n",
        "\n",
        "<br/>\n",
        "\n",
        "Con ella, comente y justifique cada una de las decisiones tomadas al momento de desarrollar su pipeline.\n",
        "\n",
        "**Nota:** Si tiene problemas al utilizar OneHotEncoder puede utilizar el parámetro handle_unknown='ignore'. Esto hace que en la codificación se omitan las categorias que no aparecen en el entrenamiento. Pregunta dudosa (no tiene puntaje), ¿esto tiene sentido a nivel de modelos?.\n",
        "\n",
        "**To-Do:**\n",
        "\n",
        "- [ ] Genere un ```ColumnTransformer``` enfocado en preprocesar los datos.\n",
        "- [ ] Indicar y Justificar que preprocesamiento utiliza sobre cada columna.\n",
        "- [ ] Crear 3 ``pipelines`` con diferentes clasificadores.\n",
        "- [ ] Para seleccionar los clasificadores base sus decisiones en la siguiente [guía](https://scikit-learn.org/stable/tutorial/machine_learning_map/index.html)\n",
        "- [ ] No entrenar los ``pipelines`` aún.\n",
        "\n",
        "**Nota:** No es necesario entrenar los clasificadores aún."
      ],
      "metadata": {
        "id": "0F70XPRFpWH9",
        "cell_id": "882716f31dd4415983e3ed8e403ddcf0",
        "deepnote_cell_height": 678.1500244140625,
        "deepnote_cell_type": "markdown"
      }
    },
    {
      "cell_type": "markdown",
      "source": [
        "**Respuesta:**"
      ],
      "metadata": {
        "tags": [],
        "cell_id": "494effcc7471436084ebd22e15296fb9",
        "deepnote_cell_height": 51.53334045410156,
        "deepnote_cell_type": "markdown",
        "id": "z5bj_Jnnw6bT"
      }
    },
    {
      "cell_type": "markdown",
      "source": [
        "Primero obtengamos las variables numéricas:"
      ],
      "metadata": {
        "id": "XrtjQ8g1s51b"
      }
    },
    {
      "cell_type": "code",
      "source": [
        "numerical = X.select_dtypes(include=['int', 'float']).columns\n",
        "numerical"
      ],
      "metadata": {
        "tags": [],
        "cell_id": "3405035b85c6475594991b29a465a506",
        "deepnote_cell_height": 65.13333129882812,
        "deepnote_cell_type": "code",
        "id": "RnZHVkehw6bT",
        "colab": {
          "base_uri": "https://localhost:8080/"
        },
        "outputId": "b59862c4-5213-4444-e7e9-cbdd24f8efb5"
      },
      "outputs": [
        {
          "output_type": "execute_result",
          "data": {
            "text/plain": [
              "Index(['Height', 'Weight', 'Age', 'Weak_foot', 'Skill_Moves', 'Ball_Control',\n",
              "       'Dribbling', 'Marking', 'Sliding_Tackle', 'Standing_Tackle',\n",
              "       'Aggression', 'Reactions', 'Interceptions', 'Vision', 'Composure',\n",
              "       'Crossing', 'Short_Pass', 'Long_Pass', 'Acceleration', 'Speed',\n",
              "       'Stamina', 'Strength', 'Balance', 'Agility', 'Jumping', 'Heading',\n",
              "       'Shot_Power', 'Finishing', 'Long_Shots', 'Curve', 'Freekick_Accuracy',\n",
              "       'Penalties', 'Volleys'],\n",
              "      dtype='object')"
            ]
          },
          "metadata": {},
          "execution_count": 14
        }
      ],
      "execution_count": null
    },
    {
      "cell_type": "markdown",
      "source": [
        "Sobre estas variables aplicaremos MinMaxScaler (para que queden normalizadas)."
      ],
      "metadata": {
        "id": "_dWhvqGQ0BlD"
      }
    },
    {
      "cell_type": "markdown",
      "source": [
        "Ahora obtengamos las variables categóricas:"
      ],
      "metadata": {
        "id": "E3QZJGxUul2I"
      }
    },
    {
      "cell_type": "code",
      "source": [
        "categorical = X.select_dtypes(include=['object']).columns\n",
        "categorical"
      ],
      "metadata": {
        "colab": {
          "base_uri": "https://localhost:8080/"
        },
        "id": "ACznGBliuwB2",
        "outputId": "5f12d029-a34d-401e-a399-20083334e233"
      },
      "execution_count": null,
      "outputs": [
        {
          "output_type": "execute_result",
          "data": {
            "text/plain": [
              "Index(['Nationality', 'Club_Position', 'Preffered_Foot', 'Work_Rate'], dtype='object')"
            ]
          },
          "metadata": {},
          "execution_count": 15
        }
      ]
    },
    {
      "cell_type": "markdown",
      "source": [
        "Observemos los valores:"
      ],
      "metadata": {
        "id": "BZmJB29uvOvm"
      }
    },
    {
      "cell_type": "code",
      "source": [
        "X[categorical]"
      ],
      "metadata": {
        "colab": {
          "base_uri": "https://localhost:8080/",
          "height": 423
        },
        "id": "dZlB-swvvci3",
        "outputId": "d81cd1ae-524d-499a-d1ed-6d997d643dd7"
      },
      "execution_count": null,
      "outputs": [
        {
          "output_type": "execute_result",
          "data": {
            "text/plain": [
              "               Nationality Club_Position Preffered_Foot        Work_Rate\n",
              "0                 Portugal            LW          Right       High / Low\n",
              "1                Argentina            RW           Left  Medium / Medium\n",
              "2                   Brazil            LW          Right    High / Medium\n",
              "3                  Uruguay            ST          Right    High / Medium\n",
              "4                  Germany            GK          Right  Medium / Medium\n",
              "...                    ...           ...            ...              ...\n",
              "17583  Republic of Ireland           Sub          Right  Medium / Medium\n",
              "17584  Republic of Ireland           Sub          Right  Medium / Medium\n",
              "17585              England           Res          Right    High / Medium\n",
              "17586             Scotland           Sub          Right  Medium / Medium\n",
              "17587              England           Sub          Right  Medium / Medium\n",
              "\n",
              "[17587 rows x 4 columns]"
            ],
            "text/html": [
              "\n",
              "  <div id=\"df-25dd23dc-7579-4a4f-b223-8b2a1446e46e\">\n",
              "    <div class=\"colab-df-container\">\n",
              "      <div>\n",
              "<style scoped>\n",
              "    .dataframe tbody tr th:only-of-type {\n",
              "        vertical-align: middle;\n",
              "    }\n",
              "\n",
              "    .dataframe tbody tr th {\n",
              "        vertical-align: top;\n",
              "    }\n",
              "\n",
              "    .dataframe thead th {\n",
              "        text-align: right;\n",
              "    }\n",
              "</style>\n",
              "<table border=\"1\" class=\"dataframe\">\n",
              "  <thead>\n",
              "    <tr style=\"text-align: right;\">\n",
              "      <th></th>\n",
              "      <th>Nationality</th>\n",
              "      <th>Club_Position</th>\n",
              "      <th>Preffered_Foot</th>\n",
              "      <th>Work_Rate</th>\n",
              "    </tr>\n",
              "  </thead>\n",
              "  <tbody>\n",
              "    <tr>\n",
              "      <th>0</th>\n",
              "      <td>Portugal</td>\n",
              "      <td>LW</td>\n",
              "      <td>Right</td>\n",
              "      <td>High / Low</td>\n",
              "    </tr>\n",
              "    <tr>\n",
              "      <th>1</th>\n",
              "      <td>Argentina</td>\n",
              "      <td>RW</td>\n",
              "      <td>Left</td>\n",
              "      <td>Medium / Medium</td>\n",
              "    </tr>\n",
              "    <tr>\n",
              "      <th>2</th>\n",
              "      <td>Brazil</td>\n",
              "      <td>LW</td>\n",
              "      <td>Right</td>\n",
              "      <td>High / Medium</td>\n",
              "    </tr>\n",
              "    <tr>\n",
              "      <th>3</th>\n",
              "      <td>Uruguay</td>\n",
              "      <td>ST</td>\n",
              "      <td>Right</td>\n",
              "      <td>High / Medium</td>\n",
              "    </tr>\n",
              "    <tr>\n",
              "      <th>4</th>\n",
              "      <td>Germany</td>\n",
              "      <td>GK</td>\n",
              "      <td>Right</td>\n",
              "      <td>Medium / Medium</td>\n",
              "    </tr>\n",
              "    <tr>\n",
              "      <th>...</th>\n",
              "      <td>...</td>\n",
              "      <td>...</td>\n",
              "      <td>...</td>\n",
              "      <td>...</td>\n",
              "    </tr>\n",
              "    <tr>\n",
              "      <th>17583</th>\n",
              "      <td>Republic of Ireland</td>\n",
              "      <td>Sub</td>\n",
              "      <td>Right</td>\n",
              "      <td>Medium / Medium</td>\n",
              "    </tr>\n",
              "    <tr>\n",
              "      <th>17584</th>\n",
              "      <td>Republic of Ireland</td>\n",
              "      <td>Sub</td>\n",
              "      <td>Right</td>\n",
              "      <td>Medium / Medium</td>\n",
              "    </tr>\n",
              "    <tr>\n",
              "      <th>17585</th>\n",
              "      <td>England</td>\n",
              "      <td>Res</td>\n",
              "      <td>Right</td>\n",
              "      <td>High / Medium</td>\n",
              "    </tr>\n",
              "    <tr>\n",
              "      <th>17586</th>\n",
              "      <td>Scotland</td>\n",
              "      <td>Sub</td>\n",
              "      <td>Right</td>\n",
              "      <td>Medium / Medium</td>\n",
              "    </tr>\n",
              "    <tr>\n",
              "      <th>17587</th>\n",
              "      <td>England</td>\n",
              "      <td>Sub</td>\n",
              "      <td>Right</td>\n",
              "      <td>Medium / Medium</td>\n",
              "    </tr>\n",
              "  </tbody>\n",
              "</table>\n",
              "<p>17587 rows × 4 columns</p>\n",
              "</div>\n",
              "      <button class=\"colab-df-convert\" onclick=\"convertToInteractive('df-25dd23dc-7579-4a4f-b223-8b2a1446e46e')\"\n",
              "              title=\"Convert this dataframe to an interactive table.\"\n",
              "              style=\"display:none;\">\n",
              "        \n",
              "  <svg xmlns=\"http://www.w3.org/2000/svg\" height=\"24px\"viewBox=\"0 0 24 24\"\n",
              "       width=\"24px\">\n",
              "    <path d=\"M0 0h24v24H0V0z\" fill=\"none\"/>\n",
              "    <path d=\"M18.56 5.44l.94 2.06.94-2.06 2.06-.94-2.06-.94-.94-2.06-.94 2.06-2.06.94zm-11 1L8.5 8.5l.94-2.06 2.06-.94-2.06-.94L8.5 2.5l-.94 2.06-2.06.94zm10 10l.94 2.06.94-2.06 2.06-.94-2.06-.94-.94-2.06-.94 2.06-2.06.94z\"/><path d=\"M17.41 7.96l-1.37-1.37c-.4-.4-.92-.59-1.43-.59-.52 0-1.04.2-1.43.59L10.3 9.45l-7.72 7.72c-.78.78-.78 2.05 0 2.83L4 21.41c.39.39.9.59 1.41.59.51 0 1.02-.2 1.41-.59l7.78-7.78 2.81-2.81c.8-.78.8-2.07 0-2.86zM5.41 20L4 18.59l7.72-7.72 1.47 1.35L5.41 20z\"/>\n",
              "  </svg>\n",
              "      </button>\n",
              "      \n",
              "  <style>\n",
              "    .colab-df-container {\n",
              "      display:flex;\n",
              "      flex-wrap:wrap;\n",
              "      gap: 12px;\n",
              "    }\n",
              "\n",
              "    .colab-df-convert {\n",
              "      background-color: #E8F0FE;\n",
              "      border: none;\n",
              "      border-radius: 50%;\n",
              "      cursor: pointer;\n",
              "      display: none;\n",
              "      fill: #1967D2;\n",
              "      height: 32px;\n",
              "      padding: 0 0 0 0;\n",
              "      width: 32px;\n",
              "    }\n",
              "\n",
              "    .colab-df-convert:hover {\n",
              "      background-color: #E2EBFA;\n",
              "      box-shadow: 0px 1px 2px rgba(60, 64, 67, 0.3), 0px 1px 3px 1px rgba(60, 64, 67, 0.15);\n",
              "      fill: #174EA6;\n",
              "    }\n",
              "\n",
              "    [theme=dark] .colab-df-convert {\n",
              "      background-color: #3B4455;\n",
              "      fill: #D2E3FC;\n",
              "    }\n",
              "\n",
              "    [theme=dark] .colab-df-convert:hover {\n",
              "      background-color: #434B5C;\n",
              "      box-shadow: 0px 1px 3px 1px rgba(0, 0, 0, 0.15);\n",
              "      filter: drop-shadow(0px 1px 2px rgba(0, 0, 0, 0.3));\n",
              "      fill: #FFFFFF;\n",
              "    }\n",
              "  </style>\n",
              "\n",
              "      <script>\n",
              "        const buttonEl =\n",
              "          document.querySelector('#df-25dd23dc-7579-4a4f-b223-8b2a1446e46e button.colab-df-convert');\n",
              "        buttonEl.style.display =\n",
              "          google.colab.kernel.accessAllowed ? 'block' : 'none';\n",
              "\n",
              "        async function convertToInteractive(key) {\n",
              "          const element = document.querySelector('#df-25dd23dc-7579-4a4f-b223-8b2a1446e46e');\n",
              "          const dataTable =\n",
              "            await google.colab.kernel.invokeFunction('convertToInteractive',\n",
              "                                                     [key], {});\n",
              "          if (!dataTable) return;\n",
              "\n",
              "          const docLinkHtml = 'Like what you see? Visit the ' +\n",
              "            '<a target=\"_blank\" href=https://colab.research.google.com/notebooks/data_table.ipynb>data table notebook</a>'\n",
              "            + ' to learn more about interactive tables.';\n",
              "          element.innerHTML = '';\n",
              "          dataTable['output_type'] = 'display_data';\n",
              "          await google.colab.output.renderOutput(dataTable, element);\n",
              "          const docLink = document.createElement('div');\n",
              "          docLink.innerHTML = docLinkHtml;\n",
              "          element.appendChild(docLink);\n",
              "        }\n",
              "      </script>\n",
              "    </div>\n",
              "  </div>\n",
              "  "
            ]
          },
          "metadata": {},
          "execution_count": 16
        }
      ]
    },
    {
      "cell_type": "markdown",
      "source": [
        "Del reporte en HTML se aprecia que:\n",
        "\n",
        "- Hay 160 categorías nominales distintas en la variable Nationality\n",
        "- Hay 29 categorías nominales distintas en la variable Club_Position\n",
        "- Hay 2 categorías nominales distintas en la variable Preffered_Foot\n",
        "- Hay 9 categorías nominales distintas en la variable Work_Rate\n",
        "\n",
        "Sobre estas variables aplicaremos OneHotEncoding (dada su naturaleza nominal)."
      ],
      "metadata": {
        "id": "48qaX4Bexrjh"
      }
    },
    {
      "cell_type": "markdown",
      "source": [
        "Preprocesamiento:"
      ],
      "metadata": {
        "id": "S0YB_zOrtxr9"
      }
    },
    {
      "cell_type": "code",
      "source": [
        "# Definimos las transformaciones para cada columna:\n",
        "# MinMaxScaler para las numéricas, OneHotEncoder para las categóricas\n",
        "preprocesamiento = ColumnTransformer(\n",
        "    transformers=[\n",
        "        ('numerical', MinMaxScaler(), numerical),\n",
        "        ('categorical', OneHotEncoder(sparse=False,handle_unknown='ignore'), categorical)\n",
        "    ]\n",
        ")"
      ],
      "metadata": {
        "id": "sUmiuHPltzce"
      },
      "execution_count": null,
      "outputs": []
    },
    {
      "cell_type": "markdown",
      "source": [
        "Crearemos 3 pipelines con 3 clasificadores de acuerdo a la guía de sklearn: Linear SVC (debido a que tenemos menos de 100 mil datos), KNeighbors Classifier (debido a que no trabajamos con NLP) y Random Forest (Ensemble Classifier, se elige también pues no trabajamos con NLP):"
      ],
      "metadata": {
        "id": "D_wnkoJO1p_G"
      }
    },
    {
      "cell_type": "code",
      "source": [
        "# Pipeline de Linear SVC\n",
        "pipeline_lsvc = Pipeline([\n",
        "    ('preprocesamiento', preprocesamiento),\n",
        "    ('classifier', LinearSVC(random_state=42))\n",
        "])\n",
        "\n",
        "# Pipeline de KNeighbors Classifier\n",
        "pipeline_knn = Pipeline([\n",
        "    ('preprocesamiento', preprocesamiento),\n",
        "    ('classifier', KNeighborsClassifier())\n",
        "])\n",
        "\n",
        "# Pipeline de Random Forest\n",
        "pipeline_rf = Pipeline([\n",
        "    ('preprocesamiento', preprocesamiento),\n",
        "    ('classifier', RandomForestClassifier(random_state=42))\n",
        "])"
      ],
      "metadata": {
        "id": "o7Ig6pUD1rUB"
      },
      "execution_count": null,
      "outputs": []
    },
    {
      "cell_type": "markdown",
      "source": [
        "### 1.1.3 Entrenemos los pipelines [1 punto]\n",
        "\n",
        "<p align=\"center\">\n",
        "  <img src=\"https://i.gifer.com/7Cc8.gif\" width=\"350\">\n",
        "</p>\n"
      ],
      "metadata": {
        "id": "MpKq6oO3vCNL",
        "cell_id": "b7fa6937d9a043fd93b7966fb0e81861",
        "deepnote_cell_height": 101.13333129882812,
        "deepnote_cell_type": "markdown"
      }
    },
    {
      "cell_type": "markdown",
      "source": [
        "Ahora, entrene los `pipeline` generados en los pasos anteriores. Para esto, primero separe los datos de entrenamiento en un conjunto de entrenamiento y de prueba  (la proporción queda a su juicio).\n",
        "\n",
        "En este paso, seleccione los ejemplos de forma aleatoria e intente mantener la distribución original de labels de cada clase en los conjuntos de prueba/entrenamiento. (vea la documentación de `train_test_split`).\n",
        "\n",
        "\n",
        "Luego, entrene los pipelines\n",
        "\n",
        "Una vez entrenado su modelo, evalue su rendimiento a través de diferentes métricas, comentando que significa cada uno de los valores obtenidos. Puede usar la función `classification_report` para corroborar sus resultados.\n",
        "\n",
        "- ¿Qué implican los valores de accuracy, precisión y recall de la clase positiva (la que indica que un jugador es seleccionado nacional)?\n",
        "- ¿Podrían mejorarse los resultados?, ¿Cómo?\n",
        "- ¿Influye la cantidad de ejemplos por clase?\n",
        "\n",
        "**To-Do**:\n",
        "\n",
        "- [ ] Separar el conjunto de datos en entrenamiento y de prueba.\n",
        "- [ ] Entrenar los `pipelines`.\n",
        "- [ ] Utilizar las métricas para evaluar los modelos generados.\n"
      ],
      "metadata": {
        "id": "wE_1aZaIvOeN",
        "cell_id": "5ead21d7e26d4e3da1486c9937f22968",
        "deepnote_cell_height": 454.433349609375,
        "deepnote_cell_type": "markdown"
      }
    },
    {
      "cell_type": "markdown",
      "source": [
        "**Respuesta:**"
      ],
      "metadata": {
        "tags": [],
        "cell_id": "053a95315e3245b39ba9d263d932e7d4",
        "deepnote_cell_height": 51.53334045410156,
        "deepnote_cell_type": "markdown",
        "id": "W2oMYyj-w6bT"
      }
    },
    {
      "cell_type": "markdown",
      "source": [
        "Dividimos en train-test en proporción 80-20 de manera estratificada (es decir manteniendo la distribución original de labels de cada clase en ambos conjuntos):"
      ],
      "metadata": {
        "id": "Ixcz3Vbe6oA8"
      }
    },
    {
      "cell_type": "code",
      "source": [
        "X_train, X_test, y_train, y_test = train_test_split(X, y, test_size=0.2, stratify=y, random_state=42)"
      ],
      "metadata": {
        "tags": [],
        "cell_id": "0148b8e4a7e24b838381dbee30b31758",
        "deepnote_cell_height": 65.13333129882812,
        "deepnote_cell_type": "code",
        "id": "t5TrDy1xw6bT"
      },
      "outputs": [],
      "execution_count": null
    },
    {
      "cell_type": "markdown",
      "source": [
        "Entrenemos los pipelines, es decir, preprocesaremos el conjunto de train (primer paso del pipeline) y luego ajustaremos el clasificador respectivo a aquellos datos (segundo paso del pipeline) para calcular predicciones sobre el conjunto de test:"
      ],
      "metadata": {
        "id": "Qa5trQ3e9rHz"
      }
    },
    {
      "cell_type": "code",
      "source": [
        "# Linear SVC\n",
        "pipeline_lsvc.fit(X_train, y_train)\n",
        "y_pred_lsvc = pipeline_lsvc.predict(X_test)\n",
        "\n",
        "# KNN\n",
        "pipeline_knn.fit(X_train,y_train)\n",
        "y_pred_knn = pipeline_knn.predict(X_test)\n",
        "\n",
        "# Random Forest\n",
        "pipeline_rf.fit(X_train,y_train)\n",
        "y_pred_rf = pipeline_rf.predict(X_test)"
      ],
      "metadata": {
        "id": "CshvAk_K_Cu_",
        "colab": {
          "base_uri": "https://localhost:8080/"
        },
        "outputId": "e316fd30-4546-463c-8cdc-357315fb9bcd"
      },
      "execution_count": null,
      "outputs": [
        {
          "output_type": "stream",
          "name": "stderr",
          "text": [
            "/usr/local/lib/python3.10/dist-packages/sklearn/preprocessing/_encoders.py:868: FutureWarning: `sparse` was renamed to `sparse_output` in version 1.2 and will be removed in 1.4. `sparse_output` is ignored unless you leave `sparse` to its default value.\n",
            "  warnings.warn(\n",
            "/usr/local/lib/python3.10/dist-packages/sklearn/preprocessing/_encoders.py:868: FutureWarning: `sparse` was renamed to `sparse_output` in version 1.2 and will be removed in 1.4. `sparse_output` is ignored unless you leave `sparse` to its default value.\n",
            "  warnings.warn(\n",
            "/usr/local/lib/python3.10/dist-packages/sklearn/preprocessing/_encoders.py:868: FutureWarning: `sparse` was renamed to `sparse_output` in version 1.2 and will be removed in 1.4. `sparse_output` is ignored unless you leave `sparse` to its default value.\n",
            "  warnings.warn(\n"
          ]
        }
      ]
    },
    {
      "cell_type": "markdown",
      "source": [
        "Imprimimos resultados:"
      ],
      "metadata": {
        "id": "wOHe_Q5j_ypH"
      }
    },
    {
      "cell_type": "code",
      "source": [
        "print('Linear SVC:\\n')\n",
        "print(classification_report(y_test, y_pred_lsvc))\n",
        "print('\\nKNN:\\n')\n",
        "print(classification_report(y_test, y_pred_knn))\n",
        "print('\\nRandom Forest:\\n')\n",
        "print(classification_report(y_test, y_pred_rf))"
      ],
      "metadata": {
        "id": "oOEjqRgW_0NF",
        "colab": {
          "base_uri": "https://localhost:8080/"
        },
        "outputId": "fae5f1ac-a8bf-4f21-944e-818e5ac09d8f"
      },
      "execution_count": null,
      "outputs": [
        {
          "output_type": "stream",
          "name": "stdout",
          "text": [
            "Linear SVC:\n",
            "\n",
            "              precision    recall  f1-score   support\n",
            "\n",
            "           0       0.96      0.99      0.98      3303\n",
            "           1       0.74      0.39      0.51       215\n",
            "\n",
            "    accuracy                           0.95      3518\n",
            "   macro avg       0.85      0.69      0.74      3518\n",
            "weighted avg       0.95      0.95      0.95      3518\n",
            "\n",
            "\n",
            "KNN:\n",
            "\n",
            "              precision    recall  f1-score   support\n",
            "\n",
            "           0       0.94      1.00      0.97      3303\n",
            "           1       0.56      0.07      0.12       215\n",
            "\n",
            "    accuracy                           0.94      3518\n",
            "   macro avg       0.75      0.53      0.54      3518\n",
            "weighted avg       0.92      0.94      0.92      3518\n",
            "\n",
            "\n",
            "Random Forest:\n",
            "\n",
            "              precision    recall  f1-score   support\n",
            "\n",
            "           0       0.95      1.00      0.97      3303\n",
            "           1       0.69      0.12      0.20       215\n",
            "\n",
            "    accuracy                           0.94      3518\n",
            "   macro avg       0.82      0.56      0.58      3518\n",
            "weighted avg       0.93      0.94      0.92      3518\n",
            "\n"
          ]
        }
      ]
    },
    {
      "cell_type": "markdown",
      "source": [
        "**Respuesta**:\n",
        "\n",
        "El rendimiento de cada modelo es analizado mediante classification_report, una función de sklearn que proporciona un informe completo de las métricas de evaluación, donde se encuentran métricas tales como:\n",
        "\n",
        "- Accuracy: Representa la proporción de muestras clasificadas correctamente sobre el total de muestras evaluadas.\n",
        "- Precision: Representa la proporción de verdaderos positivos (muestras correctamente clasificadas como positivas) sobre el total de muestras clasificadas como positivas por el modelo. Un valor cercano a 1 minimiza los falsos positivos.\n",
        "- Recall: Representa la proporción de verdaderos positivos (muestras correctamente clasificadas como positivas) sobre el total de muestras positivas en el conjunto de datos. Un valor cercano a 1 minimiza los falsos negativos.\n",
        "- F1-score: Representa un equilibrio entre precision y recall (es la media armónica entre los dos valores). Es útil cuando hay un desequilibrio de clases.\n",
        "\n",
        "Los valores de estas 3 últimas métricas son entregados en 3 formatos:\n",
        "\n",
        "- Por clase (es decir, considerando a 0 como la clase positiva y luego considerando a 1 como la clase positiva).\n",
        "- Como macro average (media no ponderada, toma el promedio de las precisiones de ambas clases, independientemente de su tamaño o distribución en los datos, donde las dos clases tienen el mismo peso en el cálculo de la media).\n",
        "- Como weighted average (media ponderada, toma el promedio ponderado de las precisiones de ambas clases, teniendo en cuenta el número de muestras en cada clase, donde la clase con más muestras tiene un mayor impacto en el cálculo de la media ponderada).\n",
        "\n",
        "Además entrega una medida del support (es decir, la cantidad de datos por cada clase y la cantidad total de datos, todo en el conjunto de test).\n",
        "\n",
        "Ahora, respecto a los resultados obtenidos para los 3 clasificadores tenemos que:\n",
        "\n",
        "- Son muy buenos los valores de accuracy (0.95 en Linear SVC, 0.94 en KNN y 0.94 en Random Forest). Esto implica que los modelos tienen un buen rendimiento en la clasificación de las muestras, acertando en la mayoría de las predicciones.\n",
        "\n",
        "- Los valores de precision y recall para la clase positiva 1 (la que indica que un jugador es seleccionado nacional) no son muy buenos en general (para precision: 0.74 en Linear SVC, 0.56 en KNN y 0.69 en Random Forest, mientras que para recall: 0.39 en Linear SVC, 0.07 en KNN y 0.12 en Random Forest). Estos bajos valores de precision y recall para la clase positiva 1 indica que el modelo tiene dificultades para identificar y clasificar correctamente los ejemplos relevantes de aquella clase (es decir predecir si un jugador será seleccionado nacional), cometiendo errores tanto de falsos positivos (debido a precision, pero no tantos pues no es tan cercano a 0) como de falsos negativos (debido al bajo recall, donde aquí hay una mayor cantidad de errores pues los valores son más cercanos a 0).\n",
        "\n",
        "- Debido a la cantidad desbalanceada de ejemplos por clase, los resultados anteriores podrían mejorarse haciendo oversampling de la clase minoritaria (es decir la clase positiva 1 que indica que un jugador es seleccionado nacional) en el conjunto de train, por ejemplo mediante SMOTE, y entrenar con esos nuevos datos los modelos. Luego las métricas obtenidas tras predecir en el conjunto de test deberían ser distintas y más balanceadas entre clases.\n",
        "\n"
      ],
      "metadata": {
        "id": "QgSeo0aIx9ow",
        "cell_id": "2e9c35fbe33d4a38bfdf6af6de3022f3",
        "deepnote_cell_height": 106.33332824707031,
        "deepnote_cell_type": "markdown"
      }
    },
    {
      "cell_type": "markdown",
      "source": [
        "## 1.2 Predicción de posiciones de jugadores [2 puntos]\n",
        "\n",
        "<p align=\"center\">\n",
        "  <img src=\"https://pbs.twimg.com/media/E1rfA1aWEAYU6Ny.jpg\" width=\"500\">\n",
        "</p>"
      ],
      "metadata": {
        "id": "ix97Ho4uOARH",
        "cell_id": "5aa0cc14dba04749ad3bc07a92d351d2",
        "deepnote_cell_type": "markdown"
      }
    },
    {
      "cell_type": "markdown",
      "source": [
        "En una nueva jornada de desmesuradas transacciones deportivas, Renacín escuchó a sus colegas discutir acerca de que el precio de cada jugador depende en gran medida de la posición en la cancha en la que juega. Y además, que hay bastantes jugadores nuevos que no tienen muy claro en que posición verdaderamente brillarían, por lo que actualmente puede que actualmente estén jugando en posiciones sub-optimas.\n",
        "\n",
        "Viendo que los resultados del primer análisis no son tan esperanzadores, el corporeo los comanda a cambiar su tarea: ahora, les solicita que construyan un clasificador enfocado en predecir la mejor posición de los jugadores en la cancha según sus características.\n",
        "\n",
        "Para lograr esto, primero, les pide que etiqueten de la siguiente manera los valores que aparecen en el atributo ```Club_Position```, pidiendo que agrupen los valores en los siguientes grupos:\n",
        "\n",
        "**Nota**:  Renacín les recalca que **no deben utilizar los valores ```Sub``` y ```Res``` de esta columna**.\n",
        "\n",
        "```python\n",
        "ataque = ['ST', 'CF']\n",
        "central_ataque = ['RW', 'CAM', 'LW']\n",
        "central = ['RM', 'CM', 'LM']\n",
        "central_defensa = ['RWB', 'CDM', 'LWB']\n",
        "defensa = ['RB', 'CB', 'LB']\n",
        "arquero = ['GK']\n",
        "```\n",
        "\n",
        "Cabe señalar que al igual como lo realizado con la clasificación binaria, deberá justificar en base a la [guía](https://scikit-learn.org/stable/tutorial/machine_learning_map/index.html) la elección del clasificador y se deben comentar los resultados obtenidos en la clasificación.\n",
        "\n",
        "**Nota:** Clasifique solamente con las clases señaladas, si observa mas clases eliminelas de la clasficación.\n",
        "\n",
        "**To-Do**:\n",
        "\n",
        "- [ ] Aplique las etiquetas descritas anteriormente en cada uno de los valores señalados en esta sección.\n",
        "- [ ] Cuente cuantos por clase quedan.\n",
        "- [ ] Entrene el nuevo pipeline y ejecute una evaluación de este.\n",
        "- [ ] Comente los resultados obtenidos."
      ],
      "metadata": {
        "id": "oHAwZfV8hMsk",
        "cell_id": "6cd2eee12b6147bc8eba66af43a1f1f7",
        "deepnote_cell_type": "markdown"
      }
    },
    {
      "cell_type": "markdown",
      "source": [
        "**Respuesta:**"
      ],
      "metadata": {
        "tags": [],
        "cell_id": "71cd4b2ee5a74b96aa2dd4e1da166655",
        "deepnote_cell_type": "markdown",
        "id": "uc2dGtSBw6bU"
      }
    },
    {
      "cell_type": "markdown",
      "source": [
        "Obtenemos los valores de Club_Position (labels de variable objetivo) y separamos el resto de características (dropearemos el nombre del jugador también, puesto que no aporta para la predicción posterior):"
      ],
      "metadata": {
        "id": "b5R5xBHal2Sz"
      }
    },
    {
      "cell_type": "code",
      "source": [
        "X = df_players.drop(columns=['Club_Position', 'Name'])\n",
        "y = df_players['Club_Position']\n",
        "y"
      ],
      "metadata": {
        "cell_id": "c95e6cb3ab91410fb2151acbdc068908",
        "source_hash": "43ce1981",
        "execution_start": 1636741171250,
        "execution_millis": 3,
        "deepnote_to_be_reexecuted": false,
        "deepnote_cell_type": "code",
        "colab": {
          "base_uri": "https://localhost:8080/"
        },
        "outputId": "9c17fe3f-86c4-4282-c8d0-f1a2af5cb151",
        "id": "bwdWS_EOl2TC"
      },
      "outputs": [
        {
          "output_type": "execute_result",
          "data": {
            "text/plain": [
              "0         LW\n",
              "1         RW\n",
              "2         LW\n",
              "3         ST\n",
              "4         GK\n",
              "        ... \n",
              "17583    Sub\n",
              "17584    Sub\n",
              "17585    Res\n",
              "17586    Sub\n",
              "17587    Sub\n",
              "Name: Club_Position, Length: 17587, dtype: object"
            ]
          },
          "metadata": {},
          "execution_count": 22
        }
      ],
      "execution_count": null
    },
    {
      "cell_type": "markdown",
      "source": [
        "Valores únicos para las etiquetas:"
      ],
      "metadata": {
        "id": "X2Hv-hc2l2TC"
      }
    },
    {
      "cell_type": "code",
      "source": [
        "y.unique()"
      ],
      "metadata": {
        "colab": {
          "base_uri": "https://localhost:8080/"
        },
        "outputId": "54abb582-fece-44a5-9841-09e92f1897f6",
        "id": "ndUcZv6rl2TC"
      },
      "execution_count": null,
      "outputs": [
        {
          "output_type": "execute_result",
          "data": {
            "text/plain": [
              "array(['LW', 'RW', 'ST', 'GK', 'Sub', 'RCM', 'CAM', 'LCB', 'LCM', 'RS',\n",
              "       'RB', 'RCB', 'LM', 'LDM', 'RM', 'LB', 'CDM', 'RDM', 'LF', 'CB',\n",
              "       'LAM', 'Res', 'CM', 'LS', 'RF', 'RWB', 'RAM', 'LWB', 'CF'],\n",
              "      dtype=object)"
            ]
          },
          "metadata": {},
          "execution_count": 23
        }
      ]
    },
    {
      "cell_type": "markdown",
      "source": [
        "Encodearemos las etiquetas según lo pedido por Renacín, donde primero eliminaremos todos los datos que tengan otras clases distintas a las nombradas:"
      ],
      "metadata": {
        "id": "410My_cvl2TD"
      }
    },
    {
      "cell_type": "code",
      "source": [
        "# Lista de clases permitidas en Club_Position\n",
        "clases_permitidas = ['ST',\n",
        "                     'CF',\n",
        "                     'RW',\n",
        "                     'CAM',\n",
        "                     'LW',\n",
        "                     'RM',\n",
        "                     'CM',\n",
        "                     'LM',\n",
        "                     'RWB',\n",
        "                     'CDM',\n",
        "                     'LWB',\n",
        "                     'RB',\n",
        "                     'CB',\n",
        "                     'LB',\n",
        "                     'GK']\n",
        "\n",
        "# Datos filtrados\n",
        "y = y[y.isin(clases_permitidas)]\n",
        "X = X.loc[y.index]"
      ],
      "metadata": {
        "id": "b4zv_x5Lp3hj"
      },
      "execution_count": null,
      "outputs": []
    },
    {
      "cell_type": "code",
      "source": [
        "# Función que hace el mapeo correspondiente de las etiquetas\n",
        "def g(x):\n",
        "  if x in ['ST','CF']:\n",
        "    return 'ataque'\n",
        "  elif x in ['RW','CAM','LW']:\n",
        "    return 'central_ataque'\n",
        "  elif x in ['RM', 'CM', 'LM']:\n",
        "    return 'central'\n",
        "  elif x in ['RWB', 'CDM', 'LWB']:\n",
        "    return 'central_defensa'\n",
        "  elif x in ['RB', 'CB', 'LB']:\n",
        "    return 'defensa'\n",
        "  elif x in ['GK']:\n",
        "    return 'arquero'\n",
        "\n",
        "# Aplicamos función a la serie de labels y\n",
        "y = y.apply(g)"
      ],
      "metadata": {
        "id": "vo2B1YeSl2TD"
      },
      "execution_count": null,
      "outputs": []
    },
    {
      "cell_type": "code",
      "source": [
        "# Visualizamos\n",
        "y"
      ],
      "metadata": {
        "colab": {
          "base_uri": "https://localhost:8080/"
        },
        "outputId": "ecf39d9a-404a-4cf3-c608-dd195085ce08",
        "id": "7lm02yI6l2TD"
      },
      "execution_count": null,
      "outputs": [
        {
          "output_type": "execute_result",
          "data": {
            "text/plain": [
              "0        central_ataque\n",
              "1        central_ataque\n",
              "2        central_ataque\n",
              "3                ataque\n",
              "4               arquero\n",
              "              ...      \n",
              "17298           defensa\n",
              "17301           defensa\n",
              "17310           central\n",
              "17312           defensa\n",
              "17442           defensa\n",
              "Name: Club_Position, Length: 3939, dtype: object"
            ]
          },
          "metadata": {},
          "execution_count": 26
        }
      ]
    },
    {
      "cell_type": "markdown",
      "source": [
        "Conteo de datos por cada clase:"
      ],
      "metadata": {
        "id": "Xf7vvPEYuZbx"
      }
    },
    {
      "cell_type": "code",
      "source": [
        "y.value_counts()"
      ],
      "metadata": {
        "colab": {
          "base_uri": "https://localhost:8080/"
        },
        "outputId": "557b36f4-0298-4a84-a207-cbd5d0da783b",
        "id": "7b0Al-Z2l2TD"
      },
      "execution_count": null,
      "outputs": [
        {
          "output_type": "execute_result",
          "data": {
            "text/plain": [
              "defensa            1180\n",
              "central             907\n",
              "arquero             632\n",
              "central_ataque      581\n",
              "ataque              430\n",
              "central_defensa     209\n",
              "Name: Club_Position, dtype: int64"
            ]
          },
          "metadata": {},
          "execution_count": 27
        }
      ]
    },
    {
      "cell_type": "markdown",
      "source": [
        "Para hacer el preprocesamiento, primero obtengamos las variables numéricas:"
      ],
      "metadata": {
        "id": "3PG9xcJWvRJ8"
      }
    },
    {
      "cell_type": "code",
      "source": [
        "numerical = X.select_dtypes(include=['int', 'float']).columns\n",
        "numerical"
      ],
      "metadata": {
        "tags": [],
        "cell_id": "3405035b85c6475594991b29a465a506",
        "deepnote_cell_height": 65.13333129882812,
        "deepnote_cell_type": "code",
        "colab": {
          "base_uri": "https://localhost:8080/"
        },
        "outputId": "be5bc40f-c889-494a-9345-124423e0f600",
        "id": "-jsi6K7evRKK"
      },
      "outputs": [
        {
          "output_type": "execute_result",
          "data": {
            "text/plain": [
              "Index(['Height', 'Weight', 'Age', 'Weak_foot', 'Skill_Moves', 'Ball_Control',\n",
              "       'Dribbling', 'Marking', 'Sliding_Tackle', 'Standing_Tackle',\n",
              "       'Aggression', 'Reactions', 'Interceptions', 'Vision', 'Composure',\n",
              "       'Crossing', 'Short_Pass', 'Long_Pass', 'Acceleration', 'Speed',\n",
              "       'Stamina', 'Strength', 'Balance', 'Agility', 'Jumping', 'Heading',\n",
              "       'Shot_Power', 'Finishing', 'Long_Shots', 'Curve', 'Freekick_Accuracy',\n",
              "       'Penalties', 'Volleys'],\n",
              "      dtype='object')"
            ]
          },
          "metadata": {},
          "execution_count": 28
        }
      ],
      "execution_count": null
    },
    {
      "cell_type": "markdown",
      "source": [
        "Sobre estas variables aplicaremos MinMaxScaler (para que queden normalizadas)."
      ],
      "metadata": {
        "id": "sQY4efJbvRKL"
      }
    },
    {
      "cell_type": "markdown",
      "source": [
        "Ahora obtengamos las variables categóricas:"
      ],
      "metadata": {
        "id": "_NSwdfCtvRKL"
      }
    },
    {
      "cell_type": "code",
      "source": [
        "categorical = X.select_dtypes(include=['object']).columns\n",
        "categorical"
      ],
      "metadata": {
        "colab": {
          "base_uri": "https://localhost:8080/"
        },
        "outputId": "7b37393c-634b-4311-c954-b79ce648fe78",
        "id": "CLU6WybJvRKL"
      },
      "execution_count": null,
      "outputs": [
        {
          "output_type": "execute_result",
          "data": {
            "text/plain": [
              "Index(['Nationality', 'National_Position', 'Preffered_Foot', 'Work_Rate'], dtype='object')"
            ]
          },
          "metadata": {},
          "execution_count": 29
        }
      ]
    },
    {
      "cell_type": "markdown",
      "source": [
        "Observemos los valores:"
      ],
      "metadata": {
        "id": "5zivEYM0vRKL"
      }
    },
    {
      "cell_type": "code",
      "source": [
        "X[categorical]"
      ],
      "metadata": {
        "colab": {
          "base_uri": "https://localhost:8080/",
          "height": 423
        },
        "outputId": "f68a9a5a-7de9-42b8-cd2f-60fb0221d55a",
        "id": "smbwnzcKvRKL"
      },
      "execution_count": null,
      "outputs": [
        {
          "output_type": "execute_result",
          "data": {
            "text/plain": [
              "               Nationality National_Position Preffered_Foot        Work_Rate\n",
              "0                 Portugal                LS          Right       High / Low\n",
              "1                Argentina                RW           Left  Medium / Medium\n",
              "2                   Brazil                LW          Right    High / Medium\n",
              "3                  Uruguay                LS          Right    High / Medium\n",
              "4                  Germany                GK          Right  Medium / Medium\n",
              "...                    ...               ...            ...              ...\n",
              "17298               Norway               NaN          Right  Medium / Medium\n",
              "17301  Republic of Ireland               NaN           Left  Medium / Medium\n",
              "17310              England               NaN          Right  Medium / Medium\n",
              "17312              England               NaN          Right  Medium / Medium\n",
              "17442                Japan               NaN           Left    Medium / High\n",
              "\n",
              "[3939 rows x 4 columns]"
            ],
            "text/html": [
              "\n",
              "  <div id=\"df-0dc22ada-a7d3-472f-aaec-42fed56fd36e\">\n",
              "    <div class=\"colab-df-container\">\n",
              "      <div>\n",
              "<style scoped>\n",
              "    .dataframe tbody tr th:only-of-type {\n",
              "        vertical-align: middle;\n",
              "    }\n",
              "\n",
              "    .dataframe tbody tr th {\n",
              "        vertical-align: top;\n",
              "    }\n",
              "\n",
              "    .dataframe thead th {\n",
              "        text-align: right;\n",
              "    }\n",
              "</style>\n",
              "<table border=\"1\" class=\"dataframe\">\n",
              "  <thead>\n",
              "    <tr style=\"text-align: right;\">\n",
              "      <th></th>\n",
              "      <th>Nationality</th>\n",
              "      <th>National_Position</th>\n",
              "      <th>Preffered_Foot</th>\n",
              "      <th>Work_Rate</th>\n",
              "    </tr>\n",
              "  </thead>\n",
              "  <tbody>\n",
              "    <tr>\n",
              "      <th>0</th>\n",
              "      <td>Portugal</td>\n",
              "      <td>LS</td>\n",
              "      <td>Right</td>\n",
              "      <td>High / Low</td>\n",
              "    </tr>\n",
              "    <tr>\n",
              "      <th>1</th>\n",
              "      <td>Argentina</td>\n",
              "      <td>RW</td>\n",
              "      <td>Left</td>\n",
              "      <td>Medium / Medium</td>\n",
              "    </tr>\n",
              "    <tr>\n",
              "      <th>2</th>\n",
              "      <td>Brazil</td>\n",
              "      <td>LW</td>\n",
              "      <td>Right</td>\n",
              "      <td>High / Medium</td>\n",
              "    </tr>\n",
              "    <tr>\n",
              "      <th>3</th>\n",
              "      <td>Uruguay</td>\n",
              "      <td>LS</td>\n",
              "      <td>Right</td>\n",
              "      <td>High / Medium</td>\n",
              "    </tr>\n",
              "    <tr>\n",
              "      <th>4</th>\n",
              "      <td>Germany</td>\n",
              "      <td>GK</td>\n",
              "      <td>Right</td>\n",
              "      <td>Medium / Medium</td>\n",
              "    </tr>\n",
              "    <tr>\n",
              "      <th>...</th>\n",
              "      <td>...</td>\n",
              "      <td>...</td>\n",
              "      <td>...</td>\n",
              "      <td>...</td>\n",
              "    </tr>\n",
              "    <tr>\n",
              "      <th>17298</th>\n",
              "      <td>Norway</td>\n",
              "      <td>NaN</td>\n",
              "      <td>Right</td>\n",
              "      <td>Medium / Medium</td>\n",
              "    </tr>\n",
              "    <tr>\n",
              "      <th>17301</th>\n",
              "      <td>Republic of Ireland</td>\n",
              "      <td>NaN</td>\n",
              "      <td>Left</td>\n",
              "      <td>Medium / Medium</td>\n",
              "    </tr>\n",
              "    <tr>\n",
              "      <th>17310</th>\n",
              "      <td>England</td>\n",
              "      <td>NaN</td>\n",
              "      <td>Right</td>\n",
              "      <td>Medium / Medium</td>\n",
              "    </tr>\n",
              "    <tr>\n",
              "      <th>17312</th>\n",
              "      <td>England</td>\n",
              "      <td>NaN</td>\n",
              "      <td>Right</td>\n",
              "      <td>Medium / Medium</td>\n",
              "    </tr>\n",
              "    <tr>\n",
              "      <th>17442</th>\n",
              "      <td>Japan</td>\n",
              "      <td>NaN</td>\n",
              "      <td>Left</td>\n",
              "      <td>Medium / High</td>\n",
              "    </tr>\n",
              "  </tbody>\n",
              "</table>\n",
              "<p>3939 rows × 4 columns</p>\n",
              "</div>\n",
              "      <button class=\"colab-df-convert\" onclick=\"convertToInteractive('df-0dc22ada-a7d3-472f-aaec-42fed56fd36e')\"\n",
              "              title=\"Convert this dataframe to an interactive table.\"\n",
              "              style=\"display:none;\">\n",
              "        \n",
              "  <svg xmlns=\"http://www.w3.org/2000/svg\" height=\"24px\"viewBox=\"0 0 24 24\"\n",
              "       width=\"24px\">\n",
              "    <path d=\"M0 0h24v24H0V0z\" fill=\"none\"/>\n",
              "    <path d=\"M18.56 5.44l.94 2.06.94-2.06 2.06-.94-2.06-.94-.94-2.06-.94 2.06-2.06.94zm-11 1L8.5 8.5l.94-2.06 2.06-.94-2.06-.94L8.5 2.5l-.94 2.06-2.06.94zm10 10l.94 2.06.94-2.06 2.06-.94-2.06-.94-.94-2.06-.94 2.06-2.06.94z\"/><path d=\"M17.41 7.96l-1.37-1.37c-.4-.4-.92-.59-1.43-.59-.52 0-1.04.2-1.43.59L10.3 9.45l-7.72 7.72c-.78.78-.78 2.05 0 2.83L4 21.41c.39.39.9.59 1.41.59.51 0 1.02-.2 1.41-.59l7.78-7.78 2.81-2.81c.8-.78.8-2.07 0-2.86zM5.41 20L4 18.59l7.72-7.72 1.47 1.35L5.41 20z\"/>\n",
              "  </svg>\n",
              "      </button>\n",
              "      \n",
              "  <style>\n",
              "    .colab-df-container {\n",
              "      display:flex;\n",
              "      flex-wrap:wrap;\n",
              "      gap: 12px;\n",
              "    }\n",
              "\n",
              "    .colab-df-convert {\n",
              "      background-color: #E8F0FE;\n",
              "      border: none;\n",
              "      border-radius: 50%;\n",
              "      cursor: pointer;\n",
              "      display: none;\n",
              "      fill: #1967D2;\n",
              "      height: 32px;\n",
              "      padding: 0 0 0 0;\n",
              "      width: 32px;\n",
              "    }\n",
              "\n",
              "    .colab-df-convert:hover {\n",
              "      background-color: #E2EBFA;\n",
              "      box-shadow: 0px 1px 2px rgba(60, 64, 67, 0.3), 0px 1px 3px 1px rgba(60, 64, 67, 0.15);\n",
              "      fill: #174EA6;\n",
              "    }\n",
              "\n",
              "    [theme=dark] .colab-df-convert {\n",
              "      background-color: #3B4455;\n",
              "      fill: #D2E3FC;\n",
              "    }\n",
              "\n",
              "    [theme=dark] .colab-df-convert:hover {\n",
              "      background-color: #434B5C;\n",
              "      box-shadow: 0px 1px 3px 1px rgba(0, 0, 0, 0.15);\n",
              "      filter: drop-shadow(0px 1px 2px rgba(0, 0, 0, 0.3));\n",
              "      fill: #FFFFFF;\n",
              "    }\n",
              "  </style>\n",
              "\n",
              "      <script>\n",
              "        const buttonEl =\n",
              "          document.querySelector('#df-0dc22ada-a7d3-472f-aaec-42fed56fd36e button.colab-df-convert');\n",
              "        buttonEl.style.display =\n",
              "          google.colab.kernel.accessAllowed ? 'block' : 'none';\n",
              "\n",
              "        async function convertToInteractive(key) {\n",
              "          const element = document.querySelector('#df-0dc22ada-a7d3-472f-aaec-42fed56fd36e');\n",
              "          const dataTable =\n",
              "            await google.colab.kernel.invokeFunction('convertToInteractive',\n",
              "                                                     [key], {});\n",
              "          if (!dataTable) return;\n",
              "\n",
              "          const docLinkHtml = 'Like what you see? Visit the ' +\n",
              "            '<a target=\"_blank\" href=https://colab.research.google.com/notebooks/data_table.ipynb>data table notebook</a>'\n",
              "            + ' to learn more about interactive tables.';\n",
              "          element.innerHTML = '';\n",
              "          dataTable['output_type'] = 'display_data';\n",
              "          await google.colab.output.renderOutput(dataTable, element);\n",
              "          const docLink = document.createElement('div');\n",
              "          docLink.innerHTML = docLinkHtml;\n",
              "          element.appendChild(docLink);\n",
              "        }\n",
              "      </script>\n",
              "    </div>\n",
              "  </div>\n",
              "  "
            ]
          },
          "metadata": {},
          "execution_count": 30
        }
      ]
    },
    {
      "cell_type": "markdown",
      "source": [
        "Del reporte en HTML se aprecia que:\n",
        "\n",
        "- Hay 160 categorías nominales distintas en la variable Nationality\n",
        "- Hay 27 categorías nominales distintas en la variable National_Position\n",
        "- Hay 2 categorías nominales distintas en la variable Preffered_Foot\n",
        "- Hay 9 categorías nominales distintas en la variable Work_Rate\n",
        "\n",
        "Sobre estas variables aplicaremos OneHotEncoding (dada su naturaleza nominal)."
      ],
      "metadata": {
        "id": "4RhuOCCxvRKL"
      }
    },
    {
      "cell_type": "markdown",
      "source": [
        "Preprocesamiento:"
      ],
      "metadata": {
        "id": "Ewh9nTBKvRKM"
      }
    },
    {
      "cell_type": "code",
      "source": [
        "# Definimos las transformaciones para cada columna:\n",
        "# MinMaxScaler para las numéricas, OneHotEncoder para las categóricas\n",
        "preprocesamiento = ColumnTransformer(\n",
        "    transformers=[\n",
        "        ('numerical', MinMaxScaler(), numerical),\n",
        "        ('categorical', OneHotEncoder(sparse=False,handle_unknown='ignore'), categorical)\n",
        "    ]\n",
        ")"
      ],
      "metadata": {
        "id": "UlOv7km4vRKM"
      },
      "execution_count": null,
      "outputs": []
    },
    {
      "cell_type": "markdown",
      "source": [
        "Ahora entrenemos el nuevo pipeline y ejecutemos una nueva evaluación de este, donde el clasificador elegido es Linear SVC (pues la cantidad de datos es menor a 100 mil)."
      ],
      "metadata": {
        "id": "fGMr4aZ4ue5n"
      }
    },
    {
      "cell_type": "code",
      "source": [
        "# Pipeline de Linear SVC\n",
        "pipeline_lsvc = Pipeline([\n",
        "    ('preprocesamiento', preprocesamiento),\n",
        "    ('classifier', LinearSVC(random_state=42))\n",
        "])"
      ],
      "metadata": {
        "id": "OWOigKfSvRKM"
      },
      "execution_count": null,
      "outputs": []
    },
    {
      "cell_type": "markdown",
      "source": [
        "Dividimos en train-test en proporción 80-20 de manera estratificada (es decir manteniendo la distribución original de labels de cada clase en ambos conjuntos):"
      ],
      "metadata": {
        "id": "y3_DYbfpvRKM"
      }
    },
    {
      "cell_type": "code",
      "source": [
        "X_train, X_test, y_train, y_test = train_test_split(X, y, test_size=0.2, stratify=y, random_state=42)"
      ],
      "metadata": {
        "tags": [],
        "cell_id": "0148b8e4a7e24b838381dbee30b31758",
        "deepnote_cell_height": 65.13333129882812,
        "deepnote_cell_type": "code",
        "id": "9erltxE8vRKM"
      },
      "outputs": [],
      "execution_count": null
    },
    {
      "cell_type": "markdown",
      "source": [
        "Entrenamos el pipeline, es decir, preprocesaremos el conjunto de train (primer paso del pipeline) y luego ajustaremos el clasificador a aquellos datos (segundo paso del pipeline) para calcular predicciones sobre el conjunto de test:"
      ],
      "metadata": {
        "id": "uZtaIgVQvRKN"
      }
    },
    {
      "cell_type": "code",
      "source": [
        "# Linear SVC\n",
        "pipeline_lsvc.fit(X_train, y_train)\n",
        "y_pred_lsvc = pipeline_lsvc.predict(X_test)"
      ],
      "metadata": {
        "colab": {
          "base_uri": "https://localhost:8080/"
        },
        "outputId": "499b458f-48ab-4727-c728-c4989d2b6790",
        "id": "bjqdu_1ivRKN"
      },
      "execution_count": null,
      "outputs": [
        {
          "output_type": "stream",
          "name": "stderr",
          "text": [
            "/usr/local/lib/python3.10/dist-packages/sklearn/preprocessing/_encoders.py:868: FutureWarning: `sparse` was renamed to `sparse_output` in version 1.2 and will be removed in 1.4. `sparse_output` is ignored unless you leave `sparse` to its default value.\n",
            "  warnings.warn(\n"
          ]
        }
      ]
    },
    {
      "cell_type": "markdown",
      "source": [
        "Imprimimos resultados:"
      ],
      "metadata": {
        "id": "3MWny-2kvRKN"
      }
    },
    {
      "cell_type": "code",
      "source": [
        "print('Linear SVC:\\n')\n",
        "print(classification_report(y_test, y_pred_lsvc))"
      ],
      "metadata": {
        "colab": {
          "base_uri": "https://localhost:8080/"
        },
        "outputId": "e9d98609-5b3c-4213-80b4-f00d952a2cc5",
        "id": "f4pMca8bvRKN"
      },
      "execution_count": null,
      "outputs": [
        {
          "output_type": "stream",
          "name": "stdout",
          "text": [
            "Linear SVC:\n",
            "\n",
            "                 precision    recall  f1-score   support\n",
            "\n",
            "        arquero       1.00      1.00      1.00       126\n",
            "         ataque       0.76      0.86      0.80        86\n",
            "        central       0.62      0.68      0.65       182\n",
            " central_ataque       0.52      0.31      0.39       116\n",
            "central_defensa       0.41      0.17      0.24        42\n",
            "        defensa       0.82      0.97      0.89       236\n",
            "\n",
            "       accuracy                           0.75       788\n",
            "      macro avg       0.69      0.66      0.66       788\n",
            "   weighted avg       0.73      0.75      0.73       788\n",
            "\n"
          ]
        }
      ]
    },
    {
      "cell_type": "markdown",
      "source": [
        "**Respuesta**:\n",
        "\n",
        "- El valor de accuracy obtenido (0.75) no es tan bueno como antes, por lo que el modelo no predice correctamente con mucha exactitud.\n",
        "- Tenemos buenas métricas de precision, recall y f1-score en general, salvo por algunas clases más desbalanceadas: la clase central_defensa y la clase central_ataque, que tienen los valores más bajos para aquellas métricas.\n",
        "\n"
      ],
      "metadata": {
        "tags": [],
        "cell_id": "bea1283d202545a7a1008e29ee53e044",
        "deepnote_cell_type": "markdown",
        "id": "J13EpQLPw6bV"
      }
    },
    {
      "cell_type": "markdown",
      "source": [
        "## 1.3 Predicción de Sueldos [2 puntos]\n",
        "\n",
        "<p align=\"center\">\n",
        "  <img src=\"https://media.giphy.com/media/3oEjHWtHAFcOKS4iA0/giphy.gif\" width=\"460\">\n",
        "</p>"
      ],
      "metadata": {
        "id": "C-vkB4xoOGtM",
        "cell_id": "f8008fda06be4d8ab7564d7362151a14",
        "deepnote_cell_type": "markdown"
      }
    },
    {
      "cell_type": "markdown",
      "source": [
        "Queriendo ahondar aún más en el mercado del balompíe, Renacin, logra obtener (de una manera no muy formal) los sueldos de múltiples futbolistas y los guarda en el archivo ```sueldos.csv```. Con ellos les solicita que generen un regresor que les permita predecir el sueldo de los futbolistas en base a las características de los pichichis, esto, debido a su motivación por invertir y/o realizar especulación sobre los sueldos de jugadores.\n",
        "\n",
        "Renacin es claro señalando que deben seguir utilizando la [guía](https://scikit-learn.org/stable/tutorial/machine_learning_map/index.html) y comenten cada uno de los pasos realizados, para obtener su regresión lineal. Señalándoles que no aceptara un $R^2$ inferior a 0.35 para el modelo solicitado.\n",
        "\n",
        "Para esta parte usted tiene total libertad en la generación del regresor, la unica exigencia es que utilice un pipeline para generar la regresión y utilice la metrica $R^2$ para medir el rendimiento de esta.\n",
        "\n",
        "**To-Do**:\n",
        "\n",
        "- [ ] Explique en que consiste la métrica $R^2$\n",
        "- [ ] Generar un pipeline para la regresión.\n",
        "- [ ] Obtener un regresor con un $R^2$ superior a  $0.35$.\n",
        "- [ ] Comente sus resultados y si es posible mejorar los resultados obtenidos. ¿Se necesitarían más datos o otros tipos de características o una combinación de ambos?"
      ],
      "metadata": {
        "tags": [],
        "cell_id": "598c8a91d80c412091470f396af54b5f",
        "deepnote_cell_type": "markdown",
        "id": "04bNyaIVw6bV"
      }
    },
    {
      "cell_type": "markdown",
      "source": [
        "**Respuesta**"
      ],
      "metadata": {
        "tags": [],
        "cell_id": "5ce70aab37cb4924b1543eeab84e7de4",
        "deepnote_cell_type": "markdown",
        "id": "nvjKKQYKw6bV"
      }
    },
    {
      "cell_type": "markdown",
      "source": [
        "Primero renombremos la columna \"Player\" de df_salarios y llamemosla \"Name\" (nombre del futbolista) al igual que en df_players. Además dropearemos la columna \"Unnamed: 0\" pues no aporta información:"
      ],
      "metadata": {
        "id": "LyrAX1yv5GUP"
      }
    },
    {
      "cell_type": "code",
      "source": [
        "df_salarios.rename(columns={'Player': 'Name'}, inplace=True)\n",
        "df_salarios.drop(columns=['Unnamed: 0'], inplace=True)"
      ],
      "metadata": {
        "id": "lwjvouj-5Pex"
      },
      "execution_count": null,
      "outputs": []
    },
    {
      "cell_type": "markdown",
      "source": [
        "Ahora hagamos un inner join de la base de players y la base de sueldos (con llave primaria la columna Name) para tener las características y los sueldos para cada jugador:"
      ],
      "metadata": {
        "id": "zlOs-lKtxjtP"
      }
    },
    {
      "cell_type": "code",
      "source": [
        "df = pd.merge(df_players,df_salarios,on='Name',how='inner')\n",
        "df"
      ],
      "metadata": {
        "tags": [],
        "cell_id": "96e8db5c5a7044b79966da981618c807",
        "deepnote_cell_type": "code",
        "id": "frb-1Lr-w6bV",
        "colab": {
          "base_uri": "https://localhost:8080/",
          "height": 678
        },
        "outputId": "6c852854-38af-46d8-96f9-35604f20ee6e"
      },
      "outputs": [
        {
          "output_type": "execute_result",
          "data": {
            "text/plain": [
              "                   Name  Nationality National_Position Club_Position  Height  \\\n",
              "0     Cristiano Ronaldo     Portugal                LS            LW     185   \n",
              "1          Lionel Messi    Argentina                RW            RW     170   \n",
              "2                Neymar       Brazil                LW            LW     174   \n",
              "3           Luis Suárez      Uruguay                LS            ST     182   \n",
              "4          Manuel Neuer      Germany                GK            GK     193   \n",
              "...                 ...          ...               ...           ...     ...   \n",
              "1861     Phillip Menzel      Germany               NaN           Res     191   \n",
              "1862      Manuel Akanji  Switzerland               NaN           Sub     187   \n",
              "1863     Moritz Nicolas      Germany               NaN           Res     195   \n",
              "1864   Giacomo Satalino        Italy               NaN           Sub     188   \n",
              "1865     Nicolò Zaniolo        Italy               NaN           Res     185   \n",
              "\n",
              "      Weight Preffered_Foot  Age        Work_Rate  Weak_foot  ...  Jumping  \\\n",
              "0         80          Right   32       High / Low          4  ...       95   \n",
              "1         72           Left   29  Medium / Medium          4  ...       68   \n",
              "2         68          Right   25    High / Medium          5  ...       61   \n",
              "3         85          Right   30    High / Medium          4  ...       69   \n",
              "4         92          Right   31  Medium / Medium          4  ...       78   \n",
              "...      ...            ...  ...              ...        ...  ...      ...   \n",
              "1861      83          Right   18  Medium / Medium          3  ...       40   \n",
              "1862      85          Right   21  Medium / Medium          2  ...       66   \n",
              "1863      87          Right   19  Medium / Medium          2  ...       34   \n",
              "1864      70          Right   17  Medium / Medium          1  ...       48   \n",
              "1865      80          Right   17       High / Low          3  ...       49   \n",
              "\n",
              "      Heading  Shot_Power  Finishing  Long_Shots  Curve  Freekick_Accuracy  \\\n",
              "0          85          92         93          90     81                 76   \n",
              "1          71          85         95          88     89                 90   \n",
              "2          62          78         89          77     79                 84   \n",
              "3          77          87         94          86     86                 84   \n",
              "4          25          25         13          16     14                 11   \n",
              "...       ...         ...        ...         ...    ...                ...   \n",
              "1861       10          25          5          10     12                  8   \n",
              "1862       51          38         25          18     26                 27   \n",
              "1863       16          22          9          10     17                 14   \n",
              "1864       11          19          6           5     13                 11   \n",
              "1865       59          50         49          42     54                 51   \n",
              "\n",
              "      Penalties  Volleys  Weekly Salary  \n",
              "0            85       88      1248536.0  \n",
              "1            74       85      1538905.0  \n",
              "2            81       83       797726.0  \n",
              "3            85       88       508923.0  \n",
              "4            47       11       326233.0  \n",
              "...         ...      ...            ...  \n",
              "1861         15        5         2034.0  \n",
              "1862         40       31        54176.0  \n",
              "1863         17       11         2262.0  \n",
              "1864         18        9         2827.0  \n",
              "1865         49       39        28187.0  \n",
              "\n",
              "[1866 rows x 40 columns]"
            ],
            "text/html": [
              "\n",
              "  <div id=\"df-fa828fec-a6b7-440d-adaa-f59704b33d50\">\n",
              "    <div class=\"colab-df-container\">\n",
              "      <div>\n",
              "<style scoped>\n",
              "    .dataframe tbody tr th:only-of-type {\n",
              "        vertical-align: middle;\n",
              "    }\n",
              "\n",
              "    .dataframe tbody tr th {\n",
              "        vertical-align: top;\n",
              "    }\n",
              "\n",
              "    .dataframe thead th {\n",
              "        text-align: right;\n",
              "    }\n",
              "</style>\n",
              "<table border=\"1\" class=\"dataframe\">\n",
              "  <thead>\n",
              "    <tr style=\"text-align: right;\">\n",
              "      <th></th>\n",
              "      <th>Name</th>\n",
              "      <th>Nationality</th>\n",
              "      <th>National_Position</th>\n",
              "      <th>Club_Position</th>\n",
              "      <th>Height</th>\n",
              "      <th>Weight</th>\n",
              "      <th>Preffered_Foot</th>\n",
              "      <th>Age</th>\n",
              "      <th>Work_Rate</th>\n",
              "      <th>Weak_foot</th>\n",
              "      <th>...</th>\n",
              "      <th>Jumping</th>\n",
              "      <th>Heading</th>\n",
              "      <th>Shot_Power</th>\n",
              "      <th>Finishing</th>\n",
              "      <th>Long_Shots</th>\n",
              "      <th>Curve</th>\n",
              "      <th>Freekick_Accuracy</th>\n",
              "      <th>Penalties</th>\n",
              "      <th>Volleys</th>\n",
              "      <th>Weekly Salary</th>\n",
              "    </tr>\n",
              "  </thead>\n",
              "  <tbody>\n",
              "    <tr>\n",
              "      <th>0</th>\n",
              "      <td>Cristiano Ronaldo</td>\n",
              "      <td>Portugal</td>\n",
              "      <td>LS</td>\n",
              "      <td>LW</td>\n",
              "      <td>185</td>\n",
              "      <td>80</td>\n",
              "      <td>Right</td>\n",
              "      <td>32</td>\n",
              "      <td>High / Low</td>\n",
              "      <td>4</td>\n",
              "      <td>...</td>\n",
              "      <td>95</td>\n",
              "      <td>85</td>\n",
              "      <td>92</td>\n",
              "      <td>93</td>\n",
              "      <td>90</td>\n",
              "      <td>81</td>\n",
              "      <td>76</td>\n",
              "      <td>85</td>\n",
              "      <td>88</td>\n",
              "      <td>1248536.0</td>\n",
              "    </tr>\n",
              "    <tr>\n",
              "      <th>1</th>\n",
              "      <td>Lionel Messi</td>\n",
              "      <td>Argentina</td>\n",
              "      <td>RW</td>\n",
              "      <td>RW</td>\n",
              "      <td>170</td>\n",
              "      <td>72</td>\n",
              "      <td>Left</td>\n",
              "      <td>29</td>\n",
              "      <td>Medium / Medium</td>\n",
              "      <td>4</td>\n",
              "      <td>...</td>\n",
              "      <td>68</td>\n",
              "      <td>71</td>\n",
              "      <td>85</td>\n",
              "      <td>95</td>\n",
              "      <td>88</td>\n",
              "      <td>89</td>\n",
              "      <td>90</td>\n",
              "      <td>74</td>\n",
              "      <td>85</td>\n",
              "      <td>1538905.0</td>\n",
              "    </tr>\n",
              "    <tr>\n",
              "      <th>2</th>\n",
              "      <td>Neymar</td>\n",
              "      <td>Brazil</td>\n",
              "      <td>LW</td>\n",
              "      <td>LW</td>\n",
              "      <td>174</td>\n",
              "      <td>68</td>\n",
              "      <td>Right</td>\n",
              "      <td>25</td>\n",
              "      <td>High / Medium</td>\n",
              "      <td>5</td>\n",
              "      <td>...</td>\n",
              "      <td>61</td>\n",
              "      <td>62</td>\n",
              "      <td>78</td>\n",
              "      <td>89</td>\n",
              "      <td>77</td>\n",
              "      <td>79</td>\n",
              "      <td>84</td>\n",
              "      <td>81</td>\n",
              "      <td>83</td>\n",
              "      <td>797726.0</td>\n",
              "    </tr>\n",
              "    <tr>\n",
              "      <th>3</th>\n",
              "      <td>Luis Suárez</td>\n",
              "      <td>Uruguay</td>\n",
              "      <td>LS</td>\n",
              "      <td>ST</td>\n",
              "      <td>182</td>\n",
              "      <td>85</td>\n",
              "      <td>Right</td>\n",
              "      <td>30</td>\n",
              "      <td>High / Medium</td>\n",
              "      <td>4</td>\n",
              "      <td>...</td>\n",
              "      <td>69</td>\n",
              "      <td>77</td>\n",
              "      <td>87</td>\n",
              "      <td>94</td>\n",
              "      <td>86</td>\n",
              "      <td>86</td>\n",
              "      <td>84</td>\n",
              "      <td>85</td>\n",
              "      <td>88</td>\n",
              "      <td>508923.0</td>\n",
              "    </tr>\n",
              "    <tr>\n",
              "      <th>4</th>\n",
              "      <td>Manuel Neuer</td>\n",
              "      <td>Germany</td>\n",
              "      <td>GK</td>\n",
              "      <td>GK</td>\n",
              "      <td>193</td>\n",
              "      <td>92</td>\n",
              "      <td>Right</td>\n",
              "      <td>31</td>\n",
              "      <td>Medium / Medium</td>\n",
              "      <td>4</td>\n",
              "      <td>...</td>\n",
              "      <td>78</td>\n",
              "      <td>25</td>\n",
              "      <td>25</td>\n",
              "      <td>13</td>\n",
              "      <td>16</td>\n",
              "      <td>14</td>\n",
              "      <td>11</td>\n",
              "      <td>47</td>\n",
              "      <td>11</td>\n",
              "      <td>326233.0</td>\n",
              "    </tr>\n",
              "    <tr>\n",
              "      <th>...</th>\n",
              "      <td>...</td>\n",
              "      <td>...</td>\n",
              "      <td>...</td>\n",
              "      <td>...</td>\n",
              "      <td>...</td>\n",
              "      <td>...</td>\n",
              "      <td>...</td>\n",
              "      <td>...</td>\n",
              "      <td>...</td>\n",
              "      <td>...</td>\n",
              "      <td>...</td>\n",
              "      <td>...</td>\n",
              "      <td>...</td>\n",
              "      <td>...</td>\n",
              "      <td>...</td>\n",
              "      <td>...</td>\n",
              "      <td>...</td>\n",
              "      <td>...</td>\n",
              "      <td>...</td>\n",
              "      <td>...</td>\n",
              "      <td>...</td>\n",
              "    </tr>\n",
              "    <tr>\n",
              "      <th>1861</th>\n",
              "      <td>Phillip Menzel</td>\n",
              "      <td>Germany</td>\n",
              "      <td>NaN</td>\n",
              "      <td>Res</td>\n",
              "      <td>191</td>\n",
              "      <td>83</td>\n",
              "      <td>Right</td>\n",
              "      <td>18</td>\n",
              "      <td>Medium / Medium</td>\n",
              "      <td>3</td>\n",
              "      <td>...</td>\n",
              "      <td>40</td>\n",
              "      <td>10</td>\n",
              "      <td>25</td>\n",
              "      <td>5</td>\n",
              "      <td>10</td>\n",
              "      <td>12</td>\n",
              "      <td>8</td>\n",
              "      <td>15</td>\n",
              "      <td>5</td>\n",
              "      <td>2034.0</td>\n",
              "    </tr>\n",
              "    <tr>\n",
              "      <th>1862</th>\n",
              "      <td>Manuel Akanji</td>\n",
              "      <td>Switzerland</td>\n",
              "      <td>NaN</td>\n",
              "      <td>Sub</td>\n",
              "      <td>187</td>\n",
              "      <td>85</td>\n",
              "      <td>Right</td>\n",
              "      <td>21</td>\n",
              "      <td>Medium / Medium</td>\n",
              "      <td>2</td>\n",
              "      <td>...</td>\n",
              "      <td>66</td>\n",
              "      <td>51</td>\n",
              "      <td>38</td>\n",
              "      <td>25</td>\n",
              "      <td>18</td>\n",
              "      <td>26</td>\n",
              "      <td>27</td>\n",
              "      <td>40</td>\n",
              "      <td>31</td>\n",
              "      <td>54176.0</td>\n",
              "    </tr>\n",
              "    <tr>\n",
              "      <th>1863</th>\n",
              "      <td>Moritz Nicolas</td>\n",
              "      <td>Germany</td>\n",
              "      <td>NaN</td>\n",
              "      <td>Res</td>\n",
              "      <td>195</td>\n",
              "      <td>87</td>\n",
              "      <td>Right</td>\n",
              "      <td>19</td>\n",
              "      <td>Medium / Medium</td>\n",
              "      <td>2</td>\n",
              "      <td>...</td>\n",
              "      <td>34</td>\n",
              "      <td>16</td>\n",
              "      <td>22</td>\n",
              "      <td>9</td>\n",
              "      <td>10</td>\n",
              "      <td>17</td>\n",
              "      <td>14</td>\n",
              "      <td>17</td>\n",
              "      <td>11</td>\n",
              "      <td>2262.0</td>\n",
              "    </tr>\n",
              "    <tr>\n",
              "      <th>1864</th>\n",
              "      <td>Giacomo Satalino</td>\n",
              "      <td>Italy</td>\n",
              "      <td>NaN</td>\n",
              "      <td>Sub</td>\n",
              "      <td>188</td>\n",
              "      <td>70</td>\n",
              "      <td>Right</td>\n",
              "      <td>17</td>\n",
              "      <td>Medium / Medium</td>\n",
              "      <td>1</td>\n",
              "      <td>...</td>\n",
              "      <td>48</td>\n",
              "      <td>11</td>\n",
              "      <td>19</td>\n",
              "      <td>6</td>\n",
              "      <td>5</td>\n",
              "      <td>13</td>\n",
              "      <td>11</td>\n",
              "      <td>18</td>\n",
              "      <td>9</td>\n",
              "      <td>2827.0</td>\n",
              "    </tr>\n",
              "    <tr>\n",
              "      <th>1865</th>\n",
              "      <td>Nicolò Zaniolo</td>\n",
              "      <td>Italy</td>\n",
              "      <td>NaN</td>\n",
              "      <td>Res</td>\n",
              "      <td>185</td>\n",
              "      <td>80</td>\n",
              "      <td>Right</td>\n",
              "      <td>17</td>\n",
              "      <td>High / Low</td>\n",
              "      <td>3</td>\n",
              "      <td>...</td>\n",
              "      <td>49</td>\n",
              "      <td>59</td>\n",
              "      <td>50</td>\n",
              "      <td>49</td>\n",
              "      <td>42</td>\n",
              "      <td>54</td>\n",
              "      <td>51</td>\n",
              "      <td>49</td>\n",
              "      <td>39</td>\n",
              "      <td>28187.0</td>\n",
              "    </tr>\n",
              "  </tbody>\n",
              "</table>\n",
              "<p>1866 rows × 40 columns</p>\n",
              "</div>\n",
              "      <button class=\"colab-df-convert\" onclick=\"convertToInteractive('df-fa828fec-a6b7-440d-adaa-f59704b33d50')\"\n",
              "              title=\"Convert this dataframe to an interactive table.\"\n",
              "              style=\"display:none;\">\n",
              "        \n",
              "  <svg xmlns=\"http://www.w3.org/2000/svg\" height=\"24px\"viewBox=\"0 0 24 24\"\n",
              "       width=\"24px\">\n",
              "    <path d=\"M0 0h24v24H0V0z\" fill=\"none\"/>\n",
              "    <path d=\"M18.56 5.44l.94 2.06.94-2.06 2.06-.94-2.06-.94-.94-2.06-.94 2.06-2.06.94zm-11 1L8.5 8.5l.94-2.06 2.06-.94-2.06-.94L8.5 2.5l-.94 2.06-2.06.94zm10 10l.94 2.06.94-2.06 2.06-.94-2.06-.94-.94-2.06-.94 2.06-2.06.94z\"/><path d=\"M17.41 7.96l-1.37-1.37c-.4-.4-.92-.59-1.43-.59-.52 0-1.04.2-1.43.59L10.3 9.45l-7.72 7.72c-.78.78-.78 2.05 0 2.83L4 21.41c.39.39.9.59 1.41.59.51 0 1.02-.2 1.41-.59l7.78-7.78 2.81-2.81c.8-.78.8-2.07 0-2.86zM5.41 20L4 18.59l7.72-7.72 1.47 1.35L5.41 20z\"/>\n",
              "  </svg>\n",
              "      </button>\n",
              "      \n",
              "  <style>\n",
              "    .colab-df-container {\n",
              "      display:flex;\n",
              "      flex-wrap:wrap;\n",
              "      gap: 12px;\n",
              "    }\n",
              "\n",
              "    .colab-df-convert {\n",
              "      background-color: #E8F0FE;\n",
              "      border: none;\n",
              "      border-radius: 50%;\n",
              "      cursor: pointer;\n",
              "      display: none;\n",
              "      fill: #1967D2;\n",
              "      height: 32px;\n",
              "      padding: 0 0 0 0;\n",
              "      width: 32px;\n",
              "    }\n",
              "\n",
              "    .colab-df-convert:hover {\n",
              "      background-color: #E2EBFA;\n",
              "      box-shadow: 0px 1px 2px rgba(60, 64, 67, 0.3), 0px 1px 3px 1px rgba(60, 64, 67, 0.15);\n",
              "      fill: #174EA6;\n",
              "    }\n",
              "\n",
              "    [theme=dark] .colab-df-convert {\n",
              "      background-color: #3B4455;\n",
              "      fill: #D2E3FC;\n",
              "    }\n",
              "\n",
              "    [theme=dark] .colab-df-convert:hover {\n",
              "      background-color: #434B5C;\n",
              "      box-shadow: 0px 1px 3px 1px rgba(0, 0, 0, 0.15);\n",
              "      filter: drop-shadow(0px 1px 2px rgba(0, 0, 0, 0.3));\n",
              "      fill: #FFFFFF;\n",
              "    }\n",
              "  </style>\n",
              "\n",
              "      <script>\n",
              "        const buttonEl =\n",
              "          document.querySelector('#df-fa828fec-a6b7-440d-adaa-f59704b33d50 button.colab-df-convert');\n",
              "        buttonEl.style.display =\n",
              "          google.colab.kernel.accessAllowed ? 'block' : 'none';\n",
              "\n",
              "        async function convertToInteractive(key) {\n",
              "          const element = document.querySelector('#df-fa828fec-a6b7-440d-adaa-f59704b33d50');\n",
              "          const dataTable =\n",
              "            await google.colab.kernel.invokeFunction('convertToInteractive',\n",
              "                                                     [key], {});\n",
              "          if (!dataTable) return;\n",
              "\n",
              "          const docLinkHtml = 'Like what you see? Visit the ' +\n",
              "            '<a target=\"_blank\" href=https://colab.research.google.com/notebooks/data_table.ipynb>data table notebook</a>'\n",
              "            + ' to learn more about interactive tables.';\n",
              "          element.innerHTML = '';\n",
              "          dataTable['output_type'] = 'display_data';\n",
              "          await google.colab.output.renderOutput(dataTable, element);\n",
              "          const docLink = document.createElement('div');\n",
              "          docLink.innerHTML = docLinkHtml;\n",
              "          element.appendChild(docLink);\n",
              "        }\n",
              "      </script>\n",
              "    </div>\n",
              "  </div>\n",
              "  "
            ]
          },
          "metadata": {},
          "execution_count": 37
        }
      ],
      "execution_count": null
    },
    {
      "cell_type": "markdown",
      "source": [
        "Ahora obtenemos las etiquetas de la regresión (Weekly Salary) y separamos el resto de características (dropearemos el nombre del jugador también, puesto que no aporta para la predicción posterior):"
      ],
      "metadata": {
        "id": "p8wLYKx76t86"
      }
    },
    {
      "cell_type": "code",
      "source": [
        "X = df.drop(columns=['Weekly Salary', 'Name'])\n",
        "y = df['Weekly Salary']"
      ],
      "metadata": {
        "cell_id": "c95e6cb3ab91410fb2151acbdc068908",
        "source_hash": "43ce1981",
        "execution_start": 1636741171250,
        "execution_millis": 3,
        "deepnote_to_be_reexecuted": false,
        "deepnote_cell_type": "code",
        "id": "mp8eRN_D6t9G"
      },
      "outputs": [],
      "execution_count": null
    },
    {
      "cell_type": "markdown",
      "source": [
        "Para hacer el preprocesamiento, primero obtengamos las variables numéricas:"
      ],
      "metadata": {
        "id": "GoMAnYP36t9H"
      }
    },
    {
      "cell_type": "code",
      "source": [
        "numerical = X.select_dtypes(include=['int', 'float']).columns\n",
        "numerical"
      ],
      "metadata": {
        "tags": [],
        "cell_id": "3405035b85c6475594991b29a465a506",
        "deepnote_cell_height": 65.13333129882812,
        "deepnote_cell_type": "code",
        "colab": {
          "base_uri": "https://localhost:8080/"
        },
        "outputId": "e89b9fbb-e999-41df-88d2-d7fda178f3d2",
        "id": "6bUb1e5y6t9H"
      },
      "outputs": [
        {
          "output_type": "execute_result",
          "data": {
            "text/plain": [
              "Index(['Height', 'Weight', 'Age', 'Weak_foot', 'Skill_Moves', 'Ball_Control',\n",
              "       'Dribbling', 'Marking', 'Sliding_Tackle', 'Standing_Tackle',\n",
              "       'Aggression', 'Reactions', 'Interceptions', 'Vision', 'Composure',\n",
              "       'Crossing', 'Short_Pass', 'Long_Pass', 'Acceleration', 'Speed',\n",
              "       'Stamina', 'Strength', 'Balance', 'Agility', 'Jumping', 'Heading',\n",
              "       'Shot_Power', 'Finishing', 'Long_Shots', 'Curve', 'Freekick_Accuracy',\n",
              "       'Penalties', 'Volleys'],\n",
              "      dtype='object')"
            ]
          },
          "metadata": {},
          "execution_count": 39
        }
      ],
      "execution_count": null
    },
    {
      "cell_type": "markdown",
      "source": [
        "Sobre estas variables aplicaremos MinMaxScaler (para que queden normalizadas)."
      ],
      "metadata": {
        "id": "IEFt8pEy6t9H"
      }
    },
    {
      "cell_type": "markdown",
      "source": [
        "Ahora obtengamos las variables categóricas:"
      ],
      "metadata": {
        "id": "bxy4LtS96t9H"
      }
    },
    {
      "cell_type": "code",
      "source": [
        "categorical = X.select_dtypes(include=['object']).columns\n",
        "categorical"
      ],
      "metadata": {
        "colab": {
          "base_uri": "https://localhost:8080/"
        },
        "outputId": "2f4ff3a7-f334-4c4d-b60e-bbb141b6ce00",
        "id": "A9p0ZYhC6t9H"
      },
      "execution_count": null,
      "outputs": [
        {
          "output_type": "execute_result",
          "data": {
            "text/plain": [
              "Index(['Nationality', 'National_Position', 'Club_Position', 'Preffered_Foot',\n",
              "       'Work_Rate'],\n",
              "      dtype='object')"
            ]
          },
          "metadata": {},
          "execution_count": 40
        }
      ]
    },
    {
      "cell_type": "markdown",
      "source": [
        "Del reporte en HTML se aprecia que:\n",
        "\n",
        "- Hay 160 categorías nominales distintas en la variable Nationality\n",
        "- Hay 27 categorías nominales distintas en la variable National_Position\n",
        "- Hay 29 categorías nominales distintas en la variable Club_Position\n",
        "- Hay 2 categorías nominales distintas en la variable Preffered_Foot\n",
        "- Hay 9 categorías nominales distintas en la variable Work_Rate\n",
        "\n",
        "Sobre estas variables aplicaremos OneHotEncoding (dada su naturaleza nominal)."
      ],
      "metadata": {
        "id": "3Yb0mjgr6t9I"
      }
    },
    {
      "cell_type": "markdown",
      "source": [
        "Preprocesamiento:"
      ],
      "metadata": {
        "id": "ytWGQRd76t9I"
      }
    },
    {
      "cell_type": "code",
      "source": [
        "# Definimos las transformaciones para cada columna:\n",
        "# MinMaxScaler para las numéricas, OneHotEncoder para las categóricas\n",
        "preprocesamiento = ColumnTransformer(\n",
        "    transformers=[\n",
        "        ('numerical', MinMaxScaler(), numerical),\n",
        "        ('categorical', OneHotEncoder(sparse=False,handle_unknown='ignore'), categorical)\n",
        "    ]\n",
        ")"
      ],
      "metadata": {
        "id": "-40JWLqP6t9I"
      },
      "execution_count": null,
      "outputs": []
    },
    {
      "cell_type": "markdown",
      "source": [
        "Ahora entrenemos un pipeline con regresión lineal, donde el regresor elegido es Random Forest Regressor (pues la cantidad de datos es menor a 100 mil y no estamos seguros si pocas características serán las importantes a la hora de predecir el salario):"
      ],
      "metadata": {
        "id": "qudaE27o6t9I"
      }
    },
    {
      "cell_type": "code",
      "source": [
        "# Pipeline de Random Forest Regressor\n",
        "pipeline_rfr = Pipeline([\n",
        "    ('preprocesamiento', preprocesamiento),\n",
        "    ('regressor', RandomForestRegressor(random_state=42))\n",
        "])"
      ],
      "metadata": {
        "id": "Q8U2KEyU6t9I"
      },
      "execution_count": null,
      "outputs": []
    },
    {
      "cell_type": "markdown",
      "source": [
        "Dividimos en train-test en proporción 80-20:"
      ],
      "metadata": {
        "id": "KywAYawq6t9I"
      }
    },
    {
      "cell_type": "code",
      "source": [
        "X_train, X_test, y_train, y_test = train_test_split(X, y, test_size=0.2, random_state=20242829)"
      ],
      "metadata": {
        "tags": [],
        "cell_id": "0148b8e4a7e24b838381dbee30b31758",
        "deepnote_cell_height": 65.13333129882812,
        "deepnote_cell_type": "code",
        "id": "Lp_HLu1Q6t9J"
      },
      "outputs": [],
      "execution_count": null
    },
    {
      "cell_type": "markdown",
      "source": [
        "Entrenamos el pipeline, es decir, preprocesaremos el conjunto de train (primer paso del pipeline) y luego ajustaremos el regresor a aquellos datos (segundo paso del pipeline) para calcular predicciones sobre el conjunto de test:"
      ],
      "metadata": {
        "id": "Rt078lMN6t9J"
      }
    },
    {
      "cell_type": "code",
      "source": [
        "# Random Forest Regressor\n",
        "pipeline_rfr.fit(X_train, y_train)\n",
        "y_pred_rfr = pipeline_rfr.predict(X_test)"
      ],
      "metadata": {
        "colab": {
          "base_uri": "https://localhost:8080/"
        },
        "outputId": "048a481e-31e1-4c05-8c1f-773aa2c11a03",
        "id": "x1_S8Z7y6t9J"
      },
      "execution_count": null,
      "outputs": [
        {
          "output_type": "stream",
          "name": "stderr",
          "text": [
            "/usr/local/lib/python3.10/dist-packages/sklearn/preprocessing/_encoders.py:868: FutureWarning: `sparse` was renamed to `sparse_output` in version 1.2 and will be removed in 1.4. `sparse_output` is ignored unless you leave `sparse` to its default value.\n",
            "  warnings.warn(\n"
          ]
        }
      ]
    },
    {
      "cell_type": "markdown",
      "source": [
        "Mostramos resultados de la métrica $R^2$:"
      ],
      "metadata": {
        "id": "OjW3JpLJ8vdU"
      }
    },
    {
      "cell_type": "code",
      "source": [
        "print('Métrica R2 para Random Forest:\\n')\n",
        "print(round(r2_score(y_test, y_pred_rfr),3))"
      ],
      "metadata": {
        "colab": {
          "base_uri": "https://localhost:8080/"
        },
        "outputId": "5ed88fb0-df1c-4482-b610-e38487047831",
        "id": "pDVQZCLt6t9J"
      },
      "execution_count": null,
      "outputs": [
        {
          "output_type": "stream",
          "name": "stdout",
          "text": [
            "Métrica R2 para Random Forest:\n",
            "\n",
            "0.581\n"
          ]
        }
      ]
    },
    {
      "cell_type": "markdown",
      "source": [
        "**Respuesta**:\n",
        "\n",
        "- La métrica $R^2$ es una medida para evaluar la calidad de un modelo de regresión, la cual indica qué tan bien se ajustan los valores predichos por el modelo a los valores reales del conjunto de datos. Esta representa la proporción de la varianza total de la variable dependiente que es explicada por el modelo, cuyo valor fluctúa entre 0 y 1. Un valor de 0 significa que el modelo no explica nada de la variabilidad de los datos, mientras que un valor de 1 indica que el modelo explica toda la variabilidad de los datos (ajuste perfecto).\n",
        "\n",
        "- Con Random Forest Regressor obtuvimos una métrica $R^2$ de 0.581, lo cual es justo lo solicitado por Renacín (valor superior a 0.35). Este resultado es bastante bueno.\n",
        "\n",
        "- Para mejorar aún más la métrica $R^2$ obtenida se pueden considerar más datos (pues se captura mejor la variabilidad y los patrones subyacentes) o realizar transformaciones de las características existentes (pues pueden revelar patrones o relaciones más fuertes con la variable objetivo)."
      ],
      "metadata": {
        "tags": [],
        "cell_id": "bb39f9e88bf04d639ea5d67732450be6",
        "deepnote_cell_type": "markdown",
        "id": "2Z96go6Rw6bV"
      }
    },
    {
      "cell_type": "markdown",
      "source": [
        "# Conclusión\n",
        "Eso ha sido todo para el lab de hoy, recuerden que el laboratorio tiene un plazo de entrega de una semana. Cualquier duda del laboratorio, no duden en contactarnos por mail o U-cursos.\n",
        "\n",
        "<p align=\"center\">\n",
        "  <img src=\"https://media2.giphy.com/media/l1J3CbFgn5o7DGRuE/giphy.gif\">\n",
        "</p>"
      ],
      "metadata": {
        "id": "Rg4ZMq8ezAH6",
        "cell_id": "502994b597214d4ba2f05e2b900d895c",
        "deepnote_cell_type": "markdown"
      }
    },
    {
      "cell_type": "markdown",
      "source": [
        "<br>\n",
        "<center>\n",
        "<img src=\"https://i.kym-cdn.com/photos/images/original/001/194/195/b18.png\" width=100 height=50 />\n",
        "</center>\n",
        "<br>"
      ],
      "metadata": {
        "id": "wCL1lACBzAH7",
        "cell_id": "da6d643bcf1542a8b119a15edaf0f75c",
        "deepnote_cell_type": "markdown"
      }
    },
    {
      "cell_type": "markdown",
      "source": [
        "<a style='text-decoration:none;line-height:16px;display:flex;color:#5B5B62;padding:10px;justify-content:end;' href='https://deepnote.com?utm_source=created-in-deepnote-cell&projectId=87110296-876e-426f-b91d-aaf681223468' target=\"_blank\">\n",
        "<img alt='Created in deepnote.com' style='display:inline;max-height:16px;margin:0px;margin-right:7.5px;' src='data:image/svg+xml;base64,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' > </img>\n",
        "Created in <span style='font-weight:600;margin-left:4px;'>Deepnote</span></a>"
      ],
      "metadata": {
        "created_in_deepnote_cell": true,
        "deepnote_cell_type": "markdown",
        "id": "oPZpjV4jw6bW"
      }
    }
  ],
  "nbformat": 4,
  "nbformat_minor": 0,
  "metadata": {
    "toc": {
      "sideBar": true,
      "nav_menu": {},
      "toc_cell": false,
      "title_cell": "Tabla de Contenidos",
      "toc_position": {
        "top": "150px",
        "left": "10px",
        "width": "241.867px",
        "height": "calc(100% - 180px)"
      },
      "skip_h1_title": true,
      "title_sidebar": "Contenidos",
      "base_numbering": 1,
      "number_sections": true,
      "toc_window_display": true,
      "toc_section_display": true
    },
    "colab": {
      "provenance": []
    },
    "deepnote": {},
    "kernelspec": {
      "name": "python3",
      "language": "python",
      "display_name": "Python 3"
    },
    "varInspector": {
      "cols": {
        "lenVar": 40,
        "lenName": 16,
        "lenType": 16
      },
      "kernels_config": {
        "r": {
          "library": "var_list.r",
          "varRefreshCmd": "cat(var_dic_list()) ",
          "delete_cmd_prefix": "rm(",
          "delete_cmd_postfix": ") "
        },
        "python": {
          "library": "var_list.py",
          "varRefreshCmd": "print(var_dic_list())",
          "delete_cmd_prefix": "del ",
          "delete_cmd_postfix": ""
        }
      },
      "window_display": false,
      "types_to_exclude": [
        "module",
        "function",
        "builtin_function_or_method",
        "instance",
        "_Feature"
      ]
    },
    "language_info": {
      "name": "python",
      "version": "3.8.3",
      "mimetype": "text/x-python",
      "file_extension": ".py",
      "pygments_lexer": "ipython3",
      "codemirror_mode": {
        "name": "ipython",
        "version": 3
      },
      "nbconvert_exporter": "python"
    },
    "deepnote_notebook_id": "41ad7e529bfb484c8f7f538003203695",
    "deepnote_execution_queue": []
  }
}